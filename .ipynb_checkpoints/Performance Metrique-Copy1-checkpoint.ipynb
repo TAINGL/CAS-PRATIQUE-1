{
 "cells": [
  {
   "cell_type": "code",
   "execution_count": 10,
   "metadata": {
    "ExecuteTime": {
     "end_time": "2021-02-03T09:08:29.272288Z",
     "start_time": "2021-02-03T09:08:29.269110Z"
    }
   },
   "outputs": [],
   "source": [
    "from joblib import dump, load\n",
    "import joblib\n",
    "\n",
    "from sklearn.metrics import accuracy_score, f1_score, precision_score, roc_curve\n",
    "import pandas as pd"
   ]
  },
  {
   "cell_type": "code",
   "execution_count": 108,
   "metadata": {
    "ExecuteTime": {
     "end_time": "2021-02-03T08:47:52.100779Z",
     "start_time": "2021-02-03T08:47:45.219385Z"
    },
    "collapsed": true
   },
   "outputs": [
    {
     "name": "stdout",
     "output_type": "stream",
     "text": [
      "Collecting scikit-learn\n",
      "  Downloading scikit_learn-0.24.1-cp37-cp37m-macosx_10_13_x86_64.whl (7.2 MB)\n",
      "\u001b[K     |████████████████████████████████| 7.2 MB 1.2 MB/s eta 0:00:01\n",
      "\u001b[?25hRequirement already satisfied, skipping upgrade: scipy>=0.19.1 in /Users/ltaing/opt/anaconda3/lib/python3.7/site-packages (from scikit-learn) (1.4.1)\n",
      "Requirement already satisfied, skipping upgrade: joblib>=0.11 in /Users/ltaing/opt/anaconda3/lib/python3.7/site-packages (from scikit-learn) (0.14.1)\n",
      "Requirement already satisfied, skipping upgrade: threadpoolctl>=2.0.0 in /Users/ltaing/opt/anaconda3/lib/python3.7/site-packages (from scikit-learn) (2.1.0)\n",
      "Requirement already satisfied, skipping upgrade: numpy>=1.13.3 in /Users/ltaing/opt/anaconda3/lib/python3.7/site-packages (from scikit-learn) (1.18.1)\n",
      "Installing collected packages: scikit-learn\n",
      "  Attempting uninstall: scikit-learn\n",
      "    Found existing installation: scikit-learn 0.23.1\n",
      "    Uninstalling scikit-learn-0.23.1:\n",
      "      Successfully uninstalled scikit-learn-0.23.1\n",
      "Successfully installed scikit-learn-0.24.1\n"
     ]
    }
   ],
   "source": [
    "#!pip install -U scikit-learn"
   ]
  },
  {
   "cell_type": "code",
   "execution_count": 11,
   "metadata": {
    "ExecuteTime": {
     "end_time": "2021-02-03T09:08:30.200683Z",
     "start_time": "2021-02-03T09:08:30.195977Z"
    }
   },
   "outputs": [
    {
     "data": {
      "text/plain": [
       "'0.24.1'"
      ]
     },
     "execution_count": 11,
     "metadata": {},
     "output_type": "execute_result"
    }
   ],
   "source": [
    "import sklearn\n",
    "sklearn.__version__\n",
    "# mettre à jour la version de sklearn (possibilité de pas voir les détail de joblib sinon)"
   ]
  },
  {
   "cell_type": "markdown",
   "metadata": {},
   "source": [
    "## Pipeline Joblib"
   ]
  },
  {
   "cell_type": "code",
   "execution_count": 12,
   "metadata": {
    "ExecuteTime": {
     "end_time": "2021-02-03T09:08:33.443727Z",
     "start_time": "2021-02-03T09:08:33.422149Z"
    }
   },
   "outputs": [
    {
     "name": "stdout",
     "output_type": "stream",
     "text": [
      "Pipeline(steps=[('tfidf', TfidfVectorizer()),\n",
      "                ('clf', SVC(C=1000, gamma=0.001))])\n"
     ]
    },
    {
     "name": "stderr",
     "output_type": "stream",
     "text": [
      "/Users/ltaing/opt/anaconda3/lib/python3.7/site-packages/sklearn/base.py:315: UserWarning: Trying to unpickle estimator TfidfTransformer from version 0.23.2 when using version 0.24.1. This might lead to breaking code or invalid results. Use at your own risk.\n",
      "  UserWarning)\n",
      "/Users/ltaing/opt/anaconda3/lib/python3.7/site-packages/sklearn/base.py:315: UserWarning: Trying to unpickle estimator TfidfVectorizer from version 0.23.2 when using version 0.24.1. This might lead to breaking code or invalid results. Use at your own risk.\n",
      "  UserWarning)\n",
      "/Users/ltaing/opt/anaconda3/lib/python3.7/site-packages/sklearn/base.py:315: UserWarning: Trying to unpickle estimator SVC from version 0.23.2 when using version 0.24.1. This might lead to breaking code or invalid results. Use at your own risk.\n",
      "  UserWarning)\n",
      "/Users/ltaing/opt/anaconda3/lib/python3.7/site-packages/sklearn/base.py:315: UserWarning: Trying to unpickle estimator Pipeline from version 0.23.2 when using version 0.24.1. This might lead to breaking code or invalid results. Use at your own risk.\n",
      "  UserWarning)\n"
     ]
    }
   ],
   "source": [
    "from joblib import dump, load\n",
    "import joblib\n",
    "\n",
    "pipeline = joblib.load('./sentiment_pipe.joblib')\n",
    "print(pipeline)"
   ]
  },
  {
   "cell_type": "markdown",
   "metadata": {},
   "source": [
    "## Performance Model"
   ]
  },
  {
   "cell_type": "code",
   "execution_count": 13,
   "metadata": {
    "ExecuteTime": {
     "end_time": "2021-02-03T09:08:37.834954Z",
     "start_time": "2021-02-03T09:08:37.595610Z"
    }
   },
   "outputs": [
    {
     "name": "stderr",
     "output_type": "stream",
     "text": [
      "/Users/ltaing/opt/anaconda3/lib/python3.7/site-packages/sklearn/base.py:315: UserWarning: Trying to unpickle estimator TfidfTransformer from version 0.23.2 when using version 0.24.1. This might lead to breaking code or invalid results. Use at your own risk.\n",
      "  UserWarning)\n",
      "/Users/ltaing/opt/anaconda3/lib/python3.7/site-packages/sklearn/base.py:315: UserWarning: Trying to unpickle estimator TfidfVectorizer from version 0.23.2 when using version 0.24.1. This might lead to breaking code or invalid results. Use at your own risk.\n",
      "  UserWarning)\n",
      "/Users/ltaing/opt/anaconda3/lib/python3.7/site-packages/sklearn/base.py:315: UserWarning: Trying to unpickle estimator SVC from version 0.23.2 when using version 0.24.1. This might lead to breaking code or invalid results. Use at your own risk.\n",
      "  UserWarning)\n",
      "/Users/ltaing/opt/anaconda3/lib/python3.7/site-packages/sklearn/base.py:315: UserWarning: Trying to unpickle estimator Pipeline from version 0.23.2 when using version 0.24.1. This might lead to breaking code or invalid results. Use at your own risk.\n",
      "  UserWarning)\n"
     ]
    },
    {
     "name": "stdout",
     "output_type": "stream",
     "text": [
      "accuracy : 0.6957328385899815\n",
      "precision : 0.6867469879518072\n",
      "f1-score : 0.7975308641975308\n",
      "roc_curve : (array([0.        , 0.73913043, 1.        ]), array([0.        , 0.95093229, 1.        ]), array([2, 1, 0]))\n"
     ]
    }
   ],
   "source": [
    "from joblib import dump, load\n",
    "from sklearn.metrics import accuracy_score, f1_score, precision_score, roc_curve\n",
    "import pandas as pd\n",
    " \n",
    "df = pd.read_csv(\"comments_train.csv\")\n",
    "base_model = load('sentiment_pipe.joblib')\n",
    "\n",
    "y_test = df[\"sentiment\"].apply(lambda x: 1 if x==\"Positive\" else 0).values\n",
    "y_pred = base_model.predict(df[\"comment\"].values)\n",
    " \n",
    "print(\"accuracy :\", accuracy_score(y_test, y_pred))\n",
    "print(\"precision :\", precision_score(y_test, y_pred))\n",
    "print(\"f1-score :\", f1_score(y_test, y_pred))\n",
    "print(\"roc_curve :\", roc_curve(y_test, y_pred))\n",
    "fpr, tpr, thresholds = metrics.roc_curve(y_test, y_pred, pos_label=1)\n",
    "print(\"AUC :\",metrics.auc(fpr, tpr))"
   ]
  },
  {
   "cell_type": "code",
   "execution_count": 14,
   "metadata": {
    "ExecuteTime": {
     "end_time": "2021-02-03T09:08:39.764902Z",
     "start_time": "2021-02-03T09:08:39.755177Z"
    }
   },
   "outputs": [
    {
     "name": "stdout",
     "output_type": "stream",
     "text": [
      "                                                comment sentiment\n",
      "0     J'ai réservé ma table quelques mois à l'avance...  Positive\n",
      "1     Que dire... Nicolas sale est un chef d excepti...  Positive\n",
      "2     Dans une rue tranquille non loin du Panthéon u...  Positive\n",
      "3     Rien à redire le restaurant est irréprochablem...  Positive\n",
      "4     Comme avec les autres commentaires nos repas é...  Positive\n",
      "...                                                 ...       ...\n",
      "1612  Le service a été rapide et les crêpes très bon...  Positive\n",
      "1613  Restaurant excellent bon rapport qualité-prix ...  Positive\n",
      "1614  Incroyable mais vrai 190€ la baguette ! Que di...  Negative\n",
      "1615  Un japonais assez chic des beaux quartiers. No...  Positive\n",
      "1616  Accueil très chaleureux avec un personnel jeun...  Positive\n",
      "\n",
      "[1617 rows x 2 columns]\n"
     ]
    }
   ],
   "source": [
    "df = pd.read_csv('/Users/ltaing/Downloads/Titre Pro/CP_1/API-REST-FLASK-V2/comments_train.csv')\n",
    "print(df)"
   ]
  },
  {
   "cell_type": "code",
   "execution_count": 44,
   "metadata": {
    "ExecuteTime": {
     "end_time": "2021-02-02T15:32:36.489126Z",
     "start_time": "2021-02-02T15:32:36.407182Z"
    }
   },
   "outputs": [
    {
     "data": {
      "text/plain": [
       "<AxesSubplot:ylabel='sentiment'>"
      ]
     },
     "execution_count": 44,
     "metadata": {},
     "output_type": "execute_result"
    },
    {
     "data": {
      "image/png": "[encoded data removed]",
      "text/plain": [
       "<Figure size 432x288 with 1 Axes>"
      ]
     },
     "metadata": {},
     "output_type": "display_data"
    }
   ],
   "source": [
    "df.sentiment.value_counts().plot(kind='pie', autopct='%1.0f%%')"
   ]
  },
  {
   "cell_type": "markdown",
   "metadata": {
    "ExecuteTime": {
     "end_time": "2021-02-02T14:44:32.869568Z",
     "start_time": "2021-02-02T14:44:32.867761Z"
    }
   },
   "source": [
    "## Modified prepro (tfidf) with same model"
   ]
  },
  {
   "cell_type": "markdown",
   "metadata": {},
   "source": [
    "Step Data Cleaning\n",
    "\n",
    "1. Remove all irrelevant characters such as any non alphanumeric characters\n",
    "2. [Tokenize](https://nlp.stanford.edu/IR-book/html/htmledition/tokenization-1.html) your text by separating it into individual words\n",
    "3. Remove words that are not relevant, such as “@” twitter mentions or urls\n",
    "4. Convert all characters to lowercase, in order to treat words such as “hello”, “Hello”, and “HELLO” the same\n",
    "5. Consider combining misspelled or alternately spelled words to a single representation (e.g. “cool”/”kewl”/”cooool”)\n",
    "6. Consider [lemmatization](https://nlp.stanford.edu/IR-book/html/htmledition/stemming-and-lemmatization-1.html) (reduce words such as “am”, “are”, and “is” to a common form such as “be”)"
   ]
  },
  {
   "cell_type": "markdown",
   "metadata": {},
   "source": [
    "### Data Preprocessing"
   ]
  },
  {
   "cell_type": "code",
   "execution_count": 15,
   "metadata": {
    "ExecuteTime": {
     "end_time": "2021-02-03T09:08:43.912999Z",
     "start_time": "2021-02-03T09:08:43.904958Z"
    }
   },
   "outputs": [],
   "source": [
    "df = pd.read_csv('/Users/ltaing/Downloads/Titre Pro/CP_1/API-REST-FLASK-V2/comments_train.csv')\n",
    "reviews = df['comment'].tolist()\n",
    "labels = df[\"sentiment\"].values\n",
    "\n",
    "corpus = df['comment']"
   ]
  },
  {
   "cell_type": "markdown",
   "metadata": {},
   "source": [
    "### Stop Word + Tokenisation + Stemming or Lemmatization"
   ]
  },
  {
   "cell_type": "code",
   "execution_count": 10,
   "metadata": {
    "ExecuteTime": {
     "end_time": "2021-02-02T21:06:57.457172Z",
     "start_time": "2021-02-02T21:06:57.451149Z"
    }
   },
   "outputs": [],
   "source": [
    "# Stopword (avec spacy, stopword, scikit-learn, gensim...)\n",
    "# Stemming(Porter Stemmer == Snowball Stemmer)"
   ]
  },
  {
   "cell_type": "markdown",
   "metadata": {},
   "source": [
    "- Removing Punctuation"
   ]
  },
  {
   "cell_type": "code",
   "execution_count": 142,
   "metadata": {
    "ExecuteTime": {
     "end_time": "2021-02-03T13:31:10.612878Z",
     "start_time": "2021-02-03T13:31:10.600295Z"
    }
   },
   "outputs": [],
   "source": [
    "\"\"\"\n",
    "Retirer la ponctuation \n",
    "Retirer les caractères spéciaux : très facile avec les reg-ex mais tous les caractères ne seront pas retirés dans un premier temps. Les tweets sont des objets très sales !\n",
    "Retirer les chiffres : avec une Reg-ex aussi\n",
    "Changer les lettres majuscules en minuscules\n",
    "\"\"\"\n",
    "import re\n",
    "\n",
    "def nlp_pipeline(text):\n",
    "\n",
    "    text = text.lower()\n",
    "    text = text.replace('\\n', ' ').replace('\\r', '')\n",
    "    text = text.replace('.', ' ')\n",
    "    text = text.replace('\\'', ' ')\n",
    "    text = text.replace('\\-', ' ')\n",
    "    text = ' '.join(text.split())\n",
    "    text = re.sub(r\"[A-Za-z\\.]*[0-9]+[A-Za-z%°\\.]*\", \"\", text)\n",
    "    text = re.sub(r\"(\\s\\-\\s|-$)\", \"\", text)\n",
    "    text = re.sub(r\"[,\\!\\?\\%\\(\\)\\/\\\"]\", \"\", text)\n",
    "    text = re.sub(r\"\\&\\S*\\s\", \"\", text)\n",
    "    text = re.sub(r\"\\&\", \"\", text)\n",
    "    text = re.sub(r\"\\+\", \"\", text)\n",
    "    text = re.sub(r\"\\#\", \"\", text)\n",
    "    text = re.sub(r\"\\$\", \"\", text)\n",
    "    text = re.sub(r\"\\£\", \"\", text)\n",
    "    text = re.sub(r\"\\%\", \"\", text)\n",
    "    text = re.sub(r\"\\:\", \"\", text)\n",
    "    text = re.sub(r\"\\@\", \"\", text)\n",
    "    text = re.sub(r\"\\€\", \"\", text)\n",
    "    text = re.sub(r\"\\b[a-zA-Z]{1}\\b\", \"\", text)\n",
    "\n",
    "    return text"
   ]
  },
  {
   "cell_type": "code",
   "execution_count": 59,
   "metadata": {
    "ExecuteTime": {
     "end_time": "2021-02-03T09:59:13.416450Z",
     "start_time": "2021-02-03T09:59:13.333587Z"
    }
   },
   "outputs": [
    {
     "data": {
      "text/plain": [
       "'que dire nicolas sale est un chef  exception que dire rien ou tout tout est incroyable subtil délicat envoûtant délicieux tout est fin extrêmement bien dosé cest une table  exception  le turbot roti   ancienne en photo et la volailleécrevisse un met plus'"
      ]
     },
     "execution_count": 59,
     "metadata": {},
     "output_type": "execute_result"
    }
   ],
   "source": [
    "corpus_clean = corpus.apply(nlp_pipeline)\n",
    "corpus_clean[1]"
   ]
  },
  {
   "cell_type": "code",
   "execution_count": 29,
   "metadata": {
    "ExecuteTime": {
     "end_time": "2021-02-03T09:09:38.763519Z",
     "start_time": "2021-02-03T09:09:38.760624Z"
    }
   },
   "outputs": [
    {
     "data": {
      "text/plain": [
       "\"Que dire... Nicolas sale est un chef d exception... Que dire... Rien.. Ou tout.. Tout est incroyable... Subtil... Délicat.. Envoûtant.. Délicieux.. Tout est fin.. Extrêmement bien dosé...c'est une table d exception ! Le turbot roti a l ancienne en photo.. Et La volaille-écrevisse.. Un met...Plus\""
      ]
     },
     "execution_count": 29,
     "metadata": {},
     "output_type": "execute_result"
    }
   ],
   "source": [
    "df['comment'][1]"
   ]
  },
  {
   "cell_type": "markdown",
   "metadata": {},
   "source": [
    "- Stop Word removals"
   ]
  },
  {
   "cell_type": "code",
   "execution_count": 23,
   "metadata": {
    "ExecuteTime": {
     "end_time": "2021-02-03T09:09:27.895804Z",
     "start_time": "2021-02-03T09:09:26.506613Z"
    }
   },
   "outputs": [],
   "source": [
    "import spacy\n",
    "from spacy.lang.fr.stop_words import STOP_WORDS as fr_stop\n",
    "\n",
    "def remove_stopwords(text_list):\n",
    "    spacy_stopwords = spacy.lang.fr.stop_words.STOP_WORDS\n",
    "\n",
    "    return_list = []\n",
    "    for i in range(len(text_list)):\n",
    "        if text_list[i] not in spacy_stopwords:\n",
    "            return_list.append(text_list[i])\n",
    "    return(return_list)"
   ]
  },
  {
   "cell_type": "code",
   "execution_count": 67,
   "metadata": {
    "ExecuteTime": {
     "end_time": "2021-02-03T10:05:26.118157Z",
     "start_time": "2021-02-03T10:05:26.115160Z"
    }
   },
   "outputs": [],
   "source": [
    "from nltk.corpus import stopwords \n",
    "from nltk.tokenize import word_tokenize \n",
    "  \n",
    "# remove stopwords function \n",
    "def remove_sw(text_list): \n",
    "    stop_words = set(stopwords.words(\"french\"))\n",
    "    return_list=[]\n",
    "    for words in text_list:\n",
    "        if words not in stop_words:\n",
    "            return_list.append(words)\n",
    "    return return_list "
   ]
  },
  {
   "cell_type": "code",
   "execution_count": 70,
   "metadata": {
    "ExecuteTime": {
     "end_time": "2021-02-03T10:06:13.750978Z",
     "start_time": "2021-02-03T10:06:13.746573Z"
    },
    "scrolled": true
   },
   "outputs": [
    {
     "data": {
      "text/plain": [
       "['dire',\n",
       " 'nicolas',\n",
       " 'sale',\n",
       " 'chef',\n",
       " 'exception',\n",
       " 'dire',\n",
       " 'rien',\n",
       " 'tout',\n",
       " 'tout',\n",
       " 'incroyable',\n",
       " 'subtil',\n",
       " 'délicat',\n",
       " 'envoûtant',\n",
       " 'délicieux',\n",
       " 'tout',\n",
       " 'fin',\n",
       " 'extrêmement',\n",
       " 'bien',\n",
       " 'dosé',\n",
       " 'cest',\n",
       " 'table',\n",
       " 'exception',\n",
       " 'turbot',\n",
       " 'roti',\n",
       " 'ancienne',\n",
       " 'photo',\n",
       " 'volailleécrevisse',\n",
       " 'met',\n",
       " 'plus']"
      ]
     },
     "execution_count": 70,
     "metadata": {},
     "output_type": "execute_result"
    }
   ],
   "source": [
    "remove_sw(w_tokenizer(nlp_pipeline(corpus[1])))"
   ]
  },
  {
   "cell_type": "code",
   "execution_count": 116,
   "metadata": {
    "ExecuteTime": {
     "end_time": "2021-02-03T10:56:26.419303Z",
     "start_time": "2021-02-03T10:56:26.415580Z"
    }
   },
   "outputs": [],
   "source": [
    "import unidecode\n",
    "import re\n",
    "\n",
    "def stop_words(text_list):\n",
    "    return_list=[]\n",
    "    # Construction de la liste de stop words\n",
    "    import stop_words\n",
    "    sw_1st = stop_words.get_stop_words('fr')\n",
    "    from nltk.corpus import stopwords\n",
    "    sw_nltk = set(stopwords.words('french')) \n",
    "    sw=list(set(sw_1st+list(sw_nltk)))+[\"entre\", \"tout\", \"chez\", \"cet\", \"\"]\n",
    "    sw=[unidecode.unidecode(elem) for elem in sw]\n",
    "\n",
    "    for words in text_list:\n",
    "        if words not in sw:\n",
    "            return_list.append(words)\n",
    "    return return_list "
   ]
  },
  {
   "cell_type": "code",
   "execution_count": 120,
   "metadata": {
    "ExecuteTime": {
     "end_time": "2021-02-03T10:56:55.633399Z",
     "start_time": "2021-02-03T10:56:55.629018Z"
    }
   },
   "outputs": [
    {
     "data": {
      "text/plain": [
       "25"
      ]
     },
     "execution_count": 120,
     "metadata": {},
     "output_type": "execute_result"
    }
   ],
   "source": [
    "len(stop_words(w_tokenizer(nlp_pipeline(corpus[7]))))"
   ]
  },
  {
   "cell_type": "code",
   "execution_count": 121,
   "metadata": {
    "ExecuteTime": {
     "end_time": "2021-02-03T10:57:13.147468Z",
     "start_time": "2021-02-03T10:57:13.143508Z"
    }
   },
   "outputs": [
    {
     "name": "stdout",
     "output_type": "stream",
     "text": [
      "['restaurant', 'devrait', 'servir', '’exemple', 'écoles', '’hôtellerie', 'personnel', 'très', 'agréable', 'attentionné', 'sans', 'être', 'intrusif', 'rapport', 'qualité', 'prix', 'excellent', 'plats', 'proposés', 'goûteux', 'serveurs', 'bon', 'conseil', 'apéritif', 'digestif', 'offerts', 'rend', 'cette', 'plus']\n",
      "29\n"
     ]
    }
   ],
   "source": [
    "print(remove_sw(w_tokenizer(nlp_pipeline(corpus[7]))))\n",
    "print(len(remove_sw(w_tokenizer(nlp_pipeline(corpus[7])))))\n",
    "\n",
    "# entre, tout, chez, cette "
   ]
  },
  {
   "cell_type": "markdown",
   "metadata": {},
   "source": [
    "- NLTK’s Tokenization + Stemming"
   ]
  },
  {
   "cell_type": "code",
   "execution_count": 16,
   "metadata": {
    "ExecuteTime": {
     "end_time": "2021-02-03T09:08:46.732840Z",
     "start_time": "2021-02-03T09:08:46.041013Z"
    }
   },
   "outputs": [],
   "source": [
    "from nltk.tokenize import WhitespaceTokenizer\n",
    "\n",
    "def w_tokenizer(text):\n",
    "    \n",
    "    tokenizer = WhitespaceTokenizer() \n",
    "    \n",
    "    tokenized_list = tokenizer.tokenize(text) \n",
    "    return(tokenized_list)\n",
    "\n",
    "from nltk.stem.snowball import SnowballStemmer\n",
    "\n",
    "def stemmer_snowball(text_list):\n",
    "    snowball = SnowballStemmer(language='french')\n",
    "    return_list = []\n",
    "    for i in range(len(text_list)):\n",
    "        return_list.append(snowball.stem(text_list[i]))\n",
    "    return(return_list)"
   ]
  },
  {
   "cell_type": "code",
   "execution_count": 98,
   "metadata": {
    "ExecuteTime": {
     "end_time": "2021-02-03T10:26:14.460434Z",
     "start_time": "2021-02-03T10:26:13.345320Z"
    }
   },
   "outputs": [
    {
     "name": "stdout",
     "output_type": "stream",
     "text": [
      "['dir', 'nicol', 'sal', 'chef', 'except', 'dir', 'rien', 'tout', 'tout', 'incroi', 'subtil', 'délicat', 'envoût', 'délici', 'tout', 'fin', 'extrêm', 'bien', 'dos', 'tabl', 'except', 'turbot', 'rot', 'ancien', 'photo', 'volaille-écrev', 'met', 'plus']\n",
      "Que dire... Nicolas sale est un chef d exception... Que dire... Rien.. Ou tout.. Tout est incroyable... Subtil... Délicat.. Envoûtant.. Délicieux.. Tout est fin.. Extrêmement bien dosé...c'est une table d exception ! Le turbot roti a l ancienne en photo.. Et La volaille-écrevisse.. Un met...Plus\n"
     ]
    }
   ],
   "source": [
    "print(stemmer_snowball(remove_sw(w_tokenizer(nlp_pipeline(corpus[1])))))\n",
    "print(corpus[1])\n",
    "\n",
    "for i in range(len(corpus)):\n",
    "    stemmer_snowball(w_tokenizer(corpus[i]))"
   ]
  },
  {
   "cell_type": "markdown",
   "metadata": {},
   "source": [
    "- SpaCy’s Tokenization + Lemmatization"
   ]
  },
  {
   "cell_type": "code",
   "execution_count": 31,
   "metadata": {
    "ExecuteTime": {
     "end_time": "2021-02-02T21:39:13.624106Z",
     "start_time": "2021-02-02T21:38:37.571825Z"
    },
    "collapsed": true
   },
   "outputs": [
    {
     "name": "stdout",
     "output_type": "stream",
     "text": [
      "Collecting spacy\n",
      "  Using cached https://files.pythonhosted.org/packages/e6/07/4aa68527cf144d638c00cd53d4bc631b14b2db29474d6d74ce99a607d288/spacy-3.0.1.tar.gz\n",
      "  Installing build dependencies ... \u001b[?25l/^C\n",
      "\u001b[?25canceled\n",
      "Collecting fr_core_news_md==2.1.0\n",
      "  Downloading https://github.com/explosion/spacy-models/releases/download/fr_core_news_md-2.1.0/fr_core_news_md-2.1.0.tar.gz (85.7 MB)\n",
      "\u001b[K     |████████████████████████████████| 85.7 MB 7.6 MB/s eta 0:00:013\n",
      "\u001b[?25hBuilding wheels for collected packages: fr-core-news-md\n",
      "  Building wheel for fr-core-news-md (setup.py) ... \u001b[?25ldone\n",
      "\u001b[?25h  Created wheel for fr-core-news-md: filename=fr_core_news_md-2.1.0-py3-none-any.whl size=87463873 sha256=eb3c80cbf9001ae9fea12205de1009b1ae852a7033cd8d9bfe01719578a15e7d\n",
      "  Stored in directory: /private/var/folders/s6/pqfxbvdd6dg39fmynr6z849w0000gn/T/pip-ephem-wheel-cache-u4x4hph4/wheels/d7/d2/2b/d106220b9633e83488a23c635dbd4fd303c04016116c4fda43\n",
      "Successfully built fr-core-news-md\n",
      "Installing collected packages: fr-core-news-md\n",
      "Successfully installed fr-core-news-md-2.1.0\n",
      "\u001b[38;5;2m✔ Download and installation successful\u001b[0m\n",
      "You can now load the model via spacy.load('fr_core_news_md')\n"
     ]
    }
   ],
   "source": [
    "#!pip3 install spacy\n",
    "#!python -m spacy download fr_core_news_md"
   ]
  },
  {
   "cell_type": "code",
   "execution_count": 18,
   "metadata": {
    "ExecuteTime": {
     "end_time": "2021-02-03T09:08:59.297430Z",
     "start_time": "2021-02-03T09:08:58.500996Z"
    }
   },
   "outputs": [],
   "source": [
    "#import spacy\n",
    "#import fr_core_news_md\n",
    "\n",
    "#def spacy_tokenizer_lemmatizer(text):\n",
    "#    nlp = fr_core_news_md.load()\n",
    "#    tokenizer = nlp.Defaults.create_tokenizer(nlp)\n",
    "#    tokens = tokenizer(text)\n",
    "#\n",
    "#    lemma_list = []\n",
    "#    for token in tokens:\n",
    "#        lemma_list.append(token.lemma_)\n",
    "#    #token_list\n",
    "#    return lemma_list"
   ]
  },
  {
   "cell_type": "code",
   "execution_count": 80,
   "metadata": {
    "ExecuteTime": {
     "end_time": "2021-02-03T10:15:12.020492Z",
     "start_time": "2021-02-03T10:15:12.016610Z"
    }
   },
   "outputs": [],
   "source": [
    "from nltk.stem import WordNetLemmatizer \n",
    "  \n",
    "lemmatizer = WordNetLemmatizer() \n",
    "\n",
    "def lemmatizer(text_list):\n",
    "    lemmatizer = WordNetLemmatizer() \n",
    "    lemma_list = []\n",
    "    for token in text_list:\n",
    "        lemma_list.append(lemmatizer.lemmatize(token))\n",
    "    #token_list\n",
    "    return lemma_list"
   ]
  },
  {
   "cell_type": "code",
   "execution_count": 99,
   "metadata": {
    "ExecuteTime": {
     "end_time": "2021-02-03T10:26:24.878598Z",
     "start_time": "2021-02-03T10:26:24.875143Z"
    }
   },
   "outputs": [
    {
     "name": "stdout",
     "output_type": "stream",
     "text": [
      "['dire', 'nicolas', 'sale', 'chef', 'exception', 'dire', 'rien', 'tout', 'tout', 'incroyable', 'subtil', 'délicat', 'envoûtant', 'délicieux', 'tout', 'fin', 'extrêmement', 'bien', 'dosé', 'table', 'exception', 'turbot', 'roti', 'ancienne', 'photo', 'volaille-écrevisse', 'met', 'plus']\n",
      "Que dire... Nicolas sale est un chef d exception... Que dire... Rien.. Ou tout.. Tout est incroyable... Subtil... Délicat.. Envoûtant.. Délicieux.. Tout est fin.. Extrêmement bien dosé...c'est une table d exception ! Le turbot roti a l ancienne en photo.. Et La volaille-écrevisse.. Un met...Plus\n"
     ]
    }
   ],
   "source": [
    "print(lemmatizer(remove_sw(w_tokenizer(nlp_pipeline(corpus[1])))))\n",
    "print(corpus[1])"
   ]
  },
  {
   "cell_type": "markdown",
   "metadata": {},
   "source": [
    "### Converting Raw Text to Numerical Vectors using Bag of Words, N_Grams and TF-IDF"
   ]
  },
  {
   "cell_type": "markdown",
   "metadata": {},
   "source": [
    "- Bag of Words"
   ]
  },
  {
   "cell_type": "code",
   "execution_count": null,
   "metadata": {
    "ExecuteTime": {
     "end_time": "2021-02-03T12:00:18.529598Z",
     "start_time": "2021-02-03T12:00:18.497908Z"
    }
   },
   "outputs": [],
   "source": []
  },
  {
   "cell_type": "markdown",
   "metadata": {},
   "source": [
    "- N_Grams"
   ]
  },
  {
   "cell_type": "markdown",
   "metadata": {
    "ExecuteTime": {
     "end_time": "2021-02-03T11:58:55.020832Z",
     "start_time": "2021-02-03T11:58:55.002367Z"
    }
   },
   "source": [
    "https://goodboychan.github.io/chans_jupyter/python/datacamp/natural_language_processing/2020/07/17/03-N-Gram-models.html"
   ]
  },
  {
   "cell_type": "markdown",
   "metadata": {},
   "source": [
    "- TF-IDF (max_features, min_df, max_df)\n",
    "\n",
    "https://stackabuse.com/python-for-nlp-sentiment-analysis-with-scikit-learn/\n",
    "\n",
    "Ici, `max_df` spécifie que n'utiliser que les mots qui apparaissent dans un maximum de 80% des documents. Les mots qui apparaissent dans tous les documents sont trop courants et ne sont pas très utiles pour la classification. De même, `min_df` est mis à 7, ce qui montre que les mots qui apparaissent dans au moins 7 documents sont inclus."
   ]
  },
  {
   "cell_type": "code",
   "execution_count": null,
   "metadata": {},
   "outputs": [],
   "source": [
    "from nltk.corpus import stopwords\n",
    "from sklearn.feature_extraction.text import TfidfVectorizer\n",
    "\n",
    "vectorizer = TfidfVectorizer (max_features=2500, min_df=7, max_df=0.8, stop_words=stopwords.words('french'))\n",
    "processed_features = vectorizer.fit_transform(processed_features).toarray()\n",
    "\n",
    "#from sklearn.model_selection import train_test_split\n",
    "#X_train, X_test, y_train, y_test = train_test_split(processed_features, labels, test_size=0.2, random_state=0)"
   ]
  },
  {
   "cell_type": "code",
   "execution_count": 155,
   "metadata": {
    "ExecuteTime": {
     "end_time": "2021-02-03T14:00:13.312422Z",
     "start_time": "2021-02-03T14:00:13.309678Z"
    }
   },
   "outputs": [],
   "source": [
    "from sklearn.feature_extraction.text import CountVectorizer\n",
    "def vectorizer(corpus):\n",
    "    tfidf = TfidfVectorizer (max_features=2500, min_df=7, max_df=0.8)\n",
    "    vect = tfidf.fit_transform(corpus).toarray()"
   ]
  },
  {
   "cell_type": "markdown",
   "metadata": {},
   "source": [
    "## Pipeline Preprocessing"
   ]
  },
  {
   "cell_type": "markdown",
   "metadata": {},
   "source": [
    "- Pipeline Preprocessing"
   ]
  },
  {
   "cell_type": "code",
   "execution_count": 51,
   "metadata": {
    "ExecuteTime": {
     "end_time": "2021-02-03T09:28:12.943752Z",
     "start_time": "2021-02-03T09:28:12.932486Z"
    }
   },
   "outputs": [],
   "source": [
    "from sklearn.preprocessing import FunctionTransformer\n",
    "\n",
    "def pipelinize(function, active=True):\n",
    "    def list_comprehend_a_function(list_or_series, active=True):\n",
    "        if active:\n",
    "            return [function(i) for i in list_or_series]\n",
    "        else: # if it's not active, just pass it right back\n",
    "            return list_or_series\n",
    "    return FunctionTransformer(list_comprehend_a_function, validate=False, kw_args={'active':active})"
   ]
  },
  {
   "cell_type": "code",
   "execution_count": 133,
   "metadata": {
    "ExecuteTime": {
     "end_time": "2021-02-03T13:27:10.019320Z",
     "start_time": "2021-02-03T13:27:08.404077Z"
    }
   },
   "outputs": [
    {
     "name": "stdout",
     "output_type": "stream",
     "text": [
      "[['réserv', 'tabl', 'mois', 'avanc', 'servic', 'impecc', 'processus', 'arriv', 'temp', 'rapid', 'assis', 'personnel', 'accueil', 'attent', 'détail', 'verr', 'champagn', 'tand'], ['nicol', 'sal', 'chef', 'except', 'incroi', 'subtil', 'délicat', 'envoût', 'délici', 'fin', 'extrêm', 'dos', 'tabl', 'except', 'turbot', 'rot', 'ancien', 'photo', 'volaille-écrev', 'met'], ['ru', 'tranquill', 'loin', 'panthéon', 'joyau', 'culinair', 'diner-menu', 'servic', 'choix', 'vin', 'verr', 'blanc', 'riesling', 'pernand', 'vergeless', 'délici', 'plat', 'réalis', 'cuisin'], ['redir', 'restaur', 'irréproch', 'propr', 'servic', 'discret', 'courtois', 'menu', 'simpl', 'efficac', 'caviar', 'délici', 'moment', 'reviendr'], ['commentair', 'rep', 'incroi', 'délici', 'bel', 'présent', 'début', 'fin', 'restaur', 'petit', 'extrêm', 'populair', 'obligatoir', 'réserv', 'avanc', 'sit', 'internet', 'facil', 'pratiqu', 'fair'], ['déjeun', 'hi', 'copin', 'impossibl', 'réserv', 'tabl', 'grav', 'queu', 'restaur', 'attend', 'patron', 'accueil', 'drol', 'symp', '’assiet', 'végétarien', 'excellent'], ['visit', 'dimanch', 'mid', 'accueil', 'sup', 'convivial', 'familial', 'sensat', 'aller', 'mang', 'petit', 'mam', 'expliqu', 'particular', 'cuisin', 'iranien', 'proposit', 'accord', 'plat', 'miam', 'cuisin', 'excellent', 'maison', 'régal', 'saveur'], ['restaur', 'devr', 'serv', '’exempl', 'écol', '’hôteller', 'personnel', 'agréabl', 'attention', 'intrus', 'rapport', 'qualit', 'prix', 'excellent', 'plat', 'propos', 'goûteux', 'serveur', 'bon', 'conseil', 'apérit', 'digest', 'offert'], ['oxte', 'sert', 'cuisin', 'original', 'élabor', 'malheur', 'juxtaposit', 'imagin', 'chef', 'excit', 'curios', 'saveur', 'plat', 'not', 'sucr', 'paru', 'niveau', 'effort', 'nécess', 'prépar', 'servic', 'lent'], ['voul', 'réserv', 'mond', 'appel', 'bonjour', 'temp', 'répond', 'temp', 'faut', 'rappel', 'raccroh', 'nez'], ['nourritur', 'bon', 'produit', 'frais', 'présent', 'personnel', 'sympath', 'professionnel', 'dynam', 'mis', 'étoil', 'niveau', 'sonor', 'portion', 'petit', 'vin'], ['restaur', 'vaut', 'étoil', 'michelin', 'burg', 'bon', 'poivron', 'précis', 'menu', 'sent', 'pein', 'bacon', 'mar', 'pris', 'côt', 'bœuf', 'moyen', 'bon', 'servic', 'laiss'], ['trouv', 'trip', 'advisor', 'réserv', 'restaur', 'samed', 'soir', 'cart', 'disponibl', 'internet', 'offrait', 'choix', 'prix', 'raison', 'arriv', 'présent', 'cart', 'menus', 'servic'], ['chang', 'propriétair', 'trouv', 'qualit', 'produit', 'organis', 'vent', 'flech', 'adept', 'salad', 'mang', 'yeux', 'ferm', 'bcp', 'feuill', 'pourr', 'milieu', 'chos'], ['rep', 'elan', 'déjeun', 'dîn', 'amis', 'beb', 'sup', 'moment', 'lieu', 'accueil', 'chaleur', 'chef', 'prépar', 'yeux', 'bel', 'assiet', 'régal'], ['cadr', 'incroi', 'équip', 'extrêm', 'sympath', 'met', 'succulent', 'chef', 'mari', 'saveur', 'inhabituel', 'fair', 'séduir', 'palet', 'classiqu', 'envi', 'original', 'allé', 'enfant'], ['parf', 'accueil', 'chaleur', 'cadr', 'magnif', 'attent', 'délicat', 'met', 'régal', 'soir', 'inoubli', 'équip'], ['pris', 'menu', 'esprit', 'pierr', 'gagnair', 'acced', 'multitud', 'plat', 'met', 'invent', 'fameux', 'restaur', 'accompagn', 'vin', 'sublim', 'met', 'moment', 'exceptionnel', 'soir'], ['rep', 'bon', 'portion', 'vrai', 'petit', 'revanch', 'question', 'servic', 'vrai', 'dign', 'étoil', 'servic', 'vinsur', 'fois', 'serveur', 'venus', 'rempl', 'fois', 'goutt', 'vin'], ['accord', 'visiteur', 'conspuent', 'lieu', 'hygien', 'oui', 'copieux', 'oui', 'bon', 'maison', 'sain', 'propr', 'infect', 'salet', 'cuisini', 'crêp', 'occup', 'caiss', 'crêp', 'complet'], ['éven', 'familial', 'découvert', 'culinair', 'top', 'bon', 'plat', 'bel', 'associ', 'voyon', '’autr', 'restaur', 'côt', 'surpris', 'sup', 'chouet', 'temp', '’adaptent', 'régim', 'spécif'], ['classic', 'tabl', 'français', 'rehauss', 'saveur', 'asiat', 'grand', 'réussit', 'tabl', 'préfer', 'paris', 'cart', 'réguli', 'renouvel', 'william', 'ledeuil', 'vrai', 'chef', 'décor', 'servic', 'net', 'aimabl', 'bon', 'cart', 'vin', 'soir'], ['qualit', 'accueil', 'qualit', 'nourritur', 'hyp', 'frais', 'qualit', 'menu', 'choix', 'simpl', 'fair', 'assiet', 'géner', 'bel', 'découvert'], ['vir', 'rep', 'serveux', 'dam', '’un', '’ann', 'réserv', 'permettent', 'dîn', 'heur', 'accueil', 'mani', 'agress', 'dam', 'pratiqu', 'arrach', 'menu', 'main', 'insinu'], ['’en', 'entendu', 'formul', 'burg', 'accompagn', 'boisson', 'burg', 'goût', 'steak', 'veg', 'fad', 'compar', 'test', 'maison', '’ai', 'pris', 'burg', 'compot', 'figu'], ['fois', 'ambianc', 'chaleur', 'agréabl', 'personnel', 'petit', 'soin', 'compagnon', 'tabl', 'correct', 'choix', 'répondu', 'attent', 'signal', 'gest'], ['pass', 'bon', 'soir', 'restaur', 'palac', 'parisien', 'personnel', 'sall', 'cuisin', 'petit', 'soin', 'plat', 'excellent', 'merveil', 'bœuf', 'wagyu'], ['reserv', 'obligatoir', 'veil', 'we', 'brui', 'cart', 'allech', '’est', 'homemad', 'korean', 'food', 'gyos', 'surgel', 'plutot', 'raviol', '’est', '’appel', 'cart', 'dommag', 'bad', 'choic'], ['grand', '’est', 'fois', 'vrai', 'plais', 'sup', 'servic', 'excellent', 'pizz', 'elvis', 'custom', 'piment', 'bientôt', 'piment', '👌'], ['délici', 'crêp', 'paris', 'cherch', 'endroit', 'voyag', 'paris', 'regret'], ['visit', 'lucas-carton', 'périod', 'senderen', 'fois', 'écriv', 'presqu', 'temp', 'permettr', 'jeun', 'chef', 'corrig', 'dev', 'acced', 'haut', 'niveau', 'fois-c', 'invers'], ['mois', 'léchion', 'babin', 'idé', 'aller', 'din', 'mesur', 'arriv', 'mandarin', 'splendid', 'cadr', 'superb', 'endroit', 'prometteur', 'choix', 'dev', 'bon', 'premi', 'person', 'accueillent', 'aimabl'], ['menu', 'dégust', 'poisson', 'viand', 'petit', 'portion', 'bon', 'raffin', 'bel', 'surpris', 'dessert', 'poir', 'peut-êtr', 'ensembl'], ['expérient', 'dégust', 'gastronom', 'menu', 'surpris', 'symp', 'associ', 'produit', 'réuss', 'cuisin', 'fin', 'esper', 'produit', 'exot', 'surpren', 'faut-il', 'maîtris'], ['allé', 'fêt', 'an', 'conjoint', 'servic', 'impecc', 'conseil', 'chef', 'parf', 'bon', 'moment', 'restaur', 'cuisin', 'goûteux', 'vu', 'tour', 'eiffel'], ['’', 'réguli', 'occas', '’est', 'excellent', '’human', 'fois'], ['déjeun', 'excellent', 'associ', 'surpren', 'just', 'personnel', 'accueil', 'attention', 'fair', 'refair'], ['excellent', 'cuisin', 'français', 'pet', 'resto', 'soir', 'dîn', 'restaur', 'éton', 'vid', 'agréabl', 'pouvoir', 'voir', 'serveur', 'communiqu', 'chef', 'servic', 'correct', 'exceptionnel'], ['excellent', 'cuisin', 'accueil', 'sympath', 'vrai', 'passion', 'communiqu', 'gourmet', 'moment', 'bonheur', 'partag'], ['allé', 'repris', 'hamburger', 'pizz', 'plat', 'dessert', 'jam', 'déçus', 'quantit', 'géner', 'bon', 'saveur', 'recommandon'], ['passag', 'paris', 'voul', 'fair', 'brasser', 'typiqu', 'parisien', 'arrêt', 'grand', 'colbert', 'bel', 'endroit', 'bon', 'nourritur', 'servic', 'impecc', 'excellent', 'moment'], ['din', 'group', 'surpris', 'fort', 'désagré', 'ger', 'sympath', 'imbu', 'prestat', '’assur', '’et', 'hauteur', 'quantit', 'insuffis', 'certain'], ['cuisin', 'haut', 'tenu', 'réalis', 'excellent', 'produit', 'menu', 'dégust', 'bon', 'rapport', 'qualitéprix', 'court', 'cart', 'vin', 'compos', 'goût', 'rhum', 'arrang', 'faham', 'fameux', 'parf', 'grignotter', 'serv', 'apérit', 'désesper', 'sec', 'toilet'], ['eme', 'visit', 'restaur', 'fêt', 'anniversair', 'enfant', 'déçus', 'qualit', 'cuisin', 'propos', 'presqu', 'indign', 'établ', 'réput', 'eme', 'fois'], ['menu', 'euros', 'entré', 'plat', 'dessert', 'beau', 'produit', 'cuisin', 'finess', 'raffin', 'régal', 'papill', 'yeux', 'servic', 'parf', 'prend', 'temp', 'expliqu'], ['situ', 'servic', 'mauv', 'serveur', 'connaissent', 'anglais', 'côt', 'champion', 'serviabl', 'fruit', 'mer', 'frais', 'assiet', 'sal'], ['sûr', 'délicat', 'servic', 'beaut', 'assiet', 'bon', 'surpris', 'rapport', 'prix', 'découvert', 'grand', 'tabl', 'menu', 'déjà'], ['tomb', 'appart', 'ru', 'parisien', 'bon', 'surpris', 'serveur', 'écout', 'petit', 'soin', 'prix', 'menu', 'raison', 'produit', 'simpl', 'bon', 'qualit', 'recommand'], ['bonheur', 'menu', 'surpris', 'perm', 'découvr', 'talent', 'culinair', 'alli', 'vin', 'inattendus', 'grand', 'factur', 'bémol', 'dessert', 'personnel', 'efficac', 'aimabl'], ['restaur', 'met', 'gluten', 'sup', 'avanc', 'plac', 'décept', 'personnel', 'éton', 'vrai', 'allerg', 'cuisin', 'rend'], ['méprendr', 'entrant', 'restaur', 'attend', 'trouv', 'étoil', 'annonc', 'retrouv', 'fac', 'bistrot', 'inconfort', 'prétenti', 'brui', 'commençon', 'sall', 'déco', 'mauvais', 'goût'], ['évident', 'cadr', 'somptueux', 'brill', 'témoin', 'bel', 'époqu', 'servic', 'qualit', 'restaur', 'larg', 'hauteur', 'superb', 'menus', 'entré', 'poisson'], ['merveil', 'restaur', 'pât', 'maison', 'mus', 'orsay', 'command', 'menu', 'formuk', 'rep', 'excellent', 'group', 'problem', 'diétet', 'personnel', 'arrang', 'retourn', 'hésit', 'restaur'], ['sup', 'bon', 'adress', 'qualit', 'créativ', 'cuisin', 'clientel', 'franc', 'étranger'], ['avis', '’un', 'libanais', '’est', 'adress', 'inmanqu', 'prix', 'excess', 'plat', 'bof', '’exceptionnel', 'recommand', 'adress', 'meilleur', 'test'], ['surpris', 'taill', 'arriv', 'petit', 'crêper', 'crêp', 'exquis', 'personnel', 'ador', 'reviendr', 'plais'], ['servic', 'impecc', 'part', 'copieux', 'prix', 'raison', 'recommand', 'hic', 'coréen', 'manqu', 'plac', 'jamb', 'caus', 'plaqu', 'cuisson'], ['hexagon', 'pratiqu', 'cuisin', 'fusion', 'franco', 'asiat', 'niveau', 'qualit', 'william', 'ledeuil', 'saveur', 'affirm', 'jam', 'excess', 'grand', 'équilibr', 'bel', 'maîtris', 'techniqu', 'personnel', 'charm', 'érud', 'jol', 'ambianc', 'bel', 'cart', 'vin', 'rapport', 'qualit', 'prix'], ['cuisin', 'raffin', 'gouteux', 'bon', 'servic', 'client', 'çe', 'servic', 'rep', 'surpren', 'délir', 'subtil', 'consist', 'goût'], ['part', 'cart', 'croir', 'inde', 'indones', 'restaur', 'pâl', 'cop', 'servic', 'fast', 'food', 'prix', 'rest', 'époqu', 'révolu', 'excellent', 'decerestaur', 'trèstrèsdécev', 'devenu'], ['din', 'menu', 'bon', 'rapport', 'qualit', 'prix', 'supplemnt', 'filet', 'st', 'pierr', 'saveur', 'giroll', 'attent', 'longu', 'quart', '’heur', 'plat', 'principal', 'attitud', 'curieux', 'direct', 'polem'], ['exelent', 'bon', 'cuisin', 'dîn', 'mois', 'agréabl', 'surpr', 'accueil', 'professionnel'], ['expérient', 'dînatoir', 'excellent', 'bon', 'plat', 'recommand', 'fan', 'plat', 'indien', 'pakistan'], ['excellent', 'soir', 'accord', 'met', 'vin', 'parfait', 'produit', 'mis', 'valeur'], ['parf', 'fois', 'servic', 'parf', 'plat', 'top', 'conseil', 'chois', 'vin', 'décor', 'soign', 'personnel', 'pet', 'soin', 'entré', 'form', 'invit', 'découvert', 'charcuter', 'pât', 'croût', 'terrin', 'plat', 'serv', 'portion'], ['ador', 'faubourg', 'esper', 'obten', 'réserv', 'epicur', 'égal', 'hôtel', 'bristol', 'réserv', 'install', 'fabul', 'nourritur', 'excellent', 'servic', 'parf'], ['formul', 'simpl', 'bon', 'nan', 'delici', 'cuit', 'produit', 'bio', 'altern', 'lait', 'equip', 'sympath', 'decouvert', 'endroit', 'hasard', 'reviendr', 'plais'], ['tabl', 'réserv', 'tabl', 'comptoir', 'attendon', 'tabl', 'liber', 'tabl', 'sépar', 'tabl', 'fall', 'réserv', 'serveur', 'réserv'], ['’est', 'resto', 'froid', 'arriv', 'genr', 'galer', 'peintur', 'servic', 'accueil', 'oubli', 'vit', '’est', 'feutr', 'chic', 'mid', 'formul', 'entrée-plat', 'franch', '’est', 'gastronom', 'haut', 'niveau'], ['sourirerapiditéefficacitéqual', 'mot', 'manquent', 'point', 'rav', 'passag', 'room', 'adress', 'rât'], ['recommand', 'ami', 'entré', 'restaur', 'chambr', 'loin', 'trouv', 'asseoir', 'port', 'étranger', 'saut', 'yeux'], ['magnif', 'découvert', 'restaur', 'étoil', 'écrin', 'éleg', 'cuisin', 'exquis', 'servic', 'présent', 'envah', 'présent', 'plat', 'contemporain', 'affèter', 'goût', 'équilibr', 'cuisson', 'poisson', 'parfait', 'test'], ['cadr', 'agréabl', 'personnel', 'petit', 'soin', 'cart', 'raffin', 'mention', 'carr', 'agneau', 'pyren', 'moelleux', 'goûteux', 'présent', 'original', 'addit', 'regret'], ['cadr', 'agréabl', 'équip', 'sympath', 'cuisin', 'délici', 'impact', 'réduit', 'planet'], ['souvenir', 'vi', 'dur', 'mémoir', 'bon', 'goût', 'bon', 'sen', 'maîtr', 'lieux', 'temp', 'luc', 'carton', 'pens', 'temp', 'étoil', 'alain', 'senderen', 'jet', 'savoir', 'fair'], ['produit', 'qualit', 'fin', 'travaill', 'associ', 'surpren', 'just', 'cart', 'var', 'gré', 'saison', 'pet', 'bémol', 'vin', 'correct', 'excellent'], ['cess', 'queu', 'immens', 'resto', 'profit', 'dimanch', 'test', 'part', 'garniesrien', 'crêp', 'crêp', 'valeur', 'énerget', 'menus', 'big', 'mac'], ['conqu', 'personnel', 'accueil', 'attent', 'servic', 'parf', 'menu', 'jour', 'fêt', 'parf', 'met', 'vari', 'délici', 'vrai', 'retourn', 'grand', 'plais'], ['serveur', 'accueil', 'bon', 'conseil', 'concern', 'choix', 'vin', 'commerc', 'accueil', 'arriv', 'pet', 'apérit', 'plat', 'grand', 'qualit'], ['habitu', 'restos', 'indien', 'experient', 'cheesnan', 'gout', 'fromag', 'sauc', 'masal', 'degeul', 'gout', 'epic', 'fad', 'riz', 'basmat', 'mal', 'prepare', 'appellent', 'epinard', 'fromag'], ['savour', 'prévu', 'mang', 'main', 'grand', 'assiet', 'commun', 'nourritur', 'serv', 'sup', 'voul', 'vivr', 'expérient', 'nourritur', 'bon'], ['visit', 'quarti', 'séduit', 'concept', 'original', 'produit', 'authent', 'personnel', 'souri', 'serviabl', 'qualit', 'ingrédient', 'excellent', 'bon', 'adress', 'gard', 'quarti'], ['restaur', 'vu', 'quais', 'sein', 'tour', 'eiffel', 'bon', 'accueil', 'servic', 'sympath', 'motiv', 'plat', 'savour', 'cart', 'vin', 'éclect', 'chef', 'vient', 'prendr', 'command', 'restaur', 'quas'], ['délicat', 'critiqu', 'invit', 'quelqu', 'bon', 'soir', 'invit', 'trouv', 'qualit', 'prestat', 'décev', 'grand', 'classiqu', 'canard', 'rôt', 'serv', 'tied', 'sauc', 'pâteux'], ['faision', 'joi', 'aller', 'restaur', 'georg', 'lir', 'commentair', 'conven', 'rep', 'grand', 'qualit', 'impression', 'voir', 'invent'], ['dommag', 'émerveil', '’assiet', 'plat', 'incroi', 'vrai', 'voyag', 'erreur', 'sall', 'passent', 'mal', 'restaur', 'étoil', 'parisgross', 'confus', '’accueil', 'réserv', 'perdu', 'serveur', 'respons', 'rejet'], ['restaur', 'situ', 'quarti', 'mar', 'menu', 'essentiel', 'hamburger', 'raison', 'allé', 'couch', 'essai', 'hamburger', 'poulet', 'grill', 'sandwich', 'bon'], ['nourritur', 'vrai', 'larg', 'mond', 'malheur', 'servic', 'vrai', 'terribl', 'serveur', 'parl', 'anglais', 'serviabl', 'verr', 'propr'], ['bonjour', 'install', 'seul', 'crêper', 'serveux', 'déplac', 'prendr', 'command', 'interpel', 'bar', 'savoir', 'voulon', 'fin'], ['an', 'vien', 'fois', 'part', 'an', 'lass', 'décroch', 'téléphon', 'prendr', 'réserv', 'saliv', 'déjà', 'accueil', 'samed', 'fois', 'rois', 'servic'], ['amis', 'temp', 'réunion', 'paris', 'partout', 'mond', 'idé', 'prendr', 'bon', 'rep', 'vin', 'bon', 'compagn', 'malheur', 'fait', 'restaur'], ['proxim', 'din', 'question', 'facil', 'fois', 'appel', 'burger', 'connaiss', 'auparav', 'din', 'capabl', 'fourn', 'plais', 'mang', 'bon', 'burg', 'trouv', 'correct', 'moult', 'expérient'], ['rendus', 'mesur', 'by', 'thierry', 'marx', 'mid', 'bon', 'impress', 'accueil', 'bon', 'restaur', 'décor', 'épur', 'total', 'contradict', 'sanitair', 'color', 'servic', 'top', 'serveur', 'présent'], ['bel', 'endroit', 'rénov', '’assiet', 'install', '’avis', 'personnel', 'discret', 'réserv', 'fourchet', 'serveux', 'rétorqu', 'voix', 'haut', 'invit', '«', 'tarif', '»', 'indiqu', 'condit'], ['accueil', 'top', 'servic', 'discret', 'professionnel', 'sympath', 'burg', 'frais', 'serv', 'frit', 'maison', 'tomb', 'venu', 'hasard', 'prochain', 'fois', 'revient', 'quarti', 'sûr', 'arrêt', 'prix'], ['merveil', 'moment', 'gabriel', 'restaur', 'réserv', 'paris', 'né', 'palac', 'parisien', 'littéral', 'transport', 'cuisin', 'chef', 'jérôm', 'banctel', 'voyag', 'saumon', 'conf', 'miso', 'coeur', 'artichaut', 'macau'], ['cadr', 'exceptionnel', 'jour', 'nuit', 'servic', 'exceptionnel', 'tabl', 'exceptionnel', 'definetely', 'my', 'favorit', 'restaut', 'in', 'parisplus'], ['accueil', 'mobili', 'accord', 'froid', 'laid', 'cantin', 'rest', 'minut', 'part', 'restaur', 'ambianc', 'don', 'envi', 'din'], ['servic', 'parf', 'cuisin', 'gastronom', 'franco-japon', 'maîtris', 'bon', 'rapport', 'qualit', 'prix', 'recommand', 'yeux', 'ferm', 'équip', 'kinzo', 'chang'], ['bon', 'agneau', 'semel', 'poulet', 'cest', 'os', 'onion', 'bajh', 'intérêt', 'cest', 'don', 'évit'], ['allez-', 'courr', '’est', 'fabul', 'sall', 'étriqu', 'cart', 'produit', '’except', 'sélection', 'amour', 'présent', 'passion', 'cuisin', 'brio', 'rat'], ['ador', 'din', 'domenico', 'pet', 'resto', 'ème', 'croir', 'ital', 'déco', 'vrai', 'top', 'assiet', 'antipast', 'dément', 'géner', 'produit', 'sourc', 'plat', 'choix', 'allech'], ['germain', 'wol', 'pein', 'prochain', 'fois', '’ir', 'bourget', 'kong', 'sill', 'kjdhd'], ['din', 'aspic', 'émerveil', 'gastronomic', 'plat', 'leger', 'creatif', 'qualit', 'exceptionnel', 'produit', 'cocktail', 'top', 'impossibl', 'rat', 'soir', 'retourn', 'asap'], ['connaiss', 'georg', 'meilleur', 'restaur', 'qualit', 'servic', 'cadr'], ['passag', 'paris', 'découvert', '’oxt', 'régal', '’assiet', 'qualit', 'cuisin', 'top', 'vrai', 'moment', 'plaisirservic', 'impecc', 'discuss', 'chef', '’origin', 'mexicain', 'agréabl', 'sympath', 'précis', '’influenc', 'mexicain', 'léger'], ['entron', 'demandon', 'dîn', 'serveur', 'signif', 'train', 'apport', 'addit', 'tabl', 'conviendr', 'mettr', 'ais', 'mond', 'restaur', 'pet', 'décidon', 'éleg', 'sort'], ['invit', 'amis', 'lointain', 'voulion', 'couvr', 'bel', 'endroit', 'délic', 'tabl', 'superb', 'fac', 'fourneau', 'entré', 'magnif', 'poisson', 'extra', 'dessert', 'sommeli', 'artist', 'joindr', 'vin', 'met', 'vrai', 'superb'], ['pris', 'dîn', 'ici', 'hi', 'soir', 'génial', 'réveil', 'matin', 'impress', 'écris', 'commentair', 'impression', 'cuisin', 'servic', 'menu', 'délici'], ['remarqu', 'limininair', 'euros', 'person', 'droit', '’attendr', 'rep', 'servic', 'impecc', 'loin', 'arriv', '’occas', 'mariag', 'mari', 'invitent', 'témoin'], ['franch', 'pai', 'décor', 'resto', 'assiet', 'contenu', 'travaill', 'décor', 'final', 'gout', 'vaut', 'mal', 'ventr', 'mal', 'portefeuill'], ['arriv', 'servic', 'arrêt', 'propos', 'prépar', 'crêp', 'sucr', 'crêp', 'délici', 'serv', 'prépar', 'sourir', 'accompagn', 'original', 'jus', 'pomm', 'chaud', 'retourn'], ['restaur', 'sen', 'personnel', 'croir', 'oubl', 'vit', 'présenc', 'tablesplus'], ['pass', 'superb', 'moment', 'pré', 'catelan', 'pris', 'menu', 'dégust', 'parf', 'servic', 'sall', 'professionnel', 'bel', 'tabl', 'parisien'], ['déjeun', 'coupl', 'semain', '’epicur', 'heur', 'tabl', 'vérit', 'enchant', 'niveau', 'plat', 'chois', 'plat', '«', 'signatur', '»', 'macaron', 'truff', 'cochon', 'têt', 'pied'], ['bon', 'ven', 'restau', 'poch', 'plac', 'cadr', 'jol', 'ven', 'servic', 'raffin', 'trouv', 'serveur', 'symp', 'décontract', 'oui', 'pizz', 'excellent', 'oui', 'pot'], ['plat', 'dégust', 'expliqu', 'chef', 'divin', 'découvert', 'nouvel', 'saveur', 'grâc', 'plat', 'propos', 'accompagn', 'vin', 'original', 'oubli', 'cart', 'gin'], ['fan', 'cuisin', 'indien', 'adress', 'incontourn', 'paris', 'fois', 'franch', 'repart', 'hésit', 'choix', 'propos', 'larg', 'bon'], ['servic', 'rapid', 'personnel', 'agréabl', 'propos', 'vegan', 'pain', 'gluten', 'restaur', 'situ', 'centr', 'pompidou', 'rapport', 'qualitéprix', 'paris'], ['moment', 'magiqu', 'cuisin', 'fois', 'modern', 'invent', 'classiqu', 'personnel', 'fantast', 'gentilless', 'professionnal', 'mention', 'spécial', 'estel', 'partag', 'amour', 'méti', 'lieu', 'magiqu'], ['pet', 'restaur', 'sympath', 'qualit', 'cach', 'ru', 'pittoresqu', 'saint-germain-des-pr', 'sein', 'découvert', 'constitu', 'agréabl', 'surpris', 'menus', 'march', 'mid', 'plat', 'raffin', 'humeur', 'moment', 'menu', 'dégust', 'soir', 'accueil', 'sympath'], ['restaur', 'parisien', 'chiqu', 'pratiqu', 'prix', 'élev', '’entr', 'saint', 'jacqu', 'chou', 'fleur', 'chou', 'fleur', 'saint', 'jacqu', 'goût', 'total', 'masqu', 'manqu', '’équilibr', 'fiasco', 'arriv', 'plat', 'canard', 'sauc', 'chocolat'], ['bon', 'habit', 'quarti', 'restaur', 'anné', 'bon', 'jour', 'qualit', 'plat', 'decor', 'propret', 'impecc', 'bon', 'servic', 'voul', 'mang', 'indien', 'ambianc'], ['bel', 'découvert', 'discret', 'établ', 'coeur', 'montmartr', 'cuisin', 'coréen', 'savour', 'servic', 'discret', 'efficac', 'attent', 'plat', 'bon', 'rapport', 'qualit', 'prix'], ['accueil', 'sup', 'symp', 'produit', 'frais', 'cadr', 'cadr', 'agréabl', 'bon', 'rapport', 'qualit', 'prix', 'reviendr'], ['rep', 'dur', 'heur', 'exceptionnel', 'vrai', 'voyag', 'gustat', 'niveau', 'saveur', 'textur', 'recommand', 'viv', '-'], ['mis', 'bouch', 'bel', 'fin', 'introduir', 'superb', 'servic', 'plat', 'samed', 'septembr', 'assiet', 'magnif', 'oeil', 'saveur', 'sublim', 'onctueux', 'grand', 'recherch'], ['personnel', 'aimabl', 'glac', 'délici', 'meilleur', 'goût', 'retourn'], ['bon', 'pizz', 'bon', 'accueil', 'conseil', 'prévoir', 'temp', 'servic', 'long', 'vaut', 'coup'], ['délici', 'restaur', 'servic', 'impecc', 'accueil', 'sympath', 'cuisin', 'goûteux', 'raffin', 'habitud', 'restaur', 'indien', 'veg', 'choix', 'rapport', 'qualitéprix', 'excellent', 'resto', 'petit', 'sauc', 'mangu', 'classiqu'], ['vrai', 'restaur', 'gastronom', 'qualit', 'produit', 'invent', 'chef', 'excellent', 'vin', 'servic', 'attention', 'plais', 'soir', 'ruin', 'entré', 'dessert', 'vrai', 'régal', 'saveur', 'bonheur', 'yeux', 'hât'], ['menu', 'chang', 'cuisin', 'fil', 'anné', 'invent', 'raffin', 'traditionnel', 'excellent', 'rapport', 'qualit', 'prix', 'quarti', 'pet', 'tabl', 'espac', 'arrond'], ['hôtel', 'meilleur', 'endroit', 'allé', 'voyag', 'paris', 'hôtel', 'vrai', 'tenu', 'famill', 'excellent', 'servic', 'client', 'allé', 'soir', 'ambianc', 'romant', 'ru', 'loin'], ['plat', 'savour', 'servic', 'sympa…', '’arc', 'triomph', 'vrai', 'trésor', 'culinair', 'prix', 'vrai', 'correct'], ['acceuil', 'chaleur', 'personnel', 'sympath', 'buffet', 'pet', 'plat', 'qualit', 'recommand', 'pass', 'bon', 'moment'], ['galet', 'fantast', 'produit', 'moyen', 'pât', 'insipid', 'manqu', 'sel', 'garnitur', 'exceptionnel', 'servic', 'brouillon', 'attent', 'nonchal', 'crêp', 'relèvent', 'clair', 'niveau', 'rapport', 'qualit', 'prix'], ['anniversair', 'maman', 'dev', 'fair', 'honneur', 'fair', 'plais', 'chois', 'déciderl', 'menu', 'découvert', 'temp', 'accompagn', 'vin', 'sélection', 'plat', 'sommeli', 'impos'], ['cadr', 'cossu', 'agréabl', 'servic', 'petit', 'soin', 'cuisin', 'délici', 'condit', 'réun', 'dîn', 'parf'], ['collègu', 'déçus', 'bon', 'contact', 'restaur', 'poulet', 'sec', 'bœuf', 'chawarm', 'indign', 'tabouleh', 'eau', 'tristess', 'amateur', 'liban'], ['restaur', 'choix', 'derni', 'minut', 'derni', 'nuit', 'paris', 'heureux', 'trouv', 'propriétair', 'mar', 'chef', 'femm', 'hôtess', 'serveur', 'équip', 'suiv', 'conseil', 'heureux'], ['redir', 'côt', 'boeuf', 'succulent', 'goût', 'cuisson', 'wagyu', 'propos', 'entré', 'dégust', 'imper', 'servic', 'parf', 'attention', 'tabl', 'réserv', 'moment', 'lux', 'paris', '’on'], ['super', 'pizz', 'aim', 'pat', 'fin', 'rebord', 'moelleux', 'garnitur', 'qualit', 'sortent', 'traditionnel', 'recet', 'equip', 'top', 'accueil', 'chaleur', 'recommand', 'reviendr', '😊'], ['excellent', 'rapport', 'qualit', 'quantit', 'prix', 'accueil', 'ador', 'chaleur', 'plais', 'fair', 'méti', 'accueil', 'fair', 'plais', 'galet', 'classiqu', 'bon', 'rassasient', 'hât', 'retourn', 'goût', 'caramel', 'beurr', 'sal', 'maison', 'bientot'], ['bon', 'restaur', 'plat', 'simpl', 'bon', 'prix', 'abord', 'personnel', 'respectu', 'professionnel'], ['difficil', 'offrir', 'critiqu', 'restaur', 'paris', 'déjà', 'écrit', 'mot', 'meilleur', 'rep', 'jam', 'vi', 'restaur', 'magnif', 'situ', 'magnif', 'hôtel', 'bristol'], ['fument', 'bar', 'fac', 'patron', 'don', 'cendri', 'remarqu', 'part', 'patron', 'moqu'], ['cart', 'bon', '’ambianc', 'malheur', 'temp', '’en', 'profit', 'derni', 'gorg', 'caf', 'aval', 'demand', 'quitt', 'lieux', 'plac', 'pass', 'fast', 'food', 'addit'], ['joi', 'pouvoir', 'mang', 'menu', 'dégust', 'mid', 'anguill', 'thon', 'st', 'jean', 'couteau', 'cochon', 'abricot', 'enchant', 'sup', 'cart', 'vin', 'personnel', 'sall', 'jeun', 'pro'], ['avis', 'question', 'pos', 'réel', 'réserv', 'tabl', 'georg', 'coupl', 'fêt', 'anniversair', 'cadr', 'somptueux', 'ami', 'arriv', 'chemis', 'enjoint', 'port', 'vest'], ['paris', 'ici', 'jour', 'sauron', 'clochet', 'emblé', 'mérit', 'amplement', 'cuisin', 'auteur', 'culott', 'assort', 'maîtris', 'techniqu', 'pair', 'coup', 'perm', 'harmon', 'résonnent', 'tonitru', 'erreur'], ['tabl', 'tabl', 'haut', 'acoll', 'cuisin', 'vu', 'artist', 'servic', 'irréproch', 'grand', 'sourir', 'bel', 'expliqu', 'conviv', 'enceint', 'menu', 'entier', 'ref', 'oblig', 'inhérent', 'grossess', 'exquis', 'menu', 'carnet', 'voyag', 'plat', 'grand', 'maîtris'], ['bel', 'découvert', 'hasard', 'passag', 'accord', 'saveur', 'inattendu', 'travail', 'autour', 'aliment', 'ressent', 'plais', 'gustat', 'sall', 'servic', 'agréabl', 'recommand'], ['restaur', 'chaleur', 'accueil', 'sympath', 'décor', 'raffin', 'éleg', 'voir', 'chef', 'cuisin', 'yeux', 'ébah', 'intoler', 'gluten', 'voulu', 'savoir', 'plat', 'pouv', 'command', 'risqu', 'chef', 'familiaris', 'intoler', 'gluten'], ['brunch', 'dominical', 'pet', 'fil', 'an', 'enfant', 'bienvenus', 'an', 'gratuit', 'brunch', 'complet', 'surpris', 'test', 'inclus', 'jus', 'caf', 'eau', 'minéral'], ['dîner', 'fameux', 'restaur', 'étoil', 'gabriel', 'paris', 'cadr', 'symp', 'servic', 'personnel', 'agréabl', 'cuisin', 'niveau', 'acidul', 'influenc', 'japonais', 'prononc', 'menu', 'voyag', 'priv', 'impos'], ['saint', 'valentin', 'bord', 'bus', 'toqu', 'merveil', 'idé', 'dépays', 'enchant', 'rendez-vous', 'cadr', 'original', 'balad', 'découvr', 'paris', 'by', 'night', 'beau', 'atour', 'romant', 'splendeur', 'rep', 'savour', 'éleg'], ['menu', 'euros', 'verr', 'vin', 'prestat', 'moyen', 'nourritur', 'portion', 'minuscul', 'tempur', 'magn', 'mieux', 'sushimak', 'quarti', 'serveur', 'empress'], ['venon', 'réguli', 'anné', 'fois', 'trouv', 'prix', 'insuport', 'élev', 'plat', 'st', 'jacqu', 'merlan', 'lign', 'décev', 'niveau', 'prix', 'aucum', 'met', 'souffr', 'command'], ['pan', 'serv', 'étui', 'plastiqu', 'quenel', 'viand', 'hach', 'noi', 'sauc', 'tomat', 'petit', 'quantit', 'dessert', 'intérêt', 'excellent', 'connu', 'liban', 'meilleur', 'retourn', 'restaur'], ['ambianc', 'fol', 'bon', 'musiqu', 'bon', 'cuisin', 'prix', 'accessibl', 'prix', 'boisson', 'intéress'], ['restaur', 'extérieur', 'incroi', 'malheur', 'dû', 'attendr', 'bon', 'moment', 'command', 'emport', 'plat', 'arriv', 'boisson', 'dû', 'demand', 'eau', 'repris', 'qualit', 'nourritur', 'serv', 'moyen', 'not'], ['excellent', 'petit', 'crêper', 'lieu', 'accueil', 'chaleur', 'crêp', 'sal', 'sucr', 'délic'], ['rep', 'juin', 'soir', 'servic', 'agréabl', 'bel', 'cart', 'vin', 'entrecôt', 'miyazak', 'vrai', 'tuer', 'essai', 'fois', 'vi', 'parf', 'adress', 'sit', 'restaur', 'indiqu'], ['cart', 'épur', 'bon', 'produit', 'fait', 'maison', '’entr', 'dessert', 'addit', 'moder', 'servic', 'accueil', 'efficac', 'faut', 'aim', 'ambianc', 'brui'], ['déçu', 'faut', 'ven', 'affam', 'menu', 'mid', 'entré', 'plat', 'dessert', 'euros', 'laiss', 'faim', 'salad', 'fruit', 'dessert', 'amer', 'fruit', 'défraîch'], ['plat', 'présent', 'saveur', 'poisson', 'probabl', 'congel', 'serv', 'tied', 'nounour', 'chocolatgomm', 'ven', 'supermarch', 'méritent', 'présent', 'assiet', 'dessert', 'rapport', 'qualit', 'prix', 'défavor'], ['découvert', 'petit', 'tabl', 'hasard', 'jol', 'surpris', 'produit', 'frais', 'cuisin', 'délici', 'subtil', 'mélang', 'finess', 'découvert', 'fin', 'parfait', 'assort', 'entré', 'plat', 'dessert', 'redir', 'fauss', 'not', '👏'], ['recommand', 'restaur', 'découvert', 'déjeun', 'professionnel', 'plat', 'fin', 'réalis', 'jeun', 'chef', 'japonais', 'alli', 'touch', 'japonais', 'touch', 'breton', 'original', 'délici'], ['superb', 'lieu', 'pass', 'excellent', 'soire', 'produit', 'qualit', 'ambianc', 'agréabl', 'personnel', 'efficac', 'felicit', 'respons', 'sall', 'chef', 'patissi', 'parf', 'joi', 'retourn', 'lieu', 'extraordinair'], ['arriv', 'soir', 'semain', 'accueil', 'grand', 'sourir', 'menu', 'découvert', 'raffin', 'grand', 'qualit', 'maîtris', 'saumon', 'marin', 'oeuf', 'parf', 'black', 'angus', 'accompagn', 'pur', 'robuchon', 'daurad', 'royal', 'pur', 'carott', 'yuzu', 'hât', 'retourn'], ['term', 'restaur', 'presqu', 'diminut', 'pareil', 'endroit', 'vient', 'soup', 'embarqu', 'air', 'légèret', 'symphon', 'visuel', 'gustat', 'assiet', 'entremet', 'succèdent', 'éveillent', 'fois'], ['bon', 'servic', 'excellent', 'cuisin', 'sall', 'etag', 'vu', 'menu', 'mid', 'choix', 'limit', 'brui'], ['peut-on', 'fair', 'plat', 'bon', 'expertis', 'maîtris', 'servic', 'sympath', 'grâc', 'ais', 'lieu', 'simpl', 'magnif', 'part'], ['invit', 'amis', 'chanc', 'amis', 'régal', 'début', 'rep', 'mis', 'bouch', 'dessert', 'larg', 'choix', 'champagn', 'propos', 'verr', 'bel', 'cart', 'vin', 'servic', 'professionnel', 'présent'], ['ami', 'somm', 'allé', 'frog', 'and', 'underground', 'hasard', 'ador', 'frit', 'pdt', 'douc', 'delici', 'sup', 'choix', 'bier', 'serveur', 'agréabl', 'pass', 'sup', 'soir', 'mention', 'spécial', 'serveur', 'bar'], ['quarti', 'correct', 'frit', 'arriv', 'brun', 'cuit', 'huil', 'cuisson', 'chang', 'urgenc', 'symp', 'bruit', 'accueil', 'souri', 'rep', 'fin', 'fin', 'vin'], ['not', 'global', 'reflet', 'décept', 'restaur', 'homm', 'senderen', 'bel', 'renomm', 'appui', 'critiqu', 'gastronom', 'élogi', 'attend', 'mieux', 'menu', 'dégust', 'entré', 'plat'], ['fois', 'excellent', 'din', 'assaison', 'prec', 'thon', 'blanc', 'anne', 'laur', 'jean-eud', 'sall'], ['comprend', 'vrai', 'commentair', 'ci-dessous', '’est', 'demand', 'écrit', 'réel', 'commentaires…', '’il', 'achete…', 'restaur', 'regn', 'odeur', 'wc', 'crêp', 'arrivent', 'cuit'], ['excellent', 'cart', 'menu', 'copieux', 'produit', 'bon', 'qualit', 'présent', 'original', 'reviendron'], ['ador', 'ambianc', 'servic', 'devient', 'brui', 'part', 'serveur', 'ptit', 'soin', 'manqu', 'ème', 'étoil', 'plat', 'agneau', 'cuisin', 'dommag'], ['cuisin', 'goûteux', 'saveur', 'décor', 'brasser', 'parisien', 'surann', 'ancien', 'institu', 'vit', 'mérit', 'remettr', 'question', 'cuisin'], ['acceuilservic', 'cuisin', 'produit', 'mis', 'honneurbravop', 'chich', 'essentiel'], ['écris', 'avis', 'tat', 'burg', 'coch', 'cas', 'serveur', 'petit', 'soin', 'ambianc', 'agréabl', 'déco', 'original', 'cart', 'coquin', 'burg', 'vrai', 'bon', 'redemand'], ['superb', 'moment', 'accueil', 'inégal', 'paris', 'burger', 'exceptionnel', 'adress', 'incontourn', 'patron', 'lieux', 'fi', 'équip', 'jeun', 'serveux'], ['médiocr', 'salad', 'algu', 'goût', 'fad', 'baign', 'vinaigr', 'poulp', 'tranch', 'poulp', 'natur', 'assaison', 'assiet', 'assiet', 'sush', 'poisson', 'tied', 'goût', 'bier', 'japonais'], ['allé', 'fois', 'salad', 'coleslaw', 'daub', 'pris', 'poubel', 'moyen', 'agréabl', 'recet', 'sauc', 'tomat', 'oliv', 'noir', 'bof'], ['decor', 'agreeabl', 'debut', 'siecl', 'plat', 'bon', 'euros', 'plat', 'ca', 'vaut', 'prix', 'restaur', 'brasser', 'pieg', 'tourist', 'cas', 'americain', 'weekend'], ['emiss', 'meilleur', 'boulanger', 'franc', 'fill', 'an', 'rev', 'aller', 'boulanger', 'gout', 'eclair', 'thé', 'vert', 'decid', 'fair', 'surpris', 'aller', 'cass', 'tirelir', 'parton'], ['coupl', 'ger', 'restaur', 'impress', 'million', 'dollar', 'sup', 'ambianc', 'chaleur', 'cuisin', 'français', 'authent', 'recommand', 'endroit', 'mond', 'conseil', 'fois', 'pet', 'endroit', 'peut-êtr', 'tabl'], ['endroit', 'hyp', 'symp', 'mur', 'tapiss', 'photos', 'personnal', 'connaît', 'mond', 'gar', 'essentiel', 'régal', 'accueil', 'chaleur', 'discuss', 'jovial', 'patron', 'bref', 'côt', 'philharmon', 'cnsm'], ['réserv', 'an', 'mariag', 'moment', 'festif', 'prenon', 'menu', 'découvert', 'servic', 'accord', 'metsvin', 'commenc', 'bon', 'humeur', 'fin', 'tard', 'impress', 'gâch', 'soir', 'attent'], ['sûr', 'lorsqu', 'évoqu', 'mot', 'caviar', 'prior', 'li', 'côt', 'luxueux', 'élit', 'snob', 'laiss', 'fair', 'dîn', 'majeur', 'part', 'compos', 'caviar', '’ai', 'littéral', 'conqu', 'mag'], ['trouv', 'servic', 'mond', 'charm', 'plat', 'beau', 'amus', 'bouch', 'grand', 'intérêt', 'don', 'hauteur', 'bref', 'tas', 'adress'], ['sit', 'sit', 'web', 'pag', 'fb', 'vois', 'ouvr', 'mid', 'appel', 'monsieur', 'accent', 'américain', 'répond', 'commenc', 'imit', 'direct', 'appel', 'numéro'], ['din', 'tour', 'argent', 'allé', 'déces', 'claud', 'terrail', 'an', 'niveau', 'qualit', 'baiss', 'compar', 'devenu', 'entré', 'légum', 'sauc', 'safran', 'insipid'], ['mang', 'anné', 'conseil', 'ami', 'origin', 'indien', 'jour', 'trouv', 'cafard', 'assiet'], ['effort', 'décor', 'progress', 'bar', 'resto', 'perdent', 'clientel', 'nombreux', 'réouvertur', 'mois', 'attent', 'froideur', 'mieux', 'côtéplus'], ['dîn', 'coupl', 'réveillon', 'saint-sylvestr', 'désist', 'derni', 'minut', 'merveil', 'moment', 'rep', 'fêt', 'réuss', 'produit', 'nobl', 'cuisson', 'parfait', 'personnel', 'fois', 'professionnel'], ['aimion', 'version', 'auberg', 'coupl', 'jeun', 'propriétair', 'ador', 'créativ', 'jeun', 'chef', 'japon', 'pris', 'suit', 'déçus', 'épisod', 'port'], ['restaur', 'situ', 'local', 'pet', 'sent', 'renforc', 'grand', 'affluenc', 'mid', 'hésitent', 'fair', 'queu', 'comptoir', 'trottoir', 'titr', 'entendu', 'emport', 'plac', 'choix'], ['success', 'petit', 'plat', 'invent', 'superb', 'présent', 'gout', 'exquis', 'heur', 'nuag', 'dit', 'faut', 'reven', 'essai', 'commun', 'servic', 'attent', 'cadr', 'agréabl', 'fauss', 'not'], ['écrit', 'critiqu', 'fois', 'anné', 'derni', 'visit', 'impress', 'besoin', 'écrir', 'vien', 'ici', 'fois', 'paris', 'devenu', 'tradit', 'anniversair', 'anné', 'lieu', 'chang'], ['ancien', 'quarti', 'recherch', 'déjeun', 'lund', 'arcan', 'essayon', 'mot', 'essai', 'bon', 'exécut', 'accord', 'mets-vin', 'trouv', 'part', 'bel', 'cart', 'chef', 'vient'], ['restaur', 'bluff', 'émot', 'innov', 'précis', 'allez-', 'yeux', 'ferm', 'prix', 'bon', 'étoil', 'regret', 'centim', 'menu', 'align', 'trouvaill', 'ced', 'goût', 'peut-êtr', 'meilleur', 'rep', 'vi'], ['galet', 'parent', 'crep', 'sucr', 'enfant', 'mond', 'sup', 'content', 'servic', 'rapid', 'chaleur'], ['maison', 'appartenantb', 'mission', 'haut', 'brion', 'annonc', 'bel', 'sall', 'tabl', 'espac', 'pet', 'détail', 'petit', 'support', 'amen', 'évit', 'bis', 'sac', 'sacoch', 'touchent', 'sol', 'menu', 'déjeun', 'inspir', 'chef'], ['soir', 'anniversair', 'famill', 'juillet', 'contenu', 'assiet', 'bon', 'qualit', 'bon', 'accueil', 'servic', 'déplor', 'long', 'froid', 'dist', 'press', 'apérit', 'pein', 'entam'], ['mauv', 'choix', 'aller', 'découvr', 'déjeun', 'edern', 'restaur', 'remplac', 'petit', 'anné', 'excellent', 'citrus', 'gill', 'elizabeth', 'epi', 'cadr', 'agréabl', 'servic', 'approxim', 'except', 'jeun', 'femm', 'attention', 'mauvais'], ['déçus', 'établ', 'abus', 'fort', 'notoriet', 'sandwich', 'moyen', 'ingrédient', 'qualit', 'médiocr', 'assaison'], ['dîn', 'rapid', 'bel', 'qualit', 'meilleur', 'fish', 'and', 'chip', 'paris', 'poisson', 'excellent', 'fritur', 'aérien', 'salad', 'quino', 'top', 'bon', 'choix', 'vin', 'menetou', 'salon', 'parf', 'crem', 'citron', 'coul'], ['voul', 'confirm', 'réserv', 'fait', 'semain', 'auparav', 'inform', 'nom', 'figur', 'registr', 'lieu', 'trouv', 'arrang', 'désagré', 'recevoir', 'mauvais', 'surpris'], ['aller', 'air', 'charm', 'extérieur', 'malheur', 'plat', 'goût', 'poisson', 'sandr', 'ét', 'risotto', 'vrai', 'saveur', 'plais', 'mang', 'plat', 'recommand'], ['produit', 'frais', 'qualit', 'viand', 'goût', 'cuisson', 'respect', 'sauc', 'fait', 'maison', 'niveau', 'prix', 'franch', 'don', 'situat', 'géograph', 'servic', 'qualit', 'jeun', 'souri', 'cadr', 'frais', 'grand'], ['fair', 'tabl', 'étoil', 'paris', 'déçu', 'choix', 'menu', 'temp', 'découvert', 'plais', 'étap', 'cuisin', 'bas', 'classiqu', 'touch', 'modern', 'faut', 'plat'], ['cadr', 'symp', 'attend', 'menu', 'sympat', 'faim', 'allez', 'entré', 'appele', 'oeuvr', 'minuscul', 'concept', 'top', 'poisson', 'leg', 'cuit', 'égum', 'rondel', 'battent'], ['venus', 'amispour', 'pass', 'bon', 'moment', 'toutain', 'restaur', 'ouvr', 'arriv', 'minut', 'tôt', 'coupl', 'japon', 'déjà', 'fais', 'froid', 'degrésplus', 'vent', 'glacial', '…', 'personnel'], ['soir', 'pierr', 'gagnair', 'inoubli', 'déjà', 'écrit', 'excellent', 'grand', 'tabl', 'rajout', 'parf', 'accord', 'met', 'vin', 'menu', 'dégust', 'dosag', 'impecc', 'professionnal', 'cordial'], ['din', 'tant', 'jeann', 'match', 'rugby', 'france-angleterr', 'accompagn', 'anglais', 'épat', 'ambianc', 'qualit', 'nourritur', 'servic', 'pris', 'côt', 'boeuf'], ['rep', 'sensationnel', 'saveur', 'extraordinair', 'décor', 'mêl', 'art-déco', 'intim', 'chanc', '’avoir', 'chef', 'visit', '’établ', 'tabl', 'récept', 'sous-sol', 'cav', 'vin', 'cav', 'matur'], ['ambianc', 'chaleur', 'bon', 'cuisin', 'français', 'tarif', 'abord', 'nouvel', 'patron', 'ador'], ['restaur', 'excellent', 'amis', 'recommand', 'déçu', 'viand', 'délici', 'frit', 'parfait', 'plat', 'jol', 'présent', 'personnel', 'agréabl', 'bienveil', 'nico', 'douceur', 'jeann', 'humour', 'gérard', 'pass', 'bon'], ['cadr', 'agréabl', 'lumin', 'don', 'envi', 'rest', 'ensuit', 'nourritur', 'bon', 'plat', 'géner', 'présent', 'saveur', 'présent', 'fin', 'volonti', 'plat', 'accueil', 'ger'], ['fois', 'amis', 'caus', 'sandwich', 'énorm', 'form', 'crêp', 'sarrasin', 'énorm', 'produit', 'excellent', 'légum', 'fromag', 'viand', 'affair', 'familial', 'écout', 'conseil', 'sandwich', 'meilleur', 'ador'], ['jol', 'pet', 'restaur', 'burger', 'situ', 'placet', 'ru', 'lombard', 'intérieur', 'clair', 'cosy', 'tabl', 'serr', 'accueil', 'convivial', 'servic', 'souri', 'efficac', 'rapid', 'bon', 'choix', 'burger', 'tout-fait', 'possibil', 'amus', 'concevoir'], ['venon', 'ici', 'fois', 'semain', 'an', 'client', 'déjeun', 'réussit', 'gerard', 'accueil', 'équip', 'chaleur', 'gentilless', 'servic', 'impecc', 'cuisin', 'fin', 'raffin', 'cadr', 'symp', 'conseil'], ['pain', 'brioch', 'cuit', 'plac', 'fois', 'jour', 'bon', 'viand', 'cuit', 'burger', 'garn', 'bon', 'frit', 'demand', 'typ', 'restaur', 'petit', 'sall', 'souhait', 'asseoir', 'condit'], ['accueil', 'servic', 'désagré', 'prétenti', 'cuisin', 'surestim'], ['arriv', 'attend', 'hôtel', 'restaur', 'visit', 'paris', 'accueil', 'nourritur', 'sup', 'faut', 'essai', 'hôtel', 'allez', 'visit', 'paris'], ['coutumi', 'lieu', 'qualit', 'cadr', 'prestig', 'anné', 'écrit', 'avis', 'grad', 'opportun', 'janvi', 'fair', 'découvr', 'mer', 'arrivon', 'tard'], ['décept', 'aut', 'remettr', 'jam', 'pied', 'not', 'sal', 'menu', 'produit', 'exceptionnel', 'entré', 'petit', 'morceau', 'rouget', 'goût', 'plat', 'principal'], ['’est', 'brasser', 'bristol', 'dir', 'gastro', 'évident', 'plat', 'valid', 'chef', '*', 'michelin', '’est', 'bon', 'rapport', 'qualit', 'prix', '’est', 'not'], ['regret', 'venu', 'goût', 'merveil', 'cuisin', 'saveur', 'raffin', 'sup', 'endroit', 'accueil', 'chaleur', 'recommand', 'viv', 'endroit', 'regret', 'bientôt'], ['chois', 'menu', 'cart', 'blanch', 'servic', 'extrêm', 'déçus', 'attent', 'probabl', 'fort', 'déjà', 'portion', 'congru', 'correspondent', 'menu', 'servic', 'sert'], ['chefpropriétair', 'ment', 'déliber', 'fiabl', 'limit', 'vol', 'prétext', 'problem', 'comptabl', 'justifi', 'lieu', 'evit', 'éthiqu'], ['cuisin', 'mediocr', 'servic', 'impol', 'pris', 'saumon', 'snack', 'entré', 'gout', 'dir', 'sauc', 'fruit', 'passion', 'sort', 'pot', 'mauvais', 'confitur', 'mirabel', 'raviol', 'homard', 'pris'], ['bon', 'moment', 'frog', 'parfait', 'serv', 'adam', '’est', 'occup', 'comptoir', 'recommand'], ['venu', 'client', 'tour', 'argent', 'tabl', 'respect', 'partout', 'malheur', 'mauvais', 'expérient', 'person', 'tomb', 'malad', 'fair', 'appel', 'médecin', 'venu', 'hôtel'], ['crêp', 'fad', 'goût', 'sech', 'choix', 'crêper', 'crêp', 'choix', 'seul', 'point', 'posit', 'prix'], ['venus', 'samed', 'mid', 'magiqu', 'revenus', 'mercred', 'cauchemar', 'temp', 'attent', 'insupport', 'plat', 'serveur', 'débord', 'chef', 'rang', 'repos', 'bref', 'moment', 'stress', 'prestat', 'franch', 'quelconqu'], ['bon', 'voul', 'essai', 'indien', 'not', 'tripadvisor', 'demand', 'person', 'not', '*', 'déjà', 'mang', 'réel', 'indien', '’accueil', 'cahot', 'attent', 'réserv', 'bar', 'encombr', 'salon', '’attent', 'ras', 'sol', 'cocktail', '’accueil', 'fad', 'mauv'], ['commenc', 'remarqu', 'qu’il', 'vendent', 'caviar', 'côt', 'commercial', 'présent', 'typ', 'resto', '’est', 'qu’on', 'vend', 'qqch', 'personnel', '’ai', 'aim', 'petit', 'touch', 'asiat', '’est', 'question'], ['dommag', 'restaur', 'étoil', 'décev', 'fois', 'entré', 'présent', 'tabl', 'occup', 'faut', 'réclam', 'cart', 'daign', 'apport', 'servic', 'lent', 'obséqui', 'prix', 'exorbit'], ['jour', 'command', 'ruisseau', 'comparaison', 'burg', 'mauv', 'steak', 'compact', 'saveur', 'pass', 'chemin', 'mieux'], ['habit', 'quarti', 'suit', 'conseil', 'blé', 'sucr', 'excellent', 'patisser', 'vienoiser', 'visit', 'fois', 'deçu', 'achat', 'galet', 'rois', 'bon', 'pat'], ['tristess', 'mr', 'talentu', 'accept', 'servic', 'brasser', 'anné', 'plat', 'exceptionnel', 'saveur', 'présent', 'délic', 'cadr', 'vieillot', 'servic', 'pathet', 'fac', 'tabl', 'respons'], ['servic', 'déplor', 'serveur', 'fair', 'petit', 'remarqu', 'laiss', 'chois', '´install', 'sour', 'visibl', 'qu`aux', 'copin', 'coin', 'patronserveur', 'press', 'niveau', 'bouff', 'rapport'], ['ambianc', 'agréabl', 'décor', 'servic', 'excellent', 'nourritur', 'niveau', 'form', 'pharmaceut', 'gastro', 'bistros', 'prix', 'rep', 'mieux', 'résident', 'pierr', 'chant', 'hai', 'kai', 'septim'], ['allé', 'dîn', 'restaur', 'fêt', '’anniversair', 'fianc', 'excellent', 'restaur', 'servic', 'impecc', 'entré', 'plat', 'merveil', 'copieux', '’avon', 'prendr', 'dessert', 'faim', 'sour', '’agneau', 'poulp'], ['pet', 'resto', 'italien', 'sympath', 'plat', 'raffin', 'pât', 'fait', 'maison', 'patron', 'serveur', 'accueil', 'resto', 'recommand', 'faut', 'réserv'], ['nom', 'gagnair', 'rêv', 'an', 'mar', 'cass', 'tirelir', 'offert', 'déjeun', 'degust', 'incroi', 'maisond', 'seul', 'étoil', 'parisien', 'offrir', 'formul'], ['restaur', 'chaleur', 'niveau', 'lieu', 'accueil', 'servic', 'impecc', 'mang', 'délici', 'bref', 'continu', 'ca', 'recommand', 'fort'], ['accueil', 'chaleur', 'cuisin', 'plein', 'gout', 'saj', 'delici', 'copieux', 'nécessair', 'prendr', 'menu'], ['pizz', 'préfer', 'ferm', 'traval', 'décid', '’essai', 'pizzeri', 'arrivederc', 'not', 'sûr', 'tripadvisor', '’am', 'expérient', 'goût', 'pizz', 'quelconqu', 'attend', 'voyag', 'culinair', 'découvert', '’un', 'nouvel', 'pépit'], ['excellent', 'adress', 'plais', 'reven', 'équip', 'servic', 'cuisin', 'merveil', 'moment', 'plat', 'découvert', 'saveur', 'plais', 'yeux', 'regret', 'suffis'], ['restaur', 'débord', 'arriv', 'entré', 'apérit', 'cacahuet', 'patient', 'hésit', 'serv', 'vin', 'gogo', 'servic', 'apprent', 'débord', 'approxim', 'renvers', 'intégral'], ['sup', 'accueil', 'servic', 'petit', 'soin', 'rep', 'top', 'excellent', 'soir', 'reven', 'famill', 'anniversair'], ['sup', 'restaur', 'servic', 'top', 'cuisin', 'excellent', 'moment', 'agréabl', 'chef', 'équip'], ['cadr', 'sympath', 'servic', 'prend', 'sérieux', 'peut-êtr', 'justifi', 'addit', 'sal', 'cuisin', 'bon', 'minimal', 'dommag', 'retourn', 'accord', 'class', 'surf', 'restaur'], ['semoul', 'fineparfait', 'point', 'excellent', 'repasc', 'sauc', 'accompagn', 'parfuméedenseparfaitemergu', 'épicéesm', 'excellentespar', 'contrevous', 'pouv', 'évit', 'thé', 'menthetied', 'hauteur', 'couscous', 'sauceet', 'côt', 'prixc', 'vrai'], ['fantast', 'cuisin', 'atmospher', 'servic', 'menu', 'essai', 'possibil', 'final', 'arriv', 'décid', 'meilleur', 'recommand', 'vrai', 'hôtel', 'reviendron', 'coup', 'sûr'], ['decor', 'agreeabl', 'debut', 'siecl', 'plat', 'bon', 'euros', 'plat', 'ca', 'vaut', 'prix', 'restaur', 'brasser', 'pieg', 'tourist', 'cas', 'americain', 'weekend'], ['perfect', 'assiet', 'menu', 'allianc', 'final', 'apérit', 'entré', 'plat', 'pré-dessert', 'dessert', 'miniardis', 'accord', 'mets-vin', 'cadr', 'sobr', 'éleg', 'servic', 'parfait', 'attention', 'expérient', '-'], ['endroit', 'magiqu', 'cuisin', 'exceptionnel', 'personnel', 'écout', 'grand', 'professionnal', 'perfect'], ['din', 'famill', 'restaur', 'soir', 'rep', 'plat', 'propos', 'irréproch', 'facil', 'niveau', 'étoil', 'revanch', 'servic', 'froid', 'mécan', 'orient', 'cash', 'machin', 'soir'], ['accueil', 'chaleur', 'serveux', 'agréabl', 'sympath', 'cuisin', 'simpl', 'excellent', 'produit', 'frais', 'entré', 'dessert', 'tart', 'pomm', 'succulent', 'femm', 'régal', 'mang'], ['foisl', 'acceuil', 'chaleureuxl', 'servic', 'irréproch', 'découvert', 'découvert', 'met', 'subtil', 'rep', 'orient', 'poisson', 'vin', 'subtil', 'chois', 'dir', 'variet', 'petit', 'pain'], ['terribl', 'décept', 'form', 'arriv', 'maitr', 'hôtel', 'regard', 'livr', 'lev', 'yeux', 'cieltourn', 'têt', 'vestiair', 'annonc', 'dédaign', 'étag', 'regard', 'refus', 'catégor', 'lâch', 'mettez-vous'], ['euros', 'pay', 'loi', 'faim', 'plat', 'forc', 'bon', 'viand', 'sech', 'poisson', 'cuit', 'servic', 'déconseil', 'fort', 'peut-êtr', 'hôtel', 'restaur', 'fuir'], ['cart', 'menu', 'st', 'valentin', 'servic', 'coupl', 'vin', 'attendon', 'dîn', 'magiqu', 'restaur', 'étoil', 'déceptionà', 'part', 'conseil', 'vinl', 'dessert', '’un', 'entré', 'plat', 'serv', 'tied'], ['restaur', 'étoil', 'guid', 'michelin', 'fair', 'fol', 'dois', 'décept', 'réel', 'éton', 'établ', 'standing', 'recour', 'sit', 'lafourchet', 'capt', 'clientel'], ['déçu', 'attendus', 'avent', 'command', 'viand', 'cuit', 'command', 'saign', 'vrai', 'bon'], ['comprend', 'buzz', 'autour', 'restaur', 'cuisin', '’air', 'temp', 'original', 'trouv', 'facil', 'mieux', 'poisson', 'sec', 'cuit', 'cuisson', 'imprécis', 'légum', 'goût', 'net', 'servic', 'indifférent', 'cadr', 'pseudo', 'chic'], ['réserv', 'obligatoir', 'pet', 'restaur', 'cach', 'bastill', 'tabl', 'piec', 'intim', 'déco', 'actuel', 'agréabl', 'not', 'cuivr', 'servic', 'impec', 'bel', 'découvert', 'assiet', 'faut', 'découvr', 'plat', 'chef', 'mélangent'], ['plais', 'lund', 'mid', 'amis', 'sup', 'pizzeri', 'concoct', 'demand', 'fromag', 'blanch', 'bon', 'ischi', 'pes', 'mot', 'lis', 'déçus', 'trouvent', 'produit'], ['bon', 'restaur', 'rep', 'excellent', 'servic', 'top', 'ajout', 'reviendron', 'dout'], ['bon', 'rep', 'bon', 'rapport', 'qualit', 'prix', 'personnel', 'symp', 'retourn', 'rep', 'euros', 'plat', 'dessert'], ['expérient', 'pré', 'catelan', 'rest', 'grav', 'mémoir', 'qualit', 'servic', 'sall', 'irréproch', 'bon', 'conseil', 'humour', 'vrai', 'moment', 'simpl', 'lieu', 'magiqu', 'idé', 'déclin', 'façon', 'plat', 'cart'], ['sup', 'servic', 'cuisin', 'rafin', 'invent', 'allianc', 'subiil', 'goût', 'beaut', 'visuel', 'variet', 'textur', 'frais', 'rich', 'saveur', 'menu', 'lou', 'temp', 'valeur', 'sûr'], ['cuisin', 'fin', 'français', 'ris', 'veau', 'excellent', 'petit', 'caill', 'venus', 'déjeun', 'ven', 'press', 'faut', 'prendr', 'temp', 'dégust', 'décor', 'soign'], ['accueil', 'déplor', 'réserv', 'pris', 'compt', 'annul', 'expres', 'pris', 'concierger', 'infinit', 'final', 'tabl', '’écart', 'attribu', 'min', 'attent', 'apport', 'menus', 'adress', 'recommand'], ['contrair', 'ensembl', 'commentair', 'déçu', 'restaur', 'recherch', 'lafourchet', 'difficult', 'reserv', 'restaur', 'choix', 'port', 'appui', 'commentair', 'sembl', 'prometteur', 'reserv'], ['derni', 'venu', 'tour', 'argent', 'cruel', 'décept', 'restaur', 'continu', 'lent', 'longu', 'descent', 'enfer', 'ancien', 'étoil', 'rétrograd', 'étoil', 'étoil', 'retr', 'claud', 'térail', 'talent'], ['cadr', 'franch', 'tour', 'effeil', 'intérieur', 'soign', 'faut', 'gout', 'fauss', 'boug', 'personnel', 'attention', 'expliqu', 'chef', 'vraissembl', 'absent', 'jour'], ['adress', 'référent', 'décid', 'chang', 'officiel', 'pieg', 'tourist', 'confirm', 'serveur', 'tabl', 'soir', 'résum', 'prix', 'prohibit', 'coup', 'champagn', 'gam', 'photo', 'appui'], ['endroit', 'racolleur', 'blind', 'mond', 'mard', 'soir', 'faut', 'fair', 'queu', 'rentr', 'croir', 'boît', 'comprend', 'vit', 'faut', 'train', 'tabl', 'plac', 'malchanc', 'mang'], ['gard', 'tabl', 'retard', 'burger', 'sup', 'bon', 'copieux', 'servic', 'top', 'redir', 'tabl', 'vient', 'argenteuil'], ['brunch', 'amour', 'restaur', 'gabriel', 'chic', 'hôtel', 'réserv', 'bon', 'personnel', 'petit', 'soin', '’un', 'parfait', 'discret', 'viennoiser', 'excellent', 'léger', '’œuf'], ['nich', 'petit', 'ru', 'côt', 'plac', 'bastill', 'restaur', 'contient', 'tablesperson', 'max', 'réserv', 'tôt', 'des', 'aller', 'personnel', 'compétent', 'discret', 'plat', 'présent', 'assiet'], ['décept', 'approxim', 'cuisin', 'servic', 'séver', 'jug', 'menu', 'euros', 'droit', 'attendr', 'minimum', 'chef', 'permanent', 'sall', 'comport'], ['oubli', 'infect', 'pât', 'pizz', 'carbonis', 'garnitur', 'insipid', 'voir', 'limit', 'mangeabl', 'déco', 'criard', '-tu-vu', 'servic', 'limit', 'pein', 'bonjour', 'revoir', 'personnel', 'incend', 'client'], ['annul', 'part', 'resto', 'rep', 'anniversair', 'import', 'caus', 'frigo', 'défaill', 'coup', 'fil', 'professionnel', 'resto', 'plaint', 'devoir', 'jet', 'nourritur', 'fout', 'client', 'embarr', 'trouv'], ['sup', 'soir', 'plat', 'plein', 'goût', 'cadr', 'symp', 'personnel', 'bon', 'conseil', 'vin', 'attent', 'réserv'], ['excellent', 'restaur', 'plat', 'haut', 'qualit', 'excellent', 'vin', 'prix', 'correctesplus'], ['accueil', 'servic', 'déplor', 'cuisin', 'surpris', 'prix', 'élev', 'justifi', 'réserv', 'person', 'position', 'fond', 'sall', 'arrier', 'charm', 'fac', 'port', 'servic', 'cuisin', 'quantit', 'serv', 'petit'], ['endroit', 'propos', 'formul', 'euros', 'compren', 'burgerfritesboisson', 'attir', 'déçu', 'burg', 'bon', 'peut-êtr', 'sec', 'ingrédient', 'frais', 'frit', 'sup', 'bon', 'servic'], ['privatis', 'restaur', 'cezembr', 'déjeun', 'mariag', 'cuisin', 'délici', 'plat', 'parfait', 'exécut', 'vrai', 'plais', 'yeux', 'vrai', 'régal', 'papill', 'servic', 'égal', 'parf', 'ambianc', 'convivial'], ['accueil', 'servic', 'top', 'serveur', 'entré', 'present', 'special', 'restaur', 'burg', 'tartar', 'specif', 'plat', 'burger', 'bon', 'frit', 'maison', 'argent', 'qualit', 'prix', 'paris', 'inégal'], ['pris', 'escargot', 'pralin', 'qualit', 'rdv', 'sec', 'pad', 'frais', 'sûr', 'veil'], ['dîn', 'tabl', 'étoil', 'cadr', 'fois', 'chaleur', 'modern', 'feutr', 'pris', 'menu', 'découvert', 'plat', 'option', 'truff', 'vin', 'assort', 'budget', 'euros', 'fromag', 'pris', 'option'], ['réserv', 'dep', 'restaur', 'candebord', 'regret', 'menu', 'gastronom', 'vrai', 'excellent', 'raffin', 'copieux', 'sommeli', 'épat', 'vin', 'origin', 'improbablevenus', 'sais', 'franc', 'bref', 'ador'], ['menu', 'saint', 'valentin', 'faut', 'restaur', 'rodag', 'attent', 'vit', 'oubli', 'plat', 'raffin', 'personnel', 'présent', 'deco', 'travaill', 'regret', 'gourmand', 'disparit'], ['extraordinair', 'explos', 'saveur', 'servic', 'attention', 'jol', 'cadr', 'demand', 'excellent', 'dîn', 'reviendron', 'goût', 'dessert', 'abond', 'mis', 'bouch', 'men', 'écart', 'fois', 'haut', 'recommand'], ['cadr', 'don', 'envi', 'rentr', 'lieu', 'plat', 'médiocr', 'vin', 'bon', 'servic', 'limit', 'ca', 'don', 'envi', 'retourn', 'ca', 'ressembl', 'attrap', 'tourist'], ['découvert', 'établ', 'récent', 'rénov', 'deco', 'sobr', 'agréabl', 'met', 'servic', 'impecc', 'recommand'], ['faut', 'début', 'fin', 'point', 'orgu', 'visit', 'cav', 'accueil', 'professionnel', 'menu', 'découvert', 'surpris', 'savour', 'abond', 'délicatess', 'permettent', 'sort', 'tabl', 'rav', 'rassasi', 'plein'], ['sall', 'confin', 'tabl', 'minuscul', 'entré', 'plat', 'principal', 'pein', 'mangeabl', 'prix', 'élev', 'étoil', 'dessert'], ['cart', 'entré', 'plat', 'dessert', 'plat', 'saison', 'découvert', 'resto', 'plat', 'copieux', 'délici', 'pouv', 'aller', 'yeux', 'ferm', 'déçus'], ['dîn', 'vendred', 'mai', 'tabl', 'amis', 'faubourg', 'critiqu', 'qualit', 'plat', 'effect', 'excellent', 'dir', 'aut', 'servicenous', '’étion', 'assis', 'tabl'], ['petit', 'crêper', 'ambianc', 'sympath', 'accueil', 'parf', 'galet', 'bon', 'original'], ['bon', 'moment', 'su', 'combl', 'attent', 'professionnal', 'maîtr', '’hôtel', 'ador', 'prêt', 'satisfair', 'demand', 'pourt', '’avion', 'moral', 'su', 'redon', 'sourir', 'gentilless'], ['foutag', 'gueul', 'meilleur', 'bo', 'bun', 'parisaucun', 'saveur', 'produit', 'frais', 'confianc', 'avis', 'tripadvisor', 'fois', 'çideçept', 'arret', 'superl', 'meilleur', 'bo', 'bun', 'paris'], ['coupl', 'japonais', 'con', 'nourritur', 'pay', 'mod', 'maison', 'restaur', 'justif', 'obligatoir', 'compren', 'appréhens', 'pris', 'sush'], ['bel', 'expérient', 'culinair', 'parf', 'entré', 'avce', 'décor', 'lieu', 'gout', 'confort', 'design', 'jol', 'mariag', 'couleur', 'jaun', 'gris', 'effet', 'miroir', 'agrand', 'illuminent'], ['grand', 'chos', 'conseil', 'mond', 'fair', 'expérient', 'fois', 'arrêt', 'plat', 'exceptionnel', 'faut', 'profit', 'beaut', 'lieux', 'choix', 'couvert', 'servic', 'exceptionnel'], ['allant', 'famill', 'conseil', 'tripadvisor', 'pens', 'admir', 'soin', 'apport', 'gestion', 'client', 'qualitéquant', 'plat', 'ambianc', 'excellent', 'détest', 'coriandr'], ['endroit', 'pai', 'min', 'excellent', 'adress', 'nourritur', 'excellent', 'bon', 'march', 'servic', 'impec', 'équip', 'convivial', 'cuisin', 'maison', 'produit', 'frais', 'servic', 'enc', 'ontinu', 'allé', 'jeud'], ['mang', 'cart', 'famill', 'satisf', 'entré', 'homard', 'cannellon', 'foi', 'gras', 'plat', 'tourt', 'caill', 'fois', 'gras', 'frais', 'carr', 'agneau'], ['soir', 'anniversair', 'famill', 'juillet', 'contenu', 'assiet', 'bon', 'qualit', 'bon', 'accueil', 'servic', 'déplor', 'long', 'froid', 'dist', 'press', 'apérit', 'pein', 'entam'], ['cuisin', 'facil', 'chos', 'riz', 'sauc', 'met', 'goût'], ['plat', 'jol', 'servic', 'proposit', 'altern', 'aut', 'qualit', 'plat', 'impos', 'menu', 'rapid', 'typ', 'restaur', 'dégust', 'plais', 'attend', 'styl', 'compt'], ['restaur', 'fidel', 'réput', 'parf', 'serveur', 'aimabl', 'attent', 'cuisin', 'bon', 'cadr', 'problem', 'fallu', 'chois', 'soup', 'artichaut', 'pât'], ['parf', 'dir', 'pris', 'temp', 'appréci', 'exquis', 'plat', 'restaur', 'extérieur', 'attend', 'dégust', 'cuisin', 'raffin', 'conseil', 'ami', 'japon', 'merciplus'], ['adress', 'favorit', 'paris', 'dégust', 'falafel', 'qualit', 'égal', 'oubli', 'attent', 'plac', 'tabl', 'restaur', 'particip', 'atmospher', 'symp', 'quarti'], ['parisien', 'fréquent', 'brasser', 'gard', 'bon', 'souven', 'dîn', 'an', 'naturel', 'recommand', 'endroit', 'amis', 'étranger', 'décept', 'accueil', 'chaleur', 'servic', 'lament'], ['gros', 'décalag', 'prix', 'servic', 'problem', 'synchronis', 'plat-vin', 'menu', 'référent', 'temp', '’attent', 'assiet', 'débarrass', 'courtois', 'cuisin', 'revanch', 'bon', 'qualit', 'choix', 'vin', 'équilibr'], ['arriv', 'petit', 'bouff', 'tranquill', 'repart', 'satisfait', 'accueil', 'chaleur', 'servic', 'rapid', 'burg', 'délici', 'prix', 'raison', 'demand'], ['simpl', 'excellent', 'plat', 'invent', 'savour', 'excellent', 'cart', 'vin', 'fauss', 'not', 'restaur', 'étoil', 'ais', 'sall', 'jardin', 'magnif'], ['chef', 'jean', 'edern', 'accessibl', 'professionnel', 'dommag', 'talent', 'gâch', 'servic', 'catastroph', 'manag', 'sall', 'total', 'incompétent', 'ridicul', 'évit', 'samed', 'soir', '’impress', '’êtr', 'mauv', 'endroit', 'courchevel', 'saint-trop'], ['suit', 'petit', 'fauss', 'not', 'relev', 'précédent', 'déjeun', 'mois', 'an', 'mariag', 'équip', 'bristol', 'incit', 'reven', 'rest', 'fauss', 'not', 'minim', 'soit-el'], ['dîner', 'fameux', 'restaur', 'étoil', 'gabriel', 'paris', 'cadr', 'symp', 'servic', 'personnel', 'agréabl', 'cuisin', 'niveau', 'acidul', 'influenc', 'japonais', 'prononc', 'menu', 'voyag', 'priv', 'impos'], ['deco', 'symp', '’est', 'cocktail', 'infect', 'trouv', 'imbuv', '’exager', 'dommag'], ['brasser', 'superb', 'commenc', 'accueil', 'moyen', 'heur', 'servic', 'rou', 'libr', 'attend', 'cuisin', 'haut', 'vol', 'brasser', 'poisson', 'cuit', 'demand', 'sec', 'insipid', 'accompagn', 'basiqu'], ['nom', 'restaur', 'indiqu', 'adorent', 'film', 'déco', 'musiqu', 'nom', 'crêp', 'suivent', 'them', 'soir', 'symp', 'ambianc', 'restaur', 'vrai', 'kozy', 'bruit'], ['ador', 'din', 'pet', 'restaur', 'mexican', 'apprec', 'beacoup', 'personnel', 'symp', 'patron', 'gentill', 'plat', 'delici', 'margarit', 'bon', 'retrouv', 'part', 'mexiqu', 'ici', 'paris', 'recommand'], ['cuisin', 'déplor', 'servic', 'début', 'rapport', 'qualitéprix', 'médiocr', 'faim', 'kgb', 'expérient', 'jam', 'renouvel'], ['décept', 'total', 'accueil', 'départ', 'servic', 'déplor', 'mang', 'déjà', 'mis', 'bouch', 'mis', 'bouch', 'apérit', 'choix', 'rep', 'court', 'paill', 'brasser', 'franchis'], ['grand', 'chos', 'sauv', 'resto', '’attent', 'longu', 'servic', 'passion', 'décevr', 'amateur', 'steakhous', 'viand', 'moyen', 'côt', 'boeuf', 'cuit', 'découp', 'grossi', 'morceau', '’epaisseur', 'frit', 'huileux'], ['venus', 'ici', 'aller', 'sacré-coeur', 'achet', 'croiss', 'chaud', 'sort', 'four', 'chocolat', 'amandi', 'savour', 'prix', 'raison', 'recommand', 'viv', 'coin', 'salon', 'appréci'], ['restaur', 'malheur', 'qualit', 'baiss', 'plat', 'savour', 'gratin', 'patat', 'douc', 'quantit', 'fois', 'réduit', 'inutil', 'assiet', 'carton'], ['bon', 'moment', 'équip', 'sympath', 'plat', 'exceptionnel', 'bon', 'copieux', 'prix', 'raison', 'musiqu', 'agréabl', 'actualis', 'nouvel', 'chanteux', 'pop', 'actuel'], ['prix', 'mauvais', 'expérient', 'sashim', 'typ', 'thon', 'retourn', 'salad', 'gamb', '“en', 'plastique”', 'noir', 'intérieur', 'command', 'yakitor', 'poulet', '’', 'serv'], ['accueil', 'chaleur', 'sympath', 'steak', 'tartar', 'revis', 'délici', 'pens', 'réserv', 'recommand'], ['bon', 'commentair', 'récol', 'sandwicher', 'mérit', 'vrai', 'caricatur', 'spot', 'street-food', 'hyp', 'quarti', 'besoin', 'bon', 'encens', 'faut', 'air', 'cool', 'propos', 'produit', 'bios'], ['endroit', 'simpl', 'incroi', 'chef', 'fantast', 'fois', 'venon', 'ici', 'regretton', 'pouvoir', 'ven', 'oui', 'qualit', 'original', 'mieux', 'endroit', 'abord', 'similair', 'paris'], ['menu', 'entree-plat-dessert', 'bon', 'tabl', 'met', 'raffin', 'bon', 'servic', 'bemol', 'pain', 'petit', 'quantit', 'aim', 'd', 'assiet', 'retourn'], ['cuisin', 'ambianc', 'décev', 'rigueur', 'servic', 'cuisin', 'presqu', 'banal', 'typ', 'restaur', 'pourt', 'étoil', 'except', 'plat', 'menu', 'découvert', 'plupart', 'tabl', 'proch'], ['pierr', 'gagnair', 'sublim', 'restaur', 'mérit', 'étoil', 'mang', 'servic', 'not', 'conform', 'attendr', 'établ', 'fair', 'fois', 'allais'], ['test', 'georg', 'semain', 'apprec', 'ensembl', 'plat', 'dessert', 'extrêm', 'déçus', 'soir', 'pourt', 'saint', 'jacqu', 'parfait', 'truff', 'blanch', 'homard', 'exécut', 'insatisfact'], ['chef', 'jean', 'edern', 'accessibl', 'professionnel', 'dommag', 'talent', 'gâch', 'servic', 'catastroph', 'manag', 'sall', 'total', 'incompétent', 'ridicul', 'évit', 'samed', 'soir', '’impress', '’êtr', 'mauv', 'endroit', 'courchevel', 'saint-trop'], ['venus', 'apres-mid', 'plui', 'batt', 'prendr', 'chocolat', 'chaud', 'annonc', 'entré', 'restaur', 'accueil', 'plac', 'restaur', 'vid', 'partion', 'indign', 'propos', 'tabl', 'port'], ['récent', 'découvert', 'bon', 'adress', 'parisien', 'compt', 'emmen', 'amis', 'famill', 'prochain', 'plat', 'excellent', 'cuisin', 'produit', 'frais', 'produit', 'saveur', 'dign', 'grand', 'restaur', 'parisien'], ['dîn', 'ami', 'bon', 'accueil', 'pizz', 'test', 'pizz', 'nutel', 'partag', 'gourmandis', 'vin', 'roug', 'excellent', 'recommand', 'joëll'], ['habitu', 'dîner', 'professionnel', 'exig', 'dir', 'parf'], ['cuisin', 'cadr', 'agréabl', 'servic', 'symp', 'efficac', 'tré', 'bon', 'moment', 'abord', 'déjeun', 'tré', 'bon', 'équip', 'autour', 'chef', 'inspir'], ['sent', 'légèret', 'subtil', 'ressort', 'cuisin', 'servic', 'impecc', 'recommandon'], ['roof', 'top', 'top', 'cœur', 'paris', 'chic', 'rapport', 'qualit', 'prix', 'exceptionnel', 'accueil', 'équip', 'jeun', '’un', 'professionnal', 'charm', 'discret', 'efficac', '’un', 'gentilless', 'extrêm', 'paris'], ['épous', 'venon', 'célebr', 'anniversair', 'mariag', 'din', 'plein', 'surpris', 'triomph', 'goût', 'méditerran', 'pet', 'plat', 'surpris', 'chef', 'rest', 'list', 'émot', 'culinair', 'bravoplus'], ['boulanger', 'qualit', 'croiss', 'pain', 'chocolat', 'viennoiser', 'procurent', 'vérit', 'plais', 'enfantin'], ['vrai', 'boulanger', 'bon', 'tradit', 'délici', 'viennoiser', 'savour', 'pâtisser', 'madelein', 'tomb', 'fois', 'accueil', 'fauss', 'aimabl', 'fauss', 'commerc', 'frapp', 'serveux', 'prennent', 'grand', 'air', 'dédaign', 'imit', 'probabl', 'patron', 'air'], ['mn', 'attent', 'entendr', 'retient', 'précis', 'sall', 'vid', 'paris', 'bon', 'pizzeri', 'adress', 'fuir', 'urgenc'], ['bon', 'petit', 'bun', 'pain', 'brioch', 'léger', 'sucr', 'typ', 'ban', 'bao', 'formul', 'choix', 'cak', 'gingembr', 'green', 'the', 'passent', 'crem', 'serv', 'rapid', 'lieu', 'cosy', 'allez', 'easy'], ['pet', 'resto', 'quarti', 'moyen', 'milli', 'paris', 'bon', 'accueil', 'servic', 'efficac', 'débord', 'assiet'], ['allé', 'amis', 'voyag', 'déjeun', 'lu', 'aboi', 'endroit', 'serv', 'bon', 'nourritur', 'allais', 'région', 'décid', 'essai', 'trouv', 'facil'], ['difficil', 'expérient', 'faut', 'vivr', 'rep', 'restaur', 'essai', 'relat', 'servic', 'class', 'décontract', 'chaleur', 'malheur', 'voir', 'chef', 'bon', 'excus'], ['restaur', 'étoil', 'vaut', 'détour', 'personnel', 'attention', 'envah', 'import', 'genr', 'établ', 'menu', 'chois', 'plat', 'coup', 'chapeau', 'tourteau', 'caviar', 'cigar', 'crem'], ['féru', 'buffet', 'volont', 'fourn', 'diversifi', 'produit', 'bon', 'goût', 'plac', 'proxim', 'gar', 'montparn', 'prix', 'bon', 'adress', 'voyageur'], ['’endroit', 'reflet', '’un', 'passion', 'traver', 'an', 'réun', 'pass', 'agréabl', 'moment', 'ambianc', 'calm', 'er', 'cadr', 'voluptu', '’accueil', 'servic', 'parfait', 'regl', 'irréproch', 'personnel', 'souri', '’un', 'maîtris'], ['servic', 'impecc', 'attent', 'port', 'détail', 'rep', 'vrai', 'délic', 'gastronom', 'personnel', 'vrai', 'gentil', 'meilleur', 'moment', 'séjour'], ['réserv', 'restaur', 'mid', 'histoir', 'déjeun', 'bel', 'endroit', 'paris', 'entretien', 'matin', 'cadr', 'agréabl', 'vrai', 'réserv', 'tabl', 'cot', 'bai', 'vitr', 'déco', 'sobr', 'modern'], ['pris', 'vegeburg', 'tomate-ol', 'moutard', 'option', 'pain', 'gluten', 'burger', 'délici', 'fritt', 'tied', 'moll', 'vrai', 'problem', 'heur', 'rep', 'commenc'], ['spécial', 'cambodgien', 'vietnamien', 'aliment', 'frais', 'assaison', 'parfait', 'bon', 'produit', 'fair', 'dej', 'amis', 'accueil', 'arrang', 'nouvel', 'cantin'], ['dîn', 'fois', 'virtus', 'bel', 'surpris', 'saveur', 'fois', 'fin', 'vari', 'surpren', 'début', 'jusqu’à', 'fin', '’huîtr', 'carpaccio', '’anan', 'crem', '’échalot', 'guis', 'mis', 'bouch', 'jusqu’au', '‘pré-dessert’', 'dessert', 'alli'], ['filet', 'sol', 'must', 'dessert', 'pomm', 'reinet', 'menu', 'jour', 'attract', 'vin', 'vrai', 'merveil', 'vin', 'maison', 'servic', 'bienveil', 'efficac', 'réjou', 'reven'], ['bel', 'établissementidéal', 'placécadr', 'élégantpersonnel', 'omniprésent', 'répond', 'moindr', 'sollicitationcuisin', 'raffinéetout', 'pass', 'bon', 'dîn'], ['dejeun', 'semain', 'simpl', 'exceptionnel', 'accueil', 'agréabl', 'servic', 'attention', 'guind', 'grâc', 'raffin', 'esthet', 'assiet', 'émerveil', 'garant', 'plat', 'cuisson', 'parfait', 'finess', 'associ', 'bref', 'exceptionnel', 'bon', 'chef'], ['pet', 'déçu', 'prestat', 'offert', 'vin', 'arriv', 'entré', 'eau', 'bœuf', 'kob', 'froid', 'dû', 'clou', 'spectacl', 'heureux', 'slim', 'rattrap', 'coup', 'repart'], ['grand', 'équip', 'jam', 'mang', 'saveur', 'découvert', 'long', 'rep', 'vin', 'surpren', 'merveil', 'rep'], ['vit', 'serv', '=', 'réchauff', 'fois', 'venion', 'fois', 'délici', 'mang', 'dign', 'réput', 'décept', 'dîn', 'cuiss'], ['nouill', 'fait', 'maison', 'mal', 'fait', 'maison', 'oui', 'prix', 'hyp', 'competit', 'entré', 'plutot', 'correct', 'fris', 'catastroph', 'conjoint', 'ami', 'mang', 'nouill'], ['concept', 'spécial', 'sav', 'pouss', 'trottoir', 'voi', 'publiqu', 'paraît', 'limit', 'dangeur', 'pris', 'ramen', 'sens', 'cabillaud', 'cherch'], ['sup', 'endroit', 'super', 'vin', 'prend', 'bouteil', 'pinot', 'noir', 'rillet', 'marin', 'proprios', 'sup', 'ador', 'part', 'bouteil', 'fin', 'offre', 'voisin', 'petit', 'sall', 'client', 'cool'], ['’est', 'endroit', 'class', 'meilleur', 'restoendroit', 'quarti', 'évident', 'tripadvisor', 'vent', 'avisplus'], ['lass', 'jam', 'endroit', 'exceptionnel', 'part', 'point', 'vu', 'excellent', 'fioritur'], ['excellentj', 'mang', 'restaur', 'an', 'prix', 'abord', 'gentilless', 'sûr', 'plat', 'norme👍🏼👍🏼👍🏼👍🏼👍🏼👍🏼👍🏼'], ['person', 'erreur', 'command', 'burger', 'mal', 'cuit', 'repartent', 'cuisin', 'reviennent', 'pain', 'détremp', 'frit', 'froid'], ['sall', 'tabouret', 'limit', 'ru', 'kebab', 'gras', 'pain', 'maison', 'bof', 'bof', 'grec', 'poivr'], ['ambianc', 'feutr', 'restaur', 'nombr', 'plac', 'limit', 'qualit', 'servic', 'irréproch', 'chef', 'serveur', 'affabl', 'asiat', 'rep', 'qualit', 'grand', 'finess', 'contenu', 'présent', 'allez', 'réserv'], ['politess', 'patron', 'con', 'oblig', 'répet', 'fois', 'command', 'oubl', 'chemin', 'clair', 'habitu', 'passag', 'chocolat', 'imbuv', 'fait', 'fondr', 'tablet', 'chocolat'], ['allé', 'déclin', 'réserv', 'réserv', 'demand', '°', 'cart', 'bancair', 'cas', 'viendr', 'choqu', 'expliqu', 'cas', 'no', 'show', 'débit', 'excus'], ['dev', 'aller', 'restaur', 'nourritur', 'incroi', 'meilleur', 'rep', 'jam', 'euro', 'app', 'plat', 'principal', 'dessert', 'servic', 'excellent', 'pet', 'restaur'], ['prix', 'exorbit', 'falafel', 'personnel', 'exped', 'command', 'froid', 'marqu', 'politess', 'légum', 'frais', 'fad', 'gross', 'décept', 'cens', 'meilleur', 'falafel', 'paris'], ['venus', 'group', 'visibl', '’', 'servic', 'effort', 'début', 'rep', '’', '’effort', 'présent', 'plat', 'mérit', 'étoil', 'caus', '’accueil', 'personnel', 'sall'], ['pris', 'assiet', 'végétarien', 'soup', 'entré', 'odeur', 'soup', 'ressembl', 'fort', 'moel', 'gras', 'viand', 'dégoût', 'goût', 'assiet', 'végétarien', 'exceptionnel', 'petit', 'portion'], ['accueil', 'plat', 'excellent', 'offre', 'dégust', 'prêt', 'vrai', 'découvert', 'nouvel', 'saveur'], ['franch', 'decept', 'don', 'elog', 'rep', 'interet', 'fouill', 'poisson', 'cuit', 'viand', 'tendr', 'sall', 'petit', 'gerent', 'servic'], ['médiocr', 'salad', 'algu', 'goût', 'fad', 'baign', 'vinaigr', 'poulp', 'tranch', 'poulp', 'natur', 'assaison', 'assiet', 'assiet', 'sush', 'poisson', 'tied', 'goût', 'bier', 'japonais'], ['restaur', 'top', 'top', 'accueil', 'chaleur', 'cuisin', 'créativ', 'délici', 'sup', 'moment', 'amour'], ['découvert', 'séminair', 'paris', 'restaur', 'iranien', 'rav', 'pal', 'saveur', 'moyen-orient', 'épic', 'piqu', 'entré', 'plat', 'dessert', 'propos', 'limit', 'buffet', 'saoul', 'cardamom', 'cannel', 'épic', 'patron', 'personnag', 'saur'], ['venus', 'tabl', '’', 'mang', 'plac', 'bout', 'tabl', 'demand', 'rajout', 'tabl', 'attendon', 'répons', 'qu’il'], ['sall', 'petit', 'manqu', 'léger', 'espac', 'cuisin', 'novatric', 'agréabl', 'surpren', 'portion', 'petit', 'pourt', 'sert', 'amus', 'bouch', 'rassasi'], ['idéal', 'pos', 'déjeun', 'rav', 'retrouv', 'collègu', 'arnaud', 'dégust', 'excellent', 'pizz', 'savour', 'burg'], ['euro', 'cot', 'bœuf', 'froid', 'saveur', 'servic', 'ultra', 'long', 'serveur', 'antipath', 'sommeli', 'sympath', 'restaur', 'évit'], ['bon', 'rapport', 'qualit', 'prix', 'sup', 'accueil', 'menu', 'mid', 'plat', 'qualit', 'gustat', 'épic', 'adress', 'recommand'], ['bon', 'rep', 'qualit', 'prix', 'excellent', 'burg', 'siecl', 'fritt', 'tomb', 'recommand', 'viv'], ['an', 'déjà', 'mauv', 'chang', 'serveur', 'désagré', 'droit', 'vendeur', 'gadget'], ['portion', 'géner', 'cuisin', 'parfait', 'servic', 'not', 'sal'], ['poisson', 'serv', 'tied', 'mal', 'cuit', 'vin', 'madéris', 'déneg', 'sommeli', 'servic', 'moyen', 'class', 'sall', 'heur', 'déjeuner-', 'comprend', 'mieux', 'invit', 'client', 'étranger', 'hont'], ['rêvion', 'aller', 'petit', 'économ', 'prévu', 'vest', 'obligatoir', 'monsieur', 'mond', 'jour', 'gilet', 'côt', 'homm', 'jean', 'gilet'], ['lieu', 'accueil', 'chaleur', 'cuisin', 'savour', 'produit', 'qualit', 'agneau', 'simpl', 'exquis', 'viand', 'tendr', 'cuit', 'perfect', 'magret', 'canard', 'réuss', 'tendr', 'ros'], ['not', 'çà', 'don', 'envi', 'mang', 'rapid', 'décept', 'amus', 'bouch', 'bof', 'entré', 'bof', 'poisson', 'symp', 'viand', 'bof', 'bof', 'bof', 'dessert', 'décev', 'sortent', 'avis', 'incroi', 'serveux', 'orgueil', 'pourt', 'kilometr', 'étoil'], ['excellent', 'pizz', 'salad', 'dessert', 'pât', 'pizz', 'qualit', 'bon', 'servic', 'équip', 'sympath'], ['restaur', 'simpl', 'formid', 'cuisin', 'impecc', 'servic', 'parf', 'pet', 'bijou', 'cach', 'ru', 'essai', 'menu', 'dégust', 'parf', 'alentour', 'faut', 'essai'], ['femm', 'restaur', 'chef', 'passion', 'dou', 'accompagn', 'vincent', 'fois', 'maîtr', 'hôtel', 'sommeli', 'serveur', 'trait', 'rapid', 'client', 'connu', 'existent'], ['fois', 'agréabl', 'surpris', 'paris', 'pet', 'restaur', 'dirig', 'coupl', 'mari', 'chef', 'cuisini', 'maison', 'petit', 'tabl', 'espac', 'menu', 'propos', 'plat', 'exquis', 'devr', 'conven'], ['vouloir', 'fair', 'rat', 'fondamental', 'gross', 'envi', 'vouloir', 'mélang', 'saveur', 'essai', 'associ', 'nouvel', 'malheur', 'plat', 'deviennent', 'déséquilibr', 'entré', 'saveur', 'mal', 'dos', 'acid', 'présent', 'manqu', 'sel', 'amertum', 'agréabl'], ['restaur', 'situ', 'jou', 'notoriet', 'presqu', 'propos', 'cuisin', 'typ', 'brasser', 'pein', 'amélior', 'prix', 'excess', 'évoqu', 'prix', 'commentair'], ['rep', 'fauss', 'not', 'accueil', 'servic', 'cuisin', 'ambianc', 'magnif', 'impecc', '🤩plus'], ['restaur', 'accueil', 'satisfais', 'professionnel', 'sall', 'cadr', 'froid', 'auster', 'indign', 'palac', 'cour', 'rep', 'gross', 'fuit', 'eau', 'milieu', 'sall', 'personnel', 'mettr', 'sceau'], ['arrêt', 'ici', 'milieu', 'fin', 'après-miditres', 'faim', 'visit', 'randon', 'probabl', 'meilleur', 'surpris', 'voyag', 'term', 'mang', 'nourritur', 'copieux', 'délici', 'enfant', 'arrêt'], ['lieu', 'réput', 'convi', 'amis', 'dîn', 'gastronom', 'déjà', 'fréquent', 'établ', 'anné', 'agréabl', 'serv', 'plat', 'savour', 'nouvel', 'cart', 'apparent', 'chef'], ['célebr', 'épous', 'ème', 'anniversair', 'hôtel', 'grand', 'colbert', 'merveil', 'séjour', 'chateaubriand', 'délici', 'servic', 'génial'], ['sup', 'endroit', 'mois', 'excellent', 'retourn', 'plais', 'sall', 'sup', 'vin', 'bon'], ['appel', 'restaur', 'réserv', 'répond', 'téléphon', 'malpol', 'direct', 'utilis', 'mot', 'courtois', 'plaît', 'pri', 'patient'], ['vu', 'exceptionnel', 'servic', 'parf', 'oú', 'pass', 'quenel', 'savour', 'revisit', 'recet', 'classiqu', 'perd', 'essentiel', 'canard', 'tjr', 'top'], ['din', 'menu', 'surpris', 'vin', 'bon', 'qualit', 'plat', 'bon', 'restaur', 'standing', 'entré', 'bon', 'plat', 'ici', 'cas', 'plat', 'jarret'], ['excellent', 'restaur', 'bel', 'cuisin', 'créativ', 'surpren', 'serveur', 'petit', 'soin', 'égal', 'import', 'chef', 'venu', 'salu', 'partion', 'agréabl', 'parf'], ['délici', 'restaur', 'excellent', 'cuisin', 'servic', 'côt', 'champ', 'elys', 'bon', 'frais', 'délici', 'ambianc', 'décontract', 'sympath'], ['entré', 'oeuf', 'poch', 'bleu', 'auvergn', 'plat', 'sup', 'filet', 'saumon', 'accompagn', 'risotto', 'patron', 'sup', 'patron', 'top', 'gentilless', 'limit', 'sourir', 'rir', 'illim', 'recommand', 'restaur', 'produit'], ['décept', 'menu', 'sal', 'conviv', 'tabl', 'remarqu', 'respons', 'servic', 'sal', 'répons', 'respons', 'servic', 'aim', 'sel', 'met', 'yaourt', 'lorsqu', 'tabl', 'voisin'], ['pet', 'restaur', 'excellent', 'mang', 'serveux', 'énonc', 'plat', 'entré', 'plat', 'choix', 'dessert', 'choix', 'chang', 'jour', 'fonction', 'march'], ['délici', 'din', 'pris', 'menu', 'dégust', 'plat', 'dessert', 'cadr', 'agréabl', 'personnel', 'efficac', 'nourritur', 'excellent', 'recommand', 'viv'], ['vrai', 'éton', 'bon', 'commentair', 'apparent', 'séjour', 'typiqu', 'trouv', 'mieux', 'nuit', 'mc', 'donald', 'servic', 'horribl', 'distr', 'serviabl', 'pouvion', 'part', 'allez'], ['personnel', 'aimabl', 'souri', 'arrêt', 'croi', 'meilleur', 'restaur', 'paris', 'tap', 'excellent', 'insignifi', 'mauv', 'rapport', 'qualitéprix', 'trouv', 'mieux'], ['plais', 'yeux', 'papill', 'cuisin', 'éleg', 'original', 'invent', 'vrai', 'régal', 'début', 'fin', 'cadr', 'épur', 'intim', 'jol', 'vaissel', 'zen', 'met', 'valeur', 'plat', 'jol', 'présent', 'servic', 'attention', 'bon', 'conseil', 'vin', 'moment', 'fris', 'perfect', 'dis-j'], ['restaur', 'décev', 'décor', 'moch', '’endroit', 'limit', 'sal', 'déjà', 'met', 'confianc', '’acces', 'toilet', 'difficil', 'plat', 'dign', '’un', 'cantin', 'soin', 'présent', 'viand', 'grill', 'cuit', 'poulet', 'grav'], ['plac', 'côt', 'poubel', 'essai', 'mal', 'mang', 'tabl', 'rapproch', 'impossibl', 'profit', 'correct', 'rep', 'cuisin', 'laiss', 'franch', 'désir', 'quoiqu', 'dis', 'patron'], ['jol', 'cadr', 'déçu', 'qualit', 'produit', 'servic', 'déçu', 'qualit', 'produit', 'plat', 'chois', 'ceris', 'gâteau', 'addit', 'euros'], ['bon', 'rapport', 'qualitéprix', 'ambianc', 'relax', 'servic', 'attention', 'restaur', 'styl', 'quartierplus'], ['visit', 'person', 'soir', 'anniversair', 'fauss', 'not', 'bel', 'chos', 'assiet', 'servic', 'soign', 'restaur', 'agréabl', '’hésit', 'pass', 'bel', 'soir'], ['restaur', 'cadr', 'agréabl', 'personnel', 'attention', 'sympath', 'cuisin', 'soign', 'original', 'côt', 'musiqu', 'agréabl', 'prix', 'correct', 'quarti', 'rep', 'adress', 'reten'], ['habiton', 'côt', 'fois', 'semain', 'an', 'délici', 'servic', 'ador', 'plat', 'simpl', 'excellent', 'réalis', 'rav', 'fois'], ['raffin', 'harmoni', 'cadr', 'met', 'vin', 'moment', 'agréabl'], ['crêp', 'bon', 'sûr', 'accueil', 'patron', 'déplor', 'habitu', 'lieu', 'mal', 'reçu', 'reprisesjusqu', 'mang', 'gâteau', 'anniversair', 'ami', 'bol', 'cidr', 'conclu', 'patron', 'fatigu'], ['bon', 'restaur', 'servic', 'excellent', 'nourritur', 'excellent', 'personnel', 'effort', 'supplémentair', 'fair', 'excellent', 'expérient'], ['excellent', 'rep', 'cuisson', 'poisson', 'parfait', 'cadr', 'exceptionnel', 'bon', 'moment', 'amis', 'renouvel'], ['aller', 'tergivers', 'encontr', 'avis', 'quas', 'unanim', 'allé', 'dîn', 'hi', 'soir', 'pianovin', 'franch', 'retourn', 'menus', 'euros', 'présent', 'plat'], ['carpaccio', 'mer', 'poisson', 'saumon', 'thon', 'yen', 'cadr', 'symp', 'classiqu', 'évit', 'caus', 'prix'], ['prestigi', 'grand', 'soeur', 'bel', 'tabl', 'produit', 'mis', 'assiet', 'gourmand', 'jol', 'dress', 'regret', 'servic', 'friendly', 'déjeun', 'affair'], ['restaur', 'doubl', 'étoil', 'palac', 'chef', 'médiatis', 'suscit', 'nécessair', 'attent', 'part', 'chaland', 'din', 'mesur', 'faut', 'concern', 'accueil', 'déçu', 'brigad', 'mieux', 'rod', 'paris'], ['annul', 'part', 'resto', 'rep', 'anniversair', 'import', 'caus', 'frigo', 'défaill', 'coup', 'fil', 'professionnel', 'resto', 'plaint', 'devoir', 'jet', 'nourritur', 'fout', 'client', 'embarr', 'trouv'], ['bon', 'vrai', 'bon', 'faut', 'essai', 'crêp', 'maison', 'éloign', 'basiqu', 'goût', 'qualit', 'crêp', 'gastronom', 'quitt', 'consacr', 'budget', 'nécessair', 'bon', 'adress'], ['excellent', 'produit', 'frais', 'cuisin', 'qualit', 'accueil', 'ador', 'recommand', 'viv'], ['menu', 'dégust', 'plat', 'portion', 'petit', 'équivaut', 'entré', 'plat', 'dessert', 'appet', 'ogre', 'parf', 'fois', 'demand', 'intoler', 'alimentair'], ['profond', 'déçus', 'nourritur', 'correct', 'aim', 'servic', 'ambianc', 'décor', 'chambr', 'attend', 'mieux', 'entré', 'plat', 'principal', 'correct', 'dessert', 'vrai', 'spécial'], ['accueil', 'chaleur', 'rep', 'délici', 'petit', 'cart', 'vin', 'syrah', 'bon'], ['nourritur', 'exceptionnel', 'servic', 'impecc', 'soir', 'magnif', 'recommand', 'viv', 'restaur'], ['poisson', 'fabul', 'présent', 'symp', 'recommand', 'présent', 'mettr', 'euros', 'formul', 'menu', 'complet'], ['iranien', 'niveau', 'exigent', 'mati', 'cuisin', 'iranien', 'forc', 'élev', 'parf', 'recommand', 'entier', 'personnel', 'ador', 'nourritur', 'bon', 'rapport', 'qualitéprix', 'royal', 'fonc', 'loin', 'meilleur'], ['restaur', 'gastronom', 'accueil', 'propos', 'uniqu', 'menu', 'découvert', 'cuisin', 'simpl', 'produit', 'qualit', '’extraordinair', 'niveau', 'goût', 'proposit', 'honnêt', 'bon', 'servic', 'efficac', 'aimabl', 'cadr', 'chaleur', 'bon', 'restaur', 'mérit', 'détour'], ['plat', 'consist', 'excellent', 'rapport', 'qualitéprix', 'sercic', 'sup', 'accueil', 'pet', 'pouc', 'part'], ['décor', 'ancien', 'tissu', 'mural', 'tach', 'fort', 'odeur', 'désagré', 'graiss', 'brûl', 'sall', 'restaur', 'empêch', 'gout', 'plat', 'tarif', 'élev'], ['accueil', 'inadmissibl', 'vendeux', 'mid', 'connaît', 'sen', 'marchand', 'politess', 'hésit', 'délog', 'tabl', 'prof', 'client', 'inconcev', 'comport', 'sort', 'lieu', 'travaill'], ['vrai', 'éton', 'bon', 'commentair', 'apparent', 'séjour', 'typiqu', 'trouv', 'mieux', 'nuit', 'mc', 'donald', 'servic', 'horribl', 'distr', 'serviabl', 'pouvion', 'part', 'allez'], ['hauteur', 'lieu', 'servic', 'attention', 'courtois', 'typ', 'établ', 'chaleur', 'nourritur', 'invent', 'léger', 'vari', 'vin', 'hauteur', 'lieu', 'accueil'], ['quarti', 'voil', 'restaur', 'faut', 'aller', 'ruin', 'mang', 'plat', 'euros', 'bon', 'cadr', 'symp', 'servic', 'efficac', 'cherch'], ['bon', 'rep', 'riv', 'gauch', 'restaur', 'récent', 'voyag', 'paris', 'restaur', 'cosy', 'jol', 'entretenu', 'mar', 'femm', 'tabl', 'situ', 'endroit', 'perm', 'voir'], ['restaur', 'mérit', 'larg', 'étoil', 'chef', 'excel', 'choix', 'produit', 'mariag', 'saveur', 'bon', 'magnif', 'ressent', 'passion', 'travail', 'plat', 'pâtisser', 'régal', 'yeux', 'égal'], ['attend', 'nouvel', 'expérient', 'etoil', 'guid', 'michelin', 'chos', 'difficil', 'mettr', 'mot', 'lit', 'critiqu', 'vécu', 'devin', 'attendr'], ['brasser', 'parisien', 'moribond', 'esprit', 'charm', 'bonheur', 'reven', 'ici', 'sall', 'majestu', 'erreur', 'modernis', 'repeindr', 'cuisin', 'honor'], ['assiet', 'bouch', 'surpris', 'explos', 'saveur', 'ingrédient', 'sublim', 'dîn', 'conduit', 'maestri', 'incap', 'préfer', 'plat', 'qu’un', 'égal', 'appréci', 'conseil', 'suiv'], ['répond', 'messag', 'refus', 'critiqu', 'suit', 'partag', 'expérient', 'établ', 'trouv', 'pizz', 'extraordinair', 'niveau', 'goût', 'opinion', 'trouv', 'prix', 'chain'], ['accueil', 'chaleur', 'cuisin', 'italien', 'meilleur', 'goût', 'prix', 'abord', 'vois', 'redir', 'part', 'retourn', 'prochain', 'personnel', 'restaur', 'not', 'bardolino'], ['décept', 'accueil', 'impersonnel', 'sall', 'quas', 'vid', 'samed', 'dejeun', 'tourist', 'étranger', 'certain', 'retrouv', 'ambianc', 'décor', 'film', 'conf', 'sec', 'pomm', 'terr', 'pein', 'cuit', 'poisson', 'moyen', 'accompagn', 'légum', 'millefeuill', 'goûteux'], ['mang', 'ici', 'amis', 'collègu', 'travail', 'avril', 'anné', 'appréci', 'nuit', 'revenus', 'nuit', 'tard', 'second', 'fois', 'nourritur', 'magnif', 'personnel', 'sympath'], ['endroit', 'pris', 'yeux', 'rentr', 'jam', 'cuisin', 'libanais', 'combinaison', 'nourritur', 'vrai', 'séduit', 'sympath', 'expliqu', 'conseil', 'command', 'plat', 'emport', 'délici', 'bon', 'rapport', 'qualitéprix'], ['est-il', 'bistrot', 'victoir', 'fais', 'an', 'retourn', 'bistrot', 'propriétair', 'possèdent', 'ined', 'caf', 'formul', 'prix', 'tartin', 'correct'], ['cuisin', 'goûteux', 'savour', 'autour', 'poisson', 'menus', 'goût', 'endroit', 'convivial', 'design', 'equip', 'dynam', 'agréabl', 'cour'], ['bon', 'gras', 'serveur', 'dragu', 'lourd', 'femm', 'gen', 'homm', 'accompagnent'], ['légum', 'cuit', 'carott', 'dur', 'bouillon', 'fluid', 'insipid', 'probabl', 'eau', 'rajout', 'poulet', 'dur', 'dommag', 'ambianc', 'bon', 'franquet'], ['command', 'deliveroo', 'barquet', 'onglet', 'poulet', 'saumon', 'frit', 'maison', 'déçu', 'onglet', 'correct', 'saumon', 'sec', 'cuit', 'poulet', 'moyen', 'sauc', 'saveur', 'frit', 'maison', 'congel'], ['profit', 'oper', 'restaur', 'aller', 'découvr', 'tabl', 'jou', 'bon', 'critiqu', 'mémoir', 'oper', 'restaur', 'consist', 'pai', 'menu', 'dégust', 'conviv', 'compos', 'menu', 'spécial', 'oper'], ['menu', 'pens', 'bon', 'produit', 'bel', 'présent', 'avantag', 'pren', 'menu', 'entréeplatdessert', 'caf', 'découvr', 'saveur', 'plais', 'recommand', 'viv'], ['conviv', 'tabl', 'convenus', 'mieux', 'mang', 'veil', 'sympath', 'restaur', 'capital', 'prix', 'divis', 'entré', 'compos', 'macaron', 'pat', 'épaiss', 'cuit', 'bon'], ['décid', 'essai', 'restaur', 'bon', 'commentair', 'déçus', 'dû', 'attendr', 'minut', 'assis', 'endroit', 'pet', 'content'], ['sup', 'concept', 'cuisin', 'cuisin', 'exceptionnel', 'produit', 'frais', 'sup', 'produit', 'mot', 'top', 'paris'], ['servic', 'impersonnel', 'directeur', 'manqu', 'courtois', 'amabl', 'rapport', 'qualit', 'prix', 'décev'], ['reven', 'cess', 'bonheur', 'chaleur', 'géner', 'éleg', 'accueil', 'cuisin', 'délici', '😉'], ['second', 'séjour', 'atmospher', 'chaleur', 'énerg', 'dynam', 'cuisin', 'voir', 'pass', 'sup', 'jeun', 'femm', 'chef', 'mieux', 'nourritur', 'bon', 'servic', 'excellent', 'hôtel'], ['sup', 'accueil', 'patron', 'command', 'burg', 'chiken', 'viand', 'tendrel', 'pain', 'moelleux', 'bon', 'sup', 'restaur', 'frit', 'maison', 'bon'], ['déjeun', 'semain', 'accueil', 'parf', 'pro', 'décontract', 'bon', 'sen', 'term', 'échang', 'serveur', 'agréabl', 'sall', 'classiqu', 'agréabl', 'tabl', 'suffis', 'espac', '’ambianc', 'global', 'agréabl', 'poign'], ['bon', 'accueil', 'prix', 'raison', 'servic', 'rapid', 'burger', 'excellent', 'redemand'], ['bon', 'restaur', 'idéal', 'situ', 'bristol', 'déco', 'symp', 'cuisin', 'raffin', 'tarif', 'conséquent', 'recommand', 'réserv'], ['servic', 'impersonnel', 'directeur', 'manqu', 'courtois', 'amabl', 'rapport', 'qualit', 'prix', 'décev'], ['trouv', 'hôtel', 'samed', 'soir', 'hôtel', 'complet', 'sup', 'commentair', 'allé', 'prendr', 'pet', 'hôtel', 'serveur', 'tabl', 'nourritur', 'délici'], ['dégust', 'burg', 'montagnard', 'temp', 'pluvieux', 'demand', 'mieux', 'pain', 'moelleux', 'souh', 'viand', 'juteux', 'savour', 'frit', 'croustill', 'livr', 'min', 'vélo', 'expérient', 'agréabl', 'somm', 'recommand', 'hésit'], ['bon', 'accueil', 'bon', 'sandwich', 'produit', 'frais', 'bon', 'pain', 'bon', 'bon', 'viand', 'recommand', 'fort'], ['contrair', 'ensembl', 'commentair', 'déçu', 'restaur', 'recherch', 'lafourchet', 'difficult', 'reserv', 'restaur', 'choix', 'port', 'appui', 'commentair', 'sembl', 'prometteur', 'reserv'], ['cantin', 'lux'], ['grâc', 'fil', 'vien', 'découvr', 'bonheur', 'etoil', 'restaur', 'taill', 'modest', 'cuisin', 'haut', 'savour', 'personnel', 'grand', 'amabl', 'efficac', 'chef', 'mexicain', 'régal'], ['délici', 'acceuil', 'sublim', 'endroit', 'vrai', 'agréabl', 'recommand', 'amis', 'amour'], ['hallucin', 'lis', 'avis', 'précédent', 'habitu', 'restaur', 'étoil', 'insurg', 'élog', 'immérit', 'cadr', 'poussier', 'plat', 'insipid', 'oeuf', 'orloff', 'goût', 'lievr', 'royal', 'navr', 'crep', 'suzet', 'quelconqu', 'addit', 'sal', 'talent', 'orateur'], ['pet', 'restaur', 'convivial', 'charm', 'excellent', 'galet', 'crêp', 'cuisin', 'généros', 'allez', 'égal', 'ador', 'accueil', 'chaleur', 'réserv', 'client', 'meilleur', 'servic', 'paris', 'loin'], ['dîn', 'sublim', 'famill', 'sergent', 'recruteur', 'cadr', 'magnif', 'parfait', 'harmon', 'endroit', 'magiqu', 'île', 'saint', 'lou', 'cuisin', 'chef', 'équip', 'goût', 'cuisson', 'présent', 'faut', 'servic'], ['plais', 'découvr', 'célebr', 'lucas-carton', 'restaur', 'senderen', 'chef', 'endroit', 'magnif', 'nom', 'rest', 'servic', 'niveau', 'brasser', 'nourritur', 'décev', 'choix', 'limit'], ['cadr', 'cosy', '’accueil', 'professionnel', 'souri', 'goût', 'maximum', 'plat', '’ai', 'opté', 'menu', 'évas', 'servic', 'accord', 'vin', 'festival', 'goût', 'bonheur', 'menu', 'établ'], ['allé', 'restaur', 'confi', 'avis', 'décept', 'menu', 'tâch', 'sal', 'cuisin', 'présent', 'assiet', 'niveau', 'trouv', 'photos', 'internet'], ['fais', 'anné', 'voul', 'aller', 'déjeun', 'senderen', 'maîtr', 'fourneau', 'mois', 'luc', 'carton', 'tabl', 'parisien', 'element', 'patrimoin', 'franc', 'aut', 'adress'], ['entré', 'don', 'servic', 'impecc', 'professionnel', 'attention', 'simpl', 'parf', 'cuisin', 'menu', 'plat', 'promen', 'gré', 'choix', 'chef', 'pournotr', 'grand', 'plais', 'vin', 'verr', 'choix', 'lieu'], ['servic', 'professionnel', 'plat', 'jet', 'littéral', 'tabl', 'part', 'musiqu', 'ambianc', 'clientel', 'vulgair', 'boucl', 'boucl', 'forc', 'consomm', 'cuisin', 'assiet', 'entré'], ['déçu', 'établ', 'pourt', 'vant', 'guid', 'tourist', 'accueil', 'désagré', 'cuisin', 'dign', 'cuisini', 'plat', 'accompagn', 'fait', 'industriel', 'vach', 'réform', 'goût', 'profiterol'], ['restaur', 'parf', 'pris', 'plat', 'cuisin', 'bon', 'serveur', 'ador'], ['bel', 'endroit', 'accueil', 'chaleur', 'plat', 'excellent', 'abord', 'niveau', 'prix'], ['bon', 'restaur', 'cadr', 'sobr', 'intim', 'tabl', 'cuisin', 'sall', 'agréabl', 'voir', 'cuisini', 'travail', 'travail', 'cuisin', 'met', 'valeur', 'beau', 'produit'], ['découvert', 'restaur', 'our', 'hasard', 'découvert', 'plat', 'bon', 'vu', 'tour', 'eiffel', 'refair'], ['cadr', 'idyll', 'servic', 'exceptionnel', 'plat', 'fabul', 'moment', 'magiqu', 'fair', 'hésit', 'amateur', 'gastronom', 'français', 'grand', 'chef', 'eric', 'fréchon', 'soir', 'inoubli'], ['visit', 'janvi', 'titr', 'indiqu', 'souvenir', 'fubul', 'rep', 'présent', 'esprit', 'apérit', 'pris', 'salon', 'extern', 'sall', 'restaur', 'dessert', 'visit', 'cuisin', 'bar', 'ancien', 'sall', 'bistro'], ['horair', 'ouvertur', 'rigid', 'rest', 'port', 'min', 'arriv', 'accueil', 'agréabl', 'souri', 'attent', 'menu', 'dégust', 'étap', 'appet', 'excellent', 'entré', 'encornet', 'foi', 'gras', 'sauc', 'gribich'], ['excellent', 'kebab', 'meilleur', 'paris', 'ger', 'sup', 'appliqu', 'propr', 'sup', 'viand', 'refair'], ['réserv', 'avanc', 'email', 'thierry', 'chef', 'serviabl', 'group', 'peut-êtr', 'grand', 'pet', 'restaur', 'emport', 'rang', 'serr', 'import', 'nourritur', 'excellent'], ['excellent', 'restaur', 'ramen', 'qualit', 'cadr', 'atyp', 'produit', 'savour', 'frais'], ['cuisin', 'invent', 'explos', 'saveur', 'bouch', 'chef', 'su', 'trouv', 'alchim', 'créatric', 'sommeli', 'conseil', 'choix', 'vin', 'fin', 'rep', 'visit', 'cuisin', 'rutil', 'discut'], ['entendu', 'endroit', 'fameux', 'burg', 'dsk', 'envi', 'essai', 'cart', 'amus', 'accueil', 'chaleur', 'servic', 'impecc', 'rapid', 'burger', 'bon', 'épais', 'frit', 'air'], ['clos', 'simpl', 'restaur', 'gout', 'présent', 'jam', 'déçu', 'menu', 'aveugl', 'excellent', 'idé', 'nouvel', 'assiet', 'découvert', 'recommand', 'retourn'], ['déjeun', 'affair', 'menu', 'mid', 'entré', 'maquereau', 'poch', 'salad', 'sachet', 'côt', 'porc', 'montagn', 'aveyron', 'pur', 'pan', 'cuiller', 'soup', 'titr', 'revoir', 'dir', 'côt', 'porc', 'cantin', 'scolair', 'entré', 'saveur'], ['sandwich', 'bon', 'dommag', 'servic', 'ä', 'grand', 'surpris', 'vendeux', 'caiss', 'mid', 'essai', 'arnaqu', 'prix', 'sandwich', 'depos', 'total', 'euros', 'pil', 'euro'], ['superb', 'menu', 'déjeun', 'servic', 'cuisin', 'irréproch', 'plat', 'mémor', 'part', 'import', 'sort', 'grand', 'tabl', 'gratin', 'oignon', 'omelet', 'norvégien', 'revisitéed', 'maîtr', 'hôtel', 'vrai', 'sympath'], ['allé', 'févri', 'grand', 'habitu', 'pet', 'restaur', 'déçu', 'qualit', 'diminu', 'coup', 'habitud', 'perfid', 'albion', 'tiramisu', 'sandwich', 'viand', 'oignon'], ['bonjour', 'rendez-vous', 'cuisin', 'chef', 'simpl', 'génial', 'serveur', 'agréabl', 'souri', 'blagueur', 'chef', 'accessibl', 'abord', 'cuisin', 'agréabl', 'moment', 'découvert', 'mélang', 'saveur', 'surpren', 'pris', 'menu', 'évas'], ['expérient', 'inédit', 'juillet', 'invit', 'person', 'pens', 'découvr', 'except', 'français', 'décept', 'menu', 'per', 'propos', 'plat', 'principal', 'boudin', 'noir', 'riz', 'encre'], ['sup', 'servic', 'prix', 'adéquat', 'qualit', 'nourritur', 'conseil', 'point', 'dir', 'négat', '’attent', 'sall', 'correct'], ['bonjour', 'fais', 'fois', 'allais', 'restaur', 'mond', 'tomb', 'malad', 'hi', 'mang', 'bon', 'fois', 'douleur', 'ventr', 'diarrh', 'sall', 'morceau', 'pierr'], ['terribl', 'décept', 'form', 'arriv', 'maitr', 'hôtel', 'regard', 'livr', 'lev', 'yeux', 'cieltourn', 'têt', 'vestiair', 'annonc', 'dédaign', 'étag', 'regard', 'refus', 'catégor', 'lâch', 'mettez-vous'], ['arriv', 'brasser', 'spectacl', 'théâtr', 'pal', 'royal', 'sembl', 'profil', 'mieux', 'cadr', 'authent', 'tabl', 'rond', 'propos', 'attent', 'command', 'plais', 'court', 'dur', 'températur', 'sall', 'bass', 'dîn'], ['agréabl', 'surpris', 'servic', 'souri', 'rapid', 'plat', 'excellent', 'fait', 'maison', 'prix', 'abord', 'not', 'quarti', 'ambianc', 'agréabl', 'ru'], ['’ai', 'mang', 'établ', 'guignol', 'bar', 'impol', 'not', 'qualit', 'nourritur', '’acceuil', 'deplor'], ['sall', 'majestu', 'décor', 'bel', 'époqu', 'personnel', 'qualit', 'cot', 'cuisin', 'regret', 'cart', 'cuisin', 'chef', 'évolu', 'fil', 'ans…', 'retrouvon', 'systémat', 'plat', 'manqu', 'original', 'coup'], ['découvert', 'hasard', 'restaur', 'regret', 'entré', 'restaur', 'regard', 'attir', 'photos', 'patron', 'célebr', 'multipl', 'décor', 'ambianc', 'sympath', 'patron', 'petit', 'soin'], ['arriv', 'serveur', 'servic', 'rapid', 'crêp', 'bon', 'rustiqu', 'essai', 'petit', 'sall', 'brui', 'plein', 'prix', 'raison'], ['sandwich', 'chaud', 'fameux', 'bollynan', 'délici', 'sent', 'produit', 'frais', 'maison', 'copieux', 'ressort', 'resto', 'repu', 'rav', 'conseil', 'fort', 'nan', 'pain', 'complet'], ['servic', 'irréproch', 'saint', 'jacqu', 'délici', 'jarret', 'fond', 'souh', 'commentair', 'sommeli', 'appréci', 'dîn', 'romant'], ['point', 'posit', 'quantit', 'certain', 'detr', 'qualit', 'retrouv', 'gout', 'fromag', 'camoufl', 'vrai', 'bon', 'mond', 'attir', 'mond'], ['concept', 'burg', 'novateur', 'endroit', 'cosy', 'personnel', 'agréabl', 'prix', 'correct', 'ingrédient', 'réun', 'bon', 'rep'], ['qualit', 'servic', 'cuisin', 'cess', 'dégrad', 'an', 'nourritur', 'correct', 'prix', 'justifi', 'minut', 'serv', 'excus', 'part'], ['superb', 'soir', 'découvert', 'saveur', 'goût', 'ze', 'kitchen', 'galer', 'cuisin', 'original', 'délici', 'servic', 'impecc', 'sympath', 'plais', 'gustat'], ['bon', 'délic', 'plat', 'serveur', 'charm', 'chef', 'talent', 'norm', 'moment', 'inoubli'], ['plais', 'retrouv', 'cuisin', 'julien', 'dum', 'finess', 'esprit', 'cuisin', 'servic', 'plais', 'raffin', 'assiet', 'bon', 'adress', 'paris'], ['accueil', 'sympath', 'servic', 'rapid', 'burger', 'délici', 'original', 'maison', 'ca', 'bientôt'], ['merveil', 'restaur', 'ambianc', 'agréabl', 'approch', 'parf', 'cuisin', 'créativ', 'nourritur', 'exceptionnel', 'situ', 'servic', 'sympath', 'hât', 'retourn', 'manqu'], ['cuisin', 'excellent', 'minut', 'bon', 'servic', 'pet', 'resto', 'bon', 'saveur', 'découvr'], ['ancien', 'bouillon', 'bénéfic', 'cadr', 'somptueux', 'cuisin', 'qualit', 'port', 'grand', 'standard', 'hexagonal', 'tarif', 'abord', 'atmospher', 'servic', 'assurent', 'rep', 'agréabl'], ['titr', 'pourt', 'extrêm', 'exig', 'connaisseur', 'parf', 'associ', 'saveur', 'divers', 'plat', 'original', 'présent', 'servic', '-', 'refair', 'dout'], ['commentair', 'sit', 'essai', 'suit', 'dîn', 'hi', 'soir', 'conseil', 'amis', 'ven', 'mang', 'cadr', 'accueil', 'top', 'dign', 'palac'], ['oui', 'oui', 'quas', 'faut', 'bémol', 'jam', 'content', 'point', 'négat', 'commençon', 'côt', 'rétro', 'restaur', 'quas', 'désuet', 'serveur', 'léger', 'offusqu', 'stéréotyp', 'parisien', 'mal'], ['entré', 'pris', 'langoustin', 'cert', 'carpaccio', 'délici', 'mettr', 'crem', 'fort', 'tu', 'gout', 'dev', 'fois', 'crem', 'langoustin', 'plat', 'lievr'], ['accueil', 'chaleur', 'galet', 'vrai', 'excellent', 'garn', 'lourd', 'cidr', 'fermi', 'qualit', 'rencontr', 'ger', 'etabl', 'sympath', 'resum', 'bon', 'pet', 'restaur', 'aim', 'accueil', 'chaleur', 'servic', 'impecc', 'cuisin'], ['excellent', 'galet', 'produit', 'galet', 'excellent', 'galet', 'excellent', 'trouv', 'cherch', 'quas', 'introuv', 'crêp', 'excellent', 'fin', 'micro-croustill', 'recet', 'gavott', 'accueil', 'ador'], ['dîn', 'mois', 'mai', 'restaur', 'pal', 'royal', 'person', 'agiss', 'rep', 'mariag', 'rencontr', 'préalabl', 'directric', 'repris', 'prépar', 'éven', 'problem', 'arriv', 'soir', 'suit'], ['pet', 'resto', '’abr', 'regard', 'mérit', 'pourt', 'bon', 'coup', 'projecteur', 'part', 'plat', 'propos', 'excellent', 'rapport', 'qualité-prix', 'top', 'quantit', '’assiet', 'raison', 'pet', 'hic', 'manqu', 'plac', 'gên'], ['allez-', 'yeux', 'ferm', 'accueil', 'chaleur', 'écout', 'client', 'burg', 'max', 'montagnard', 'tuer', 'goûteux', 'excellent', 'viand', 'mayonnais', 'maison', 'bon', 'bref', 'rep', 'agréabl', 'termin', 'pet', 'caf', 'gourmand'], ['rajout', 'avis', 'précédent', 'dessert', 'sublim', 'hésit', 'nougat', 'glac', 'tiramisu', 'prix', 'correct', 'pet', 'ros', 'pay', 'excellent', 'chang'], ['impossibl', 'réserv', 'téléphon', 'déplac', 'aimabl', '’indiqu', 'complet', 'novembr', 'petit', 'fill', 'travaill', 'qu’avec', 'hôtel', 'restaur', 'apparent', 'victim', 'succes'], ['superb', 'menu', 'temp', 'délicatess', 'met', 'cuisson', 'just', 'superb', 'accompagn', 'sauc', 'divin', 'délici', 'bon', 'rapport', 'qualit', 'prix', 'sall', 'petit', 'pens', 'réserv', 'pet', 'bémol', 'cabillaud', 'brin', 'sal', 'soir', 'histoir'], ['habitu', 'grand', 'tabl', 'franc', 'étrang', 'semain', 'derni', 'allé', 'din', 'lund', 'soir', 'gagnair', 'décept', 'taill', 'homard', 'entré', 'bisqu', 'imange', 'bisqu', 'chaud', 'pêch', 'glac'], ['habitu', 'lieu', 'demand', 'pilot', 'avion', 'salad', 'grand', 'colbert', 'manqu', 'salad', 'anchois', 'tomat', 'ceris', 'oeuf', 'caill', 'coup', 'salad'], ['servic', 'impecc', 'sympath', 'cart', 'goût', 'rassembl', 'recet', 'classiqu', 'élabor', 'pass', 'bon', 'soir', 'cass', 'tirelir'], ['oui', 'confirm', 'excellent', 'commentair', 'déjà', 'écrit', 'gastronom', 'chois', 'menu', 'propos', 'déjeun', 'déroul', 'amus', 'bouch', 'confiser', 'plat', 'original', 'saveur', 'mention', 'spécial'], ['’équip', 'francocoréen', 'découvr', 'saveur', 'rep', 'équilibr', 'élabor', 'soin', 'précis', 'bel', 'assiet', 'servic', 'sympath', 'patron', 'expliqu', '’élabor', 'plat', 'produit', 'patron', 'coréen'], ['arrêt', 'déjeun', 'propriétair', 'femm', 'prépar', 'réserv', 'excellent', 'cuisin', 'présent', 'éton', 'serr', 'sieg', 'part', 'ambianc', 'recommand'], ['nom', 'etud', 'inspir', 'oeuvr', 'chopin', 'sach', 'entrer', 'appréci', 'maximum', 'lieu', 'oui', 'bon', 'idé', 'mettr', 'musiqu', 'classiqu', 'fond', 'tabl', 'décor', 'appel', 'médit'], ['pass', 'superb', 'soir', 'cadr', 'magnif', 'cuisin', 'créativ', 'délicat', 'vrai', 'restaur', 'accueil', 'formid', 'directeur', 'équip', 'bel', 'soir'], ['petit', 'sall', 'feutr', 'bon', 'niveau', 'sonor', '’entend', 'calm', 'décor', 'neutr', 'fauss', 'not', 'folichon', '’imag', 'cuisin', '’est', 'réalis', '’est', 'vrai', 'bon', 'regret', 'qu’il'], ['bon', 'accueil', 'sympath', 'souri', 'assiet', 'étudi', 'bon', 'vin', 'bel', 'déco', 'musiqu', 'top', 'bref', 'pass', 'bel', 'soir', 'jusqu’à', 'jusqu’à', 'quelqu’un', 'staff', 'vien', 'demand', 'part', 'accueil', 'servic'], ['sider', 'avis', 'posit', 'émis', 'tabl', 'récent', 'fréquent', 'repris', 'cuisin', 'indign', 'étoil', 'fruit', 'mer', 'crus', 'fraîcheur', 'douteux', 'ami', 'pris', 'plat', 'malad'], ['bon', 'restaur', 'pro', 'burger', 'produit', 'qualit', 'larg', 'choix', 'pain', 'frais', 'frit', 'maison', 'allé', 'fois', 'qualit', 'rdv'], ['étoil', 'cadr', 'mal', 'situ', 'mal', 'fréquent', 'entré', 'dessert', 'chos', 'vrai', 'appréci', 'petit', 'pain', 'parcimoni', 'serv', 'maîtr', 'hôtel', 'iron', 'consomm', 'fad', 'visibl', 'frais'], ['bon', 'restaur', 'influenc', 'asiat', 'cuisin', 'original', 'concept', 'menu', 'cart', 'blanch', 'intéress', 'voyag', 'traver', 'petit', 'assiet', 'bon', 'rapport', 'qualitéprix'], ['voulu', 'aller', 'restaur', 'hi', 'soir', 'arriv', 'précis', 'plac', 'surpris', 'reçu', 'froid', 'serveur', 'phras'], ['mang', 'plac', 'emport', 'agréabl', 'surpris', 'qualit', 'gustat', 'menu', 'divers', 'choix', 'galet', 'moment', 'certain', 'bientôt'], ['explos', 'saveur', 'long', 'rep', 'découvert', 'bon', 'moment', 'restaur', 'visit', 'paris'], ['caricatural', 'prestig', '’adress', 'qualit', '’hôtess', '’accueil', 'décor', 'fumoir', 'sol', 'lieu', 'justifient', 'manqu', 'professionnal', 'cœur', 'méti', '’un', 'restaur', 'savoir', 'servic'], ['recet', 'fait', 'délici', 'équip', 'réactiv', 'jeun', 'dynam', 'accueil', 'parf', 'servic', 'rapid', 'terr', 'fac', 'sorbon', 'agréabl', 'rapport', 'qualitéprix', 'excellent', 'quarti', 'recommand'], ['passag', 'paris', 'cherchion', 'restaur', 'symp', 'pass', 'bel', 'soir', 'suiv', 'recommand', '’avon', 'déçus', 'menu', 'soir', 'magnif', 'produit', 'frais', 'travaill', 'assaison', 'impecc', 'vrai', 'goût', 'bon'], ['charg', 'chois', 'restaur', 'visiteur', 'taïwan', 'fatigu', 'cuisin', 'occidental', 'opté', 'restaur', 'triomph', 'décor', 'clean', 'simpl', 'cach', 'cuisin', 'grand', 'finess', 'visiteur', 'class'], ['cadr', 'histoir', 'lieu', 'intéress', 'vrai', 'mauv', 'servic', 'mauv', 'cuisin', 'mauvais', 'jam', 'mang', 'homard', 'mauv', 'huîtr', 'mérit', 'revient', 'certain', 'priorit', 'ostreiculteur', 'homard', 'nag', 'exist'], ['petit', 'crêper', 'pay', 'min', 'apparent', 'cuisin', 'excellent', 'servic', 'souri', 'sympath', 'emplac', 'rêv', 'sacr', 'coeur', 'couron', 'addit', 'raison', 'dégust', 'urgenc'], ['mang', 'cuisin', 'dégoût', 'serveur', 'comportent', 'mani', 'irrespectu', 'cadr', 'magnif', 'trouv', 'bon', 'adress'], ['bon', 'burger', 'vegan', 'choix', 'pain', 'gluten', 'rapport', 'qualit', 'prix', 'correct', 'tasty', 'vegan', 'burger', 'with', 'the', 'gluten', 'fre', 'bun', 'option', 'for', 'paris', 'find', 'the', 'pric', 'correct', 'and', 'afford'], ['restaur', 'agréabl', 'déco', 'simpl', 'soign', 'accueil', 'chaleur', 'habitu', 'dout', 'preuv', 'assiet', 'pizz', 'délici', 'pât', 'fraich', 'égal', 'bon', 'qualit', 'dessert', 'fait', 'maison', 'recommand', 'adress', 'reten'], ['excellent', 'cuisin', 'cadr', 'brasser', 'raffin', 'cosy', 'équip', 'sach', 'alli', 'discret', 'proxim'], ['restaur', 'brui', 'cuisin', 'passabl', 'servic', 'moyen', 'heureux', 'réserv', 'fourchet', 'avecsur', 'addit', 'boisson', 'vrai', 'arnaqu', 'plat', 'assaison', 'arrivent', 'froid', 'pris', 'poisson', 'truff', 'malgrè'], ['allez', 'dîn', 'amis', 'soir', 'semain', 'bon', 'moment', '’accueil', 'sup', 'pât', 'vrai', 'excellent', 'bémol', 'dessert', '’av', 'chois', 'tart', 'mascarpon', 'poir', 'chocolat', '’aur'], ['atmospher', 'établ', 'plong', 'béatitud', 'arriv', 'personnel', 'met', 'disposit', 'vrai', 'envi', 'satisfair', 'client', 'plat', 'propos', 'chef', 'laiss', 'voix', 'dégust'], ['el', 'mejor', 'pato', 'naranj', 'del', 'mundo'], ['certain', 'chanc', 'vu', 'not', 'obtenu', 'accueil', 'chaleur', 'serveur', 'symp', 'long', 'contenu', 'assiet', 'ridicul', 'jam', 'piec', 'viand', 'petit', 'garnitur', 'minuscul', 'coup'], ['dout', 'meilleur', 'endroit', 'crêp', 'paris', 'situ', 'quarti', 'latin', 'crêper', 'geni', 'manqu', 'pris', 'jol', 'crêp', 'rep', 'délici'], ['vu', '’extérieur', '’', 'forc', 'envi', 'rentr', '’est', 'erreur', 'oui', 'mond', 'symp', '’est', 'bon', 'pât', 'fine-', 'choix-', 'dessert', 'maison', 'déco', 'fait', 'citat', 'cadr', 'photos', 'chanteur'], ['rep', 'mal', 'oblig', 'prendr', 'servic', 'ca', 'empêch', 'dorm', 'souven', 'alter', 'personnel', 'sommeli', 'symp', 'attent', '⚠️', 'menus', 'final', 'addit', 'exhorbit'], ['yeux', 'papill', 'accueil', 'souri', 'agréabl', 'petit', 'remarqu', 'vestiair', 'servic', 'professionnel', 'jeun', 'écol', 'hôteli', 'dirig', 'maîtr', 'hôtel', 'bel', 'sall', 'époqu'], ['invent', 'faut', 'oubli', 'bas', 'gastronom', 'français', 'autoris', 'mauv', 'coup', 'épic', 'vagu', 'asiat', 'classiqu', 'justic', 'gastronom', 'faudr', 'julien', 'dum', 'chang', 'fusil', 'épaul'], ['person', 'aion', 'réserv', 'sall', 'sol', 'petit', 'tabl', 'carr', 'petit', 'recouvert', 'papi', 'attent', 'longu', 'menu', 'plat', 'rest', 'restaur', 'génial', 'vin', '°', 'ambi'], ['pet', 'restau', 'iranien', 'pai', 'min', 'curieux', 'découvr', 'quarti', 'restaur', 'iranien', 'pain', 'liban', 'plat', 'neutr', 'réchauff', 'micro-ond'], ['laiss', 'commentair', 'tripadvisor', 'faut', 'commentair', 'forc', 'ttripadvisor', 'chois', 'comment', 'désol', 'assiet', 'répugn'], ['cadr', 'sympath', 'servic', 'prend', 'sérieux', 'peut-êtr', 'justifi', 'addit', 'sal', 'cuisin', 'bon', 'minimal', 'dommag', 'retourn', 'accord', 'class', 'surf', 'restaur'], ['excellent', 'idé', 'menu', 'simpl', 'articul', 'autour', '’un', 'choix', 'limit', 'bon', 'cuisin', 'servic', 'sympath'], ['bonheur', 'resto', 'passag', 'régal', 'fill', 'servic', 'petit', 'soin', 'bichon', 'chauffag', 'mieux', 'confort', 'pard'], ['produit', 'mauvais', 'qualit', 'écœur', 'fin', 'mettr', 'poubel', 'allez'], ['nourritur', 'servic', 'bon', 'ambianc', 'agréabl', 'question', 'venu', 'fin', 'nuit', 'enregistr', 'venu', 'ajout', 'bouteil', 'supplémentair', 'vin', 'command', 'reçu', 'recommand'], ['ador', 'cuisin', '’ambianc', '’accueil', 'restaur', 'sup', 'symp', 'reviendron', 'hésit'], ['remarqu', 'prix', 'menu', 'couvert', 'bois', 'horribl', 'accueil', 'revoir'], ['proxim', 'din', 'question', 'facil', 'fois', 'appel', 'burger', 'connaiss', 'auparav', 'din', 'capabl', 'fourn', 'plais', 'mang', 'bon', 'burg', 'trouv', 'correct', 'moult', 'expérient'], ['cart', 'vari', 'plat', 'intéress', 'dessert', 'top', 'gourmandis', 'complet', 'régress', 'nounour', 'guimauvechocolat', 'tuil', 'carambar', 'déco', 'épur', 'ambianc', 'feutr', 'lumi', 'tamis', 'vu', 'tour', 'eiffel', 'fonction', 'tabl', 'voituri', 'servic', 'efficac', 'sympath', 'bon', 'restaur', 'parisien', 'vaut'], ['réserv', 'couvert', 'formal', 'inutil', 'soum', 'dem', 'heur', '’attent', 'rejoindr', 'tabl', '’un', 'metr', 'carr', 'résult', 'confort', 'class', 'éco', 'low', 'cost', 'aérien', 'tabl', 'surcharg', 'plateau', 'fruit', 'mer'], ['ambianc', 'agréabl', 'rep', 'superb', 'serveur', 'serveux', 'professionnel', 'rendu', 'séjour', 'agréabl', 'famill', 'menu', 'dégust', 'crois', 'sup', 'expérient', 'gastronom'], ['sup', 'adress', 'brunch', 'mar', 'formul', 'volont', 'difficil', 'rivalis', 'niveau', 'prix', 'niveau', 'bouff', '=', 'viennoiser', 'délici', 'assiet', 'sal', 'original', 'bon', 'dessert', 'excellent', 'ceris', 'gâteau'], ['jour', 'déjeun', 'lieu', 'parisien', '’accueil', '’est', 'chaleur', 'cart', 'vari', 'opton', 'formul', 'menu', 'choucrout', 'fondu', 'viand', 'apprec', 'qualit', '’aisanc', 'portion', 'servic', 'serveur'], ['expérient', 'dégust', 'gastronom', 'menu', 'surpris', 'symp', 'associ', 'produit', 'réuss', 'cuisin', 'fin', 'esper', 'produit', 'exot', 'surpren', 'faut-il', 'maîtris'], ['pât', 'raviol', 'fait', 'maison', 'prépar', 'pât', 'spectaculair', 'voir', 'genr', 'restaur', 'populair', 'chin', 'portion', 'énorm', '’est', 'bon', 'prix', 'raison', 'mention', 'spécial', 'raviol'], ['admettr', 'vrais', 'adress', 'italien', 'vrais', 'pizz', 'resto', 'miniscul', 'ressembl', 'cantin', 'qualit', 'pizz', 'faut', 'fair', 'queu', 'attendr'], ['bonheur', 'faut', 'patient', 'tabl', 'parism', 'délic', 'poisson', 'frais', 'salad', 'poulp', 'fish', 'and', 'chip', 'petit', 'soup', 'entré', 'évas'], ['séjour', 'paul', 'chen', 'foi', 'gras', 'poêl', 'paul', 'chên', 'orang', 'cognac', 'spiritu', 'exquis', 'habitud', 'personnel', 'sympath', 'bon', 'moment', 'voir', 'anné', 'prochain'], ['arriv', 'inform', 'baiss', 'réduct', 'caus', 'retard', 'décid', 'part', 'compagn', 'sensibilis', 'mis', 'pleur', 'demand', 'serviet'], ['femm', 'allé', 'epicur', 'déjeun', 'déçus', 'nourritur', 'souffl', 'esprit', 'servic', 'meilleur', 'étoil', 'michelin', 'restaur', 'serveur', 'symp', 'inform', 'professionnel'], ['bon', 'burg', 'cuisson', 'parfait', 'recommand', 'viand', 'excellent', 'pain', 'aérien', 'croustill', 'bref', 'bon', 'moment', 'bon', 'servic'], ['coupl', 'japonais', 'con', 'nourritur', 'pay', 'mod', 'maison', 'restaur', 'justif', 'obligatoir', 'compren', 'appréhens', 'pris', 'sush'], ['cuisin', 'raffin', 'top', 'servic', 'haut', 'qualit', 'parfaitun', 'cadr', 'histor', 'perfect'], ['excellent', 'pizz', 'pât', 'parfait', 'garnitur', 'fraîcheur', 'qualit', 'inconnu', 'prix', 'correct', 'boisson', 'offert', 'point', 'négat', 'lieu', 'réduit', 'mang', 'confort', 'plac', 'plac', 'parm', 'meilleur'], ['recommand', 'bon', 'accueil', 'burger', 'délici', 'cadr', 'symp', 'serveur', 'accueil', 'aimabl', 'top'], ['pet', 'restaur', 'agréabl', 'pris', 'menu', 'découvert', 'esper', 'inspir', 'asiat', 'français', 'met', 'délici', 'recommand'], ['part', 'excellent', 'cuisin', 'raffin', 'simpl', 'part', 'servic', 'délicat', 'attention', 'personnel', 'ador', 'restaur', 'vrai', 'moment', 'plais', 'plais', 'voir', 'continuent', 'atteindr', 'excellent', 'goût'], ['part', 'cart', 'croir', 'inde', 'indones', 'restaur', 'pâl', 'cop', 'servic', 'fast', 'food', 'prix', 'rest', 'époqu', 'révolu', 'excellent', 'decerestaur', 'trèstrèsdécev', 'devenu'], ['envisag', 'aller', 'ensuit', 'fair', 'déçus', 'arriv', 'départ', 'trait', 'rois', 'nourritur', 'fantast', 'parcour', 'faim', 'boisson'], ['lir', 'avis', 'dityramb', 'épous', 'impress', 'mang', 'restaur', 'entré', 'limit', 'oeuf', 'mayonnais', 'maigr', 'salad', 'accompagn', 'petit', 'foi', 'volaill', 'insipid', 'dessert'], ['moment', 'exceptionnous', 'pris', 'menu', 'déjeun', 'euros', 'vaut', 'amplement', 'envi', 'qualit', 'presqu', 'bon', 'marchétout', 'parf', 'amus', 'bouch', 'dessert', 'dessert', 'figu'], ['dinn', 'terr', 'vu', 'tour', 'eiffel', 'coin', 'confidentiel', 'menu', 'euros', 'conseil', 'gamb', 'amus', 'bouch', 'aperit', 'pren', 'vodk', 'concombr', 'servic', 'impecc', 'souri', 'symp', 'don'], ['habitu', 'grand', 'tabl', 'franc', 'étrang', 'semain', 'derni', 'allé', 'din', 'lund', 'soir', 'gagnair', 'décept', 'taill', 'homard', 'entré', 'bisqu', 'imange', 'bisqu', 'chaud', 'pêch', 'glac'], ['accueil', 'symp', 'chos', 'gâtent', 'command', 'apérit', '-punch', 'cart', 'cocktail', 'fin', 'apparaitr', 'champagn', 'honnêt', 'margarit', 'bof', 'foi', 'gras', 'grand', 'personnal', 'homard', 'poil', 'sal', 'remarqu', 'fait'], ['venu', 'fêt', 'anniversair', 'sœur', 'amis', 'réserv', 'avanc', 'réserv', 'difficil', 'niveau', 'franc', 'minimal', 'surpris', 'heur', 'fatid', 'serveur', 'annonc', 'réserv'], ['situ', 'intérieur', 'magnif', 'palac', 'georg', 'cadr', 'somptueux', 'met', 'fin', 'savour', 'vrai', 'hauteur', 'étoil', 'michelin', 'servic', 'parf', 'égal', 'faux', 'soir', 'agréabl'], ['bon', 'restau', 'quarti', 'faut', 'réserv', 'sall', 'grand', 'semain'], ['conseil', 'nouvel', 'adress', 'parisien', 'agréabl', 'surpr', 'sall', 'intim', 'décor', 'modern', 'épur', 'cart', 'offre', 'choix', 'menus', 'temp', 'tarif', 'vrai', 'intéress', 'menus'], ['extrêm', 'déçu', 'sérieux', 'restaur', 'ann', 'réserv', 'person', 'occas', 'anniversair', 'réserv', 'tabl', 'déjà', 'don', 'person', 'patient', 'heur'], ['décor', 'agréabl', 'pied', 'sacr', 'cœur', 'ruel', 'charm', 'restaur', 'pet', 'bon', 'rentron', 'décor', 'moyen', 'servic', 'démarrag', 'agréabl', 'suit', 'compliqu'], ['parf', 'peut-êtr', 'allé', 'truff', 'noir', 'fantast', 'servic', 'discret', 'attendr', 'restaur', 'grand', 'qualit', 'paris', 'gastronom'], ['foisc', 'sup', 'rep', 'minabl', 'coquillag', 'hareng', 'fidel', 'imag', 'restaur', 'foi', 'gras', 'poel', 'brul', 'épaul', 'agneau', 'confit', 'brul', 'craméeratéeimmange', 'plusl'], ['dîn', 'part', 'soir', 'théâtr', 'servic', 'moyen', 'plat', 'bon', 'qualit', 'prix', 'excess', 'appréci', 'ratatouill', 'film', 'mang', 'sour', 'accompagn', 'metr'], ['situ', 'plac', 'vosg', 'restaur', 'pass', 'agréabl', 'soir', 'accueil', 'chaleur', 'servic', 'rapid', 'plat', 'simpl', 'savour', 'cuisin', 'voudr'], ['cherchion', 'restaur', 'raffin', '’avon', 'déçu', 'restaur', 'bon', 'original', 'propos', 'menu', 'servic', 'portion', 'adapt', 'saveur', 'travaill', 'égal', 'plat', 'cart', 'accueil', 'agréabl', 'chaleur'], ['bel', 'soire', 'anniversair', 'amis', 'rep', 'excellent', 'cuisin', 'raffin', 'plein', 'saveur', 'acceuil', 'chaleur', 'cathy', 'equip', 'recommend', 'fort'], ['fois', 'occasionnel', 'fair', 'plais', 'entré', 'dessert', 'gigot', 'agneau', 'lait', 'amour', 'maîtr', 'hôt', 'brigad', 'mond', 'class', 'reviendron', 'amiti', 'grand'], ['accueil', 'adjug', 'tabl', 'plac', 'port', 'cuisin', 'étud', 'sall', 'décor', 'jacqu', 'garci', 'goût', 'fumoir', 'républ', 'papi', 'peint', 'gaufr', 'imit', 'cuir', 'cordou', 'sieg', 'chinois', 'démentent'], ['servic', 'qualit', 'nourritur', 'goût', 'fraîcheur', 'design', 'vrai', 'parf', 'bon', 'rapport', 'qualitéprix', 'ensembl'], ['situ', 'eme', 'arrond', 'paris', 'lieu', 'simpl', 'épur', 'cuisin', 'bon', 'spécial', 'burg', 'viand', 'viand', 'bon', 'qualit', 'pain', 'burg', 'quantit', 'permettent', 'rest'], ['épicurien', 'ami', 'souhait', 'restaur', 'renom', 'début', 'journ', 'dominical', 'ensoleil', 'entré', 'endroit', 'soign', 'accueil', 'préven', 'chaleur', 'sention'], ['restaur', 'pépit', 'cuisin', 'vérit', 'création', 'servic', 'parf', 'fusion', 'cuisin', 'japonais', 'francais', 'merveil', 'original', 'décor', 'splendid', 'ostentatoir', 'regret', 'vivon', 'loin', 'magnif', 'endroit', 'aller'], ['restaur', 'paris', 'comment', 'lieu', 'intérieur', 'façad', 'critiqu', 'négat', 'vrai', 'plais', 'sens…'], ['chois', 'menu', 'plat', 'excellent', 'inconnu', 'voyag', 'culinair', 'excellent', 'déroul', 'recommand', 'fort'], ['rep', 'appet', 'decouvert', 'decouvert', 'reveil', 'papill', 'gustat', 'serveur', 'écout', 'envi', 'reviendron', 'vacanc'], ['bonjour', 'client', 'réguli', 'constat', 'augment', 'prix', 'expliqu', 'esper', 'regl', 'souc', 'chauffag', 'brui', 'qualit', 'produit', 'net', 'baiss', 'exempl', 'éclair'], ['contradict', 'frapp', 'plat', 'succulent', 'dign', 'étoil', 'guid', 'michelin', 'versus', 'servic', 'réinvent', 'plat', 'serv', 'chainel', 'vin', 'jetédan', 'verresl', 'serveux', 'têt', 'enterr', 'peut-êtr'], ['pât', 'fraîch', 'accommod', 'patron', 'personnel', 'top', 'réserv', 'obligatoir', 'sall', 'petit'], ['recherch', 'resto', 'cour', 'journ', 'visit', 'paris', 'tomb', 'crêper', 'superb', 'accueil', 'régal'], ['not', 'çà', 'don', 'envi', 'mang', 'rapid', 'décept', 'amus', 'bouch', 'bof', 'entré', 'bof', 'poisson', 'symp', 'viand', 'bof', 'bof', 'bof', 'dessert', 'décev', 'sortent', 'avis', 'incroi', 'serveux', 'orgueil', 'pourt', 'kilometr', 'étoil'], ['film', 'quadragénair', 'reconnaîtr', 'don', 'dû', 'aller', 'savion', 'allion', 'paris', 'réserv', 'départ', 'paris', 'enthousiast', 'propos', 'aller', 'déçus', 'personnel'], ['hi', 'rep', '’affair', 'bon', 'accueil', 'plat', 'présent', 'goûteux', 'goût', '’est', 'gustat', 'proport', 'bon', 'accord', 'metsvin', 'parfait', 'invit', '’est', 'régal', '’', 'retourn', 'invit'], ['excellent', 'menu', 'finess', 'explor', 'moult', 'saveur', 'jeuness', 'enthousiast', 'encourag', 'pet', 'bemol', 'cav', 'court', 'blanc', 'pêch', 'jeuness', 'vit', 'pardon', 'vrai', 'réveillon'], ['connaîtr', 'lieu', 'anné', 'constern', 'réalis', 'produit', 'décru', 'qualit', 'prix', 'flamb', 'point', 'sandwich', 'euro', 'derni', 'fois', 'allé'], ['coupl', 'japonais', 'con', 'nourritur', 'pay', 'mod', 'maison', 'restaur', 'justif', 'obligatoir', 'compren', 'appréhens', 'pris', 'sush'], ['kebab', 'meilleur', 'quarti', 'falafel', 'fait', 'maison', 'pris', 'sac', 'congel', 'mis', 'frir', 'patron', 'famili', 'sup', 'mal', 'emploi', 'ca'], ['ador', 'restaur', 'nuit', 'menu', 'automn', 'carr', 'agneau', 'merveil', 'propriétair', 'charm', 'restaur', 'confort', 'servic', 'excellent', 'allez-', 'déçus'], ['expérient', 'décev', 'titr', 'vu', 'toit', 'paris', 'posit', 'élev', 'critiqu', 'laiss', 'croir', 'servic', 'charm', 'inexpériment', 'assiet', 'enlève', 'tabl', 'termin', 'clientel', 'exclus', 'affair'], ['lieu', 'sombr', 'musiqu', 'fort', 'décibel', 'dj', 'surcroît', 'est-ce', 'vrai', 'restaur', 'serveur', 'professionnel', 'indifférent', 'commandon', 'vin', 'arriv', 'tabl', 'expliqu'], ['appréci', 'expérient', 'libanais', 'cadr', 'symp', 'attent', 'sall', 'petit', 'plac', 'étroit', 'prudent', 'réserv', 'plat', '’arôm', 'tarif', 'correct', 'serveux', 'ador', 'pet', 'reproch', '’ambianc', 'lumin', 'faibl'], ['petit', 'sall', 'musiqu', 'symp', 'servic', 'attent', 'fol', 'crois', 'heur', 'mob', 'bon', 'frit', 'dingu', 'commentair', 'disent', 'ci-dessous', 'déçu'], ['découvert', 'hasard', 'allé', 'fois', 'coupl', 'amis', 'famill', 'décor', 'raffin', 'patron', 'sup', 'symp', 'cuisin', 'délici', 'fraîch', 'menu', 'chang', 'jour', '’hésit', 'second'], ['din', 'famill', 'anniversair', 'mar', 'rav', 'soir', 'met', 'exquis', 'délicat', 'innov', 'sup', 'experient', 'servic', 'symp'], ['déjeun', 'famill', 'météo', 'execr', 'rendu', 'moment', 'merveil', 'accueil', 'chaleur', 'équip', 'sall', 'top', 'bric', 'narciz', 'plat', 'exécut', 'cordeau', '’espr', 'maison', 'mer', 'macaron', 'plan', 'brasser'], ['restaur', 'parf', 'nourritur', 'cuit', 'perfect', 'personnel', 'attention', 'expérient', 'mond', 'devr', 'essai', 'fois', 'vi', 'vrai', 'appréci', 'directeur'], ['servic', 'correspond', 'catégor', 'suppos', 'restaur', 'command', 'douzain', 'dem', 'huîtr', 'bretagn', 'nº', 'euros', 'demi-douzain', 'fois', 'pai', 'factur', 'remarqu', 'mis', 'factur', 'huîtr'], ['remarqu', 'serveux', 'minut', 'attent', 'long', 'entré', 'plat', 'perm', 'comment', 'réflexion', 'tabl', 'voisin', 'grossièret', 'parfait', 'inadmissibl', 'plat', 'arrivent', 'bout', 'demi-heur', 'foi'], ['habitu', 'blé', 'sucr', 'travaill', 'an', 'quarti', 'produit', 'bon', 'qualit', 'servic', 'déplor', 'devient', 'réel', 'problem', 'assist', 'mid', 'scen', 'impolitess', 'honteux'], ['ème', 'fois', 'dîn', 'restaur', 'agréabl', 'surpr', 'progress', 'établ', 'goût', 'odeur', 'textur', 'affinent', 'jam', 'tomb', 'complex', 'produit', 'grand', 'qualit', 'ormeau', 'superb'], ['bel', 'établ', 'pouv', 'esper', 'bel', 'endroit', 'fêt', 'an', 'mar', 'bel', 'découvert', 'gustat', 'original', 'accord', 'met', 'vin', 'incroi', 'équip', 'charm', 'accompagn', 'voyag', 'culinair', 'extraordinair'], ['cadr', 'jol', 'hyp', 'brui', 'carpaccio', 'boeuf', 'entré', 'dev', 'compt', 'gramm', 'viand', 'plaisanter', 'plat', 'bas', 'agneau', 'dessert', 'agréabl', 'arrivent', 'effac', 'sent', 'négat'], ['extérieur', 'restaur', 'pai', 'min', 'intérieur', 'décor', 'simpl', 'imag', 'accueil', 'servic', 'serveur', 'bon', 'conseil', 'grand', 'opté', 'assort', 'spécial', 'erythreen'], ['chanc', '’êtr', 'invit', 'fantast', 'restaur', 'femm', 'découvert', 'restaur', 'vit', 'simpl', 'réput', 'servic', 'ancien', 'impecc', 'cuisin', 'classiqu', 'fois'], ['soir', 'plais', 'mettr', 'nouvel', 'fois', 'actif', 'tabl', 'recommand', 'ambianc', 'chaleur', 'accueil', 'top', 'cuisin', 'raffin', 'saveur', 'délici', 'découvr', 'ingrédient'], ['pet', 'restaur', 'iranien', 'quarti', '’on', 'sert', 'cuisin', 'irannien', 'traditionnel', 'dimanch', 'brunch', 'mond', 'lerestaurent', 'eat', 'pet', 'confort', 'cuisin', 'varie', 'représent', 'tradit', 'irannien', 'sort', 'riz’', 'plat', '’entre'], ['excellent', 'decor', 'superb', 'endroit', 'branch', 'agreabl', 'fois', 'personel', 'attention', 'rep', 'esthet', 'délici', 'cuisin', 'nouvel', 'asiatis'], ['tj', 'frais', 'bon', 'assiet', 'mixt', 'copieux', 'gourmand', 'menu', 'taboul', 'houmous', 'sandwich', 'choix', 'boisson', 'idéal', 'goût', 'fraîcheur', 'quantit', 'bon', 'rapport', 'qualit', 'prix'], ['cadr', 'grandios', 'servic', 'millimetr', 'cuisson', 'impecc', 'assiet', 'dècorè', 'bel', 'vaissel', 'adress', 'reten', 'conseil', 'moder', 'bravoplus'], ['cuisin', 'fraîch', 'invent', 'servic', 'attent', 'cadr', 'plais', 'portion', 'fort', 'voir', 'géner', 'restaur', 'gastronom', 'bel', 'salad', 'homard', 'allianc', 'sucr', 'sal', 'pigeon', 'not', 'cacaot', 'accompagn', 'végétal', 'don'], ['excellent', 'rep', 'cuisin', 'maison', 'excellent', 'soir', 'découvert', 'spécial', 'coup', 'souffl', 'accueil', 'savoir-fair', 'bientôt'], ['bon', 'adress', 'couscous', 'plais', 'papill', 'copieux', '’espac', 'étroit', 'servic', 'sympath', 'rapid', 'refair', 'plais'], ['dîn', 'restaur', 'samed', 'habitu', 'tabl', 'étoil', 'genr', 'établ', 'rel', 'château', 'opté', 'menu', 'dégust', 'boisson', 'malheur', 'déçus', 'met'], ['fil', '’attent', 'reflet', 'qualit', 'crêp', 'pât', 'mol', 'cuit', 'franch', 'top', '’attend', 'mieux'], ['allé', 'déjeun', '’espoir', '’un', 'déjeun', 'réuss', '’est', 'exceptionnel', '’abord', 'fort', 'incit', 'prendr', 'coup', 'champagn', 'euros', 'coup', 'comprend', 'serveur', '’empress'], ['excellent', 'accueil', 'nourritur', 'délici', 'con', 'cuisin', 'iranien', 'certifi', 'adress', 'déçu', 'prix', 'abord'], ['déjeun', 'restaur', 'aki', 'travers', 'ru', 'entrer', 'aki', 'boulang', 'termin', 'rep', 'succulent', 'dessert', 'achet', 'pain', 'emport', 'pain', 'franc', 'pain', 'japon', 'bon', 'pâtisser', 'personnel', 'agréabl'], ['servic', 'agréabl', 'meilleur', 'burger', 'paris', 'arrond', 'confondu', 'ketchup', 'mayo', 'fraîch'], ['rdv', 'pro', 'dejeun', 'clos', 'boulot', 'hihih', 'decor', 'epur', 'comptoir', 'servic', 'millimetr', 'tim', 'plat', 'bon', 'rafin', 'top', 'entré', 'magnif', 'set'], ['restaur', 'correct', 'bon', 'burg', 'bon', 'frit', 'ger', 'demand', 'limit', 'fin', 'rep', 'val', 'ca', 'met'], ['excellent', 'dîn', 'serv', 'gentil', 'marc', 'petit', 'soin', 'regal', 'papill', 'yeux', 'ador', 'dessert', 'cygn', 'chantilly'], ['restaur', 'feutr', 'servic', 'exceptionnel', 'professionnel', 'décorum', 'rappel', 'devr', 'grand', 'maison', 'impression', 'connaît', 'histoir', 'endroit', 'mythiqu', 'menu', 'tour', 'argent', 'calibr', 'équilibr', 'goût'], ['allé', 'fois', 'mang', 'cos', 'sandwich', 'ingrédient', 'ajout', 'roquet', 'gâteau', 'carott', 'moiti', 'gros', 'an', 'déçu'], ['fin', 'gourmet', 'visit', 'centain', 'restaur', 'étoil', 'michelin', 'cobé', 'incontest', 'caractéris', 'servic', 'désagré', 'sommeli', 'arrog', 'comprendr', 'pauvr', 'plouc', 'choix'], ['désol', 'partag', 'enthousiasm', 'ambi', 'autour', 'échopp', 'lieu', 'symp', 'avis', 'impossibl', 'mang', 'plac', 'vient', 'heur'], ['accueil', 'chaleur', 'gérard', 'nécessair', 'tabl', 'press', 'vrai', 'bon', 'brestois'], ['adress', 'inaccessibl', 'voitur', 'part', 'cadr', 'agréabl', 'dîn', 'restaur', 'profond', 'décev', 'hont', 'fair', 'aut', 'attendr', 'client', 'total', 'plat', 'patienc', 'limit', 'commenc', 'jet'], ['passag', 'paris', 'voul', 'fair', 'bon', 'restaur', 'class', 'étoil', 'guid', 'michelin', 'décept', 'assiet', 'langoustin', 'boyau', 'ris', 'veau', 'pein', 'chaud', 'bla', 'bla', 'jam'], ['décept', 'aut', 'remettr', 'jam', 'pied', 'not', 'sal', 'menu', 'produit', 'exceptionnel', 'entré', 'petit', 'morceau', 'rouget', 'goût', 'plat', 'principal'], ['menu', 'servic', 'raffin', 'recommandon', 'chois', 'sélect', 'vin', 'accompagn', 'verr', 'mariag', 'parf', 'pass', 'bon', 'soir'], ['bonheur', 'matin', 'parisien', 'mois', 'mai', 'soleil', 'marronni', 'fleur', 'bouquet', 'final', 'déjeun', 'kei', 'perfect', 'loin', 'menu', 'déjeun', 'grand', 'finess', 'voyag', 'culinair', 'magnif', 'monsieur', 'prend'], ['visit', 'restaur', 'mois', 'novembr', 'début', 'soir', 'arriv', 'not', 'établ', 'visit', 'critiqu', 'premi', 'visit', 'constat'], ['restaur', 'décev', 'emplac', 'tabl', 'réserv', 'mois', 'occas', 'anniversair', 'mariag', 'avais', 'précis', 'désir', 'tabl', 'sympath', 'signifi', 'respons', 'charl', 'divray', 'emplac', 'milieu', 'sall'], ['restaur', 'magnif', 'cadr', 'exceptionnel', 'moment', 'romant', 'souh', 'servic', 'four', 'season', 'impecc', 'redir', 'retenon', 'aut', 'découvert', 'gustat', 'plat', 'plat', 'chef', 'équip'], ['mar', 'récent', 'pris', 'dîn', 'ici', 'meilleur', 'rep', 'jam', 'kob', 'beef', 'steak', 'fantast', 'aim', 'coquill', 'saint-jacqu', 'hors-', 'œuvr', 'servic', 'excellent'], ['coupl', 'japonais', 'con', 'nourritur', 'pay', 'mod', 'maison', 'restaur', 'justif', 'obligatoir', 'compren', 'appréhens', 'pris', 'sush'], ['réserv', 'anniversair', 'amour', 'établ', 'conform', 'réput', 'parf', 'menu', 'fin', 'pris', 'spécial', 'quenel', 'brochet', 'canettel', 'servic', 'protocolair', 'charm', 'lieu'], ['meilleur', 'grec', 'mang', 'paris', 'menu', 'encornet', 'farc', 'fêt', 'riz', 'calamar', 'boulet', 'viandespomm', 'terr', 'salad', 'légum', 'vari', 'produit', 'frais', 'cuisin', 'presqu', 'client', 'servic', 'impecc', 'arriv'], ['lieu', 'surpren', 'retrouv', 'sall', 'circulair', 'acces', 'libr', 'cuisin', 'ter', 'extérieur', 'centr', 'accueil', 'serv', 'petit', 'fill', 'équip', 'petit', 'soin', 'agréabl'], ['restaur', 'délici', 'personnel', 'fort', 'fort', 'agréabl', 'vrai', 'ange', 'vin', 'délici', 'met', 'jam', 'mang', 'bon', 'vi', 'excellent', 'soir', 'nouvel', 'an', 'grâc', 'restaur', '🎆'], ['bon', 'adress', 'déçu', 'endroit', 'charm', 'accueil', 'sympath', 'bel', 'cart', 'proposit', 'étudi', 'plat', 'propos', 'produit', 'frais', 'délic', 'conseil', 'fort'], ['réserv', 'fêt', 'anniversair', 'épous', '’et', 'fêt', 'ven', 'loin', 'occas', 'grand', 'restaur', 'tabl', 'not', 'michelin', 'endroit', 'agréabl', 'personnel', 'grand', 'nombr', 'accueil'], ['soir', 'formid', 'début', 'fin', 'décor', 'original', 'gastronom', 'ador', 'vieux', 'bat', 'rénov', 'gout', 'tendanc', 'respect', 'lieu', 'ambianc'], ['magnif', 'restaur', 'romant', 'vu', 'jardin', 'intérieur', 'plat', 'divin', 'présent', 'servic', 'agréabl'], ['venu', 'dîn', 'semain', 'derni', 'fois', 'restaur', 'gastronom', 'magnif', 'pet', 'palac', 'parisien', 'nouvel', 'fois', 'admir', 'qualit', 'servic', 'choix', 'vin', 'sommeli', 'japon', 'qualit'], ['restaur', 'situ', 'tour', 'eiffel', '’accueil', 'servic', 'excellent', 'bienveil', 'part', '”asif”', '’un', 'amabl', 'exeptionnel', 'aim', 'cuisin', 'indien', 'bon', 'endroit👌', '’entr'], ['inadmissibl', 'restaur', 'gastro', 'pris', 'servic', 'propos', 'serveur', 'met', 'tabl', 'bout', 'minut', 'demandon', 'minut', 'fois', 'choix', 'cart', 'pein', 'pos'], ['ange', 'situ', 'bastill', 'ami', 'emmen', 'second', 'nuit', 'paris', 'impression', 'nourritur', 'ambianc', 'retourn', 'fois', 'restaur', 'pet', 'intim', 'famill'], ['grand', 'moment', 'bonheur', 'restaur', 'su', 'invent', 'cuisin', 'raffin', 'délici', 'cadr', 'agréabl', 'servic', 'impecc', 'eau', 'gazeux', 'auvergnat', 'top', 'chef', 'preuv', 'imagin', 'absolu', 'prépar', 'plat', 'succulent', 'addit'], ['brui', 'mang', 'mid', 'heureux', 'servic', 'impecc', 'serveur', 'souri', 'agréabl', 'pro', 'burger', 'bon', 'aim', 'foi', 'gras'], ['bel', 'découvert', 'accueil', 'chaleur', 'souri', 'cuisin', 'plein', 'saveur', 'reviendron'], ['excellent', 'rapport', 'qualit', 'prix', 'servic', 'exceptionnel', 'serveux', 'ador', 'recomment', 'restaur', 'mérit', 'vrai', '’êtr', 'connu'], ['pal', 'royal', 'galer', 'vivien', '’endroit', 'histor', 'brasser', 'typiqu', 'xix', 'siecl', '’assiet', 'gât', 'plat', 'fad', 'produit', '’un', 'qualit', 'moyen', 'qualit'], ['excellent', 'acceuil', 'servic', 'ordre', 'cuisin', 'maitr', 'cuisson', 'parfait'], ['bon', 'cuisin', 'iranien', 'typiqu', 'simpl', 'réalis', 'viand', 'sauc', 'brochet', 'accompagn', 'riz', 'herb', 'safran', 'rat', 'glac', 'ros', 'safran'], ['recommand', 'mers', 'cherchent', 'ambianc', 'agréabl', 'produit', 'bon', 'qualit', 'recet', 'délici', 'cas', 'test', 'poisson', 'parfait', 'cuit', 'typ', 'fritur', 'fonction', 'goût'], ['dir', 'pet', 'garçon', 'an', 'mang', 'rep', 'gastronom', 'rep', 'décev', 'jam', 'mang', 'servic', 'sup', 'nourritur', 'moyen', 'mal', 'vrai', 'moyen'], ['semain', 'prix', 'extrêm', 'attract', 'plat', 'propos', 'excellent', 'menus', 'intéress', 'typiqu', 'liban', 'respons', 'top', 'amical', 'commerc'], ['excellent', 'mang', 'emport', 'leg', 'mang', 'kebab', 'saveur', 'viand', 'sauc', 'incompar', 'essai', 'pint', 'bar', 'environ', 'part', 'servic', 'excellent', 'prix'], ['réguli', 'restaur', 'cuisin', 'délici', 'raffin', 'ambianc', 'intim', 'prix', 'plat', 'boisson', 'correct', 'compt', 'tenu', 'qualit', 'produit'], ['dîn', 'amour', 'vendred', 'soir', 'soire', 'parfait', 'début', 'fin', 'laiss', 'surprendr', 'menu', 'surpris', 'divin', 'mang', 'étoil', 'ador', 'cuisin', 'chef', 'moret', 'vari', 'qq', 'audac'], ['vit', 'serv', '=', 'réchauff', 'fois', 'venion', 'fois', 'délici', 'mang', 'dign', 'réput', 'décept', 'dîn', 'cuiss'], ['vrai', 'banal', 'voir', 'mauv', 'prix', 'propos', 'affich', 'fier', 'certificat', 'excellent', 'final', 'déçu', 'peut-êtr', 'meilleur', 'com'], ['excellent', 'déjeun', 'décept', 'faim', 'part', 'nourritur', 'délicieusem', 'bienvenu', 'mang', 'painm', 'air', 'délici'], ['superb', 'accueil', 'rep', 'délici', 'group', 'professionnel', 'person', 'servic', 'qualit', 'environ', 'adapt'], ['résident', 'quarti', 'rendu', 'boulanger', 'pain', 'chocolat', 'suit', 'meilleur', 'prix', 'attribu', 'viennoiser', 'confirm', 'excellent', 'feuilletag', 'délici', 'réel', 'excellent', 'pain', 'chocolat'], ['-pas', 'cuisin', 'assemblag', 'chois', 'sauc', 'burgerl', 'steak', 'mou', 'gout', '-restaur', 'pet', '-grand', 'fil', 'attent', 'gen', 'tabl', 'sall', 'acces', 'wc', '-pris', 'command'], ['festival', 'saveur', 'textur', 'cour', 'parcour', 'gustat', 'bel', 'découvert', 'cadr', 'sobr', 'calm', 'serveur', 'chef', 'attention', 'réun', 'pass', 'bon', 'soir', 'simpliqu', 'fair', 'plais'], ['jol', 'décept', 'servic', 'glacial', 'ambianc', 'cuisin', 'bon', 'exceptionnel', 'rapport', 'prix', 'ambianc', 'hautain', 'accompagn', 'mar', 'apprec', 'cuisin', 'japonais', 'pens', 'trouv', 'boeuf', 'wagyu'], ['cuisin', 'raffin', 'grass', 'lourd', 'décor', 'exceptionnel', 'respir', 'attrape-tour', 'nez', 'dommag'], ['déconseillon', 'fort', 'adress', 'mang', 'poulet', 'rôt', 'morceau', 'apport', '’av', 'viand', 'pur', 'goût', 'consist', 'plat', 'basiqu', '’est', 'vrai', 'regret'], ['décor', 'froid', 'raffin', 'assiet', 'richess', 'saveur', 'réchauffent', 'progress', 'atmospher', 'réjou', 'plat', 'nouvel', 'découvert'], ['’ai', 'réserv', 'regard', 'commentair', 'tripadvisor', 'savoir', 'ressembl', 'restaur', 'allion', 'mang', '’est', 'pet', 'restaur', 'intim', '’un', 'vingtain', 'plac', 'prétent', 'accueil', 'sympath', 'expliqu', 'déroul'], ['arriv', 'restaur', 'voituri', 'clé', 'voitur', 'laiss', 'accueil', 'réserv', 'oubli', 'heureux', 'tabl', 'sol', 'trouv', 'rep', 'moyen', 'personnel', 'présent', 'final', 'récuper', 'clé', 'aupres'], ['mar', 'fêt', 'ème', 'anniversair', 'mariag', 'ici', 'expérient', 'inoubli', 'servic', 'chambr', 'servic', 'nourritur', 'incroi', 'recommandon', 'vrai', 'endroit'], ['sort', 'crev', 'fain', 'pai', 'portion', 'ridicul', 'foi', 'gras', 'correct', 'poisson', 'cuit', 'arros', 'bouillon', 'typ', 'kub', 'présent', 'nectar', 'cuiss', 'pigeon', 'cacaot', 'net'], ['restaur', 'connu', 'paris', 'décev', 'cuisin', 'régal', 'ambianc', 'monacal', 'addit', 'élev', 'justifiéeplus'], ['hotel', 'parisien', 'servic', 'parf', 'ensembl', 'plat', 'décev', 'dign', 'grand', 'chef', 'nerf', 'foi', 'gras', 'chaud', 'asperg', 'cru', 'poisson', 'dessert', 'vaut', 'détour', 'décev', 'compt', 'tenu'], ['critiqu', 'posit', 'restaur', 'chois', 'test', 'restaur', 'déçu', 'prix', 'attract', 'nourritur', 'fad', 'sauc', 'présent', 'tacos', 'liquid', 'difficult'], ['restaur', 'effervescent', 'pris', 'assiet', 'fallafel', 'rest', 'ambianc', 'bon', 'rep', 'mid', 'goût', 'spécial', 'aller', 'calm', 'personnel', 'appréci', 'atmospher'], ['dynam', 'humour', 'quarti', 'gay', 'serveur', 'symp', 'disponibl', 'nom', 'plat', 'évoc', 'point', 'posit', 'burger', 'bof', 'bof', 'bof', 'grand', 'chos', 'frais', 'frit'], ['agréabl', 'surpr', 'restaur', 'rempl', 'attent', 'plan', '’accueil', 'chaleur', 'plat', 'maison', 'cuisin', 'bon', 'produit'], ['anné', 'con', 'mang', 'fois', 'affirm', 'part', 'grand', 'tabl', 'capital', 'jam', 'déçu', 'qualit', 'plat'], ['accueil', 'servic', 'conseil', 'sommeli', 'excellent', 'niveau', 'attent', 'uniqu', 'vin', 'bourgogn', 'cart', 'incroi', 'jeun', 'chef', 'créatif', 'attent', 'futur', 'grand', 'équip', 'famill', 'bon', 'mélang', 'audaci'], ['fois', 'vi', 'faut', 'aller', 'pierr', 'gagnair', 'visit', 'découvert', 'saveur', 'inconnu', 'servic', 'excellent', 'simpl', 'restaur', 'étoil', 'préfer'], ['quarti', 'soir', 'recherch', 'bon', 'tabl', 'chich', 'allé', 'domenico', 'suit', 'avis', 'accueil', 'patron', 'symp', 'début', 'fin'], ['bon', 'accueil', 'bon', 'rapport', 'qualit', 'prix', 'cuisin', 'appliqu', 'plat', 'original', 'délici', 'mérit', 'détour'], ['global', 'enchant', 'dîn', 'restaur', 'décembr', 'part', 'entré', 'saint-jacqu', 'sembl', 'fad', 'plat', 'paru', 'délici', 'original', 'prépar', 'chevreuil', 'barbu', 'dessert', 'produit', 'excellent', 'prépar'], ['accueil', 'symp', 'cadr', 'chaleur', 'conseil', 'serveur', 'plein', 'avis', 'bref', 'ais', 'essentiel', 'cart', 'fourn', 'original', 'farfelu', 'résultat'], ['bel', 'découvert', 'menu', 'choix', 'cart', 'dégust', 'plat', 'déjeun', 'mis', 'bouch', 'surpren', 'excellent', 'demand', 'début', 'allerg', 'avers', 'aim', 'poisson'], ['endroit', 'vrai', 'meilleur', 'restaur', 'allé', 'paris', 'servic', 'parf', 'cart', 'vari', 'plat', 'délici', 'bref', 'superb', 'endroit'], ['chois', 'lu', 'critiqu', 'téléram', 'excellent', 'avis', 'loin', 'compt', 'serv', 'cuisin', 'niveau', 'prix', 'par', 'impens', 'pourt', 'faut', 'résoudr', 'évident', 'entré', 'dessert'], ['bon', 'acceuil', 'gentilless', 'professionnal', 'viand', 'bon', 'cadr', 'cocooning', 'recommand', 'bon', 'appet'], ['mauvais', 'expérient', 'restaur', 'commenc', 'réserv', 'mal', 'pris', 'person', 'serveur', 'press', 'pren', 'command', 'servic', 'revoir', 'attent', 'plat', 'dessert', 'couron'], ['rep', 'meilleur', 'étoil', 'met', 'fin', 'servic', 'parf', 'guind', 'détendu', 'cadr', 'superb', 'déjeun', 'terr', 'bon', 'rapport', 'qualitéprix', 'menu', 'euros', 'pet', 'bonus'], ['invent', 'faut', 'oubli', 'bas', 'gastronom', 'français', 'autoris', 'mauv', 'coup', 'épic', 'vagu', 'asiat', 'classiqu', 'justic', 'gastronom', 'faudr', 'julien', 'dum', 'chang', 'fusil', 'épaul'], ['accueil', 'select', 'chaleur', 'sall', 'magnif', 'décoréel', 'atmospher', 'paisibl', 'raffin', 'omniprésent', 'confort', 'mobili', 'mis', 'plac', 'tabl', 'dégust', 'fricass', 'cep', 'amand', 'fraich', 'régal', 'saison'], ['’etr', 'mis', 'tabl', '’heur', '’entr', 'plat', 'caf', 'oubli', 'offert', 'coup', 'champagn', 'pass', 'temp', 'personnel', 'débord', 'impress', 'désorganis', 'total', 'réclam', 'plat'], ['bon', 'accueil', 'plat', 'original', 'bon', 'fish', 'and', 'chip', 'revis', 'plat', 'poisson', 'cart', 'menu'], ['handicap', 'rest', 'indésir', 'titr', 'terror', 'accueil', 'indign', '’un', 'palec', 'part', 'courbet', 'conventionnel', 'hésit', 'compass', 'fric', 'compt', 'bouff', 'term', 'brasser'], ['nourritur', 'bon', 'servic', 'sup', 'nourritur', 'invent', 'formul', 'plat', 'meilleur', 'choix', 'excellent', 'quantit', 'nourritur', 'parfait', 'préparez-vous', 'surpr', 'nouvel', 'faveur'], ['original', 'cuisin', 'accord', 'met', 'vin', 'parf', 'cadr', 'agréabl', 'servic', 'petit', 'soin'], ['dîn', '’edern', 'tabl', 'entré', 'commenc', 'arriv', 'fin', 'dîn', 'serveur', 'maximum', 'plat', 'sort', 'plat', 'ajout'], ['réserv', 'restaur', 'hugo', 'ru', 'papillon', 'réorient', 'hugo', 'ru', 'fayet', 'désagr', 'aller', 'restaur', 'chois', 'hugo', 'franch', 'terribl', 'serveur', 'occup'], ['pât', 'pizz', 'truff', 'mauvais', 'quas', 'impossibl', 'coup', 'frit', 'truff', 'goût', 'toilet', 'dégueul', 'serveur', 'puent', 'transpir', 'éviterplus'], ['premier', 'rep', 'femm', 'enfant', 'restaur', 'paris', 'cuisin', 'bon', 'vari', 'servic', 'excellent', 'recommand'], ['endroit', 'sympath', 'viand', 'mal', 'tendress', 'esper', 'aventur', 'fair', 'réflexion', 'insult', 'serveur', 'remettr', 'pied', 'sûr', 'ème', 'fois', 'ème'], ['cart', 'menu', 'st', 'valentin', 'servic', 'coupl', 'vin', 'attendon', 'dîn', 'magiqu', 'restaur', 'étoil', 'déceptionà', 'part', 'conseil', 'vinl', 'dessert', '’un', 'entré', 'plat', 'serv', 'tied'], ['chang', 'propriétair', 'ilion', 'rajout', 'tabl', 'assurent', 'servic', 'minut', 'attent', 'crêp', 'chocolat', 'enfant', 'an', 'entendr', 'faut', 'group', 'serveux'], ['chois', 'menu', 'dégust', 'accord', 'met', 'vin', 'parf', 'choix', 'produit', 'cuisson', 'époustoufl', 'déco', 'vaissel', '’ensembl', 'restaur', 'grand', 'qualit', 'bon', 'accueil', 'égal', '’hésit', 'voul', 'fair', 'plaisir'], ['jam', 'jusqu’à', 'scen', 'thélem', '’ai', 'déçu', 'chef', 'japon', 'yoshitak', 'takayagan', 'étoil', 'commenc', 'pourt', 'bon', 'beau', 'amuse-bouch', 'menu', 'servic', '’aver', 'décev'], ['quitt', 'précipit', 'restaur', 'fac', 'accueil', 'servic', 'détest', 'rendus', 'établ', 'bon', 'chic', 'bon', 'genr', 'atmospher', 'feutr', 'charm', 'hôtess', 'japonais', 'reçu', 'sall', 'restaur', 'étag', 'confort'], ['’abeil', '’est', 'fois', 'cadr', 'raffin', 'atmospher', 'feutr', 'éleg', 'charm', 'esthet', 'cuisin', 'invent', 'prétenti', 'saveur', 'just', 'équilibr', 'rav', 'gourmet', 'curieux', 'accueil', 'servic'], ['servic', 'grand', 'qualit', 'cuisin', 'grand', 'finess', 'bas', 'produit', 'qualit', 'mélang', 'arôm', 'structur', 'cart', 'vin', 'fabul', 'partout', 'gentilless', 'efficac', 'personnel', 'tabl', 'préfer', 'paris'], ['lieu', 'sombr', 'musiqu', 'fort', 'décibel', 'dj', 'surcroît', 'est-ce', 'vrai', 'restaur', 'serveur', 'professionnel', 'indifférent', 'commandon', 'vin', 'arriv', 'tabl', 'expliqu'], ['bon', 'choix', 'fruit', 'mer', 'cuisin', 'français', 'confort', 'personnel', 'attent', 'attendr', 'ensembl', 'bon', 'séjour', 'cadr', 'classiqu'], ['court', 'spectacl', 'excellent', 'din', 'brill', 'original', 'cadr', 'modern', 'serv', 'tact', 'prix', 'raison', 'quarti', 'recommand'], ['excellent', 'soire', 'bel', 'établ', 'decor', 'sall', 'spectaculair', 'fort', 'beau', 'dessin', 'verr', 'éclairag', 'chang', 'continuel', 'fort', 'integr', 'boiser', 'sculpt', 'dat', 'restaur', 'original', 'appercu', 'chef'], ['addit', 'sale', 'cuisin', 'infect', 'cadr', 'cert', 'depays', 'merit', 'genr', 'servic', 'champ', 'elyse', 'personnel', 'desagre', 'incompetent', 'servic', 'long', 'mal', 'viand', 'odeur', 'bizarr', 'chirash', 'prix'], ['restaur', 'résum', 'petit', 'sall', 'déco', 'simpl', 'charm', 'attend', 'cuisin', 'éton', 'justifi', 'faill', 'réserv', 'semain', 'avanc', 'déçu', 'cuisin', 'exceptionnel', 'dressag', 'manqu', 'précis'], ['servic', 'pompeux', 'culpabilis', 'prend', 'qu’il', '’est', 'sert', 'vin', 'écorch', 'nez', '’un', 'conviv', 'pouvoir', 'claqu', 'talon', 'serv', 'remont', 'bouteil', '’un', 'temp', '’assiet', '’est', 'médium', 'mieux', 'goutt'], ['plais', 'dégust', 'cuisin', 'exquis', 'raffin', 'restaurent', 'étoil', 'accueil', 'chaleureuxavec', 'servic', 'grand', 'qualit', 'moment', 'except', 'pass'], ['nourritur', 'bon', 'servic', 'lent', 'menu', 'limit', 'tourist', 'faut'], ['bizarr', 'départc', 'restaur', 'personnel', 'doiv', 'dissuad', 'prendr', 'entré', 'plat', 'myriad', 'petit', 'chos', 'sert', 'sen', 'désorient', 'fin', 'perdr', 'pren'], ['découvert', 'occas', 'anniversair', 'mar', 'bonheur', 'parf', 'chois', 'servic', 'plat', 'transport', 'bouch', 'derni', 'simpl', 'délici', 'menu', 'abord', 'produit', 'artichaut', 'asperg', 'homard'], ['mang', 'juin', 'planch', 'médiocr', 'qualit', 'ingrédient', 'gamm', 'sort', 'pot', 'achet', 'carrefour', 'pât', 'pompon', 'sauc', 'dign', 'boit', 'industriel'], ['arriv', 'plui', 'batt', 'réserv', 'restaur', 'lafourchet', 'pizz', 'fromag', 'tuer'], ['debut', 'fin', 'grand', 'moment', 'sall', 'petit', 'taill', 'apport', 'atmospher', 'concivial', 'décontract', 'chef', 'chef', 'deplac', 'sauc', 'plat', 'savoir', 'pass'], ['apparent', 'japon', 'traditionnel', 'restaur', 'bénéfic', 'vu', 'mauv', 'rep', 'prix', 'élev', 'sush', 'sashim', 'demand', 'frais', 'impress', 'mang', 'chewing-gum', 'horribl', 'especialment', 'teniendo', 'cuent', 'import'], ['cadr', 'superb', 'spacieux', 'mal', 'insonoris', 'fort', 'tabl', 'voisin', 'entend', 'nourritur', 'délici', 'trouv', 'plat', 'végétarien', 'teriyak', 'suk', 'yaki'], ['découvert', 'jour', 'suit', 'visit', 'tripadvisor', 'regretton', 'bon', 'accueil', 'conseil', 'expliqu', 'chef', 'concoct', 'dégust', 'vari', 'content', 'difficil', 'fil', 'voul', 'plat'], ['allé', 'paul', 'chen', 'an', 'gard', 'souven', 'tabl', 'gibi', 'fol', 'cadr', 'ringard', 'souh', 'assiet', 'pleur', 'bonheur', 'chang', 'faut'], ['venus', 'découvr', 'cuisin', 'xxi', 'ème', 'siecl', 'franch', 'vaut', 'détour', 'guid', 'michelin', 'dep', 'étoil', 'tarb', 'noix', 'macadami', 'poutargu', 'bitt'], ['venus', 'collègu', 'test', 'crêper', '’est', 'mauv', '’est', 'fad', 'sec', 'déçu', 'commentair', 'élogi', 'pet', 'resto', 'attend', 'mieux'], ['bon', 'burg', 'produit', 'frais', 'maison', 'produit', 'surgel', '’assiet', 'appréci'], ['cherch', 'dîn', 'théatr', 'réserv', 'restaur', 'bon', 'accueil', 'excellent', 'servic', 'attent', 'professionnel', 'fruit', 'mer', 'bon', 'qualit', 'serv', 'tartar', 'assaison', 'bémol', 'vin', 'caraf', 'prix', 'bouteil'], ['réserv', 'vendred', 'mid', 'contretemp', 'contraint', 'bus', 'toqu', 'modifi', 'réserv', 'propos', 'partag', 'moment', 'soir', 'visit', 'longu', 'tarif', 'chois', 'initial', 'servic', 'irréproch', 'recommand'], ['bon', 'tabl', 'met', 'raffin', 'personnel', 'sympath', 'bon', 'conseil', 'patron', 'satisfair', 'satisfair', 'fréquent', 'restaur', 'parisien', 'pianovin', '’un', 'meilleur', 'connaisson', 'recommand', 'vaut', 'détour', 'délici'], ['voyag', 'japon', 'temp', '’un', 'paus', 'déjeun', 'amour', 'ramen', 'excellent', 'nouill', 'fait', 'maison', 'délic', '’ambianc', 'décor', 'donnent', 'vrai', '’impress', '’êtr', 'japon', 'recommand', 'viv', '’', 'retourn', 'volonti'], ['restaur', 'cuisin', 'français', 'revisit', 'asiat', 'précis', 'finess', 'invent', 'servic', 'hauteur', 'attent', 'expliqu', 'passion', 'décor', 'revanch', 'goûttrop', 'précieux', 'est-ce', 'grav'], ['minut', 'attent', 'pizz', 'heur', 'déjeun', 'pizz', 'tremp', 'eau', 'serveur', 'excus', 'mot', 'mot', 'normal', 'madam', 'anormal', 'vrai'], ['servic', 'dign', '’un', 'kebab', 'servic', 'plateau', 'frit', 'papi', 'sulfuris', '’endroit', 'cosy', 'ru', 'fréquent', 'qualit', 'burg', 'top', 'accessibl', 'niveau', 'prix', 'recommand'], ['gross', 'décept', 'restaur', 'pourt', 'recommand', 'guid', 'routard', 'person', 'sit', 'déjà', 'apérit', 'mojito', 'fad', 'goût', 'cocktail', 'fruit', 'alcool', 'insipid', 'vient', 'ensuit', 'rep', 'début', 'fin'], ['déjeun', 'restaur', 'jour', 'ouvertur', 'déjà', 'occas', 'goût', 'cuisin', 'david', 'toutain', 'offici', 'agap', 'substanc', 'impatient', 'voir', 'don', 'restaur'], ['meilleur', 'resto', 'gastronom', '’ai', 'vi', '’équip', 'incroi', 'vin', '’ai', 'mot'], ['ambianc', 'deco', 'accueil', 'top', 'régal', 'hamburger', 'cuisson', 'parfait', 'accompagn', 'sauc', 'bas', 'fromag', 'fondu', 'different', 'gard', 'petit', 'plac', 'dessert', 'maison', 'tiramisu', 'tuer'], ['allé', 'hôtel', 'amis', 'dîn', 'célebr', 'cuisin', 'ambianc', 'quadragénair', 'servic', 'nourritur', 'excellent', 'sour', 'cour', 'sol', 'serveur'], ['passag', 'paris', 'femm', 'rav', 'délici', 'dîn', 'cart', 'choix', 'accueil', 'agréabl', 'moment', 'bientôt', 'plais', 'revoirnous', 'recommandon'], ['allez', 'yeux', 'ferm', 'sup', 'symp', 'mond', 'vrai', 'côt', 'rassur'], ['copin', 'pens', 'sup', 'endroit', 'faut', 'voir', 'film', 'chaleur', 'accueil', 'entré', 'conduit', 'tabl', 'satisfait', 'rep'], ['temp', 'rêv', 'ven', 'goût', 'fameux', 'fallafel', 'fallafel', 'ru', 'rosi', 'fois', 'fil', 'attent', 'intermin', 'rebut', 'jour', 'début', 'servic', 'entrer', 'attendr'], ['horribl', 'sais', 'déplais', 'command', 'pris', 'chef', 'heur', 'arriv', 'total', 'manqu', 'consider', 'interdit', 'alimentair', 'command', 'sœur', 'allerg', 'coriandr'], ['surpris', 'restaur', 'class', 'tripadvisor', 'plat', 'banal', 'manquent', 'saveur', '’accueil', 'limit', 'servic', 'nonchal', 'patron', 'imbus', 'réussit', 'deco', 'simplet', 'plac', 'sol', 'vrai'], ['burger', 'bon', 'copieux', 'menus', 'abord', '~', 'servic', 'efficac', 'ambianc', 'sympath', 'clientel', 'majoritair', 'compos', 'tourist', 'conseil', 'fair', 'rep', 'amis'], ['excellent', 'dîn', 'saveur', 'recherch', 'agréabl', 'accueil', 'chaleur', 'sall', 'sympath', 'bon', 'rapport', 'qualit', 'prix', 'sup', 'chef', 'passion', 'attent', 'conseil'], ['bon', 'accueil', 'pet', 'coup', 'fil', 'confirm', 'sourir', 'voituri', 'ambianc', 'chaleur', 'tabl', 'rond', 'dress', 'fil', 'fêt', 'an', 'ador', 'pren', 'carr', 'plat', 'signatur', 'chef', 'coquillet', 'truff', 'blanch'], ['jol', 'cadr', 'déçu', 'qualit', 'produit', 'servic', 'déçu', 'qualit', 'produit', 'plat', 'chois', 'ceris', 'gâteau', 'addit', 'euros'], ['bon', 'couscous', 'sup', 'accueil', 'serv', 'bon', 'rapport', 'qualit', 'prix', 'commerc', 'essai', 'paris', 'spécial', 'oriental'], ['cuisin', 'merveil', 'personnel', 'attention', 'messag', 'priv', 'assiet'], ['bon', 'soir', 'servic', 'attent', 'cuisin', 'invent', 'plein', 'surpris', 'saveur', 'original', 'jol', 'présent', 'couleur', 'textur', 'concour', 'plais', 'sall', 'plein', 'mard', 'semain', 'vacanc', 'conviv', 'habitu', 'âge'], ['superb', 'accueil', 'crêp', 'délici', 'garn', 'panin', 'extra', 'simpl', 'top', 'recommand', 'fort', 'établ'], ['pref', 'ancien', 'restaur', 'restaur', 'eric', 'frechon', 'exsit'], ['déjeun', 'improvis', 'sall', 'couvert', 'bois', 'rempl', 'servic', 'présent', 'habitu', 'servic', 'classiqu', 'question', 'plat', 'réalis', 'minimum', 'attendr', 'genr', 'établ'], ['decu', 'court', 'period', 'paris', 'vu', 'gener', 'commentair', 'fais', 'joi', 'vouloir', 'mang', 'fianc', 'rendu', 'restaur', 'reserv', 'jour', 'avanc', 'suit'], ['déco', 'minimal', 'objet', 'vu', 'cuisin', 'servic', 'efficac', 'cool', 'sall', 'brui', 'tabl', 'cuisin', 'rêv', 'produit', 'ordre', 'cuisson', 'aim', 'prépar', 'intelligent', 'fin'], ['’ai', 'déjeun', 'hi', 'restaur', 'fois', 'découvert', 'entré', 'fabul', 'mer', 'bol', 'allait', 'papill', 'ensuit', 'veau', 'honor', 'extraordinair', '’entr', 'déssert'], ['lieu', 'résolu', 'meilleur', 'tabl', 'parisien', 'met', 'not', 'araign', 'entré', 'divin', 'tartar', 'vegetal', 'merveil', 'égal', 'bar', 'lign', 'lait', 'breb', 'caviar'], ['fois', 'allion', 'michel', 'rostang', 'déjà', 'serv', 'coup', 'champagn', 'évent', 'fin', 'bouteil', 'fallu', 'réclam', 'nouvel', 'coup', 'voulu', 'chang', 'plat', 'menu', 'gastronom', 'maitr'], ['déjeun', 'mid', 'cadr', 'accueil', 'sympath', 'nourritur', 'original', 'fois', 'mangion', 'erithréen', 'malad', 'coïncident'], ['chois', 'cart', 'intérêt', 'servic', 'lent', 'professionnel', 'point', 'posit', 'jol', 'présent', 'assiet', 'prix', 'élev', 'habitu', 'restaur', 'étoil', 'faubourg', 'anomal'], ['compagnon', 'voisin', 'restaur', 'réguli', '’est', 'valeur', 'sûr', 'bon', 'produit', 'travaill', 'nouvel', 'saveur', 'soir', 'risotto', 'rat', 'cabillaud', 'insipid', '’accompagn', 'cuit', 'chanterel', 'annonc', 'cart', '’et'], ['galet', 'crep', 'sucre', 'vrai', 'bon', 'cher', 'jus', 'pomm', 'bio', 'excelent', 'point', 'negat', 'prix', 'oeuvr', 'min', 'salad', 'euros', 'caf', 'euros'], ['merveil', 'moment', 'cadr', 'bel', 'hôtel', 'reçu', 'ami', 'familiar', 'ambianc', 'club', 'anglais', 'beau', 'salon', 'rep', 'excellent', 'bon', 'produit', 'trait', 'respect', 'invent'], ['habitu', 'lieux', 'an', 'pet', 'restaur', 'pai', 'min', 'ru', 'étroit', 'pépit', 'connu', 'époqu', 'devenu', 'réput', 'uniqu', 'bouch', 'oreil', 'constat', 'fréquent', 'augment'], ['cuisin', 'cadr', 'correct', 'désagré', 'voir', 'refus', 'cart', 'bleu', 'cb', 'proven', 'compt', 'bancair', 'oblig', 'regl', 'rep', 'espec'], ['réserv', 'facil', 'michelin', 'propos', 'menu', 'dégust', 'plat', 'accueil', 'personnalis', 'menu', 'dégust', 'offre', 'correspond', 'gout', 'servic', 'dign', 'établ', 'attent', 'discret', 'efficac', 'bel', 'présent', 'portion', 'idéal', 'déjeun', 'présenc', 'mr'], ['connaiss', 'restaur', 'plais', 'allé', 'mer', 'fill', 'régal', 'pris', 'pain', 'pit', 'garn', 'assiet', 'pass', 'don', 'envi', 'retourn', 'attent', 'arriv'], ['restaur', 'incontourn', 'capital', 'mang', 'succulent', 'falafel', 'interpel', 'ru', 'command', '’attent', 'vaut', 'pein', 'avis', 'lieu', 'découvr', 'serait-c', '’atmospher'], ['merveil', 'moment', 'grand', 'découvert', 'cadr', 'extraordinair', 'excellent', 'sall', 'plat', 'ambianc', 'visuel', 'sonor', 'plat', 'déclin', 'façon', 'bouquet', 'saveur', 'réalis', 'cuisin', 'art'], ['découvert', 'cuisin', 'hospital', 'iranien', 'met', 'fin', 'savour', 'restaur', 'aimabl', 'passion', 'essai'], ['test', 'restaur', 'récent', 'suit', 'avis', 'élogi', 'laiss', 'clair', 'déçus', 'expliqu', 'cadr', 'symp', 'servic', 'présent', 'press', 'débarrass', 'tabl', 'sympath'], ['situ', 'petit', 'ruel', 'charm', 'hall', 'paris', 'restaur', 'plais', 'reçu', 'bon', 'accueil', 'met', 'larg', 'hauteur', 'esper', 'cuisson', 'sauc', 'accord'], ['restaur', 'burg', 'mérit', '’arrêt', 'original', 'nom', 'plat', 'dskcochon', 'versatil', 'gentilless', 'serveur', 'ambianc', 'festiv', 'regn', 'mang', 'prix', 'correct', 'égard', 'quarti'], ['atterr', 'hasard', 'ami', 'event', 'bercy', 'ensuit', 'servic', 'nickel', 'agréabl', 'chanc', 'poulet', 'croustill', 'bon', 'surgel', 'supermarch'], ['accueil', 'extrêm', 'chaleur', 'cuisin', 'délici', 'bon', 'moment', 'cadr', 'agréabl'], ['dîn', 'cart', 'saison', 'truff', 'blanch', 'vrai', 'régal', 'parf', 'servic', 'sommeli', 'symp', 'pompeux', 'vu', 'cuisin', 'intéress', 'regn', 'maîtr', 'chef'], ['servic', 'din', 'hauteur', 'grand', 'restaur', 'sall', 'sonor', 'fonction', 'hôt', 'jour'], ['vingtain', 'étoil', 'vi', 'instant', 'meilleur', 'cuisin', 'compliqu', 'cadr', 'mieux', 'prix', 'mal'], ['sup', 'adress', 'goût', 'atmospher', 'sup', 'symp', 'ami', 'recommand', 'délici', 'équip', 'symp', 'rapideil', 'efficac', 'succes', 'bon', 'caf'], ['réserv', 'couvert', 'anniversair', 'mard', 'avril', 'confirm', 'téléphon', 'réconfirm', 'matin', 'reçois', 'mail', 'inform', 'attend', 'appel'], ['pet', 'ami', 'visit', 'hank', 'burg', 'paris', 'ador', 'endroit', 'prix', 'raison', 'forf', 'rep', 'énorm', 'steak', 'jardin', 'verr'], ['réserv', 'accueil', 'min', 'aimabl', 'genr', 'pet', 'lign', 'grand', 'restaur', 'mond', 'réserv', 'verr', 'suit'], ['venu', 'amis', '’et', 'sup', '’accueil', 'chaleur', 'bon', 'galet', 'bel', 'terr'], ['restaur', 'familial', 'ais', 'proprio', 'sup', 'symp', 'cart', 'original', 'recherch', 'produit', 'ultra', 'frais'], ['séjourn', 'original', 'ze', 'cuisin', 'galer', 'anné', 'class', 'hôtel', 'meilleur', 'rep', 'jam', 'content', 'lu'], ['acceuil', 'symp', 'larg', 'choix', 'bier', 'bier', 'belg', 'bon', 'bières^^', 'trouv', 'mal', 'bier', 'artisanal', 'français', '-', 'essai', 'mang'], ['cadr', 'bleut', 'contemporain', 'configur', 'sall', 'permet', 'tabl', 'espac', 'cuisin', 'gastronom', 'plein', 'bon', 'surpris', 'serv', 'servic', 'efficac', 'agréabl', 'hésit', 'prendr', 'menu', 'cart', 'blanch', 'bon', 'rapport', 'qualitéquantitéprix'], ['situ', 'mur', 'restaur', 'histor', 'guy', 'savoi', 'monnai', 'paris', 'scen', 'thélem', 'restaur', 'découvr', 'faut', 'expérient', 'goût', 'jour', 'associ', 'souhaitent', 'spectacl', 'theâtr', 'poch', 'suiv'], ['servic', 'top', 'copieux', 'bon', 'prix', 'vrai', 'abord', 'formul', 'étudi', 'burger-boisson-frites-dessert', 'recommand', 'viv'], ['cadr', 'prestigi', 'nourritur', 'moyen', 'tartar', 'hauteur', 'brasser', 'prix', 'bonus', 'frit', 'tourist', 'prennent', 'photo', 'intérêt', 'dommag', 'gross', 'décept'], ['parf', 'sall', 'magnif', 'décor', 'gentilless', 'grand', 'professionnal', 'équip', 'sall', 'cuisin', 'recherch', 'délici', 'vin', 'conseil', 'sommeli', 'expert', 'humour'], ['arriv', 'person', 'organis', 'servic', 'entré', 'plat', 'partag', 'délici', 'bon', 'adress', 'égal', 'ambianc', 'accueil', 'chaleur'], ['venon', 'réguli', 'brasser', 'cadr', 'magnif', 'voisin', 'fois', 'déçu', 'espéron', 'mieux', 'derni', 'fois', 'cuisin', '’est', 'extraordinair', 'mauvais', 'servic', 'pitoi'], ['faut', 'retourn', 'essai', 'plat', 'bon', 'original'], ['déçu', 'qualit', 'assaison', 'plat', 'butt', 'chicken', 'servic', 'correct', 'nourritur'], ['tentat', '’all', 'din', 'restaur', '’abeil', 'fois', 'rest', 'jour', 'list', '’attent', 'nouvel', '’évolu', 'part', '«', 'chlo', '»', 'connaisson', 'prénom', 'forc'], ['prix', 'raison', 'pizz', 'garnitur', 'géner', 'vrai', 'saveur', 'tiramisu', 'vaut', 'pein', 'mignon', 'petit', 'bocal', 'décor', 'spartiat', 'don', 'charm', 'lieu'], ['brasser', 'ombre', 'cuisin', 'banal', 'médiocr', 'servic', 'bon', 'execr', 'limit', 'incorrect', 'client', 'décor', 'exceptionnel', 'sauv', 'naufrag', 'etabl', 'évit'], ['group', 'dinn', 'décor', 'ambianc', 'froid', 'musiqu', 'restaur', 'personnal', 'pris', 'entré', 'plat', 'dessert', 'déçus', 'plat', 'fad', 'assaison'], ['moment', 'convivial', 'amis', 'soir', '’anniversair', '’hôt', 'reçu', '’amour', 'expliqu', '’histoir', 'plat', 'tradit', 'iranien', 'sent', 'maison', 'régal', 'entré'], ['meilleur', 'adress', 'ramen', 'paris', 'parf', '’attent', 'longu', 'vrai', 'régal'], ['lu', 'bon', 'critiqu', 'amateur', 'burger', 'décid', 'essai', 'endroit', 'cadr', 'agréabl', 'propr', 'personnel', 'dévou', 'disponibl', 'aimabl', 'toilet', 'propr', 'léger', 'odeur', 'fritur', 'sall', 'principal', 'somm', 'support', 'barem', 'prix', 'compétit', 'confianc'], ['bas', 'avis', 'dithyramb', 'décid', 'découvr', 'lieu', 'anniversair', 'femm', 'accompagn', 'fill', 'an', 'bon', 'accueil', 'bon', 'nourritur', 'niveau', 'bon', 'brasser', 'vaut', 'certain', 'addit', 'sal'], ['souhait', 'vivr', 'expérient', 'gastronom', 'français', 'allez', 'déjeun', 'dîn', 'restaur', 'epicur', 'hôtel', 'bristol', 'déjeun', 'pris', 'menu', 'jour', 'parf', 'équilibr', 'entré', 'principal', 'langoustin', 'ris', 'veaucoquill', 'saint', 'jacqu', 'caill', 'exceptionnel'], ['venu', 'ami', 'brunch', 'excellent', 'moment', 'jus', '’orang', 'frais', 'boisson', 'chaud', 'plat', 'chaud', 'pet', 'dessert', 'choix', 'bon', 'brunch', 'renouvel'], ['sit', 'meilleur', 'pizz', 'mond', 'pourt', 'ador', 'pizz', 'vrai', 'médiocr', 'bon', 'pât', 'ingrédient', 'basic', 'endroit', 'moch', 'bon', 'march', 'puisqu', 'boisson', 'mid'], ['’ai', 'pris', 'formul', '’ai', 'goût', 'doubl', 'burg', 'qualit', 'rdv', 'prix', 'peut-on', 'accept', 'mang', 'doigt', '’endroit', 'pet', 'exigu', 'chaud', 'formul', 'intéress'], ['passag', 'paris', 'vien', 'pass', 'simpl', 'moment', 'divin', 'magret', 'doubl', 'cuisson', 'excellent', 'gar', 'habit', 'samatan', 'pay', 'canard', 'invit', 'patron', 'veux', 'sud', 'ouest'], ['impos', 'réserv', 'endroit', 'froid', 'visibl', 'client', 'arriv', 'suit', 'tiennent', 'compt', 'demand', 'arriv', 'ensuit', 'accueil', 'froid', 'temp', 'pris'], ['dîn', 'septembr', 'favor', 'impression', 'merveil', 'endroit', 'bois', 'boulogn', 'déjeun', 'cadr', 'enchanteur', 'magnif', 'écrin', 'verdur', 'sert', 'décor', 'cuisin', '’except', 'rep', 'cart'], ['expérient', 'burg', 'végétarien', 'loup', 'arriv', 'reçu', 'fin', 'recevoir', 'pein', 'pol', 'ferm', 'cherch', 'erreur', 'grand', 'insist', 'bout', 'levr'], ['chois', 'endroit', 'dîn', 'anniversair', 'mar', 'entier', 'accord', 'commentair', 'cornish', 'personnenourritur', 'fabul', 'préparez-vous', 'étroit', 'vin', 'maison', 'vrai', 'excellent', 'appréci'], ['traiteur', 'convivial', 'délici', 'copieux', 'prix', 'correct', 'crois', 'mang', 'meilleur', 'épinard', 'vi', 'bolly', 'nan', 'test', 'hésit'], ['attir', 'foul', 'queu', 'autour', 'glaci', 'oriental', 'confort', 'avis', 'posit', 'laiss', 'tent', 'glaci', 'compt', 'glac', 'taill', 'moyen', 'boul', 'grand', 'enrob', 'pistach'], ['fidel', 'pat', 'nouill', 'fois', 'semain', 'bon', 'mois', 'collègu', 'pris', 'plat', 'emport', 'découvr', 'verr', 'viv', 'dégoût', 'jam'], ['livr', 'deliveroo', 'promo', 'burg', 'achet', '=', 'burg', 'offert', 'pai', 'heureux', 'hésit', 'blend', 'connaisson', 'burg', 'burg', 'intérêt', 'limit', 'fast', 'food'], ['moqu', 'clair', 'mond', 'monsieur', 'prétenti', 'incompétent', 'sen', 'contrefou', 'din', 'an', 'jour', 'juin', 'invit', 'épous', 'réserv', 'mois'], ['désir', 'prendr', 'boisson', 'chaud', 'pâtisser', 'milieu', 'mid', 'week', 'end', 'pluvieux', 'dirig', 'établ', 'bel', 'décor', 'accueil', 'hauteur', 'serveux', 'aimabl', 'blaguent', 'trompent'], ['bon', 'accueil', 'mond', 'pet', 'soin', 'stagiair', 'ador', 'cuisin', 'qualit', 'bon', 'rapport', 'qualit', 'prix', 'menus', 'not', 'coup', 'champagn', 'qd', 'terr', 'agréabl', 'vu'], ['passag', 'paris', 'jeud', 'avril', 'dîn', 'amour', 'pierr', 'gagnair', 'cart', 'explos', 'saveur', 'bouch', 'personnel', 'ador', 'professionnel', '’écout', 'parf'], ['endroit', 'plais', 'fac', 'squar', 'ren', 'gall', 'accueil', 'exemplair', 'cart', 'hétéroclit', 'assiet', 'copieux', 'prix', 'raison', 'fair'], ['restaur', 'parf', 'point', 'parf', 'cuisin', 'parf', 'servic', 'parf', 'cadr', 'parf', 'point', 'loin', 'nancy'], ['bonjour', 'occas', 'dîn', 'hi', 'soir', 'mar', 'restaur', 'fusion', 'franco-brésilien', 'sall', 'petit', 'agréabl', 'serveur', 'aimabl', 'savoir', 'cuisin', 'trouv', 'command', 'personnel'], ['excellent', 'cuisin', 'restaur', 'étoil', 'guid', 'michelin', 'plat', 'savour', 'présent', 'jol', 'servic', 'agréabl', 'sommeli', 'bon', 'conseil', 'géner', 'servic', 'fair', 'servic', 'déjeun'], ['fais', 'joi', 'aller', 'endroit', 'retourn', 'cuisin', 'total', 'incipid', 'dign', 'mauvais', 'cafétéri', 'maison', 'pauvr', 'serveur', 'sympath', 'faut', 'chef', 'cuisini'], ['bof', 'pizz', 'calzon', 'jambon', 'tied', 'superpos', 'frais', 'bref', 'meilleur', 'pizz', 'paris', 'loin'], ['exempl', 'pieg', 'tourist', 'ateli', 'robuchon', 'situ', 'decor', 'froid', 'ame', 'mandarin', 'oriental', 'complet', 'mid', 'soir', 'presum', 'acceuil', 'agreabl', 'decor', 'veut', 'odysse', 'espac'], ['bon', 'soir', 'cart', 'court', 'possibil', 'chang', 'ingrédient', '’aim', 'accueil', 'servic', 'attention', 'bel', 'cart', 'vin', 'prix', 'abord', 'cadr', 'épurez'], ['accord', 'met', 'vin', 'justesprésent', 'raffinéedessert', 'excellent', 'servic', 'professionnel', 'efficac', 'maitr', 'hotel', 'top', 'rapport', 'qualit', 'prix', 'raison', 'voituri', 'inneficac', 'restaur', 'conseil', 'asperg', 'ris', 'veau', 'sublimespigeon', 'décevantmacaron', 'exceptionnel', 'pass', 'fêt', 'mer', 'inoubli'], ['régal', 'fois', 'alain', 'miam', 'miam', 'crêp', 'top', 'cornet', 'végétarien', 'tuer', 'sandwich', 'tomb', 'préfer', 'toast', 'qualit', 'aliment', 'rendez-vous', '’attendr', 'grignot'], ['rapid', 'copieux', 'excellent', 'soup', 'nouill', 'saut', 'nouill', 'froid', 'recommand', 'excellent', 'rapport', 'qualit', 'prix'], ['décept', 'approxim', 'cuisin', 'servic', 'séver', 'jug', 'menu', 'euros', 'droit', 'attendr', 'minimum', 'chef', 'permanent', 'sall', 'comport'], ['visit', 'impos', 'fois', 'réuss', 'déçu', 'tj', 'exceptionnel', 'bon', 'accueil', 'déjeun', 'saveur', 'surpren', 'bref', 'faut', 'aller', 'yeux', 'ferm', 'rapport', 'qualit', 'prix', 'intéress', 'parf'], ['handicap', 'pass', 'chemin', 'vir', 'class', 'chien-guid', 'cann', 'famill', 'fuir', 'urgenc'], ['fois', 'allé', 'rav', 'zor', 'oeuvr', 'exceptionnel', 'vrai', 'joi', 'découvr', 'savoir', 'avanc', 'serv', 'bon', 'plat', 'principal', 'égal'], ['rendus', 'occas', 'anniversair', 'mariag', 'choix', 'bon', 'cadr', 'somptueux', 'dorur', 'décor', 'floral', 'vivr', 'moment', 'magiqu', 'chois', 'menu', 'ballad', 'gourmand', 'déjeun'], ['nourritur', 'délici', 'abord', 'personnel', 'symp', '--on', 'besoin', 'excurs', 'paris'], ['bon', 'adress', 'allez-', 'amis', 'hésit', 'barman', 'qualit', 'réactif', 'adam'], ['mang', 'main', 'plat', 'érythréen', 'ven', 'test', 'regret', 'prix', 'abord', 'servic', 'sympath', 'souhait', 'pouvoir', 'mettr', 'ros', 'seau', 'glaçon'], ['restaur', 'confort', 'famill', 'nourritur', 'vrai', 'bon', 'goût', 'parfait', 'prépar', 'servic', 'impecc', 'bel', 'expérient', 'alimentair', 'français'], ['veut', 'invent', 'perd', 'saveur', 'amus', 'bouch', 'autour', 'courg', 'mauvais', 'entré', 'fad', 'poisson', 'bon', 'original', 'dessert', 'excellent', 'mauv', 'rapport', 'qualit', 'prix', 'prix', 'préfer', 'étoil', 'restaur', 'exempl'], ['allé', 'fois', 'cobé', 'invit', 'parent', 'conseil', 'connaiss', 'avis', 'unanim', 'excellent', 'amus', 'bouch', 'dessert', 'vrai', 'bonheur', 'gustat', 'vin', 'faison', 'fois', 'confianc', 'sommeli'], ['curieux', 'prix', 'remport', 'pizzaiolo', 'test', 'lieu', 'part', 'adress', 'fétich', 'rapport', 'qualité-prix', 'exceptionnel', 'boisson', 'offert', 'produit', 'sain', 'frais', 'accueil', 'cour'], ['déçu', 'restaur', 'voulion', 'aller', 'dîn', 'réserv', 'facil', 'sall', 'plein', 'sign', '’alert', 'vendred', 'soir', 'rep', 'frugal', 'dep', 'plat', 'cuisin', 'créativ', 'gourmand'], ['bon', 'tabl', 'bon', 'servic', 'plat', 'bon', 'accueil', 'patron', 'médiocr', 'monsieur', 'réflex', 'client', 'remarqu'], ['situ', 'étoil', 'retrouv', 'établ', 'allé', 'an', 'frapp', 'chos', 'cuisin', 'plein', 'saveur', 'innovationun', 'équip', 'attention', 'confirm', 'envi'], ['allé', 'dîn', 'second', 'fois', 'senderen', 'accueil', 'parf', 'heur', 'accept', 'serv', 'plat', 'excellent', 'raffin', 'servic', 'parf', 'serveur', 'délicat', 'sympath', 'bémol', 'fameux'], ['bon', 'moment', 'plat', 'qualit', 'copieux', 'bon', 'accueil', 'excellent', 'servic', 'offre', 'rapport', 'qualitéprix'], ['réun', 'pass', 'moment', 'symp', 'cadr', 'agréabl', 'cart', 'don', 'envi', 'pourt', 'pass', 'imagin', 'menu', 'euros', 'foi', 'gras', 'pigeonneau', 'papi'], ['personnel', 'sympath', 'hamburger', 'simpl', 'bon', 'frit', 'froid', 'ami', 'burg', 'content', 'idé', 'ven', 'hôtel', 'aver', 'décev'], ['pizz', 'emport', 'bon', 'prix', 'abord', 'aut', 'paris', 'boisson', 'compris', 'chef', 'agréabl', 'produit', 'qualit', 'pizz', 'nutel', 'vrai', 'régal', '😊'], ['restaur', 'accueil', 'personnel', 'pet', 'soin', 'client', 'reviendr', 'bientôt'], ['simpl', 'efficac', 'souhait', 'tent', 'moment', 'occas', 'petit', 'devantur', 'tabl', 'trottoir', 'exigu', 'pet', 'restaur', 'pein', 'plac', 'bon', 'accueil', 'ambianc', 'musiqu', 'léger', 'fort'], ['vérit', 'institu', 'famill', 'mang', 'fois', 'passon', 'quarti', 'rav', '’accueil', 'qualit', 'nourritur', 'prix', 'raison', 'qualit', 'rdv', '’hésit'], ['cuisin', 'excellent', 'goût', 'odorat', 'complet', 'sensat', 'physiqu', 'bouch', 'inhérent', 'grand', 'cuisin', 'plat', 'gout', 'remarqu', 'goût', 'arrivent', 'bouch', 'raffin', 'plat'], ['qu’un', 'restaur', 'annul', 'tabl', 'person', 'préven', 'recherch', 'altern', 'fêt', 'anniversair', '’est', 'recherch', 'tripadvisor', 'restaur', 'propos', '’où'], ['rendu', 'glaci', 'soir', 'pass', 'bar', 'quarti', 'origin', 'italien', 'déjà', 'connaisseur', 'glac', 'villag', 'glaci', 'vrai', 'hauteur', 'voit', 'parfum', 'cook'], ['bon', 'maîtris', 'cuisin', 'original', 'gouteux', 'vin', 'factur', 'euros', 'cart', 'apero', 'offert', 'ambianc', 'parisien', 'bobo', 'recommandon'], ['invit', 'dîn', 'affair', 'salon', 'priv', 'rez-de-chauss', 'attend', 'excellent', 'malheur', 'servic', 'moyen', 'chambr', 'brui', 'situ', 'couloir', 'pass', 'serveur', 'nourritur', 'prévu', 'plat'], ['visit', 'incontourn', 'whaou', 'allez', 'hésit', 'meilleur', 'restaur', 'vill', 'conseil', 'amis'], ['cadr', 'pass', 'partout', 'cuisin', 'recherch', 'mérit', 'étoil', 'portion', 'congru', 'irait', 'mémor', 'création', 'plat', 'veau', 'dis', 'rôt', 'lit', 'châtaign'], ['arrivon', 'sall', 'sol', 'hyp', 'exigu', 'attendr', 'min', 'mot', 'pet', 'verr', 'petit', 'dégust', 'fair', 'patient', 'aut', 'niveau', 'accueil'], ['din', 'menu', 'bon', 'rapport', 'qualit', 'prix', 'supplemnt', 'filet', 'st', 'pierr', 'saveur', 'giroll', 'attent', 'longu', 'quart', '’heur', 'plat', 'principal', 'attitud', 'curieux', 'direct', 'polem'], ['cadr', 'prestigi', 'nourritur', 'moyen', 'tartar', 'hauteur', 'brasser', 'prix', 'bonus', 'frit', 'tourist', 'prennent', 'photo', 'intérêt', 'dommag', 'gross', 'décept'], ['anné', 'offron', 'restaur', 'étoil', 'anniversair', 'pré', 'catelan', 'catégor', 'paris', 'aim', 'lieu', 'cadr', 'sall', 'professionnal', 'rapid', 'servic'], ['suit', 'reportag', 'diffus', 'émiss', 'bon', 'envi', 'test', 'fish', 'an', 'chip', 'français', 'déçus', 'bon', 'accueil', 'fish', 'and', 'chip', 'gras', 'poisson', 'frais', 'fond'], ['concept', '«', 'gastro', 'festif', '»', 'accord', 'tradit', 'modern', 'servic', 'efficac', 'jeun', 'assiet', 'vaissel', 'chois', 'goût', 'cadr', 'raffin', 'épur', '’aim', 'côt', 'cuisin', 'plais', 'retrouv', 'duo'], ['conseil', 'amis', 'vrai', 'agréabl', 'endroit', 'retourn', 'coupl', 'amis'], ['excellent', 'adress', 'quarti', 'difficil', 'trouv', 'bon', 'restaur', 'accueil', 'chaleur', 'attent', 'désir', 'cuisin', 'créativ', 'bon', 'choix', 'produit', 'excellent', 'rapport', 'qualité-prix'], ['we', 'had', 'the', 'cours', 'din', 'with', 'truff', 'noir', 'and', 'win', 'select', 'excellent', 'foodsurprising', 'win', 'and', 'friendly', 'servic', 'all', 'we', 'needed', 'for', 'great', 'evening'], ['rep', 'excellent', 'bout', 'bout', 'fauss', 'not', 'côt', 'portion', 'gastronom', 'petit', 'sall', 'bel', 'brui', 'tabl', 'person', 'quas', 'coll'], ['test', 'hi', 'room', 'famill', 'ador', 'hamburger', 'formul', 'propos', 'choix', 'limit', 'larg', 'qualit', 'viand', 'ingrédient', 'excellent', 'pet', 'bémol', 'frit', 'croustill', 'goût'], ['accueil', 'ador', 'meilleur', 'burg', 'paris', 'recommand', 'déçu', 'recommand', 'fait', 'internet', 'lieu', 'exceptionnel', 'lillois'], ['souhait', 'déjeun', 'dîn', 'japon', 'quitt', 'xvem', 'arrond', 'allez', 'fair', 'tour', 'concert', 'cuisin'], ['mond', 'rapport', 'qualitéprix', 'médiocr', 'retrouv', 'faut', 'cuisin', 'mauvais', 'présent', 'gras', 'quantit', 'minim', 'sauc', 'fort', 'masqu', 'goût', 'plat', 'tré', 'déçu', 'recommand', 'acceuil'], ['accueil', 'chaleur', 'plat', 'délici', 'prix', 'djouj', 'brochet', 'poulet', 'koubid', 'brochet', 'viand', 'hach', 'vrai', 'impress', 'mang', 'iran', 'bon', 'qualit', 'bon', 'rapport'], ['réserv', 'jour', 'venu', 'plais', 'retrouv', 'restaur', 'dign', 'nom', 'accueil', 'parf', 'cadr', 'superb', 'aim', 'fleur', 'personnel', 'professionnel', 'présent', 'bon'], ['voisin', 'restaur', 'pass', 'jour', 'impression', 'qualit', 'généros', 'plat', 'patron', 'agréabl', 'serveux', 'sympath', 'reviendron', 'dout'], ['franc', 'an', 'étrang', 'dîn', 'kei', 'regal', 'papill', 'yeux', 'découvert', 'gustat', 'accueil', 'formid', 'servic', 'impecc', 'guind', 'amus', 'bouch', 'dessert', 'redir'], ['seul', 'franc', 'jour', 'déjeun', 'pris', 'menu', 'colbert', 'décev', 'soup', 'bas', 'langoustin', 'hyp', 'sal', 'rai', 'beurr', 'noir', 'crem', 'vanill', 'oeuf', 'neig', 'hyp', 'light'], ['déjeun', 'person', 'jeud', 'mid', 'arriv', 'sall', 'pris', 'command', 'pris', 'dem', 'heur', 'plat', 'appet', 'decor', 'bon', 'poisson', 'eté'], ['allé', 'là-b', 'amis', 'paris', 'jour', 'servic', 'vrai', 'bon', 'nourritur', 'simpl', 'magnif'], ['décept', 'déjeun', 'samed', 'décembr', 'pré', 'catelan', 'attent', 'cadr', 'agréabl', 'rep', 'bon', 'problem', 'bon', 'excellent', 'supren', 'gross', 'décept', 'exempl', 'accompagn', 'fois', 'gras', 'entré'], ['voir', 'servic', 'sup', 'rapid', 'soup', 'bon', 'raviol'], ['plais', 'découvr', 'célebr', 'lucas-carton', 'restaur', 'senderen', 'chef', 'endroit', 'magnif', 'nom', 'rest', 'servic', 'niveau', 'brasser', 'nourritur', 'décev', 'choix', 'limit'], ['adress', 'référent', 'décid', 'chang', 'officiel', 'pieg', 'tourist', 'confirm', 'serveur', 'tabl', 'soir', 'résum', 'prix', 'prohibit', 'coup', 'champagn', 'gam', 'photo', 'appui'], ['sall', 'royaleluxu', 'servic', 'hauteur', 'cuisin', 'exquis', 'produit', 'grand', 'qualit', 'mention', 'spécial', 'dessert', 'soir', 'divin'], ['découvert', 'hasard', 'grâc', 'avis', 'tripadvisor', 'pet', 'établ', 'merveil', 'quarti', 'ambianc', 'convivial', 'superb', 'musiqu', 'tap', 'original', 'qualit', 'serv', 'patron', 'exceptionnel', 'excellent', 'découvert', 'refair'], ['accueil', 'mobili', 'accord', 'froid', 'laid', 'cantin', 'rest', 'minut', 'part', 'restaur', 'ambianc', 'don', 'envi', 'din'], ['paus', 'bobun', 'sup', 'restau', 'quarti', 'bon', 'habitu', 'mang', 'produit', 'frais', 'goutus', 'vrai', 'cantin'], ['équip', 'formidableun', 'cuisin', 'extraordinair', 'qualit', 'produit', 'imagin', 'mis', 'œuvr', 'satisfair', 'grand', 'vit'], ['pauvr', 'colbert', 'défend', 'grandeur', 'franc', 'aim', 'usag', 'nom', 'établ', 'brui', 'forc', 'propr', 'assiet', 'cart', 'vin', 'squelet'], ['bon', 'trouv', 'genr', 'lieu', 'qualit', 'goût', 'bref', 'bon', 'produit', 'prépar', 'talent', 'prix', 'vrai', 'raison', 'voul', 'vrais', 'bon', 'pizz', 'napolitain', 'hésit', 'aller'], ['délici', 'aut', 'burg', 'potato', 'croustill', 'pris', 'tourist', 'oignon', 'frit', 'relish', 'steak', 'végétal', 'bon', 'bun', 'chaud', 'bourrat', 'servic', 'rapid', 'bon', 'accueil', 'parf'], ['crois', 'meilleur', 'endroit', 'paris', 'servic', 'bon', 'incroi', 'nourritur', 'revenus'], ['expérient', 'merveil', 'séjourn', 'hôtel', 'mang', 'an', 'paris', 'chois', 'rest', 'riv', 'gauch', 'fois-c', 'person', 'voul', 'retourn', 'restaur', 'epicur'], ['déjeun', 'collègu', 'agréabl', 'servic', 'attention', 'rythm', 'ingrédient', 'frais', 'travaill', 'formul', 'euros', 'satisfais', 'attendr', 'petit', 'carr', 'pain', 'lavash', 'chaud', 'cond', 'légum', 'épic'], ['redir', 'servic', 'cuisin', 'parfait', 'épic', 'prix', 'conven', 'bon', 'adress', 'retourn'], ['conseil', 'avis', 'collègu', 'réserv', 'tabl', 'petit', 'sall', 'cuisin', 'parl', 'cuisin', 'pouv', 'fair', 'étoil', 'malheur', 'profit', 'privileg', 'tabl', 'coupl'], ['excellent', 'accueil', 'convivial', 'cuisin', 'français', 'goût', 'plat', 'changent', 'jour', 'recet', 'vari', 'potager', 'noix', 'top'], ['retourn', 'derni', 'faubourg', 'fois', 'précédent', '’ai', 'moment', 'incroi', 'commenc', '’accueil', 'équip', 'petit', 'soin', 'évident', 'plais', 'dégust', 'plat', 'exquis', '’équip', 'moment'], ['cuisin', 'cocktail', 'savour', 'soir', 'semain', 'bcp', 'mond', 'musiqu', 'fort', 'retrouv', 'noir', 'chelou', 'difficil', 'entendr'], ['rep', 'prix', 'rapport', 'qualitéprix', 'médiocr', 'plat', 'verr', 'euros', 'accueil', 'ok', 'évit'], ['soir', 'sublim', 'plat', 'signatur', 'oursins-caviar', 'dessert', 'miel', 'découvert', 'inoubli', 'exécu', 'parfait', '’et', 'expérient', 'culinair', 'vrai', 'exceptionnel', 'ador', 'fêtion', '’anniversair', 'mar', 'personnel'], ['recherch', 'restaur', 'dîn', 'choix', 'port', 'bon', 'excus', 'lectur', 'excellent', 'avis', 'trip', 'disons-l', 'suit', 'déçus', 'loin', 'faut', 'coup', 'champagn', 'campar', 'apérit'], ['pension', 'mang', 'bon', 'cuisin', 'français', 'décept', 'escargot', 'fad', 'goût', 'ail', 'beurr', 'oeuf', 'meuret', 'nagent', 'sauc', 'liquid', 'pomm', 'terr', 'delav', 'accompagn', 'sol', 'fin', 'crêp', 'suzet'], ['hasard', 'trajet', 'gar', 'halt', 'alma', 'pet', 'endroit', 'jol', 'décor', 'original', 'tabl', 'accessibl', 'petit', 'échel', 'entré', 'mérit', 'arrêt', 'jus', 'frais', 'bon', 'pomm', 'orang', 'gingembr'], ['cadr', 'exceptionnel', 'rep', 'délici', 'accueil', 'anne', 'soph', 'petit', 'soin', 'servic', 'grand', 'qualit', 'personnel', 'agréabl', 'discret', 'efficac', 'pass', 'excellent', 'soir', 'souviendr', 'refair', 'hésiterplus'], ['-', 'frit', 'grass', 'ingrédient', 'manqu', 'hamburgeron', 'snack', 'restaur', 'moiti', 'chic', 'fast', 'food', 'identitéun', 'chos', 'sûr', 'sod', 'canet'], ['allé', 'dîn', 'assis', 'tabl', 'fenêtr', 'raison', 'restaur', 'vid', 'coupl', 'arriv', 'minut', 'plac', 'côt'], ['établ', 'trésor', 'serv', 'patron', 'genialissim', 'resto', 'pet', 'vit', 'heureux', 'réserv', 'galet', 'bon', 'géner', 'crêp', 'dessert', 'succulent', 'mer', '’ai', 'déçu'], ['part', '’est', 'ème', 'restaur', 'étoil', 'visit', 'cuisin', 'chef', 'rouquet', 'bon', 'class', 'tripadvisor', 'flatteur', 'sen', 'produit', 'sélection', 'chef', 'exceptionnel'], ['meilleur', 'rep', 'jam', 'mang', 'opté', 'parcour', 'menu', 'dégust', 'entré', 'dessert', 'apérit'], ['cuisin', 'extrêm', 'raffin', 'servic', 'professionnel', 'personnel', 'jeun', 'dynam', 'monsieur', 'ledeuil'], ['heureux', 'arrêt', 'restaur', 'hi', 'mang', 'crêp', 'endroit', 'séjour', 'meilleur', 'propriétair', 'extrêm', 'sympath', 'servic', 'excellent', 'retourn', 'certain', 'reven'], ['bel', 'découvert', 'quarti', 'cadr', 'traditionnel', 'ambianc', 'bistrot', 'parisien', 'attent', 'plat', 'cuisin', 'simpl', 'féminin', 'déco', 'assiet', 'raffin', 'cart', 'prix', 'raison', 'plat', 'jour', 'allech', 'plat', 'jour'], ['accueil', 'départ', 'bon', 'expérient', 'opté', 'menu', 'plat', 'combl', 'petit', 'attent', 'mis', 'bouch', 'excellent', 'soup', 'oignon', 'revisit', 'incroi', 'fin', 'pré-dessert'], ['burg', 'bon', 'attent', 'don', 'lanv', 'di', 'retourn', 'garnitur', 'delici'], ['restaur', 'pet', 'brui', 'proxim', 'déconcert', 'plat', 'serv', 'tied', 'point', 'fort', 'pât', 'fait', 'maison', 'prix', 'plat', 'vin', 'correct'], ['prec', 'créatif', 'cart', 'vin', 'grand', 'support', 'bel', 'adress', 'recommand', 'viv'], ['bel', 'découvert', 'restaur', 'ème', 'arrond', 'paris', 'entré', 'cuisin', 'chos', 'original', 'prendr', 'contact', 'sympath', 'équip', 'cadr', 'agréabl', 'pet', 'cocon', 'tabl'], ['cuisin', 'ambianc', 'décev', 'rigueur', 'servic', 'cuisin', 'presqu', 'banal', 'typ', 'restaur', 'pourt', 'étoil', 'except', 'plat', 'menu', 'découvert', 'plupart', 'tabl', 'proch'], ['arriv', 'restaur', 'sert', 'spécifi', 'cart', 'froid', 'accueil', 'impossibil', 'chois', 'entré', 'cuisin', 'allait', 'ferm', 'plat', 'cuisson', 'viand', 'cuit', 'demand', 'bleu'], ['déplac', 'paris', 'ami', '’av', 'conseil', 'incroi', 'restaur', '’ai', 'déçu', 'plat', 'serv', 'finess', 'gentilless', 'servic', 'impecc', 'prix', 'correct', 'restaur', 'class', '’ai', 'plac', 'prêt', 'fenêtr'], ['-entass', '-prix', 'exorbit', '-viand', 'cuit', 'légum', 'mauvais', 'qualit', 'malad', 'nuit', '-personnel', 'aimabl'], ['dîn', 'cadr', 'lugubr', 'multitud', 'échantillon', 'serv', 'laiss', 'souven', 'agréabl', 'anniversair', 'mariag', 'viv', 'anné', 'jgr'], ['’et', 'venu', 'anné', 'présent', 'pain', 'steak', 'végétarien', 'industriel', 'charm', 'ven', 'fait-maison', 'burg', '’est', 'appet', 'savour', '’est', 'dommag'], ['satisfait', 'accueil', 'sall', 'bel', 'tabl', 'suffis', 'espac', 'gên', 'voisin', 'nuit', 'profit', 'situat', 'perch', 'imagin', 'baign', 'soleil', 'lumi', 'jour', 'endroit'], ['réserv', 'person', 'réserv', 'perdu', 'minut', 'cart', 'menu', 'ensuit', 'minut', 'command', 'vin', 'command', 'noix', 'saint', 'jacqu'], ['pension', 'réserv', 'ze', 'kitchen', 'retrouv', 'kgb', 'cuisin', 'qualit', 'voyag', 'spécial', 'bruxel', 'fêt', 'anniversair', 'fil', 'décept', 'grand', 'dommag'], ['restaur', 'bon', 'adress', 'ambianc', 'intim', 'sall', 'petit', 'servic', 'accueil', 'excellent', 'produit', 'frais', 'prépar', 'rapport', 'qualit', 'prix', 'correct'], ['surpr', 'avis', 'posit', 'nouill', 'cuit', 'morceau', 'bœuf', 'moiti', 'mangeabl', 'gras'], ['temp', 'content', 'aller', 'meilleur', 'pizz', 'paris', 'mang', 'pizz', 'extrêm', 'bon', 'charm', 'ru', 'fill', 'joi', 'malheur', 'trist', 'mond', 'temp', 'révolu'], ['bon', 'restaur', 'accueil', 'chaleur', 'souri', 'cuisin', 'raffin', 'bon', 'bon', 'expérient'], ['résist', 'deuxiem', 'passag', 'oblig', 'su', 'nouveaut', 'gliss', 'cart', 'plat', 'vin', 'enchaînent', 'gourmandis', 'wahoo', 'entendr', 'amour', 'fair', 'bouch'], ['command', 'hamburger', 'pomm', 'terr', 'végan', 'mayo', 'pris', 'allum', 'pet', 'ami', 'tourism', 'rep', 'délici', 'pomm', 'terr', 'prix', 'pet', 'menu'], ['classiqu', 'ennui', 'sert', 'restaur', 'japon', 'ici', 'cuisin', 'japonais', 'modern', 'gastronom', 'plat', 'cuisin', 'plaqu', 'teppan-yak', 'uniqu', 'menu', 'eur', 'soir', 'bon'], ['bel', 'découvert', 'plat', 'servic', 'qualit', 'part', 'choix', '«', 'poulet', 'tikk', '»', 'délici', 'recommand'], ['connu', 'endroit', 'grâc', 'happycow', 'bon', 'commentair', 'arriv', 'grand', 'fil', 'attent', 'avanc', 'vit', 'problem', 'plac', 'mond', 'command', 'emport', 'plui'], ['cantin', 'coin', 'forc', 'brui', 'visit', 'quarti', 'propr', 'vu', 'coin', 'cuisin', 'sall', 'rentr', 'servic', 'rapid', 'désordon', 'expliqu', 'ami', 'serv', 'entré', 'soup', 'temp', 'attend'], ['accueil', 'chaleur', 'subtil', 'cadr', 'feutr', 'sobr', 'met', 'goûteux', 'frais', 'excellent', 'moment', 'bientôt'], ['jol', 'tablevaissellecouvertssall', 'placeambi', 'éleg', 'brui', 'bon', 'volont', 'chef', 'concoct', 'menu', 'conven', 'person', 'goût', 'portion', 'minimalistescarpaccio', 'daurad', 'chou-fleur', 'délici'], ['passag', 'can', 'alegri', '’équip', 'accueil', 'chaleur', 'familial', 'réel', 'habitu', 'restaur', 'pris', 'arriv', 'amis', 'restaur', 'complet', 'attent', 'offert'], ['ambianc', 'agréabl', 'rep', 'superb', 'serveur', 'serveux', 'professionnel', 'rendu', 'séjour', 'agréabl', 'famill', 'menu', 'dégust', 'crois', 'sup', 'expérient', 'gastronom'], ['rep', 'famill', 'pris', 'couscous', 'gigot', 'grillel', 'semoul', 'bon', 'bouillon', 'correct', 'viand', 'grill', 'extrêm', 'noir', 'dur', 'presqu', 'immange', 'réput', 'resto', 'paraît', 'surfait'], ['entrez', 'pet', 'sas', 'port', 'rideau', 'don', 'petit', 'sall', 'cosy', 'chaleur', 'cuisin', 'vitr', 'propret', 'irréproch', 'voit', 'chef', 'offici', 'hyp', 'concentr', 'minuti', 'équip'], ['grand', 'cuisin', 'mis', 'bouch', 'dessert', 'palourd', 'crevet', 'délicat', 'grill', 'commenc', 'suiv', '’un', 'encornet', 'poutargu', 'saveur', 'puiss', 'superb', 'saint', 'jacqu', 'lit', '’épinard', 'rouget', 'raviol', 'lievr', 'alli', 'saveur', '’un', 'douc'], ['burg', 'bon', 'frit', 'bon', 'ambianc', 'anné', 'musiqu', 'inclus', 'servic', 'agréabl', 'bon', 'burger', 'ème'], ['habit', 'appart', 'enseign', 'inéluct', 'essay', 'remerc', 'chaleur', 'imed', 'propriétair', 'ger', 'professionnal', 'sympath', 'personnalis', 'sandwich', 'demand', 'client', 'mati', 'hygien', 'irréproch', 'équip'], ['cuisin', 'maison', 'bas', 'produit', 'frais', 'choix', 'restreint', 'cart', 'simpl', 'excellent', 'qualit', 'produit', 'issus', 'circuit', 'court', 'porc', 'aveyron', 'patron', 'souri', 'prend', 'temp', 'distanc', 'tabl'], ['grand', 'restaur', 'plac', 'célebr', 'proxim', 'rtl', 'europ', 'servic', 'aimabl', 'rapid', 'plat', 'exceptionnel', 'sush', 'légum', 'taill', 'scalpel', 'pet', 'jardin', 'japon', 'bai', 'vitr', 'agréabl'], ['aut', 'surpris', 'serv', 'saveur', 'couleur', 'dressag', 'offrent', 'vérit', 'régal', 'yeux', 'pal', 'servic', 'hauteur', 'personnel', 'charm', 'compétent', 'revien', 'réguli', 'fréder'], ['restaur', 'sert', 'cuisin', 'excellent', 'metr', 'hauteur', 'plafond', 'céram', 'palmi', 'pot', 'hôtel', 'inoubli', 'chois', 'aller', 'prendr', 'canard', 'conf', 'tradit', 'agneau', 'excellent', 'nourritur'], ['choix', 'attent', 'burger', 'vrai', 'bon', 'déconseil', 'fort', 'chauffag', 'jour', 'pluvieux', 'froid', 'parisplus'], ['franch', 'accueil', 'anti-commerc', 'revoir', 'total', 'ger', 'vrai', 'pet', 'esprit', 'travers', 'paris', 'ven', 'st-cloud', 'goût', 'pain', 'mond', 'achet', 'retrouv'], ['sall', 'chich', 'agréabl', 'oeil', 'servic', 'jeun', 'sympath', 'attention', 'cuisin', 'délici', 'serv', 'géner', 'addit', 'exceptionnel', 'raison', 'croir', 'presqu', 'provinc', 'reviendr', 'ici', 'client', 'respect'], ['bon', 'accueil', 'daniel', 'fernando', 'mozz', 'stick', 'excellent', 'grand', 'choix', 'bier'], ['system', 'réserv', 'internet', 'mail', 'confirm', 'appel', 'restaur', 'veil', 'vérifi', 'heur', 'arriv', 'fois', 'plac', 'charm', 'oper', 'accueil', 'ensuit', 'festival', 'saveur', 'déjeun', 'menu', 'esprit', 'gagnair'], ['surpr', 'nombr', 'profil', 'commentair', 'bref', '’arnaqu', 'nez', 'pass', 'cheminplus'], ['impress', 'bern', 'faision', 'joi', 'aller', 'din', 'grand', 'restaur', 'vendred', 'soir', 'malheur', 'allé', 'décept', 'décept', 'impress', 'entrer', 'brasser', 'tabl', 'simpl', 'rapproch'], ['moment', 'dans’', 'endroit', 'chaleur', 'person', 'accueil', 'galet', 'bon', 'produit', 'frais', 'qualit', 'qu’un', 'bel', 'découvert', 'glac', '’accompagn', 'sucr', 'sal', 'recommandeplus'], ['accueil', 'chaleur', 'nourritur', 'géner', 'proprio', 'charism', 'fair', 'pass', 'bon', 'soir', 'reviendr'], ['pet', 'bistro', 'divin', 'prendr', 'menu', 'évas', 'plat', 'goût', 'saveur', 'recommand', 'hésit'], ['famill', 'fêt', 'anniversair', 'réserv', 'tabl', 'petit', 'sall', 'reçu', 'excellent', 'accueil', 'restaur', 'présent', 'parfait', 'goût', 'présent', 'bref', 'lieu', 'mérit', 'larg', 'honor', 'visit', 'guid'], ['décept', 'attend', 'vrai', 'chos', 'accueil', 'agréabl', 'décor', 'symp', 'seul', 'point', 'posit', 'expérient', 'mang', '’obscur', 'entend', 'pein', 'fac', 'qu’il'], ['chois', 'menu', 'pré', 'catalan', 'vin', 'pens', 'époustoufl', 'maison', 'étoil', 'cas', 'met', 'bon', 'exceptionnel', 'visuel', 'plat', 'plat'], ['tomb', 'restaur', 'atmospher', 'modern', 'serveur', 'agréabl', 'rep', 'plat', 'variet', 'saveur', 'vin', 'fad', 'restaur', 'région', 'définit'], ['bel', 'adress', 'trouv', 'total', 'hasard', 'quarti', 'chic', 'paris', 'trocadéro', 'arc', 'triomph', 'plat', 'copieux', 'bon', 'qualit', 'prix', 'abord', 'servic', 'sympath', 'efficac', 'recommand', 'viv'], ['excellent', 'déjeun', 'entréeplat', 'veau', 'grill', 'extra', 'tendr', 'pet', 'poireau', 'entré', 'suiv', 'délici', 'cabillaud', 'curry', 'vert', 'petit', 'légum', 'accompagn', 'bon', 'chenin', 'frais', 'brui', 'délici'], ['viv', 'étrang', 'occas', 'ven', 'william', 'ledeuil', 'anné', 'bonheur', 'pouvoir', 'redécouvr', 'sall', 'longu', 'absenc', 'impress', 'cuisin', 'cess', 'progress', 'plat', 'découvert', 'allianc', 'subtil'], ['excellent', 'rapport', 'qualitéprix', 'cart', 'mal', 'choix', 'accueil', 'symp', 'recommand'], ['sor', 'pein', 'restaur', 'plat', 'bon', 'leschos', 'promis', 'jam', 'exist', 'bel', 'tabl', 'vu', 'extérieur', 'réduit', 'tabl', 'côt', 'retrouvent', 'serveur', 'présent'], ['moment', 'rencontr', 'japonnais', 'produit', 'frac', 'dasn', 'cuisin', 'maitris', 'plein', 'gout', 'invent', 'mid', 'except', 'venu', 'gach', 'faut', 'impertinent', 'professional'], ['concept', '’et', 'dîn', 'terr', 'vu', 'toit', 'tour', 'eiffel', 'accueil', 'agréableserveur', 'attention', 'cuisin', 'goûteux', 'bel', 'présent', 'exces', 'prétent', 'prix', 'correct', 'boisson', 'eauapéro', 'caf', 'rapport'], ['petit', 'ru', 'hall', 'mum', 'excellent', 'surpris', 'cadr', 'pet', 'établ', 'intim', 'rafin', 'accueil', 'pass', 'servic', 'entendu', 'cuisin', 'fauss', 'not', 'amus', 'bouch', 'entré', 'plat', 'dessert', 'parfait', 'présent'], ['venus', 'anniversair', 'chois', 'menu', 'dégust', 'vrai', 'découvert', 'menu', 'dégust', 'surpris', 'découvr', 'étendu', 'talent', 'chef', 'plat', 'étap', 'dîn'], ['meilleur', 'restaur', 'japon', 'paris', 'ramen', 'excellent', 'cadr', 'ambianc', 'vrai', 'japon', 'euros', 'ramen'], ['arriv', 'coupl', 'réserv', 'tabl', 'occup', 'réserv', 'tabl', 'install', 'bar', 'faut'], ['sup', 'adress', 'pigall', 'chef', 'royal', 'reçu', 'nourritur', 'excellent', 'cadr', 'agréabl'], ['laiss', 'habitud', 'commentair', 'endroit', 'aim', 'sen', 'oblig', 'interven', 'burg', 'simpl', 'fad', 'don', 'mal', 'ventr', 'dizain', 'minut', 'mang'], ['rendu', 'restaur', 'début', 'après-mid', 'connaiss', 'nom', 'jam', 'occas', 'pass', 'burg', 'dégust', 'dingu', 'excellent', 'jouiss', 'pain', 'moelleux', 'produit', 'qualit', 'bémol', 'frit', 'décev'], ['passag', 'paris', '’all', 'visit', 'mus', 'art', 'méti', 'cot', 'arrêt', 'room', 'arriv', 'sall', 'petit', 'taill', 'plein', 'turnov', 'perm', 'trouv', 'tabl'], ['bon', 'produit', 'frais', 'simpl', 'bon', 'accueil', 'chaleur', 'prix', 'raison', 'recommand'], ['manqu', 'attent', 'respect', 'client', 'gentilless', 'maladroit', 'cuisin', 'insist', 'allé', 'fois', 'sav', 'problem', 'jour-là', 'demain', 'pourr', 'cas', 'second', 'expérient'], ['allé', 'dîn', 'assis', 'tabl', 'fenêtr', 'raison', 'restaur', 'vid', 'coupl', 'arriv', 'minut', 'plac', 'côt'], ['flott', 'restaur', 'net', 'sent', 'laisser-all', 'grand', 'chos', 'assiet', 'justif', 'prix', 'pai', 'langoustin', 'maltrait', 'cuit', 'garnitur', 'sol', 'pet', 'bateau', 'rest', 'frigo', 'semain', 'pass'], ['bon', 'soir', 'restaur', 'rep', 'á', 'vit', 'tourn', 'orgi', 'cuisin', 'bon', 'entré', 'pintad', 'servic', 'dessert', 'serveur', 'reven', 'cb', 'décor'], ['superb', 'expérient', 'autour', 'caviar', 'plat', 'individuel', 'tap', 'partag', 'bon', 'rapport', 'qualitéprix', 'équip', 'charm', 'conseil', 'décor', 'lieu', 'sup', 'contribu', 'bel', 'expérient', 'courrez-'], ['gard', 'excellent', 'souven', 'dîn', 'convient', 'sort', 'romant', 'entre', 'amisen', 'famill', 'personnel', 'charm', 'serviabl', 'souri', 'plat', 'chois', 'parfait', 'estampill', 'bistrot', 'qualit', 'étoil', 'guid', 'michelin'], ['bonjour', 'bon', 'rep', 'ici', 'semain', 'auparav', 'intéress', 'impress', 'ancien', 'rénov', 'regn', 'ici', 'restaur', 'cuisin', 'français', 'modern', 'décor', 'modern', 'décontract', 'léger', 'approch'], ['surpren', 'voir', 'not', 'patron', 'symp', 'guacamol', 'bol', 'frit', 'patat', 'douc', 'quesadill', 'bier', 'verr', 'blanc', 'euro', 'apero', 'bon', 'conven', 'mond', 'û'], ['restaur', 'remarqu', 'servic', 'symp', 'cool', 'burg', 'meilleur', 'burg', 'aller', 'mang', 'paris', 'point', 'cach', 'allez-', 'allez', 'voir', 'tartar'], ['pris', 'menu', 'dégust', 'découvr', 'cuisin', 'créativ', 'chef', 'anton', 'ador', 'plat', 'explos', 'saveur', 'garant', 'moment', '’except', 'lieu', 'sublim', 'appréci', 'servic', 'professionnel'], ['calzon', 'cuit', 'fromag', 'garnitur', 'pizz', 'mauvais', 'tranchent', 'vérit', 'concurrent', 'not', 'pizz', 'spécial', 'maison', 'présent', 'sympath'], ['pris', 'menu', 'plat', 'accord', 'mets-vin', 'serv', 'grand', 'vitess', 'guet', 'plac', 'derni', 'bouch', 'aval', 'plat', 'bon', 'original', 'surpris', 'saveur'], ['bon', 'accueil', 'service-', 'buffet-', 'rapid', 'buffet', 'achaland', 'rich', 'original', 'dessert', 'resto', 'chinois', 'restaur', 'visibl', 'boulevard', 'mmontparnads', 'galer', 'marchand', 'flech', 'retourn', 'volonti', 'essai'], ['restaur', 'agréabl', 'petit', 'sall', 'décor', 'calm', 'assiet', 'bon', 'produit', 'qualit', 'dressag', 'soign', 'servic', 'efficac', 'prix', 'abord', 'cas', 'dimanch', 'mid', 'retourn', 'hésit', 'plais', 'bémol', 'faut', 'mettr'], ['bel', 'surpris', 'parf', 'fêt', 'bel', 'occas', 'coupl', 'amis', 'menu', 'dégust', 'accord', 'met', 'vin', 'qu’on', 'regret', '’avoir', 'chois', 'servic', 'irréproch', 'plat', 'fin', 'plat', '’est'], ['faision', 'joi', 'decouvr', 'cuisin', 'david', 'toutain', 'decept', 'travail', 'recherch', 'chef', 'veut', 'don', 'cuisin', 'travail', 'represent', 'ressent', 'oppos'], ['restaur', 'jol', 'découvert', 'saveur', 'nouvel', 'cuisin', 'accueil', 'chaleur', 'bon', 'expérient'], ['excellent', 'restaur', 'raffin', 'pouvon', 'redécouvr', 'cuisin', 'francais', 'sauc', 'japonais', 'chef', 'humbl', 'talent', 'travail', 'minut', 'decor', 'hauteur', 'servic', 'correct', 'fair', 'amour'], ['pris', 'glac', 'taill', 'moyen', 'parfum', 'bon', 'artificiel', 'glac', 'achar', 'bon', 'sucr', 'personnel', 'sympath', 'bel', 'decouvert'], ['vrai', 'brasser', 'recommand', 'closer', 'lil', 'coupol', 'balzar', 'accueil', 'audieux', 'prix', 'prétenti', 'rapport', 'qualit', 'plat', 'sour', 'agneau', 'château', 'brill', 'salad', 'haricot', 'vert', 'fois', 'gros', 'moutard', 'salad'], ['fêt', 'anniversair', 'mariag', 'pet', 'boutary', 'accueil', 'convivial', 'concept', 'menu', 'surpris', 'option', 'clair', 'expliqu', 'propos', 'ajust', 'soir', 'plais', 'équip', 'sall', 'prend', 'temp', 'décrir'], ['monsieur', 'pierr', 'gagnair', 'personnag', 'sensibl', 'fidel', 'client', 'à…', 'personnel', 'entendu', '’effet', 'invers', 'prouv', 'client', 'reviennent', 'équip', 'invent', 'assemblag', 'complex', 'raffin', 'ingrédient'], ['fais', 'presqu', 'an', 'retourn', 'restaur', 'aimion', 'déçus', 'servic', 'terr', 'extrêm', 'long', 'demand', 'serveur', 'sembl', 'voir', 'frit', 'maison'], ['portion', 'minuscul', 'insipid', 'personnel', 'sympath'], ['portion', 'voit', 'paris', 'géner', 'savour', 'pet', 'pain', 'ail', '😍', 'regret', 'petit', 'taill'], ['caricatural', 'prestig', '’adress', 'qualit', '’hôtess', '’accueil', 'décor', 'fumoir', 'sol', 'lieu', 'justifient', 'manqu', 'professionnal', 'cœur', 'méti', '’un', 'restaur', 'savoir', 'servic'], ['plat', 'qualit', 'fait', 'produit', 'qualit', 'réalis', 'passion', 'arnaud', 'show'], ['attent', 'moque--on', 'queu', 'intermin', 'scandal'], ['déjeun', 'affair', 'menu', 'mid', 'entré', 'maquereau', 'poch', 'salad', 'sachet', 'côt', 'porc', 'montagn', 'aveyron', 'pur', 'pan', 'cuiller', 'soup', 'titr', 'revoir', 'dir', 'côt', 'porc', 'cantin', 'scolair', 'entré', 'saveur'], ['galet', 'sarrasin', 'tomb', 'fait', 'maison', 'léger', 'croustill', 'goûteux', 'bref', 'vrai', 'régal', 'demand', 'crêp', 'andouill', 'guémen', 'qualit', 'produit', 'sent', 'accompagn', 'égal'], ['pris', 'fish', 'and', 'chip', 'salad', 'délici', 'poisson', 'parfait', 'cuit', 'maîtris', 'chef', 'étoil', 'plat', 'cadr', 'agréabl', 'agréabl', 'surpris', 'absenc', 'odeur', 'fritur', 'bon', 'bier', 'serveur', 'top'], ['visit', 'établ', 'hasard', 'travail', 'bel', 'plac', 'rappel', 'grand', 'brasser', 'lipp', 'sup', 'servic', 'bon', 'accueil', 'dîn', 'pris', 'cuiss', 'grenouill', 'excellent', 'serv', 'rognon', 'veau'], ['parf', 'rajout', '❤❤👍👍', 'régal', 'papillesl', 'accueil', 'chaleur', 'propret', 'décor', 'parf', 'aim', 'produit', 'frais', 'sup', 'cuisin', 'renouvel', 'sûr', 'hésit', 'bon', 'vent'], ['cuisin', 'original', 'qualit', 'découvr', 'personnel', 'attent', 'barrag', 'langu', 'prix', 'rapport', 'prestat'], ['accueil', 'qualit', 'produit', 'décor', 'tradit', 'parf', 'institu', 'parisien', 'diego', 'class', 'international', 'équip', 'haut', 'professionnel', 'demand', 'lieu', 'ventr', 'paris', 'incontourn'], ['dîn', '’except', '’occas', '’un', 'anniversair', 'chois', '«', 'pet', '«', 'menu', 'plat', 'saveur', 'sublim', 'grâc', 'sauc', 'léger', 'goûteux', 'portion', 'parfait', 'dégust', 'envi', 'découvr', 'suit', 'choix', '’accompagn', 'verr', 'vin'], ['sûr', 'crêp', 'bon', 'march', 'aut', 'pardon', 'infam', 'gustat', 'voit', 'class', 'établ', 'tripadvisor', 'bras', 'tombent', 'dissert', 'pietr', 'qualit', 'produit'], ['bon', 'ambianc', 'mang', 'prix', 'raison', 'succes', 'plat', 'disponibl', 'arriv', 'tard', 'fair', 'bel', 'découvert'], ['conseil', 'avis', 'collègu', 'réserv', 'tabl', 'petit', 'sall', 'cuisin', 'parl', 'cuisin', 'pouv', 'fair', 'étoil', 'malheur', 'profit', 'privileg', 'tabl', 'coupl'], ['curieux', 'restaur', 'froid', 'âme', 'menu', 'dégust', 'compos', 'plat', 'typ', 'fusion', 'cuisin', 'asiat', 'français', 'mélang', 'saveur', 'prononc', 'mauv', 'choix', 'mélang', 'épic', 'chef', 'devr', 'retourn', 'asi', 'mieux'], ['crêper', 'symp', 'servic', 'rapid', 'personnel', 'air', 'sympath', 'crêp', 'sarrasin', 'vrai', 'mauvais', 'gout', 'crêp', 'carton', 'sec', 'fois', 'fin', 'crêp', 'retourn'], ['nourritur', 'bon', 'extraordinair', 'prix', 'servic', 'laiss', 'clair', 'désir', 'décalag', 'cuisin', 'phas', 'attent', 'minut', 'entréeplat', 'endroit', 'pet', 'vit', 'oppress', 'vient', 'serveur', 'bref'], ['rep', 'bon', 'portion', 'vrai', 'petit', 'revanch', 'question', 'servic', 'vrai', 'dign', 'étoil', 'servic', 'vinsur', 'fois', 'serveur', 'venus', 'rempl', 'fois', 'goutt', 'vin'], ['décev', 'déjeun', 'jardin', '’espadon', 'jardin', 'cens', 'restaur', 'haut', 'qualit', 'étoil', 'michelin', 'malheur', 'partageon', '«', 'jardin', '»', 'brasser', '«', 'bar', 'vendôm', '»', 'tabl'], ['scotch', 'présent', 'met', 'saveur', 'servic', 'rapid', 'exécu', 'sourir', 'bon', 'humeur', 'exécut', 'décor', 'sobr', 'raffin', 'exquis', 'tentur', 'japonais', 'dîn'], ['cuisineservic', 'monsieur', 'servic', 'excellent', 'prestanc', 'accueil', 'présent', 'met', 'serv', 'histoir', 'poes', 'delivr', 'met', 'pris', 'menu', 'dégust', 'compos'], ['consomm', 'truff', 'blanch', 'oubli', 'somptueux', 'découvert', 'pris', 'menu', 'dégust', 'aven', 'remarquableplus'], ['bon', 'ambianc', 'bistrot', 'pet', 'restaur', 'chaleur', 'accueil', 'agreabl', 'servic', 'qualit', 'cart', 'original', 'gouteux', 'exempl', 'civet', 'lievr', 'excellent', 'select', 'vin', 'cors', 'correct', 'list', 'dessert', 'aut', 'faim', 'tent'], ['hanaw', 'prix', 'élev', 'val', 'an', 'détour', 'fraîcheur', 'poisson', 'crus', 'fois', 'retourn', 'récent', 'déçus', 'fois', 'fraîcheur'], ['niveau', 'prix', 'parf', 'contrair', 'servic', 'limit', 'professional', 'plat', 'insipid', 'point', 'demand', 'adit', 'fin', 'menu', 'degust'], ['suiv', 'conseil', 'trip', '’avon', 'déçus', 'sup', 'resto', 'plat', 'raffin', 'délici', 'personnel', 'symp', '’écout', 'conseil'], ['bon', 'restaur', 'venus', 'repris', 'jeun', 'souri', 'sav', 'accueil', 'jeun', 'arriv', 'aimabl', 'don', 'envi', 'reven', 'dommag'], ['recherch', 'perfect', 'manqu', 'chaleur', 'personnal', 'endroit', 'magnif', 'peut-êtr', 'intimid', 'accueil', 'servic', 'grand', 'professionnal', 'met', 'remarqu', 'exécut', 'précis', 'chef', 'talent', 'atteindr'], ['accueil', 'sympath', 'cuisin', 'vietnamien', 'raffin', 'sourir', 'possibil', 'prendr', 'emport', 'prix', 'raison', 'not', 'carnet', 'adress'], ['cuisin', 'mod', 'look', 'loung', 'servic', 'inefficac', 'aimabl', 'évit', 'quarti', 'adress', 'coolplus'], ['venu', 'kgb', 'anné', 'gardion', 'bon', 'souven', 'décept', 'grand', 'gardon', 'impress', 'arnaqu', 'mod', 'min', 'cart', 'trouv', 'menus', 'dégust'], ['aim', 'cadr', 'crêp', 'allais', 'remarqu', 'serveur', 'complet', 'arnaqu', 'crêp', 'sal', 'sucr', 'partag', 'pichet', 'cidr', 'brut', 'ami'], ['invit', 'déjeun', 'cob', 'hi', 'agréabl', 'surpris', 'plan', 'gustat', 'bel', 'saveur', 'revanch', 'rep', 'expédi', 'personnel', 'sitôt', 'derni', 'bouch', 'aval', 'empress', 'retir', 'assiet'], ['pet', 'endroit', 'tabl', 'ambianc', 'famili', 'bon', 'pizz', 'bon', 'ingrédient', 'personnel', 'symp', 'menus', 'sup', 'long', 'journ', 'vaut', 'vrai', 'détour'], ['arrêt', 'hasard', 'restaur', 'bon', 'odeur', '’en', 'dégag', 'queu', 'signif', '’un', 'bon', 'adress', 'larg', 'choix', 'plat', 'cuisin', 'fait', 'maison', 'choix', 'végétarien', 'spécial', 'indien', 'tik', 'massal', 'poulet', 'coco', 'naan'], ['coup', 'cœur', 'restaur', 'visibl', 'petit', 'ruel', 'calm', 'sign', 'ostentatoir', 'restaur', 'discret', 'humbl', 'chef', 'pourt', 'fort', 'dommag', 'test', 'faudr', 'réserv'], ['foisc', 'sup', 'rep', 'minabl', 'coquillag', 'hareng', 'fidel', 'imag', 'restaur', 'foi', 'gras', 'poel', 'brul', 'épaul', 'agneau', 'confit', 'brul', 'craméeratéeimmange', 'plusl'], ['grand', 'variet', 'produit', 'trouv', 'vrai', 'qualit', 'rend', 'saveur', 'particuli', 'savour', 'textur', 'dison', 'faut', 'aim', 'appréci', 'choix', 'boisson'], ['hont', 'heur', 'dem', 'déjeun', 'prévu', 'restaur', 'vient', 'appel', 'refoul', 'restaur', 'prétext', 'venion', 'beb', 'prévenu', 'déjà', 'jour', 'peut-êtr', 'présent'], ['rep', 'rythm', 'bip', 'bip', 'micro-ond', 'riz', 'sec', 'tomat', 'cram', 'expérient', 'traumatis'], ['recherch', 'nouvel', 'adress', 'fais', 'fois', 'déjà', 'tomb', 'resto', 'class', 'ème', 'cour', 'recherch', 'tripadvisor', 'mard', 'hasard', 'quarti'], ['vient', 'sort', 'faubourg', 'bristol', 'bel', 'adress', 'éric', 'frechon', 'décor', 'symp', 'bistrot', 'palac', 'parisien', 'régal', 'plat', 'signatur', 'œuf', 'mayo', 'crab', 'royal', 'délic', 'mar'], ['assiet', 'correct', 'accueil', 'limit', 'problem', 'retir', 'produit', 'abord', 'sandwich', 'haddock', 'déjeun', 'mers', 'minimum', 'euros', 'travaill', 'déjeun', 'mid', 'euros', 'concept'], ['soir', 'fêt', 'anniversair', 'ami', 'accueil', 'chaleur', 'sourir', 'radieux', 'personnel', 'jeun', 'certain', 'an', 'cart', 'constitu', 'entré', 'plat', 'dessert', 'assiet', 'arrivent', 'présent', 'parfait', 'dir'], ['allé', 'boir', 'verr', 'bar', 'ami', 'emplac', 'fois', 'vu', 'sour', 'sall', 'trouv', 'normal', 'paraît', 'anormal', 'admissibl'], ['cadr', 'extérieur', 'intérieur', 'vrai', 'agréabl', 'préfer', 'évit', 'tabl', 'fac', 'cuisin', 'caus', 'bruit', 'vient', 'permanent', 'servic', 'professionnel', 'discret', 'met', 'goûteux', 'saveur', 'intéress'], ['nourritur', 'mauvais', 'accueil', 'servic', 'devenus', 'mauv', 'caus', 'manqu', 'organis', 'overrating', 'comptetenu', 'élément', 'prix', 'attract', 'départ', 'devient', 'exhorbit', 'évit', 'prochain', 'visit'], ['chanc', 'dîn', 'magnif', 'établ', 'mondial', 'réput', 'merveil', 'moment', 'rep', 'exquis', 'servic', 'parf', 'mention', 'spécial', 'dessert', 'pomm', 'souffl', 'chef', 'bru'], ['superb', 'dis', 'cadr', 'grandios', 'chaleur', 'majestu', 'personnel', 'charm', 'attention', 'compétent', 'symp', 'vin', 'jol', 'sélection', 'accord', 'metsvin', 'pourr', 'séduis', 'option', 'accompagn', 'menu', 'gastronom'], ['cuisin', 'hauteur', 'étoil', 'pris', 'menu', 'arom', 'présent', 'saveur', 'rend', 'regret', 'fair', 'mont', 'addit', 'suppl', 'impos', 'fromag', 'propos', 'insist', 'égal', 'suppl', 'qualit'], ['mauvais', 'expérient', 'servic', 'horribl', 'attendr', 'minut', 'don', 'tabl', 'lieu', 'minut', 'communiqu', 'début', 'part', 'monsieur', 'don', 'ticket', 'attendr'], ['zouzou', 'mar', 'christian', 'grands-parent', 'jam', 'gentil', 'dédi', 'don', 'meilleur', 'expérient', 'mang', 'visiteur', 'reviendr', 'hôtel', 'fois'], ['presqu', 'chois', 'lieu', 'vu', 'long', 'balustrad', 'vu', 'mur', 'presqu', 'servic', 'correct', 'balbuti', 'manqu', 'class', 'côt', 'cuisin'], ['commenc', 'conseil', 'jeun', 'cavist', 'agréabl', 'compétent', 'malheur', 'suiv', 'entré', 'allech', 'bas', 'cep', 'aver', 'minuscul', 'salad', 'bas', 'copieux', 'brin', 'ciboulet', 'parsem', 'parmesan'], ['petit', 'halt', 'déjeun', 'visit', 'exposit', 'grand', 'pal', 'sall', 'agréabl', 'jour', 'mid', 'calm', 'servic', 'cordial', 'efficac', 'menu', 'jour', 'excellent', 'comprom', 'rep'], ['scandal', 'hont', 'refus', 'entré', 'restaur', 'élev', 'ecol', 'chien', 'guid', 'paris', '😡', 'odieux', 'mépris', 'propriétair', 'fich', 'lois', 'dis', 'voit'], ['din', 'restaur', 'pourt', 'propos', 'thierry', 'marx', 'dout', '’un', 'grand', 'chef', 'franc', 'peut-êtr', '--il', 'marmit', 'feu', 'mag', 'disparaîtr', 'décor', 'aim', '’aim'], ['mis', 'pied', 'an', 'su', 'récidiv', 'cuisin', 'moyen', 'saveur', 'particuli', 'original', 'tabl', 'fauteuil', 'chang', 'savoir', 'modern', 'revanch', 'disposit', 'tabl'], ['accueil', 'parf', 'personnel', 'top', 'cadr', 'symp', 'portion', 'microscop', 'inférieur', 'restaur', 'gastronom', 'habituel', 'euros', 'menu', 'regret', 'sort', 'tabl', 'faim'], ['thhis', 'dîn', 'ange', 'nourritur', 'excellent', 'fois', 'ici', 'an', 'sugger', 'amis', 'paris', 'appel', 'journ'], ['nourritur', 'bon', 'qualit', 'servic', 'serveur', 'complet', 'irrespectu', 'comprennent', 'boir', 'pouvoir', 'command', 'interpel', 'serveur'], ['sav', 'mélang', 'brasser', 'parisien', 'gastronom', 'italien', 'ambianc', 'fois', 'distingu', 'convivial', 'cuisin', 'délicat', 'servic', 'efficac', 'avis', 'bref', 'réussit', 'conseillon', 'viv'], ['foisl', 'acceuil', 'chaleureuxl', 'servic', 'irréproch', 'découvert', 'découvert', 'met', 'subtil', 'rep', 'orient', 'poisson', 'vin', 'subtil', 'chois', 'dir', 'variet', 'petit', 'pain'], ['sup', 'restaur', 'bon', 'accueil', 'burger', 'tartar', 'excellent', 'recommand', 'limougeaud', '😉'], ['parf', 'décor', 'ambianc', 'servic', 'cuisin', 'vin', 'vrai', 'fantast', 'festival', 'saveur', 'connaiss', 'pair', 'produit', 'maîtris', 'cuisson', 'petit', 'touch', 'émot'], ['partag', 'bon', 'rep', 'coupl', 'meilleur', 'goût', 'bon', 'cook', 'sec', 'pauvr', 'pépit', 'chocolat', 'sincer', 'faut', 'serveur', 'appren', 'tair', 'mang'], ['allé', 'senderen', 'bon', 'brasser', 'quarti', 'prix', 'étoil', 'quarti', 'pos', 'problem', 'entré', 'champignon', 'seich', 'intérêt', 'croustill', 'langoustin', 'goût'], ['avou', 'rentr', 'tat', 'burg', 'nom', 'don', 'plat', 'sourir', 'déçu', 'suit', 'servic', 'efficac', 'sympath', 'cart', 'court', 'garant'], ['pet', 'resto', 'ru', 'ru', 'saint', 'den', 'trôn', 'dam', 'joi', 'fi', 'apparent', 'rentr', 'ru', 'dégust', 'meilleur', 'pizz', 'mond', 'mot', 'faibl'], ['engou', 'not', 'incroi', 'resto', 'allé', 'dîn', 'essai', 'comprendre…', 'point', 'négat', 'crêp', 'ingrédient', 'frais', 'épinard', 'boît', 'informesservic', 'lent'], ['excellent', 'ambianc', 'soir', 'coucous', 'dar', 'bon', 'thé', 'menth', 'délici', '’oubl', 'bon', 'ambianc', 'patron', '😻😻😻'], ['cart', 'vari', 'succulent', 'opté', 'raviol', 'truff', 'noir', 'entré', 'saint', 'jacqu', 'ensuit', 'excellent', 'servic', 'irréproch', 'petit', 'ombre', 'désert', 'souffl', 'chocolat', 'copieux', 'enlev'], ['attent', 'restaur', 'not', 'ressent', 'point', 'décept', 'plat', 'bon', 'produit', 'frais', 'cart', 'invent', 'cadr', 'agréabl', 'restaur', 'pet', 'aut'], ['met', 'except', 'cadr', 'agréabl', 'servic', 'palac', 'personnel', 'agréabl', 'disponibl', 'charm', 'vrai', 'grand', 'equipaplus'], ['allé', 'repris', 'boulanger', 'pain', 'réput', 'anti', 'gluten', 'confirm', 'bon', 'accueil', 'moyen', 'bon', 'grand', 'air', 'agac', 'grand', 'serveux', 'brun', 'jour', 'incorrect'], ['apprior', 'test', 'restaur', 'acceuill', 'personnel', 'competent', 'regim', 'apprehend', 'moment', 'command', 'revel', 'homm', 'grison', 'sympath', 'sort', 'cuisin', 'propos'], ['clair', 'vient', 'ici', 'cuisin', 'simpl', 'bistrot', 'bon', 'march', 'fraîch', 'préférent', 'copain', 'plat', 'jour', 'plat', 'cart', 'ration', 'géner', 'envi', 'prend', 'test'], ['bon', 'accueil', 'menu', 'surpris', 'bon', 'concept', 'pris', 'formul', 'plat', 'caviar', 'info', 'serveur', 'demandent', 'chos', 'aim', 'modifi', 'cart'], ['install', 'piec', 'sonor', 'encadr', 'continu', 'servic', 'servic', 'rapid', 'époustoufl', 'laiss', 'répit', 'plat', 'cuisin', 'parfait', 'classiqu', 'surpris', 'sommeli', 'laiss', 'conviv'], ['veulent', 'fair', 'chiffr', 'attendent', 'install', 'tabl', 'prendr', 'command', 'couloir', 'demand', 'command', 'sûr', 'mécontent', 'minimum', 'install'], ['allé', 'restaur', 'fêt', 'anniversair', 'fill', 'bon', 'moment', 'accueil', 'chaleur', 'brunch', 'vari', 'qualit', 'plat', 'chaud', 'savour', 'serv', 'tabl', 'recommand', 'viv'], ['restaur', 'chinois', 'spécialis', 'nouill', 'région', 'lanzhou', 'serv', 'saut', 'soup', 'cuisin', 'simpl', 'savour', 'trouv', 'plac', 'réserv', 'gros', 'restaur', 'théâtr'], ['dîn', 'fois', 'coupl', 'déçus', 'accueil', 'chaleur', 'servic', 'excellent', 'cuisin', 'caracter', 'avis', 'amateur', 'poisson', 'cuisson', 'cabillaud', 'parfait'], ['mis', 'pied', 'an', 'su', 'récidiv', 'cuisin', 'moyen', 'saveur', 'particuli', 'original', 'tabl', 'fauteuil', 'chang', 'savoir', 'modern', 'revanch', 'disposit', 'tabl'], ['rav', 'retrouv', 'brioch', 'prépar', 'minut', 'découvert', 'pragu', 'formul', 'gout', 'parfait', 'cappuccino', 'délici', 'retourn', 'test', 'version', 'sal'], ['déjà', 'venu', 'restaur', 'appréci', 'parl', 'fill', 'voulu', 'fair', 'découvr', 'grand', 'mal', 'pris', 'serveur', 'gaff', 'client', 'fair', 'fêt'], ['deco', 'attir', 'plat', 'convaincu', 'marc', 'antoin', 'equip', 'pet', 'soin', 'ambianc', 'cosy', 'quarti', 'agréabl'], ['mond', 'arriv', 'tôt', 'soir', 'plat', 'fruit', 'mer', 'command', 'tass', 'thé', 'part', 'délici', 'prix', 'raison', 'personnel'], ['séjourn', 'hôtel', 'pet', 'déjeun', 'lu', 'commentair', 'hôtel', 'dois', 'médiocr', 'décev', 'crêp', 'sec', 'moyen', 'servic', 'symp', 'décev'], ['dîn', 'menu', 'découvert', 'chois', 'souc', 'délici', 'met', 'raffin', 'savour', 'portion', 'idéal', 'pouvoir', 'profit', 'accueil', 'agréabl', 'hic', 'décor', 'sall', 'froid'], ['addit', 'sale', 'cuisin', 'infect', 'cadr', 'cert', 'depays', 'merit', 'genr', 'servic', 'champ', 'elyse', 'personnel', 'desagre', 'incompetent', 'servic', 'long', 'mal', 'viand', 'odeur', 'bizarr', 'chirash', 'prix'], ['titr', 'sort', 'rav', 'restaur', 'sert', 'burger', 'hot-dog', 'végétarien', 'burger', 'goûteux', 'vrai', 'délici', 'frit', 'régal', 'personnel', 'sympath', 'attent', 'court', 'bref', 'reviendr'], ['menu', 'dégust', 'abord', 'incroi', 'découvr', 'talent', 'jeun', 'chef', 'huitr', 'gnocch', 'cochon', 'souffl', 'chocolat', 'retourn', 'dé', 'cart', 'vin', 'champagn', 'bel', 'raison', 'grand', 'équip', 'bientôt'], ['plat', 'vrai', 'recherch', 'agreabl', 'vu', 'gout', 'larg', 'choix', 'bon', 'vin', 'deco', 'sobr', 'personnel', 'vrai', 'attention', 'parf', 'cher', 'qualit', 'vrai', 'recommand'], ['allé', 'fois', 'mid', 'test', 'plat', 'jour', 'plat', 'cuisin', 'exceptionnel', 'tarif', 'fort', 'qualit', 'produit', 'servic', 'personnel', 'symp', 'accueil'], ['excellent', 'servic', 'import', 'excellent', 'cuisin', 'plat', 'hauteur', 'attent', 'surpren', 'délici', 'coup', 'coeur', 'légum', 'hiv', 'dessert', 'mariag', 'chocolat', 'agrum', 'sublim', 'bel', 'déco', 'sobr', 'modern'], ['total', 'découvert', 'trouv', 'restaur', 'plais', 'yeux', 'part', 'sourir', 'plais', 'bouch', 'part', 'rep', 'ete', 'cal', 'pren', 'dessert', 'maison', 'top'], ['crêp', 'délici', 'géner', 'visibl', 'élabor', 'part', 'produit', 'frais', 'personnel', 'ador', 'excellent', 'rapport', 'qualitéprix'], ['prix', 'mauvais', 'expérient', 'sashim', 'typ', 'thon', 'retourn', 'salad', 'gamb', '“en', 'plastique”', 'noir', 'intérieur', 'command', 'yakitor', 'poulet', '’', 'serv'], ['’accueil', 'décor', 'pass', 'évid', '’assiet', 'servic', 'parf', '’équip', 'servic', 'su', 'mettr', 'exergu', 'cuisin', '’except', 'chef', '’accueil', 'top', 'professionnel', 'sincer', 'guind', 'assiet', 'enchant', 'gustat'], ['habitu', 'grand', 'restaur', 'étoil', 'marqu', 'émerveil', 'lux', 'raffin', 'professionnal', 'finess', 'plat', 'qualit', 'produit', 'foi', 'gras', 'ris', 'veau', 'cochon', 'lait', 'égal'], ['dîn', 'vendred', 'mai', 'tabl', 'amis', 'faubourg', 'critiqu', 'qualit', 'plat', 'effect', 'excellent', 'dir', 'aut', 'servicenous', '’étion', 'assis', 'tabl'], ['servic', 'irréproch', 'stagiair', 'pros', 'mond', 'aimabl', 'cadr', 'agréabl', 'ambianc', 'intim', 'tabl', 'éloign', 'pris', 'menu', 'amus', 'bouch'], ['hésit', 'vaut', 'peut-êtr', 'coup', 'prendr', 'pet', 'déjeun', 'complet', 'tenu', 'vestimentairechaussur', 'séjour', 'déjeuneret', 'val', 'vrai', 'pein', 'séjour'], ['entré', 'artichaut', 'mozzarel', 'truff', 'bon', 'mulet', 'noir', 'bon', 'quas', 'veau', 'champignon', 'délici', 'dessert', 'chocolat', 'betterav', 'surpris', 'inhabituel', 'mar', 'pris', 'accord', 'met', 'vin'], ['cherchion', 'crêper', 'pass', 'moment', 'symp', 'fill', 'crêp', 'bon', 'cart', 'basiqu', 'final', 'déçu', 'cadr', 'vrai', 'pet', '’', 'retourn', 'sûr', 'produit', 'correct'], ['regal', 'restaur', 'fin', 'cuisin', 'impec', 'personnel', 'soign', 'envi', 'reven', 'vit'], ['bon', 'restaur', 'accueil', 'chaleur', 'serveur', 'bon', 'nourritur', 'recommand', 'fort', 'restaur'], ['plat', 'opportun', 'intéress', 'serveur', 'bon', 'moment', 'daign', 'don', 'cart', 'dû', 'attendr', 'ven', 'prendr', 'command', 'interpel'], ['déplac', 'paris', 'suit', 'trouv', 'ambianc', 'agréabl', 'pet', 'restaur', 'serveur', 'bon', 'conseil', 'vin', 'plat', 'servic', 'rapid', 'présent', 'assiet', 'allech', 'qualit'], ['plais', 'célebr', 'anniversair', 'restaur', 'gabriel', 'assis', 'jol', 'tabl', 'spécial', 'décor', 'pétal', 'ros', 'anniversair', 'compagn', 'ensembl', 'menu', 'prépar', 'chef', 'jérôm', 'banctel', 'égai', 'papill', 'début'], ['qualit', 'servic', 'cuisin', 'cess', 'dégrad', 'an', 'nourritur', 'correct', 'prix', 'justifi', 'minut', 'serv', 'excus', 'part'], ['ambianc', 'chaleur', 'décontract', 'plat', 'beau', 'succulent', 'mention', 'spécial', 'os', 'moel', 'magnif', 'plat', 'signatur', 'tient', 'bel', 'promess'], ['bon', 'adress', 'pet', 'restaur', 'cambodgien', 'sert', 'cuisin', 'authent', 'plein', 'saveur', 'accueil', 'chaleur', 'rapport', 'qualit', 'prix', 'bon', 'retourn', 'rapid', 'conseillon', 'viv', 'pouv', 'profit', 'plat', 'emport'], ['restaur', 'convivial', 'ambianc', 'chaleur', 'servic', 'rapid', 'offrir', 'excellent', 'rapport', 'qualite-prix', 'rep', 'except', 'mid', 'formul', 'rapid', 'entreeplat', 'platdessert', 'soir', 'degust', 'plat', 'cart', 'recherch', 'jol'], ['petit', 'sall', 'fond', '’un', 'ruel', 'décor', 'contemporain', 'sobr', 'accueil', 'servic', 'sympath', 'efficac', 'menu', 'servic', 'conçu', 'chef', 'plat', 'gouteux', 'original', 'cuisson', 'parfait', 'assaison', 'maison', 'beurr', 'crémeux'], ['aller', 'grand', 'colbert', 'mercred', 'soir', 'mar', 'sœur', 'frer', 'accueil', 'monsieur', 'lunet', 'sûr', 'maitr', 'hôtel', 'respons', 'outr', 'chalanc'], ['délici', 'entré', 'digest', 'qualit', 'sommet', 'servic', 'top', 'serveur', 'souri', 'vrai', 'bon', 'moment', 'recommand'], ['venus', 'décembr', 'anniversair', 'compagnon', 'réserv', 'semain', 'auparav', 'pris', 'grand', 'menu', 'accord', 'metsvin', 'serv', 'dessert', 'fromag', 'remarqu', 'excus', 'moment', 'erreur'], ['déçu', 'général', 'avis', 'tripadvisor', 'fiabl', 'vrai', 'quarti', 'regorg', 'endroit', 'probabl', 'qualit', 'moyen', 'prix', 'affich', 'accueil', 'effect', 'chaleur', 'retrouv', 'sandwich'], ['bon', 'qu’on', 'attend', '’un', 'palac', '’un', 'étoil', 'mondeplus'], ['gross', 'décept', 'papill', 'vrai', 'déçu', 'part', '’entr', '’et', 'hauteur', '’attent', 'manqu', 'total', 'équilibr', 'saveur', 'foi', 'gras', 'bon', 'accompagn', 'écœur', 'accompagn', 'poisson', 'finess', 'fort', 'yuzu', 'viand'], ['accueil', 'parf', 'conseil', 'avis', 'cuisin', 'italien', 'goûteux', 'délici', 'soir', 'pet', 'resto', 'réserv', 'fort', 'conseil'], ['sup', 'restaur', 'lieu', 'accueil', 'éleg', 'reviendr', 'plais', 'régal', 'papill', 'pupill', 'palet', 'convivial', 'palais-'], ['allé', 'hi', 'mobst', 'test', 'burger', 'mob', 'duk', 'assiet', 'arrivent', 'plateau', 'copin', 'remarqu', 'cheddar', 'fair', 'attent', 'remarqu', 'pain', 'gros', 'steak'], ['menu', 'surpris', 'compos', 'chef', 'bel', 'success', 'plat', 'exquis', 'intéress', 'beau', 'voir', 'cuisson', 'parfait', 'cart', 'vin', 'compos', 'sélect', 'pertinent', 'abord', 'agrément', 'bon', 'conseil', 'sommeli', 'avis', 'ambianc', 'réserv'], ['bagel', 'incroi', 'bon', 'recet', 'vari', 'original', 'équip', 'simpl', 'extraordinair', 'cadr', 'agréabl', 'cois', 'bon', 'humeur'], ['etion', 'presqu', 'rest', 'faim', 'entré', 'homard', 'dign', 'amus', 'bouch', 'attend', 'jol', 'pinc', 'homard', 'jol', 'petit', 'ramequin', 'min', 'morceau', 'homard', 'erreur', 'servic', 'quantit', 'posit'], ['petit', 'pizzeri', 'préférent', 'emport', 'délivr', 'pizz', 'excellent', 'qualit', 'produit', 'frais', 'pât', 'succulent', 'bref', 'pizzeri', 'pâl', 'contrefaçon', 'spécial', 'italien'], ['enthousiast', 'idé', 'mang', 'là-b', 'entendu', 'poulet', 'rôt', 'incroi', 'serveur', 'sugger', 'menu', 'dû', 'attendr', 'minut', 'soup', 'oignon'], ['cuisin', 'raffin', 'produit', 'qualit', 'servic', 'agréabl', 'formul', 'mid', 'adress', 'gard'], ['arriv', 'journ', 'appliqu', 'the', 'fork', 'regard', 'autour', 'tomb', 'resto', 'part', 'magnif', 'coup', 'bol', 'total', 'menu', 'servic'], ['sup', 'cadr', 'super', 'pizz', 'sup', 'servic', 'sup', 'mémoir', 'sup', 'picon', 'bier', 'sup', 'tiramisu', 'sup', 'myrtill', 'mamm', 'mi', 'é', 'molto', 'buono', 'teamkangourou'], ['entré', 'pris', 'langoustin', 'cert', 'carpaccio', 'délici', 'mettr', 'crem', 'fort', 'tu', 'gout', 'dev', 'fois', 'crem', 'langoustin', 'plat', 'lievr'], ['fil', 'parisien', 'visit', 'voulu', 'fair', 'découvr', 'lieu', 'parent', 'ex', 'restaur', 'étoil', 'michelin', 'anné', 'appréci', 'ambianc', 'détendu', 'aut', 'courtois', 'bon-enf', 'éloign', 'empes', 'étouff'], ['bon', 'restaur', 'cuisin', 'haut', 'gamm', 'servic', 'aimabl', 'efficac', 'cuisin', 'traditionnel', 'raffin', 'mérit', 'étoil', 'bon', 'adress', 'ème'], ['resto', 'pet', 'bonheur', 'not', 'agend', 'allé', 'semain', 'mid', 'profit', 'menu', 'buffet', 'volont', 'accueil', 'vrai', 'chaler', 'suiv', 'expliqu', 'plat'], ['second', 'aventur', 'din', 'luc', 'carton', 'éblou', 'présent', 'choix', 'nouvel', 'fois', 'menu', 'dégust', 'vin', 'sincer', 'tabl', 'excellent', 'déjeun', 'pré', 'catelan', 'cart'], ['serveur', 'par', 'agass', 'serv', 'voir', 'repond', 'formul', 'politess', 'soup', 'eau', 'chaud', 'aromatise', 'plat', 'ok', 'dessert', 'blagu', 'tiramisu', 'mouss'], ['servic', 'hauteur', 'entré', 'encornet', 'interet', 'espec', 'pur', 'pois', 'fev', 'fadac', 'plat', 'sol', 'serv', 'cêp', 'brul', 'bout', 'ail', 'noir', 'carbonis', 'don', 'mauv', 'gout', 'brul', 'ensembl', 'ponpon'], ['ème', 'visit', 'pierr', 'gagnair', 'fois-c', 'dédi', 'cart', 'chass', 'command', 'lievr', 'serv', 'servic', 'rabl', 'ensuit', 'prépar', 'royal', 'fin', 'crépinet', 'inoubli'], ['restaur', 'mérit', 'étoil', 'cuisin', 'sympath', 'saveur', 'exceptionnel', 'servic', 'hauteur', 'établ', 'catégor', 'ira', 'reprendr', 'assiet', 'fromag', 'serv', 'commenc'], ['class', 'meilleur', 'couscous', 'paris', 'vrai', 'bouillon', 'fameux', 'effect', 'plac', 'favor', 'pet', 'regret', 'viand', 'soupçon', 'supérieur'], ['cuisin', 'gastronom', 'raffin', 'subtil', 'met', 'savour', 'personnel', 'petit', 'soin', 'bel', 'expérient', 'gustat', 'grand', 'meilleur', 'cav', 'paris', 'sommeli', 'savent', 'parfait', 'fair', 'correspondr', 'plat', 'désir', 'moyen', 'addit'], ['réserv', 'fin', 'servic', 'part', 'command', 'menus', 'dégust', 'sech', 'tard', 'cart'], ['nouvel', 'cart', 'meilleur', 'précédent', 'tartar', 'écrev', 'feuill', 'kob', 'tomb', 'risotto', 'saint', 'jacqu', 'incontourn', 'amateur', 'bon', 'viand', 'trouv', 'incontest', 'bonheur', 'sélect'], ['réserv', 'restaur', 'conseil', 'collègu', 'déçu', 'aut', 'trouv', 'hasard', 'devantur', 'ressembl', 'entré', 'restaur', 'tendanc', 'trouv', 'coup'], ['petit', 'brasser', 'dizain', 'tabl', 'pouss', 'port', 'oubl', 'tumult', 'boulevard', 'apais', 'musiqu', 'accueil', 'chaleur', 'cart', 'vrai', 'limit', 'maison'], ['superb', 'restaur', 'traditionnel', 'accueil', 'irréproch', 'cuisin', 'exquis', 'réel', 'plais', 'decouvr', 'cuisin', 'iranien', 'saveur', 'recommand', 'viv', 'restaur', 'retourn'], ['visit', 'jour', 'agréabl', 'excellent', 'crêp', 'original', 'garn', 'reviendr'], ['servic', 'attention', 'rapid', 'qualit', 'nourritur', 'divin', 'bœuf', 'kob', 'délic', 'entrecôt', 'bœuf', 'sauc', 'exquis', 'moelleux', 'chocolat', 'cacao', 'régal', 'conseil', 'grand', 'restaur'], ['pris', 'grand', 'plais', 'mang', 'restaur', 'cadr', 'auster', 'menus', 'bon', 'viand', 'exceptionnel', 'bon', 'bouteil', 'vin', 'choix', 'faut'], ['plat', 'excellent', 'servic', 'hauteur', 'laissez-vous', 'séduir', 'sommeli', 'saur', 'fair', 'dégust', 'petit', 'merveil', 'pet', 'bonus', '’huil', '’oliv', 'tomb'], ['allé', 'famill', 'fan', 'restaur', 'indien', 'avou', 'agréabl', 'surpris', 'plat', 'bon', 'qualit', 'rdv', 'meilleur', 'restaur', 'indien', 'fair'], ['menu', 'euros', 'verr', 'vin', 'prestat', 'moyen', 'nourritur', 'portion', 'minuscul', 'tempur', 'magn', 'mieux', 'sushimak', 'quarti', 'serveur', 'empress'], ['bon', 'dîn', 'restaur', 'chaleur', 'extraordinair', 'mond', 'jeud', 'soir', 'serveur', 'sent', 'maison', 'vois', 'négat', 'cuisin'], ['resto', 'délici', 'cuisin', 'somptueux', 'bon', 'bel', 'cart', 'vin', '🍷', 'cuisin', 'raffin', 'maîtris', '✅', 'soir', 'parfait', 'merciplus'], ['secret', 'pren', 'bon', 'produit', 'obtiendr', 'bon', 'burger', 'french', 'connect', 'bleu', 'auvergn', 'vrai', 'excellent', 'formul', 'bon', 'adress'], ['allé', 'bach', 'estomac', 'espoir', 'critiqu', 'dithyramb', 'aut', 'amour', 'pistach', 'surpris', 'glac', 'goût', 'pourt', 'pris', 'parfum', 'impossibl', 'différenci'], ['qualit', 'nourritur', 'qualit', 'servic', 'baiss', 'mang', 'restaur', 'an', 'vrai', 'excellent', 'nourritur', 'crois', 'besoin', 'paris', 'aller', 'mang'], ['pris', 'balad', 'gourmand', 'menu', 'dégust', 'commençon', 'point', 'requièrentselon', 'amélior', 'amus', 'bouch', 'apérit', 'oblig', 'patient', 'pouvoir', 'dégust', '’attent'], ['aim', 'restaur', 'raffin', 'simpl', 'retrouv', 'assiet', 'maison', 'endroit', 'vincent', 'mettr', 'ais', 'écout', 'envi', 'moment', 'formul', 'dégust', 'parfait', 'découvr'], ['nourritur', 'vrai', 'extraordinair', 'gout', 'adapt', 'pal', 'européen', 'amateur', 'cuisin', 'indien', 'fui', 'portion', 'ridicul', 'vulgair', 'morceau', 'poulet', 'poulet', 'massal', 'noi', 'sauc', 'insipid', 'dis', 'pourt'], ['resto', 'quarti', 'ru', 'eugen', 'jumin', 'paris', 'ambianc', 'chaleur', 'symp', 'mang', 'bon', 'pizz', 'faît', 'bon', 'produit', 'frais', 'bon', 'servic', 'attent', 'personnel', 'symp', 'écout', 'client', 'dev', 'don', 'not'], ['venus', 'dîn', 'compagnon', 'faubourg', 'hasard', 'rep', 'merveil', 'début', 'fin', '’accueil', 'chaleur', 'directeur', 'sall', 'patric', 'jeann', 'équip', 'jeun', 'professionnel', 'motiv', 'souri', 'restaur', 'transport'], ['allé', 'mang', 'dimanch', 'mid', 'restaur', 'atyp', 'allez', '’impress', '’êtr', 'petit', 'ru', 'tokyo', 'pris', 'petit', 'entré', 'partag', 'excellent', 'mention', 'salad', '’algu', 'plat', 'serv', 'rapid'], ['soir', 'saveur', 'multipl', 'délic', 'yeux', 'papill', 'enchant', 'gentilless', 'servic', 'grand', 'qualit', 'gustat', 'plat', '’entr', 'jusqu’au', 'dessert', 'excellent', 'choix', 'vin', 'recommand', 'viv'], ['bel', 'réalis', 'équip', 'jeun', 'dynam', 'professionnel', 'rav', 'venu', 'restaur', 'continu'], ['escap', 'gam', 'famill', 'recherch', 'restaur', 'symp', 'coin', 'trouv', 'fin', 'lam', 'régal', 'burger', 'viand', 'command', 'pren', 'plat', 'principal', 'verr', 'vin'], ['pair', 'amateur', 'viand', 'grand', 'qualit', 'servic', 'irréproch', 'personnel', 'attent', 'petit', 'soinplus'], ['cadr', 'franch', 'tour', 'effeil', 'intérieur', 'soign', 'faut', 'gout', 'fauss', 'boug', 'personnel', 'attention', 'expliqu', 'chef', 'vraissembl', 'absent', 'jour'], ['qu’on', 'attendr', '’un', 'bon', 'adress', 'accueil', 'charm', 'menu', 'équilibr', 'raffin', 'prix', 'raison', 'menu', 'cart', 'vin', 'haut', 'tenu', 'conseil', 'judici', 'servic', 'impecc', 'fois', 'mois'], ['breton', 'réguli', 'déçu', 'qualit', 'prix', 'crêp', 'paris', 'suzet', 'ingrédient', 'qualit', 'crêp', 'excellent', 'vrai', 'soin', 'apport', 'choix', 'ingrédient'], ['décept', 'attend', 'vrai', 'chos', 'accueil', 'agréabl', 'décor', 'symp', 'seul', 'point', 'posit', 'expérient', 'mang', '’obscur', 'entend', 'pein', 'fac', 'qu’il'], ['excellent', 'adress', 'prix', 'correct', 'paris', 'accueil', 'souri', 'ambianc', 'symp', 'bon', 'crêqu', 'salon', 'exposit', 'port', 'versaill'], ['parf', 'accord', 'met', 'saveur', 'superb', 'servic', 'impecc', 'restaur', 'mérit', 'connu'], ['fois', 'allion', 'michel', 'rostang', 'déjà', 'serv', 'coup', 'champagn', 'évent', 'fin', 'bouteil', 'fallu', 'réclam', 'nouvel', 'coup', 'voulu', 'chang', 'plat', 'menu', 'gastronom', 'maitr'], ['grand', 'colbert', 'cadr', 'ambianc', 'peut-êtr', 'proxim', 'jardin', 'pal', 'royal', 'cuisin', 'cart', 'chang', 'plat', 'fait', 'maison', 'exempl'], ['venu', 'ami', 'mn', 'attendr', 'pris', 'command', 'boisson', 'jam', 'venu', 'réclam', 'fois', 'flemm', 'expliqu', 'gâteau', 'nombr', 'limit'], ['bon', 'accueil', 'sympath', 'souri', 'assiet', 'étudi', 'bon', 'vin', 'bel', 'déco', 'musiqu', 'top', 'bref', 'pass', 'bel', 'soir', 'jusqu’à', 'jusqu’à', 'quelqu’un', 'staff', 'vien', 'demand', 'part', 'accueil', 'servic'], ['moqu', 'clair', 'mond', 'monsieur', 'prétenti', 'incompétent', 'sen', 'contrefou', 'din', 'an', 'jour', 'juin', 'invit', 'épous', 'réserv', 'mois'], ['ressort', 'ici', 'grand', 'impress', 'gâch', 'cadr', 'prêt', 'pourt', 'potentiel', 'réussit', 'servic', 'hauteur', 'manqu', 'chos', 'pain', 'eau', 'plat', 'serv', 'temp'], ['bon', 'formul', 'mid', 'rapport', 'qualit', 'prix', 'commun', 'paris', 'plat', 'goûteux', 'serv', 'accueil', 'discret', 'symp', 'sérieux', 'offrent', 'servic', 'qualit'], ['lu', 'merveil', 'critiqu', 'ici', 'prévu', 'mang', 'ici', 'déjeun', 'dîn', 'vérifi', 'horair', 'lign', 'pris', 'métro', 'déjeun', 'pourt'], ['allé', 'déjeun', 'semain', 'derni', 'bluff', 'professionnal', 'servic', 'parf', 'début', 'fin', 'nombr', 'person', 'servic', 'client', 'aim', 'ambianc', 'éleg', 'raffin', 'menu', 'déjeun'], ['lir', 'avis', 'dityramb', 'épous', 'impress', 'mang', 'restaur', 'entré', 'limit', 'oeuf', 'mayonnais', 'maigr', 'salad', 'accompagn', 'petit', 'foi', 'volaill', 'insipid', 'dessert'], ['restaur', 'médiocr', 'compar', 'restaur', 'étoil', 'paris', 'accueil', 'moyen', 'personnel', 'maîtr', 'hôtel', 'demand', 'intolérent', 'souhait', 'regard', 'hautain', 'arrog', 'serveur', 'petit', 'réflex', 'plaisanter', 'mal', 'pris'], ['bon', 'plat', 'copieux', 'vit', 'rempl', 'semain', 'parisien', 'tourist', 'décor', 'simpl', 'plais', 'accueil', 'attention', 'rapid'], ['dis', 'sommeli', 'absent', 'préven', 'bon', 'conseil', 'regn', 'cav', 'magnif', 'prix', 'éton', 'raison', 'compt', 'tenu', 'qualit', 'flacon', 'cuisin', 'hauteur', 'étoil', 'grand'], ['entré', 'etag', 'vient', 'provinc', 'fabul', 'servic', 'cart', 'parf', 'visuel', 'cuisin', 'terr', 'visuel', 'plat', 'sup', 'plat', 'magnif'], ['bon', 'tabl', 'cuisin', 'qualit', 'bel', 'cart', 'vin', 'dommag', 'serveur', 'disponibl', '’impress', 'dérang'], ['mois', 'derni', 'visit', 'kodawar', 'décid', 'retourn', 'avid', 'retrouv', 'excellent', 'goût', 'kugoraw', 'décept', 'total', 'reçu', 'bonjour', 'impens', 'auparav', 'demand', 'immédiat', 'nombr'], ['souhait', 'voir', 'tour', 'eiffel', 'scintill', 'allez-', 'souhait', 'rencontr', 'chef', 'allez-', 'souhait', 'mang', 'arrêt', 'rêv', 'mis', 'bouch', 'dessert', 'menu', 'gastronom', 'rével', 'menu', 'castratoph', 'critiqu', 'officiel', 'crédit'], ['parf', 'plat', 'délici', 'lieu', 'agréabl', 'servic', 'excellent', 'asif'], ['furieux', 'soir', 'gâch', 'réserv', 'compliqu', 'concierg', 'amex', 'final', 'confirm', 'tabl', 'jeud', 'samed', 'fois', 'établ', 'fais', 'part', 'lieux', 'privilégi', 'préfer', 'paris'], ['cadr', 'neutr', 'désagré', 'impress', 'din', 'sol', 'abeil', 'excellent', 'restaur', 'étoil', 'parisien', 'servic', 'discret', 'efficac', 'personnel', 'exterminent', 'sympath', 'chef', 'propos', 'superb'], ['confirm', 'répet', 'avis', 'visit', 'enchant', 'bon', 'bon', 'moment', 'cuisin', 'servic', 'goût', 'saveur', 'vin', 'allez', 'anné', 'met', 'sourir', 'éleg', 'gentilless', 'humour'], ['reserv', 'fait', 'internet', 'confirm', 'mail', 'acceuill', 'chien', 'jeu', 'quill', 'reserv', 'internet', 'bon', 'attend', 'voir', 'apparent', 'gestion', 'res', 'internet', 'inexist', 'acceuil', 'limit'], ['viand', 'grand', 'qualit', 'bon', 'exécu', 'redir', 'accueil', 'sympath', 'chaleur', 'maison', 'mérit', 'connu', 'reconnu', 'pet', 'bémol', 'pann', 'cott', 'agar', 'agar'], ['serveux', '’et', 'aimabl', 'mond', 'voulu', 'desserv', 'fois', '’avion', 'termin', 'assiet', 'rechign', 'apport', 'caraf', '’eau', 'sush', 'bon', 'servic'], ['rendus', 'etabl', 'dimanch', 'tot', 'spectacl', 'agréabl', 'accueil', 'equip', 'serveur', 'sympath', 'discut', 'visit', 'parisien', 'command', 'jour', 'restaur'], ['cuisin', 'creativ', 'raffin', 'eton', 'conseilrest', 'plat', 'mer', 'caviar', 'merveil', 'bon', 'cav', 'dessert', 'raffin', 'plat', 'servic', 'parf', 'bref', 'faut', 'restaur', 'merit', 'reserv', 'detour'], ['d', 'arrive', 'avont', 'sent', 'affair', 'passion', 'proxim', 'professionnal', 'sourir', 'serveur', 'restaur', 'endroit', 'chaleur', 'rassur', 'laiss', 'seduir', 'cart', 'blanch', 'chef', 'attis'], ['restaur', 'médiocr', 'prend', 'prix', 'incroi', 'haut', 'quantit', 'original', 'accept', 'pay', 'asperg', 'entré', 'pet', 'morceau', 'turbot', 'sérieux', 'restaur'], ['bel', 'soir', 'verri', 'allé', 'fêt', 'anniversair', 'mariag', 'bon', 'moment', 'plat', 'excellent', 'original', 'raffin', 'servic', 'top', 'décor', 'vrai', 'réuss'], ['attir', 'bar', 'devantur', 'décal', 'ambianc', 'latino', 'affich', 'déçus', 'musiqu', 'commercial', 'rapport', 'ambianc', 'affich', 'gros', 'point', 'noir', 'cocktail'], ['devion', 'test', 'te', 'tim', 'ritz', 'complet', 'essai', 'petit-déjeun', 'déjeun', 'américain', 'restaur', 'espadon', 'regretton', 'cadr', 'magnif', 'personnel', 'parf', 'présent', 'ostent', 'petit-déjeun', 'superb'], ['réserv', 'semain', 'arrivon', 'dîn', 'person', 'découvron', 'réserv', 'enregistr', 'confirm', 'fois', 'situat', 'atteindr', 'personnel', 'reconduit'], ['déçu', 'soir', 'restaur', 'convers', 'directeur', 'sall', 'décev', 'immens', 'décept', 'transmet', 'messag', 'chos', 'sach', 'épicurien', 'angevin', 'pass', 'temp', 'cherch'], ['vrai', 'régal', 'assiet', 'heureux', 'associ', 'poisson', 'végétal', 'bémol', 'dessert', 'pomm', 'glac', 'vanill', 'vin', 'noix', 'teneur', 'sucr', 'étouff', 'léger', 'arôm', 'pourt', 'chois'], ['queu', 'qu’il', 'voient', 'queu', '’est', 'ridicul', 'snack', '’', 'hygien', 'messieur', 'touchent', '’argent', 'préparent', 'crêp', 'temp', 'touch', 'monnai', 'permanent', 'touch', 'jambon', 'morceau', 'fromag', 'crêp'], ['vrai', 'appréci', 'dîn', 'restaur', '’avon', 'vrai', 'déçus', 'menu', 'plat', 'vari', 'succulent', 'portion', 'suffis', 'appréci', 'jusqu’au', 'bout', 'vin', 'égal', 'bon', 'niveau', 'prix'], ['accueil', 'boutary', 'chaleur', 'menu', 'déjeun', 'euros', 'excellent', 'rapport', 'qualité-prixentr', 'thon', 'délici', 'fondantplat', 'canet', 'légum', 'italien', 'cuisson', 'maîtriséedessert', 'gâteau', 'mandarin', 'savour', 'mouss', 'léger', 'éclat'], ['restaur', 'revient', 'servic', 'parf', 'absenc', 'grand', 'mr', 'jeann', 'équip', 'grand', 'directeur', 'restaur', 'fair', 'grand', 'équip', 'délégu'], ['arrêt', 'voi', 'person', 'coinc', 'arrêt', 'bus', 'port', 'entré', 'bar', 'rentr', 'command', 'bier', 'serv', 'bar', 'crasseux', 'sombr', 'intérieur'], ['délici', 'raffin', 'plat', 'viand', 'poisson', 'fraîcheur', 'absolu', 'servic', 'conseil', 'parf', 'bon', 'dessert', 'choix', 'vin', 'intéress', 'petit', 'sall', 'spartiat', 'peut-êtr', 'vrai', 'bémol', 'plat', 'sal'], ['venon', 'ami', 'lund', 'essai', 'ensembl', 'cart', 'vrai', 'bon', 'instar', 'classiqu', 'pad', 'thaï', 'faut', 'essai', 'grand', 'bol', 'soup', 'citronnel'], ['bon', 'hamburg', 'compos', 'déçu', 'contrair', 'recommand', 'viv', 'amateur', 'burger'], ['parf', 'exempl', 'haut', 'qualit', 'cuisin', 'français', 'touch', 'créativ', 'menus', 'bas', 'produit', 'frais', 'chef', 'hubert', 'décid', 'trouv', 'endroit', 'mang', 'conseil', 'réserv', 'tabl', 'semain', 'avanc'], ['venus', 'samed', 'mid', 'magiqu', 'revenus', 'mercred', 'cauchemar', 'temp', 'attent', 'insupport', 'plat', 'serveur', 'débord', 'chef', 'rang', 'repos', 'bref', 'moment', 'stress', 'prestat', 'franch', 'quelconqu'], ['vrai', 'bel', 'découvert', 'cuisin', 'franco', 'japonais', 'sommet', 'cart', 'simpl', '’', 'cart', '’est', 'découvert', 'plat'], ['fréquent', 'réguli', 'restaur', 'étoil', 'paris', 'avou', 'attend', 'surpris', 'culinair', 'maitris', 'cuisson', 'regard', 'addit', 'manqu', 'sel'], ['décept', 'total', 'accueil', 'départ', 'servic', 'déplor', 'mang', 'déjà', 'mis', 'bouch', 'mis', 'bouch', 'apérit', 'choix', 'rep', 'court', 'paill', 'brasser', 'franchis'], ['restaur', 'week-end', 'août', 'tabl', 'perfect', 'incarn', 'terr', 'jardin', 'pal', 'royal', 'calm', 'éloign', 'désagr', 'ru', 'parisien', 'cart', 'comport', 'menu', 'déjeun', 'abord', 'entré', 'plat', 'dessert', 'raison'], ['petit', 'amus', 'bouch', '’on', 'immens', 'maison', 'gastronom', 'beaut', 'finess', 'saveur', 'bouch', 'extraordinair', 'plat', 'exempl', 'apérit', 'petit', '«', 'carott', '»', 'form', 'côn'], ['découvert', 'soir', 'erranc', 'amis', 'agréabl', 'surpr', 'cart', 'original', 'séduis', 'curieuxs', 'ger', 'présent', 'attent', 'sociabl', 'pass', 'agréabl', 'moment', 'voyag', 'gré'], ['déjeun', 'coupl', 'semain', '’epicur', 'heur', 'tabl', 'vérit', 'enchant', 'niveau', 'plat', 'chois', 'plat', '«', 'signatur', '»', 'macaron', 'truff', 'cochon', 'têt', 'pied'], ['grand', 'dégust', 'plat', 'cert', 'petit', 'quantit', 'savour', 'restaur', 'symp', 'personnel', 'accueil', 'expliqu', 'plat', 'pouv', 'aller', 'yeux', 'ferm', 'pal', 'sav'], ['restaur', 'chaleur', 'bon', 'supris', 'découvr', 'associ', 'saveur', 'découvr', 'vit', '-'], ['allé', 'restaur', 'amis', 'fêt', 'anniversair', 'vrai', 'génial', 'sen', 'term', 'nourritur', 'excellent', 'servic', 'vrai', 'irréproch', 'rapport', 'qualité-prix', 'vrai', 'bon', 'faut'], ['serveur', 'sympath', 'cuisin', 'simpl', 'mauvais', 'frit', 'mal', 'cuit', 'soup', 'oignon', 'oignon', 'sal', 'entrecôt', 'rachit', 'heureux', 'vin', 'pichet', 'bon'], ['accueil', 'personnalis', 'plat', 'exquis', 'mérit', 'larg', 'étoil', 'servic', 'impecc', 'équip', 'vrai', 'petit', 'soin', 'maison', 'mention', 'spécial', 'directeur', 'mr', 'jeann', 'efficac', 'gentilless', 'narc', 'sommeli'], ['femm', 'séjourn', 'ici', 'fois', 'mois', 'juin', 'dîn', 'étoil', 'restaur', 'cour', 'derni', 'anné', 'aim', 'séjour', 'pg', 'vrai', 'plais'], ['bon', 'rapport', 'qualité-prix', 'mid', 'fac', 'tour', 'eiffel', 'éton', 'obtenu', 'étoil', 'bel', 'prestat', 'assiet', 'bel', 'sall', 'prior', 'but', 'vis', 'client', 'manqu'], ['cadr', 'servic', 'excellent', 'petit', 'decept', 'menu', 'prestig', 'manqu', 'original', 'saveur', 'restaur', 'gastronom', 'appréci', 'plat', 'entré', 'bas', 'truff', 'present', 'assiet', 'accord', 'met'], ['enthousiast', 'idé', 'mang', 'là-b', 'entendu', 'poulet', 'rôt', 'incroi', 'serveur', 'sugger', 'menu', 'dû', 'attendr', 'minut', 'soup', 'oignon'], ['paris', 'fais', 'joi', 'reven', 'dimanch', 'soir', 'restaur', 'découvert', 'test', 'classiqu', 'fish', 'and', 'chip', 'résultat', 'catastroph', 'poisson', 'gras', 'petit', 'morceau', 'frit', 'dir'], ['habitu', 'bon', 'tabl', 'simpl', 'meilleur', 'cadr', 'magiqu', 'servic', 'petit', 'soin', 'excellent', 'conseil', 'sommeli'], ['dîn', 'cadr', 'lugubr', 'multitud', 'échantillon', 'serv', 'laiss', 'souven', 'agréabl', 'anniversair', 'mariag', 'viv', 'anné', 'jgr'], ['délicat', 'savour', 'raffin', 'prec', 'chapeau', 'sommeli', 'paz', 'levinson', 'cart', 'recherch', 'rich', 'vin', 'mond', 'enti', 'trouv', 'paris', 'accord', 'mets-vin', 'scotch', 'huîtr', 'fraîche-anan', 'granit'], ['mal', 'accept', 'pai', 'prix', 'indiqu', 'menu', 'langoustin', 'sort', 'chambr', 'froid', 'filet', 'saint-jacqu', 'roignon', 'moelleux', 'caf', 'liegeois', 'correct'], ['voyag', 'paris', 'lisbon', 'grâc', 'éminc', 'sauc', 'noss', 'pomm', 'terr', 'grenaill', 'succulent', 'pasteis', 'nat', 'fondr', 'vrai', 'régal', 'reviendr', 'bientôt'], ['fêt', 'papill', 'voyag', 'visuel', 'gustat', 'justifi', 'déli', 'bours', 'chef', 'équip'], ['plais', 'prendr', 'menu', 'dégust', 'surpr', 'rep', 'présent', 'attent', 'port', 'détail', 'impecc', 'jam', 'typ'], ['nuit', 'paris', 'visit', 'faubourg', 'excellent', 'restaur', 'endroit', 'vrai', 'agréabl', 'délici', 'lux', 'dîn', 'sugger', 'plupart', 'commentair', 'tripadvisor', 'essai', 'célebr', 'pat'], ['restaur', 'débord', 'arriv', 'entré', 'apérit', 'cacahuet', 'patient', 'hésit', 'serv', 'vin', 'gogo', 'servic', 'apprent', 'débord', 'approxim', 'renvers', 'intégral'], ['soir', 'décembr', 'jeun', 'chef', 'japon', 'soucieux', 'conscienci', 'restaur', 'prepar', 'din', 'sall', 'confort', 'froid', 'couleur', 'lumi', 'espac', 'servic', 'maitr', 'hotel', 'bilingu', 'franc', 'japon'], ['retourn', 'restaur', 'dizain', 'anné', 'déçu', 'acceuil', 'chaleur', 'long', 'rep', 'personnel', 'attention', 'madam', 'rostang', 'rendu', 'visit', 'cour', 'rep', 'savoir'], ['occas', 'dîn', 'ici', 'pet', 'déjeun', 'dîn', 'superb', 'restaur', 'aménag', 'spacieux', 'bon', 'tabl', 'taill', 'magnif', 'composit', 'floral', 'nourritur', 'servic', 'excellent', 'accueil', 'enfant'], ['entendu', 'retour', 'posit', 'restaur', 'malchanc', 'invit', 'collègu', 'travail', 'déjeun', 'découvert', 'allait', 'collègu', 'annonc', 'allerg', 'produit', 'laiti', 'poisson', 'blanc', 'serveux'], ['dîn', 'plat', 'rois', 'bon', 'régal', 'servic', 'impecc', 'vrai', 'indispens', 'découvr', 'restaur', 'allez', 'yeux', 'ferm', 'superb', 'soir'], ['excellent', 'restaur', 'servic', 'excellent', 'heureux', 'allé'], ['bon', 'frais', 'innov', 'revanch', 'profit', 'tabl', 'soleil', 'prétext', 'dev', 'gard', 'rapproch', 'tabl', 'voisin', 'cas-où', 'group', 'person', 'présent'], ['restaur', 'veil', 'chanc', 'den', 'obten', 'tabl', 'servic', 'lent', 'personnel', 'charm', 'serviabl', 'cuisin', 'serv', 'val', 'coup', 'attendr', 'vinaigret', 'poireau'], ['bel', 'sall', 'clair', 'vieil', 'immeubl', 'centr', 'paris', 'cart', 'classiqu', 'rognon', 'cuiss', 'grenouill', 'profiterol', 'excellent', 'gratin', 'dauphinois', 'côt', 'rhôn', 'parallel', 'jaboulet', 'servic', 'sympath', 'addit', 'raison', 'entré', 'platdessertvin', '='], ['restaur', 'réserv', 'téléphon', 'gentilless', 'paris', 'cart', 'choix', 'qualit', 'produit', 'goût', 'dressag', 'couleur', 'vrai', 'plais', 'gustatifl', 'carr', 'agneau', 'sublim', 'suprêm', 'volaill', 'farc'], ['passag', 'coin', 'conjoint', 'savon', 'restaur', 'longu', 'queu', 'léger', 'attent', 'demand', 'mieux', 'prix', 'serveux', 'agréabl', 'ambianc'], ['entendu', 'restaur', 'décu', 'plan', 'menu', 'déjeun', 'eur', 'caf', 'eau', 'dessert', 'choix', 'cart', 'portion', 'minuscul', 'entré', 'chaud', 'caf', 'servic', 'long'], ['bouillon', 'bon', 'quantit', 'mang', 'maigr', 'bon', 'part', 'budget', 'pass', 'déco', 'dommag'], ['pet', 'restaur', 'situ', 'proxim', 'moulin', 'roug', 'illustr', 'traver', '’un', 'ambianc', 'intim', 'aut', 'chaleur', 'personnel', 'pet', 'soin', 'point', 'cart', 'honnêt', 'chaleur', 'guid', 'conviv', 'traver', 'pal', 'découvert'], ['dîn', 'anniversair', 'réuss', 'grâc', 'talent', 'chef', 'thierry', 'marx', 'grand', 'gentilless', 'équip', 'menu', 'rassembl', 'classiqu', 'revis', 'surpris', 'culinair', 'vu', 'gout', 'odorat', 'fêt', 'oubli', 'sommeli'], ['bon', 'cuisin', 'classiqu', 'francais', 'cadr', 'eleg', 'acceuil', 'chaleur', 'foi', 'gras', 'crep', 'suzet', 'delici', 'cognac', 'maison'], ['meilleur', 'resto', 'gastronom', '’ai', 'vi', '’équip', 'incroi', 'vin', '’ai', 'mot'], ['adoss', 'palac', 'bristol', 'pren', 'yeux', '’entr', 'servic', 'discret', 'attention', 'guind', 'cuisin', 'supervis', 'talentu', 'formid', 'chef', 'frechon', 'impecc', 'accord', 'met', 'vin', 'sommeli', 'narc', 'vérit', 'passion'], ['bon', 'pain', 'reconnaiss', 'sandwich', 'bon', 'pain', 'suit', 'bon', 'pain', 'déjà', 'délic', 'patron', 'sympath', 'bagel'], ['ambianc', 'resto', 'agréabl', 'aim', 'musiqu', 'pass', 'aller', 'mard', 'soir', 'mond', 'serveur', 'agréabl', 'temp', 'attent', 'raison', 'tarif', 'raison', 'menu', '=', 'burg', 'frit', 'boisson'], ['nem', 'raviol', 'entré', 'bon', 'plein', 'saveur', 'plat', 'nouill', 'beuf', 'bon', 'pât', 'vrai', 'frais', 'manqu', 'saveur', 'servic', 'top', 'écout', 'ca', 'arrêt', 'jam'], ['impression', 'fishbal', 'frit', 'dout', 'poisson-frit', 'mieux', 'frit', 'bienplus'], ['bon', 'restaur', 'nourritur', 'excellent', 'copieux', 'servic', 'réactif', 'serveur', 'serveux', 'gentil', 'reviendron', 'coup', 'sûr'], ['souhait', 'voir', 'tour', 'eiffel', 'scintill', 'allez-', 'souhait', 'rencontr', 'chef', 'allez-', 'souhait', 'mang', 'arrêt', 'rêv', 'mis', 'bouch', 'dessert', 'menu', 'gastronom', 'rével', 'menu', 'castratoph', 'critiqu', 'officiel', 'crédit'], ['voulu', 'fair', 'goût', 'fil', 'restaur', 'apprec', 'voir', 'ten', 'distanc', 'dur', 'simpl', 'excellent', 'accueil', 'pass', 'servic', 'qualit', 'gastronom', 'invent', 'plat', 'propos'], ['tergivers', 'gentilless', 'servic', 'qualit', 'plat', 'haut', 'niveau', 'manqu', 'plat', 'petit', 'touch', 'innov', 'petit', 'pris', 'risqu', 'compt', 'tenu', 'haut'], ['dir', 'pet', 'garçon', 'an', 'mang', 'rep', 'gastronom', 'rep', 'décev', 'jam', 'mang', 'servic', 'sup', 'nourritur', 'moyen', 'mal', 'vrai', 'moyen'], ['conseil', 'restaur', 'personnel', 'convivial', 'cuisin', 'délici', 'ambianc', 'bon', 'enfant', 'chic', 'endroit', 'idéal', 'pass', 'soir', 'amis', 'coupl', 'pouv', 'aller', 'yeux', 'ferm'], ['arriv', 'personnel', 'recept', 'recu', 'accompagn', 'bar', 'rejoindr', 'amis', 'restaur', 'serv', 'filip', 'recommand', 'gentilless'], ['servic', 'acceuil', 'charm', 'hauteur', 'étoil', 'chos', 'corsent', 'suit', 'cart', 'court', 'prix', 'plat', 'manquent', 'cruel', 'original', 'commandon', 'coup', 'champagn', 'conseil', 'serveur'], ['sup', 'adress', 'dégust', 'pât', 'maison', 'qualit', 'chaleur', 'pet', 'établ', 'servic', 'pep', 'vrai', 'bel', 'saveur', '’assiet', 'envi', 'adress', 'gard', 'précieux'], ['allé', 'déjeun', 'hi', 'epicur', 'habitu', 'bon', 'tabl', 'parisien', 'entendu', 'restaur', 'gastronom', 'impatient', 'découvr', 'chef', 'fréchon', 'janin', 'concoct'], ['dîn', 'amour', 'anniversair', 'festival', 'saveur', 'menu', 'accord', 'met', 'vin', 'conseil', 'directeur', 'sall', 'régal', 'papill', 'yeux', 'servic', 'professionnel', 'présent', 'discret', 'décor', 'épur', 'espac'], ['cuisin', 'qualit', 'moyen', 'viand', 'cuit', 'dessert', 'doigt', 'glac', 'gingembr', 'meringu', 'conf', 'citron', 'biscuit', 'caoutchout', 'servic', 'âme', 'addit', 'euros', 'capital'], ['din', 'romant', 'rep', 'incroi', 'finess', 'personnel', 'aven', 'envah', 'soir', 'mémor', 'rest', 'grav', 'mémoir', 'allez-', 'yeux', 'ferm'], ['moment', 'délici', 'met', 'raffinesd', 'mélang', 'saveur', 'original', 'mention', 'spécial', 'raviol', 'foi', 'gras', 'lieux', 'déco', 'splendid', 'art', 'oblig', 'accueil', 'attention', 'présent', 'cav', 'vin', 'extraordinair', 'dev', 'petit'], ['paris', 'jour', 'fin', 'dîn', 'là-b', 'fois', 'excellent', 'cuisin', 'français', 'traditionnel', 'oie', 'canard', 'conf', 'oie', 'foi', 'gras', 'délici', 'choix', 'menu', 'faut', 'demand'], ['déçu', 'faut', 'ven', 'affam', 'menu', 'mid', 'entré', 'plat', 'dessert', 'euros', 'laiss', 'faim', 'salad', 'fruit', 'dessert', 'amer', 'fruit', 'défraîch'], ['part', 'cart', 'croir', 'inde', 'indones', 'restaur', 'pâl', 'cop', 'servic', 'fast', 'food', 'prix', 'rest', 'époqu', 'révolu', 'excellent', 'decerestaur', 'trèstrèsdécev', 'devenu'], ['cadeau', 'offert', 'parent', 'impress', 'bon', 'cadr', 'vrai', 'exceptionnel', 'rep', 'pai', 'avanc', 'mer', 'buv', 'alcool', 'propos', 'eau', 'apérit', 'scandal', 'restaur'], ['meilleur', 'burg', 'végan', 'jam', 'bon', 'rapport', 'qualitéprix', 'aim', 'personnel', 'sympath', 'quarti', 'anim', 'endroit', 'petit', 'entendu', 'veulent', 'espac', 'bientôt', 'définit', 'recommand'], ['faut', 'ven', 'ouvertur', 'sûr', 'plac', 'restaur', 'recré', 'japon', 'anné', 'recommand', 'mang', 'bar', 'verr', 'prépar', 'fameux', 'ramen', 'succulent'], ['nouvel', 'visit', 'restaur', 'hi', 'soir', 'rav', 'accueil', 'qualit', 'plat', 'pris', 'plat', 'dessert', 'accompagn', 'vaqu', 'grand', 'délicatess', 'finess', 'recet'], ['déjà', 'séjourn', 'quarti', 'latin', 'journ', 'curieux', 'trouv', 'tripadvisor', 'restaur', 'coin', 'malheur', 'cœur', 'quarti', 'latin', 'pai', 'prix'], ['expérient', 'surpren', 'plein', 'saveur', 'textur', 'nouvel', 'ambianc', 'restaur', 'apais', 'servic', 'parf', 'fair', 'retourn'], ['serveur', 'attention', 'apport', 'modif', 'plat', 'demand', 'chang', 'accompagn', 'cuisin', 'bon', 'raffin', 'localis', 'metr', 'champ', 'elys', 'idéal', 'tourist', 'restaur', 'bémol'], ['accueil', 'charm', 'chaleur', 'personnel', 'dign', 'étoil', 'superb', 'dirig', 'patric', 'jeann', 'suivon', 'fort', 'apprec', 'talent', 'class', 'cuisin', 'savour', 'fort', 'équilibr', 'grand', 'moment', 'détent', 'coeur'], ['voulu', 'aller', 'restaur', 'hi', 'soir', 'arriv', 'précis', 'plac', 'surpris', 'reçu', 'froid', 'serveur', 'phras'], ['cuisin', 'qualit', 'moyen', 'viand', 'cuit', 'dessert', 'doigt', 'glac', 'gingembr', 'meringu', 'conf', 'citron', 'biscuit', 'caoutchout', 'servic', 'âme', 'addit', 'euros', 'capital'], ['connu', 'grand', 'colbert', 'vingt-cinq', 'an', 'allais', 'revenu', 'an', 'décor', 'splendid', 'plat', 'mauv', 'grand', 'banal', 'revis', 'clientel', 'étranger'], ['bon', 'adress', 'vrai', 'resto', 'italien', 'composit', 'entré', 'pât', 'choix', 'pât', 'sauc', 'excellent', 'accueil', 'patron', 'al', 'dent', 'serveur', 'courtois', 'dégust', 'vin', 'chois', 'blanc', 'roug', 'goûteux', 'rapport', 'qualit', 'prix', 'abord', 'petit', 'grapp'], ['qualit', 'servic', 'cuisin', 'cess', 'dégrad', 'an', 'nourritur', 'correct', 'prix', 'justifi', 'minut', 'serv', 'excus', 'part'], ['cadr', 'franch', 'tour', 'effeil', 'intérieur', 'soign', 'faut', 'gout', 'fauss', 'boug', 'personnel', 'attention', 'expliqu', 'chef', 'vraissembl', 'absent', 'jour'], ['cart', 'gastronom', 'propos', 'verr', 'plat', 'vin', 'adapt', 'vrai', 'agréabl', 'cuisin', 'hauteur', 'attent', 'typ', 'établ', 'jol', 'salon', 'priv', 'pouv', 'accueil', 'person', 'vu', 'plac'], ['fill', 'venu', 'pass', 'jour', 'début', 'séjour', 'jour', 'paris', 'log', 'mn', 'hôtel', 'xve', 'hôtelauberg', 'arty', 'paris', 'port', 'versaill', 'chois', 'restaur', 'coréen', 'situ'], ['chanc', 'invit', 'anniversair', 'restaur', 'epicur', 'pris', 'menu', 'fil', 'saison', 'long', 'rep', 'appréci', 'efficac', 'énerg', 'disponibil', 'monsieur', 'kais'], ['souvenir', 'vi', 'dur', 'mémoir', 'bon', 'goût', 'bon', 'sen', 'maîtr', 'lieux', 'temp', 'luc', 'carton', 'pens', 'temp', 'étoil', 'alain', 'senderen', 'jet', 'savoir', 'fair'], ['expérient', 'gustat', 'magnif', 'découvert', 'culinair', 'perfect', 'design', 'épur', 'piec', 'maîtress', 'lieu', 'tabl', 'metr', 'long', 'cerisi', 'montagn', 'ven', 'droit', 'japon', 'bateau', 'musiqu', 'distill'], ['mang', 'petit', 'terr', 'agréabl', 'personnel', 'accueil', 'sympath', 'burger', 'bon', 'pain', 'parf', 'leg', 'viand', 'fraîch', 'qualit', 'frit', 'maison', 'excellent', 'pet', 'bémol', 'sauc'], ['falafel', 'moyen', 'queu', 'soleil', 'longu', 'malheur', '’attend', '’est', 'arriv', 'voir', 'pauvr', 'sdf', 'fair', 'tabass', 'emploi', 'restaur', 'inutil', '’', 'enlev', '’appet', '’env'], ['sup', 'restaur', 'personnel', 'professionnel', '’écout', 'attention', 'présentent', 'plat', 'détail', 'ambianc', 'cosy', 'bon', 'décor', 'fair', 'siplus'], ['fair', 'group', 'ambianc', 'jeun', 'pet', 'restaur', 'zon', 'universitair', 'jeux', 'disposit', 'patient', 'termin', 'rep', 'trivial', 'pursuit', 'part', 'tarot', 'portion', 'géner'], ['comprend', 'buzz', 'autour', 'restaur', 'cuisin', '’air', 'temp', 'original', 'trouv', 'facil', 'mieux', 'poisson', 'sec', 'cuit', 'cuisson', 'imprécis', 'légum', 'goût', 'net', 'servic', 'indifférent', 'cadr', 'pseudo', 'chic'], ['soir', 'exceptionnel', 'restaur', 'aspic', 'chef', 'quentin', 'équip', 'petit', 'soin', 'cadr', 'somptueux', 'ambianc', 'chaleur', 'plat', 'raffin', 'délicat', 'retaur', 'manqu'], ['chois', 'formul', 'spectacl', 'dîn', 'gastronom', 'win', 'man', 'show', 'eric', 'boschman', 'vin', 'honneur', 'dégust', 'appui', 'humour', 'artist', 'sen', 'aigu', 'observ', 'vrai', 'vrai'], ['excellent', 'adress', 'servic', 'qualit', 'nourritur', 'excellent', 'personnel', 'accueil', 'agréabl', 'bon', 'ambianc', 'recommand', 'viv', 'pet', 'chef', 'montr', 'petit', 'soin', 'client', 'chaleur'], ['nourritur', 'servic', 'extraordinair', 'vrai', 'bel', 'foul', 'autour', 'menu', 'surpris', 'prix', 'raison', 'emplac', 'agréabl', 'demand'], ['réserv', 'cart', 'restopolitan', 'menu', 'offert', 'plat', 'présentent', 'original', 'franch', 'impress', 'menu', 'serv', 'divis', 'état', 'caus', 'justifi', 'prix'], ['intrigu', 'class', 'crêper', 'allé', 'curios', 'emball', 'caractéris', 'distingu', 'lieu', 'li', 'gentilless', 'dégag', 'différent'], ['fois', 'établ', 'déçu', 'accueil', 'top', 'cuisin', 'bon', 'relâch', 'continu', 'pens', 'peut-êtr', 'mettr', 'nouveau', 'plat', 'dessert', 'conseil', 'fort', 'bientôt'], ['dîn', 'er', 'mar', 'tabl', '°', 'menu', 'dégust', 'anniversaire-', 'restaur', 'prestat', 'exceptionnel', 'visit', 'grand', 'moment', 'cuisin', 'épur', 'assort', 'épic', 'accompagn', 'sauc', 'goûteux', 'voir', 'mayonnais', 'bas', 'anchois', 'émuls', 'citron', 'salad'], ['soup', 'pho', 'nouill', 'blé', 'riz', 'pizz', 'gruyer', 'plac', 'mozzarel', 'évit'], ['nom', 'rigolo', 'sympath', 'restaur', 'agreabl', 'surpr', 'chef', 'concoct', 'rep', 'original', 'chang', 'semain', 'jour', 'osé', 'grand'], ['superb', 'décor', 'servic', 'impecc', 'expliqu', 'sûr', 'étoil', 'rep', 'veut', 'impression', 'présent', 'assiet', 'saveur', 'minabl', 'chef', 'devr', 'aller', 'goût', 'cuisin', 'confrer', 'découvr'], ['’ai', 'goût', 'flan', '’', 'goût', 'vanill', 'rhum', 'pât', 'bon', '’appareil', 'demand', 'jour', '’attend', 'truc', 'top', '’est', '’', 'cas', 'dommag'], ['bon', 'tabl', 'produit', 'qualit', 'servic', 'parf', 'habit', 'pay', 'basqu', 'opté', 'plat', 'traditionnel', 'évit', 'charcuter', 'foi', 'gras', 'entré', 'dessert', 'succulent', 'recommand', 'adress', 'yeux', 'ferm'], ['accueil', 'top', 'présent', 'disponibl', 'plat', 'grand', 'qualit', 'gouteux', 'rich', 'part', 'copieux', 'rapport', 'qualit', 'prix', 'imbatt'], ['arriv', 'restaur', 'voituri', 'clé', 'voitur', 'laiss', 'accueil', 'réserv', 'oubli', 'heureux', 'tabl', 'sol', 'trouv', 'rep', 'moyen', 'personnel', 'présent', 'final', 'récuper', 'clé', 'aupres'], ['promen', 'champ', 'voulu', 'fuir', 'foul', 'mang', 'amour', 'pied', 'tomb', 'pichet', 'paris', 'arriv', 'établ', 'accueil', 'ecaill', 'symp', 'ensuit', 'accueil', 'parf', 'plateau', 'fruit'], ['délici', 'burg', 'gros', 'coup', 'cœur', 'black', 'bun', 'produit', 'bon', 'qualit', 'burg', 'original'], ['épous', 'partag', 'délici', 'expérient', 'pur’', 'menu', 'voyag', 'plat', 'excellent', 'accord', 'vin', 'exceptionnel', 'final', 'commandari', 'chypriot', 'moment', 'fort', 'partag', 'alexandr', 'baptist', 'audrey', 'jean-bapt', 'reviendron', 'bravoplus'], ['titr', 'doubl', 'planet', 'marx', 'décor', 'futur', 'din', 'exceptionnel', 'saveur', 'fantast', 'boeuf', 'inoubli', 'menu', 'plat', 'souhait', 'mond', 'vivr', 'fan', 'inconditionnel'], ['cherchion', 'crêper', 'pass', 'moment', 'symp', 'fill', 'crêp', 'bon', 'cart', 'basiqu', 'final', 'déçu', 'cadr', 'vrai', 'pet', '’', 'retourn', 'sûr', 'produit', 'correct'], ['réserv', 'déjeun', 'cadr', 'hôtel', 'bristol', 'servic', 'attention', 'arrang', 'cuisin', 'extraordinair', 'class', 'détail', 'soigneux', 'étudi', 'chic', 'agréabl', 'séjour'], ['’av', 'jam', 'ressent', 'plais', 'gastronom', 'découvert', 'restaur', 'reg', 'marcon', 'restaur', 'exceptionnel', 'niveau', 'servic', '’accueil', 'cadr', 'personnel', 'attention', 'efficac', 'jam', 'tomb', '’obséquios', 'conseil', 'avis', 'cot', 'vin'], ['produit', 'bon', 'fois', 'rend', 'boutiqu', 'vendeux', 'désagré', 'derni', 'fois', 'continu', 'convers', 'haut', 'voix', 'serv', 'vrai'], ['cuisin', 'toppersonnel', 'aimabl', 'recommand', 'allez', 'yeux', 'ferm', 'compagnon', 'sup', 'soir'], ['ya', 'bon', 'restaur', 'restaur', 'bon', 'sortent', 'lot', 'zkg', 'pari', 'waouw', 'expérient', 'genr', 'feu', 'artific', 'regret', 'presqu', 'dispos', 'appareil'], ['vien', 'rentr', 'affect', 'moment', 'désagré', 'revien', 'rep', 'restaur', 'nomm', '«', 'bistrot', 'victoir', '»', 'situ', 'arrond', 'jardin', 'pal', 'royal', 'mond', 'dimanch'], ['ici', 'excellent', 'culinair', 'faut', 'conduir', 'yeux', 'ferm', 'ferm', 'sen', 'attent', 'profit', 'déjeun', 'incompar', 'conduit', 'perfect', 'équip', 'dign', 'maîtr', 'cuisin'], ['mang', 'fois', 'fois', 'accueil', 'hautain', 'ticket', 'don', 'client', 'habitud', 'ven', 'mang', 'ketchup', 'réclam', 'reviendr', 'prix'], ['bon', 'adress', 'mang', 'bon', 'crêp', 'breton', 'temp', 'attent', 'long', 'servic', 'top', 'crêp', 'délici', 'galet', 'classiqu', 'fer', 'voyag', 'bretagn'], ['experient', 'restaur', 'derni', 'rai', 'définit', 'établ', 'list', 'assiet', 'bon', 'abus', 'inaccept', 'niveau', 'servic', 'experient', 'ras', 'experient', 'moment', 'dessert', 'serveur', 'approch', 'verr'], ['menu', 'dégust', 'simpl', 'superb', 'exceptionnel', 'équilibr', 'plats-vin', 'ser', 'découvert', 'inoubli', 'rapport', 'qualit', 'prix', 'surpren', 'dîn', 'pet', 'salon', 'priv', 'exceptionnel', 'vu', 'superb', 'madelein'], ['voyag', 'propos', 'vaut', 'vrai', 'coup', 'vrai', 'moyen', 'maqnif', 'sall', 'cadr', 'somptueux', 'assiet', 'feux', 'flamm', 'qualit', 'plat', 'saveur', 'remarqu', 'servic', 'parf', 'alli', 'class', 'simpliqu', 'gentilless', 'point'], ['excellent', 'burger', 'prix', 'attract', 'qualit', 'sandwich', 'menu', 'euros', '’est', 'exceptionnel'], ['avis', 'posit', 'samed', 'soir', 'délaiss', 'arrond', 'bon', 'adress', 'bon', 'accueil', 'restaur', 'complet', 'ignor', 'person', 'téléphon'], ['fais', 'joi', 'aller', 'endroit', 'retourn', 'cuisin', 'total', 'incipid', 'dign', 'mauvais', 'cafétéri', 'maison', 'pauvr', 'serveur', 'sympath', 'faut', 'chef', 'cuisini'], ['voulu', 'essai', 'étoil', 'essai', 'étoil', 'vrai', 'impress', 'mont', 'gamm', 'niveau', 'culinair', 'servic', 'niveau', 'culinair', 'bel', 'découvert'], ['bobun', 'excellent', 'servic', 'irréproch', 'personnel', 'accueil', 'bon', 'rapport', 'qualit', 'prix', 'bobun', 'correct', 'paris', 'centr'], ['coupl', 'japonais', 'con', 'nourritur', 'pay', 'mod', 'maison', 'restaur', 'justif', 'obligatoir', 'compren', 'appréhens', 'pris', 'sush'], ['bon', 'accueil', 'crêp', 'excellent', 'produit', 'qualit', 'loulous', 'an', 'régal', 'pris', 'command', 'servic', 'rapid', 'pens', 'réserv', 'arriv', 'tard', 'sall', '’est', 'immens', 'vit', 'rempl'], ['jam', 'command', 'croqu', 'monsieur', 'galet', 'sup', 'complet', 'complet', 'tomat', 'cuisin', 'déjà', 'serveux', 'quitt', 'servic', 'milieu', 'soir', 'croqu', 'monsieur', 'arriv', 'pain', 'mi', 'toast', 'vieil', 'tranch'], ['mar', 'belle-mer', 'dîn', 'hôtel', 'grand', 'colbert', 'fois', 'jour', 'ador', 'endroit', 'ambianc', 'hôtel', 'sup', 'nourritur', 'délici', 'grenouill', 'jamb', 'salad', 'lentill', 'huîtr'], ['découvert', 'traver', 'tripadvisor', 'conseil', 'quarti', 'surpris', 'arriv', 'bon', 'accueil', 'part', 'serveur', 'bon', 'ambianc', 'pet', 'restaur', 'mang', 'touch', 'touch', 'pris', 'plat', 'pât', 'julien'], ['vécu', 'paris', 'an', 'voulion', 'dîn', 'romant', 'revoir', 'bel', 'vill', 'expérient', 'eveningfilling', 'lu', 'critiqu', 'sit', 'choix', 'malheur', 'vrai'], ['bel', 'découvert', 'menu', 'dégust', 'délic', 'met', 'fin', 'parfum', 'subtil', 'chef', 'sympath', 'servic', 'amis', 'pred', 'grand', 'aven', 'jeun', 'restaur'], ['vient', 'ouvr', 'proposit', 'cuisin', 'fusion', 'inspir', 'oriental', 'bien-sûr', 'aubergin', 'cuisin', 'raffin', 'prix', 'conven', 'tabl', 'ostent', 'assiet'], ['pet', 'envi', 'plac', 'restaur', 'familial', 'mamm', 'cuisin', 'pap', 'fill', 'hyper', 'symp', 'servent', 'concept', 'simpl', 'meilleur', 'chos', 'typ', 'pât', 'fait', 'maison'], ['personnel', 'souri', 'brunch', 'buffet', 'vrai', 'copieux', 'produit', 'qualit', 'recommandonsplus'], ['jol', 'endroit', 'ramen', 'délici', 'mojito', 'japon', 'sak', 'yuzu', 'prévoi', 'tôt', 'endroit', 'pris', 'assaut'], ['coquill', 'st', 'jacqu', 'truff', 'léger', 'compot', 'choux', 'gnocch', 'pomm', 'terr', 'tuer', 'servic', 'top', 'accompagn', 'délicat', 'attent', 'dommag', 'petit', 'remisel', 'fourchetteplus'], ['samed', 'soir', 'client', 'bar', 'annonc', 'ambianc', 'arriv', 'serveur', 'attend', 'minut', 'serveux', 'arriv', 'genr', 'faut', 'voit', 'grand', 'tabl', 'réserv', 'install', 'final'], ['bon', 'brunch', 'plat', 'bon', 'qualit', 'cheff', 'japonais', 'réalis', 'succulent', 'mak', 'sush', 'dessert', 'thé', 'match', 'part', 'français', 'oubli', 'dessert', 'succulent', 'sucr', 'légum'], ['nouvel', 'visit', 'déçu', 'accueil', 'qualit', 'plat', 'propos', 'bon', 'tarif', 'égal', 'compétit', 'prestat', 'hésit', 'ven', 'régal'], ['reçu', 'assist', 'présent', 'cart', 'maitr', 'lieux', 'dégust', 'superb', 'viand', 'burg', 'tartar', 'éton', 'rapid', 'servic', 'ven'], ['cadr', 'magnif', 'personnel', 'ador', 'cuisin', 'excellent', 'voyag', 'fois', 'parf', 'voyageplus'], ['déçu', 'problem', 'trouv', 'cabillaud', 'réaction', 'foutist', 'ger', 'sous-entend', 'normal', 'arriv', 'réguli', 'excus', 'gest', 'dev', 'problem', 'pos', 'vulgair', 'addit'], ['chef', 'talentu', 'servic', 'irréproch', 'produit', 'qualit', 'travaill', 'cuisin', 'invent', 'soign', 'bel', 'harmon', 'vin', 'met', 'cadr', 'désign', 'contemporain', 'mis', 'bouch', 'mignardis', 'excellent', 'adress', 'découvr', 'rapid'], ['énorm', 'équip', 'toptres', 'patient', 'toulousainesm', 'mis', '’ambianc', 'désol', 'lol', 'elisamuly', '’équip', 'sup', 'bon', 'soir', 'bel', 'rencontr', 'vit'], ['aim', 'décor', 'sobr', 'ambianc', 'apais', 'réjou', 'vision', 'plat', 'couleur', 'arrivent', 'ador', 'sympath', 'chef', 'bienveil', 'passion', 'émerveil', 'bouch', 'adress', 'manqu', 'ème'], ['passag', 'indifférent', 'ambianc', 'sympath', 'serveur', 'servic', 'rapid', 'produit', 'qualit', 'choix', 'gaspill'], ['élog', 'restaur', 'justifi', 'servic', 'irréproch', 'cuisin', 'grand', 'qualit', 'bon', 'fair', 'personnel', 'discret', 'professionnel', 'grand', 'moment', 'lieu', 'exceptionnel'], ['hasard', 'promen', 'pouss', 'port', 'surpris', 'entré', 'autour', 'asperg', 'saveur', 'explosent', 'bouch', 'poisson', 'cuit', 'parfait', 'arrier', 'goût', 'bois', 'bouch', 'plat'], ['pizz', 'pris', 'livraison', 'pât', 'bon', 'redir', 'garnitur', 'extrêm', 'pauvr', 'cru', 'mozzarel', 'dépos', 'pizz', 'fondu', 'exempl', 'prend', 'pizz', 'oeuf', 'surpris', 'voir'], ['nourritur', 'bon', 'ami', 'malad', 'cocott', 'citronnel', 'restaur', 'plac', 'prix', 'raison', 'pet', 'bémol', 'espac', 'petit', 'sall', 'bénéfic', 'agréabl', 'bruitag'], ['mid', 'excellent', 'menu', 'découvr', 'restaur', 'amus', 'bouch', 'délici', 'roul', 'pomm', 'terr', 'sardin', 'soup', 'lentill', 'léger', 'vinaigr', 'veau', 'délici', 'herb', 'coriandr', 'truit', 'parfait', 'cuit', 'pomm', 'terr', 'pétal', 'topinambour', 'dessert', 'surpren'], ['dîn', 'fill', 'femm', 'nourritur', 'excellent', 'revaloris', 'meilleur', 'servic', 'paris', 'symp', 'sent', 'vrai', 'bienvenus', 'personnel', 'hôtel', 'offrir', 'contact'], ['restaur', 'ème', 'offre', 'produit', 'origin', 'français', 'prix', 'attract', 'cart', 'met', 'réguli', 'actualis', 'rythm', 'saisonsl', 'cart', 'vin', 'hauteur', 'cuisin', 'domain', 'sélection', 'chef', 'qualit'], ['pass', 'fois', 'fenêtr', 'fantasm', 'restaurantc', 'joi', 'envah', 'assis', 'déjeun', 'décept', 'présent', 'jol', 'contemporain', 'bel', 'assiet'], ['leg', 'nourritur', 'légum', 'transorm', 'faut', 'pai', 'partout'], ['buzz', 'banal', 'décept', 'hauteur', 'not'], ['pet', 'resto', 'perm', 'découvr', 'cuisin', 'tibétain', 'madam', 'accueil', 'sourir', 'expliqu', 'plat', 'gentilless', 'monsieur', 'cuisin', 'raviol', 'délici', 'recommand', 'boeuf', 'citronel', 'loin', 'restos', 'asiat'], ['réserv', 'facebook', 'répons', 'rapid', 'chois', 'restaur', 'bon', 'rep', 'court', 'séjour', 'paris', 'raison', 'class', 'trip', 'advisor', 'servic', 'symp', 'aimabl'], ['top', 'top', 'mélang', 'plat', 'cuit', 'retourn', 'déçu', 'pourt', 'voir', 'avis', 'ca', 'air', 'mauvais', 'journ', 'arriv'], ['’apres', 'avis', '’attend', 'chos', 'mieux', 'dois', 'rapport', 'qualitéprix', '’est', 'làplus'], ['découvert', 'restaur', 'hasard', 'organis', 'déjeun', 'affair', 'choix', 'rével', 'excellent', 'menu', 'jour', 'propos', 'choix', 'entré', 'plat', 'dessert', 'vu', 'qualit', 'met', 'propos'], ['servent', 'plat', 'euros', 'entré', 'compos', 'plat', 'ridicul', 'entré', 'correct', 'plat', 'pet', 'min', 'bol', 'sauc', 'soj', 'individuel', 'matsur', 'chef', 'spécial', 'pât'], ['plaindr', 'seiziem', 'arrond', 'faux', 'ven', 'restaur', 'plat', 'italien', 'glac', 'prépar', 'gelat', 'excellent', 'ven', 'découvr', 'endroit', 'fac', 'ven', 'dégust', 'excellent', 'pizz', 'giovann'], ['allé', 'hasard', 'hôtel', 'excellent', 'soir', 'parf', 'cuisin', 'haut', 'niveau', 'servic', 'impecc', 'impatient', 'retourn'], ['moment', 'fatid', 'voit', 'hésit', 'question', 'fruit', 'légum', 'bio', 'répons', 'posit', 'fin', 'enlev', 'dout', 'rajout', 'sourir', 'accord', 'parcequ'], ['ici', 'exempl', 'gâch', 'caractéris', 'cuisin', 'vrai', 'symp', 'exécut', 'stabl', 'temp', 'vari', 'qualit', 'vrai', 'prend', 'plais', 'servic', 'incompréhens', 'total', 'dédaign', 'moqueur', 'irrespectu'], ['menu', 'plat', 'rich', 'goût', 'couleur', 'restaur', 'propos', 'aim', 'fraicheur', 'plat', 'saison', 'original', 'laiss', 'surprendr', 'enchain', 'plat', 'ambianc', 'symp', 'décontract', 'bon'], ['dîn', 'amour', 'pré', 'catelan', 'merveil', 'chois', 'plat', 'cart', 'foi', 'gras', 'épous', 'langoustin', 'entré', 'déclin', 'proposit', 'chacun', 'tabl', 'retrouv', 'garn', 'incroi', 'assiet'], ['expo', 'touthenkamon', 'cherch', 'resto', 'tomb', 'arnaud', 'régal', 'part', 'potenc', 'bœuf', 'frit', 'fraîch', 'haricot', 'vert', 'per', 'entré', 'camembert', 'rôt', 'salad', 'spartacus', 'tuer'], ['bel', 'découvert', 'restaur', 'bas', 'poulet', 'servic', 'rapid', 'personnel', 'vrai', 'symp', 'produit', 'bon'], ['conseil', 'ami', 'découvert', 'lieu', 'simpliqu', 'découvr', 'cuisin', 'except', 'menu', 'surpris', 'mauvais', 'surpris', 'vu', 'chef', 'cuisin', 'bon', 'moment', 'bon', 'rep'], ['qualit', 'boulet', 'fallafel', 'chang', 'petit', 'sech', 'salad', 'pit', 'vari', 'hygien', 'général', 'restaur', 'médiocr', 'brui'], ['baguet', 'petit', 'spécial', 'bon', 'dur', 'sech', 'demi-journ', 'vaut', 'servic', 'spécial', 'aimabl', 'retourn', 'goût', 'pain', 'raisin', 'curios'], ['restaur', 'méritent--il', 'vrai', 'nom', 'styl', 'cantin', 'étudi', 'coin', 'peuplent', 'ru', 'mouffetard', 'portion', 'copieux', 'cuisini', 'sourir', 'qualit', 'rendez-vous', 'panin'], ['acceuil', 'dign', 'nom', 'personnel', 'souri', 'agréabl', 'diponibl', 'choix', 'menu', 'adapt', 'goût', 'avon', 'pass', 'bon', 'moment', 'établ', 'situ', 'pigal', 'montmartr', 'recommand'], ['allé', 'din', 'restaur', 'initial', 'amis', 'excellent', 'surpris', 'chef', 'japon', 'maitris', 'cuisson', 'viand', 'poisson', 'propos', 'plat', 'extraordinair', 'dessert', 'fin', 'exquis', 'accueil', 'chaleur'], ['bel', 'adress', 'servic', 'petit', 'soin', 'cuisin', 'raffin', 'original', 'demand'], ['ensoleil', 'leg', 'éleg', 'savour', 'servic', 'chaleur', 'compétent', 'répons', 'question', 'pos', 'curios', 'titill', 'bel', 'vu', 'serv', 'décor', 'charm'], ['accueil', 'servic', 'haut', 'qualit', 'cuisin', 'subtil', 'raffin', 'fois', 'bouch', 'délivr', 'délici', 'saveur', 'fabien', 'sommeli', 'partag', 'passion', 'méti', 'compétent', 'expérient'], ['burger', 'qualit', 'part', 'serv', 'végétariensvégétalien', 'fromag', 'tranch', 'carr', 'orang', 'goût', 'caoutchout', 'industriel', 'sauc', 'moutard', 'américain', 'industriel', 'ketchup', 'clair', 'volont', 'restaur', 'serv'], ['cadr', 'magnif', 'servic', 'mesur', 'cadr', 'gentilless', 'attention', 'hic', 'lenteur', 'pêch', 'assiet', 'prix', 'pris', 'sol', 'sabl', 'farc', '’un', 'duxel', 'giroll', 'suc'], ['vacanc', 'paris', 'recherch', '’un', 'restaur', 'tripadvisor', 'autour', 'tombon', 'restaur', 'class', 'premi', 'tripadvisor', 'class', '’est', 'hasard', 'lentill', 'corail', 'saumon', 'tartin', 'roblochon'], ['pouss', 'port', 'lieu', 'color', 'agréabl', 'choix', 'goût', 'produit', 'frais', 'servic', 'agréabl', 'rapport', 'qualit', 'prix', 'confirm', 'endroit', 'recommand', 'viv'], ['dîn', 'amour', 'parf', 'servic', 'parf', 'équip', 'professionnel', 'mettr', 'plat', 'valeur', 'expliqu', 'trésor', 'équip', 'cuisin', 'presqu', 'hais', 'honneur', 'départ', 'politess'], ['bel', 'adress', 'cuisin', 'gastronom', 'japonais', 'pré', 'champ', 'cuisin', 'raffin', 'ingrédient', 'grand', 'qualit', 'établ', 'haut', 'gamm', 'ced', 'pourt', 'bling', 'bling', 'établ', 'voisin'], ['sublim', 'accueil', 'sublim', 'expérient', 'culinair', 'personnel', 'petit', 'soin', 'pro', 'cordial', 'laiss', 'guid', 'conseil', 'pertinent', 'judici', 'person', 'clé', 'équip', 'final'], ['brunch', 'exceptionnel', 'endroit', 'class', 'serv', 'class', 'nourritur', 'qualit', 'personnel', 'sall', 'parf', 'brunch', 'chic', 'éleg', 'capital'], ['petit', 'sall', 'musiqu', 'symp', 'servic', 'attent', 'fol', 'crois', 'heur', 'mob', 'bon', 'frit', 'dingu', 'commentair', 'disent', 'ci-dessous', 'déçu'], ['arriv', 'gent', 'accept', 'pris', 'apérit', 'plat', 'dessert', 'vin', 'blanc', 'entrecôt', 'dur', 'nerveux', 'plat', 'poisson', 'saint-pierr', 'bon', 'exceptionnel'], ['fil', 'ami', 'végétarien', 'vrai', 'appréci', 'dîn', 'vari', 'conjoint', 'personnel', 'symp', 'serviabl', 'cour', 'anglais', 'don', 'menu', 'anglais'], ['suiv', 'commentair', 'trip', 'advisor', 'fois', 'déçu', 'suiv', 'trip', 'attent', 'dem', 'crêp', 'min', 'restaur', 'limit', 'cagib', 'test'], ['guid', 'michelin', 'réveil', 'sort', 'étoil', '🤩🤩🤩🤩', 'éleg', 'cadr', 'charm', 'chef', 'propriétair', 'élev', 'jp', 'vigato', 'épous', 'cuisin', 'invent', 'imagin', 'servic', 'sommeli', 'chef', 'suggest', 'indispens', 'déjeun'], ['vécu', 'excellent', 'moment', 'grac', 'nourritur', 'bon', 'rapport', 'qualité-prix', 'burg', 'bel', 'présent', 'frit', 'savour', 'serv', 'accent', 'musical', 'reg'], ['dout', 'meilleur', 'burger', 'paris', 'serv', 'restaur', 'bon', 'anné', 'chicago', 'cart', 'complet', 'illisibl', 'formul', 'pens', 'prix', 'correct', 'quarti'], ['pass', 'hasard', 'glaci', 'accueil', 'excellent', 'attention', 'goût', 'parfum', 'chois', 'glac', 'ros', 'délici', 'pistach', 'exceptionnel', 'voir', 'glac', 'pistach'], ['réserv', 'restaur', 'anniversair', 'mariag', 'vendred', 'soir', 'arrivon', 'deg', 'eau', 'serv', 'prévenus', 'soir'], ['superb', 'déjeun', 'lund', '’ai', 'ador', 'tartar', 'bœuf', 'millefeuill', 'grand', 'felip', 'bric', 'servic', 'impecc', 'chaleureuxplus'], ['restaur', 'ixem', 'devr', 'fair', 'rapid', 'jol', 'réput', 'cuisin', 'invent', 'menu', 'dégust', 'vari', 'vin', 'cart', 'éton', 'rapport', 'qualitéprix', 'raison', 'compt', 'tenu', 'qualit', 'fraîcheur'], ['ambianc', 'chaleul', 'pet', 'restaur', 'bling', 'blingtres', 'bon', 'acceuil', 'rapport', 'qualit', 'prix', 'excellent', 'vrai', 'conseil', 'cherch', 'pass', 'bon', 'moment', 'serveur', 'sympath', 'cuisisin', 'accessibl', 'attent', 'faut', 'imper', 'reserv'], ['mauv', 'souven', 'poisson', 'saléplus'], ['cadr', 'agréabl', 'cart', 'compos', 'produit', 'saison', 'prépar', 'chef', 'jos', 'cart', 'passion', 'servic', 'parf', 'discret', 'agréabl', 'prix', 'raison', 'tart', 'pomm', 'mérit', 'déplac'], ['expérient', 'décev', 'provinc', 'aventur', 'east', 'sid', 'début', 'vrai', 'déçu', 'homm', 'caiss', 'agréabl', 'press', 'cart', 'illisibl', 'burger', 'affich', 'dispo'], ['inspecteur', 'michelin', 'fer', 'vérifi', 'fond', 'macaron', 'attribu', 'restaur', 'semain', 'derni', 'réserv', 'tabl', 'person', 'salon', 'étag', 'appropri', 'nombr', 'découvert', 'sall', 'total'], ['bon', 'bistrot', 'parisien', 'hamburg', 'crem', 'cheddar', 'null', 'part', 'bon', 'accueil', 'servic', '’arménien', 'marseil'], ['quarti', 'tour', 'eiffel', 'tomb', 'hasard', 'recherch', 'restaur', 'concept', 'atyp', 'épicerierestaur', 'italien', 'produit', 'frais', 'jambon', 'parm', 'fromag', 'personnel', 'italien', 'parent', 'ger', 'pap', 'coup'], ['ambianc', 'agréabl', 'décor', 'jol', 'végétarien', 'présenc', 'plat', 'salad', 'plat', 'chaud', 'déjà', 'exceptionnel', 'côt', 'dizain', 'plat', 'carnassi', 'restaur', 'bann', 'bon', 'vrai', 'leg'], ['allé', 'rostang', 'temp', 'aim', 'tartin', 'truff', 'regret', 'dîn', 'cuisin', 'devenu', 'gransd', 'intérêt', 'plat', 'fad', 'sal', 'point'], ['délic', 'endroit', 'mag', 'oper', 'buffet', 'volont', 'mid', 'soir', 'plat', 'savour', 'parfum', 'entré', 'excellent', 'léger', 'cuisin', 'iranien', 'parfum', 'piqu', 'ger', 'sympath', 'expliqu', 'plat', 'merveil', 'soup'], ['pein', 'pénétron', 'lieu', 'senton', 'envah', 'histoir', 'réel', 'privileg', 'pouvoir', 'aller', 'touch', 'qualit', 'servic', 'tour', 'argent', 'lieu', 'mythiqu', 'beaut', 'cadr'], ['plat', 'savour', 'vrai', 'accueil', 'exigent', 'patron', 'fort', 'déplu', 'voir', 'choqu', 'oblig', 'ferm', 'rang', 'téléphon', 'sac', 'menac', 'coup', 'connexion', 'wif'], ['nourritur', 'servic', 'prix', 'incroi', 'vrai', 'hôtel', 'faut', 'aller', 'voul', 'choix', 'steak', 'falafel', 'côt', 'côt'], ['champignon', 'conserv', 'pomm', 'terr', 'emballag', 'gruyer', 'gamm', 'salad', 'tomat', 'oignon', 'frais', 'crêp', 'veg', '´', 'crêp', 'encaiss', 'degeu'], ['commenc', 'envi', 'fair', 'bon', 'restaur', 'coupl', 'vu', 'commentair', 'posit', 'chois', 'jet', 'dévolu', 'tant', 'jeann', 'oui', 'mauv', 'bon', 'moment'], ['parf', 'cadr', 'confort', 'tabl', 'éloign', 'cuisin', 'parfait', 'mis', 'bouch', 'fabul', 'foi', 'gras', 'mignardis', 'proposit', 'vin', 'verr', 'judici', 'vieux', 'mader', 'gratin', 'oignon', 'moment', 'magiqu'], ['restaur', 'parisien', 'chiqu', 'pratiqu', 'prix', 'élev', '’entr', 'saint', 'jacqu', 'chou', 'fleur', 'chou', 'fleur', 'saint', 'jacqu', 'goût', 'total', 'masqu', 'manqu', '’équilibr', 'fiasco', 'arriv', 'plat', 'canard', 'sauc', 'chocolat'], ['vrai', 'bon', 'travaill', 'cart', 'court', 'inspir', 'plat', 'ruptur', 'injust', 'vid', 'samed', 'soir', 'quarti', 'soir', 'dout'], ['nourritur', 'comparaison', 'présent', 'superb', 'mang', 'restaur', 'trait', 'attendr', 'part', 'cas', 'epicur'], ['bon', 'surpris', 'cadr', 'symp', 'convivial', 'servic', 'top', 'plat', 'excellent', 'reviendr', 'blanquet', 'truit', 'bel', 'découvert'], ['restaur', 'mérit', 'étoil', 'michelin', 'caus', 'cuisin', 'caus', 'accueil', 'réserv', 'confirm', 'tabl', '’est', 'disponibl', 'fair', 'patient', '’intérieur', 'demand'], ['occas', 'anniversair', 'essai', 'restaur', 'recommand', 'amis', 'extérieur', 'pay', 'min', 'décor', 'sall', 'éleg', 'personnel', 'souri', 'efficac', 'plat', 'surpren', 'excellent'], ['cop', 'lettr', 'adress', 'direct', 'hôtel', 'réserv', 'dîn', 'restaur', 'bristol', 'célebr', 'associ', 'partenair', 'affair', 'soir', 'mercred', 'janvi', 'venu', 'prévu', 'hi', 'soir'], ['restaur', 'sall', 'spectacl', 'ru', 'clichy', 'petit', 'surfac', 'grand', 'restaur', 'qualit', 'plat', 'servic', 'impecc', 'réserv', 'obligatoir', 'pein', 'couvert'], ['servic', 'execr', 'personnel', 'antipath', 'hésitent', 'raccroch', 'nez', 'client', 'fui'], ['part', 'cart', 'croir', 'inde', 'indones', 'restaur', 'pâl', 'cop', 'servic', 'fast', 'food', 'prix', 'rest', 'époqu', 'révolu', 'excellent', 'decerestaur', 'trèstrèsdécev', 'devenu'], ['comprend', 'restaur', 'puiss', 'not', 'temp', 'attent', 'long', 'viand', 'sech', 'riz', 'gout', 'accueil', 'sauv', 'mis'], ['occas', 'déjeun', 'fill', 'petit', 'fill', 'découvert', 'restaur', 'branch', 'accueil', 'symp', 'laiss', 'augur', 'suit', 'entré', 'inconsist', 'suit', 'mieux', 'faim'], ['surpr', 'plat', 'trouv', 'oubl', 'pai', 'euros', 'caraf', 'eau', 'minéral'], ['resto', 'resto', 'viand', 'poulet', 'gamm', 'gamm', 'achet', 'euro', 'kilo', 'graiss', 'probabl', 'avari', 'nombr', 'person', 'mal'], ['’', 'déçu', '’accueil', 'servic', 'désastr', 'politess', 'remerci', 'excus', '’attent', 'intermin', 'qualit', 'plat', '’', 'rattrap', 'mont', '’addit', 'fin', '’achev', 'fuir'], ['fois', 'restaur', 'fois', 'pris', 'menu', 'excellent', 'cuisson', 'lieu', 'canard', 'parfait', 'servic', 'exceptionnel', 'gentilless', 'bon', 'conseil', 'vin'], ['bon', 'curry', 'indien', 'meilleur', 'paris', 'hors-', 'œuvr', 'serv', 'qualit', 'nourritur', 'exceptionnel', 'reviendr'], ['venu', 'kgb', 'anné', 'gardion', 'bon', 'souven', 'décept', 'grand', 'gardon', 'impress', 'arnaqu', 'mod', 'min', 'cart', 'trouv', 'menus', 'dégust'], ['restaur', 'érythréen', 'pai', 'min', 'nourritur', 'bon', 'serv', 'grand', 'plateau', 'crêp', 'sal', 'permettent', 'mang', 'aliment', 'petit', 'doigt', 'assort', 'viand', 'légum', 'vari', 'plaisir', 'intens'], ['prit', 'bouillon', 'chos', 'savoir', 'nouill', 'bouillon', 'pauvr', 'morceau', 'poulet', 'tomat', 'ceris', 'serveux', 'execr', '’ai', 'spécifi', 'qu’il', 'manqu'], ['simpl', 'parf', 'dir', 'parf', 'attend', 'haut', 'niveau', 'perfect', 'accueil', 'cadr', 'somptueux', 'servic', 'entendu', 'qualit', 'exceptionnel', 'cuisin'], ['situ', 'petit', 'ru', 'cot', 'dam', 'restaur', 'amateur', 'cuisin', 'franco-asiat', 'chef', 'japon', 'préparent', 'menu', 'week-end', 'not', 'asi', 'agréabl', 'fois', 'surpren', 'cart'], ['dîn', 'parf', 'amus', 'bouch', 'dessert', 'pris', 'menu', 'arôm', 'copieux', 'exces', 'plat', 'savour', 'présent', 'class', 'restaur', 'mérit', 'étoil', 'pass', 'succulent', 'moment', 'grand', 'personnel'], ['quitt', 'précipit', 'restaur', 'fac', 'accueil', 'servic', 'détest', 'rendus', 'établ', 'bon', 'chic', 'bon', 'genr', 'atmospher', 'feutr', 'charm', 'hôtess', 'japonais', 'reçu', 'sall', 'restaur', 'étag', 'confort'], ['difficil', 'trouv', 'mot', 'exact', 'qualifi', 'rep', 'parf', 'bout', 'bout', 'bel', 'bel', 'expérient', 'culinair', 'cuisin', 'somptueux', 'raffin', 'tap', '’œil', 'cadr', 'intim', 'servic'], ['plat', 'cuisin', 'ferm', 'tôt', 'ok', 'plat', 'serv', 'pein', 'cuit', 'bof', 'tomb', 'mauv', 'jour', 'douterplus'], ['excellent', 'tabl', 'autour', 'cuisin', 'innov', 'créativ', 'servic', 'efficac', 'sympath', 'moment', 'partag'], ['prix', 'mauvais', 'expérient', 'sashim', 'typ', 'thon', 'retourn', 'salad', 'gamb', '“en', 'plastique”', 'noir', 'intérieur', 'command', 'yakitor', 'poulet', '’', 'serv'], ['visit', 'famill', 'din', 'avis', 'conviv', 'unanim', 'carton', 'servic', 'pro', 'sall', 'pourt', 'fluid', 'cuisin', 'créativ', 'délici', 'rajout', 'grand', 'menu'], ['instabl', 'chef', 'caractériel', 'personnal', 'don', 'étoil', 'plus…'], ['dîn', 'août', 'salon', 'teppanyak', 'malheur', 'ferm', 'servic', 'chaleur', 'ex', 'servic', 'mutist', 'dîn', 'pourboir', 'bon', 'produit', 'rapport', 'qualité-prix', 'médiocr', 'ex', 'bol', 'riz'], ['fêt', 'anniversair', 'samed', 'mid', 'parf', 'pris', 'menu', 'plat', 'ador', 'plat', 'test', 'risotto', 'soj', 'huîtr', 'chef', 'réuss', 'contourn', 'réel', 'dégout'], ['bonjour', 'pass', 'restaur', 'vis', 'quarti', 'interloqu', 'class', 'suppos', 'tripadvisor', 'restaur', 'indiqu', 'numéro', 'chiffr', 'devr', 'plac', 'effac'], ['croir', 'rentabl', 'restaur', 'réserv', 'fait', 'lafourchet', 'offre', 'annul', 'tabl', 'menu', 'appel', 'restaur', 'complet', 'prétenti'], ['pâtisser', 'bon', '’accueil', 'personnel', 'revoir', 'queu', 'vendeux', 'pass', 'person', 'remarqu', 'présenc', 'fois', 'fois', '’ignor', 'fois'], ['bon', 'souven', 'adress', 'temp', 'reprendr', 'absenc', 'climatis', 'restaur', 'toit', 'terr', 'vétust', 'lieux', 'commenc', 'fair', 'remarqu', 'set', 'tabl', 'cuir', 'sal', 'gros', 'problem'], ['excellent', 'moment', 'sympath', 'brasser', 'rapport', 'qualit', 'prix', 'menu', 'saveur', 'cuisin', 'accueil', 'servic', 'cordial', 'rav'], ['médiocr', 'salad', 'algu', 'goût', 'fad', 'baign', 'vinaigr', 'poulp', 'tranch', 'poulp', 'natur', 'assaison', 'assiet', 'assiet', 'sush', 'poisson', 'tied', 'goût', 'bier', 'japonais'], ['visit', 'mid', 'fois', 'perfect', 'journ', 'moment', 'inoubli', 'cuisin', 'eric', 'fréchon', 'enchant', 'bientôt', 'prochain', 'visit', 'gout', 'merveil', 'carteplus'], ['plat', 'bon', 'rapport', 'qualitéprix', 'aut', 'franch', 'médiocr', 'trouv', 'facil', 'quarti', 'bon', 'net', 'gros', 'souc', 'résid', 'erreur', 'grossi', 'addit', '-un', 'bouteil', 'vin'], ['metr', 'queu', 'mang', 'restaur', '’on', 'prend', 'emport', 'mn', '’attent', 'mang', '’intérieur', '’attend', 'forc', 'chos', '’exceptionnel', '’est', 'contrair', 'nourritur', 'grass', 'viand', 'intérêt'], ['resto', 'quarti', 'voulo', 'test', 'tat', 'burg', 'restaur', 'bon', 'sign', 'temp', 'veil', 'féri', 'immédiat', 'abasourd', 'bruit', 'terribl', 'cantin', 'écho', 'insupport'], ['allé', 'dîn', 'sort', 'spectacl', 'théâtr', 'bruyer', 'presqu', 'fac', 'chois', 'resto', 'avis', 'posit', 'tripadvisor', 'excellent', 'pet', 'resto', 'italien', 'authent', 'sympath', 'jeun', 'patron', 'moiti', 'franc', 'moiti'], ['jour', 'déjeun', 'lieu', 'parisien', '’accueil', '’est', 'chaleur', 'cart', 'vari', 'opton', 'formul', 'menu', 'choucrout', 'fondu', 'viand', 'apprec', 'qualit', '’aisanc', 'portion', 'servic', 'serveur'], ['dîn', 'gastro', 'étoil', 'général', 'truc', 'préfer', 'bistrot', 'imbécil', 'changent', 'avis', 'bel', 'expérient', 'cuisin', 'servic', 'cadr', 'cart', 'vin', 'sûr', 'maisplus'], ['excellent', 'déjeun', 'servic', 'petit', 'soin', 'bon', 'rapport', 'qualitéprix', 'plat', 'fin', 'exécut', 'rapid', 'serv', 'dessert', 'dign', 'grand', 'tabl', 'renouvel', 'hésit'], ['endroit', 'symp', 'situ', 'spacieux', 'calm', 'servic', 'correct', 'plat', 'typiqu', 'aménag', 'franc', 'tarif', 'élev', 'coup', 'champagn', 'verr', 'vin', 'éton', 'voir'], ['cuisin', 'original', 'raffin', 'goûteux', 'coupl', 'patronscuisiniersserveur', 'extraordinair', 'souri', 'sympath', 'envi', 'demain'], ['exceptionnel', 'sen', 'accueil', 'chaleur', 'concept', 'tap', 'revis', 'sympath', 'recommand', 'endroit'], ['serv', 'accueil', 'amis', 'embrassad', 'cris', 'respons', 'sall', 'inconnus', '’attent', 'nourritur', 'correct'], ['sup', 'pet', 'restaur', 'amour', 'serveur', 'souri', 'écout', 'client', 'patient', 'produit', 'frais', 'envi', 'fair', 'découvr', 'concept', 'recommand', 'frais', 'délici', '😋', 'échang', 'recet', 'mojito', '😉'], ['restaur', 'pourt', 'déjà', 'connu', 'offre', 'fois', 'voyag', 'océan', 'saveur', 'incroi', 'capac', 'saint', 'jacqu', 'huîtr', 'fabul'], ['din', 'rêv', 'soir', 'occas', 'anniversair', 'servic', 'hauteur', 'magnif', 'restaur', 'rep', 'cart', 'manqu', 'plais', 'papill', 'pet', 'mot', 'chef', 'fin'], ['test', 'soir', 'racin', 'critiqu', 'élogi', 'décidon', 'test', 'bistrot', 'haut', 'gamm', 'sincer', 'déçu', 'bon', 'rep', 'wow', 'bon', 'prix', 'sincer', 'cart'], ['plu', 'raffin', 'plat', 'mariag', 'saveur', 'servic', 'agréabl', 'ambianc', 'décontract', 'ze', 'kitchen', 'galer', 'vaut', 'not', 'attribu'], ['paris', 'voulu', 'emmen', 'petit', 'soeur', 'nouvel', 'fois', 'émerveil', 'qualit', 'francais', 'haut', 'gastronom', 'plat', 'hauteur', 'souvenir', 'decouvert', 'plat', 'fantast'], ['bon', 'pizz', 'prix', 'raison', 'seul', 'pizz', 'cart', 'euros', 'personnel', 'sympath', 'dommag', 'puiss', 'mang', 'plac', 'comptoir'], ['bon', 'accueil', 'sympath', 'souri', 'assiet', 'étudi', 'bon', 'vin', 'bel', 'déco', 'musiqu', 'top', 'bref', 'pass', 'bel', 'soir', 'jusqu’à', 'jusqu’à', 'quelqu’un', 'staff', 'vien', 'demand', 'part', 'accueil', 'servic'], ['’et', 'ignobl', 'reviendron', 'prendr', 'temp', 'perd', 'fair', 'queu', 'mang', 'établ', 'honteux', 'context', 'fin', 'soir', 'compagn', 'habiton', 'quarti', 'remarquon', 'qu’il'], ['déjeun', 'octobr', 'plais', 'parfaitun', 'accueil', 'attentionnéun', 'menu', 'déjeun', 'grand', 'qualit', 'pre', 'plat', 'fin', 'servic', 'gentil', 'efficaceun', 'cadr', 'exceptionnel', 'superb', 'fleur', 'convient', 'déjeun'], ['suit', 'avis', 'favor', 'étoil', 'guid', 'michelin', 'hésit', 'reserv', 'anniversair', 'mariag', 'cadr', 'symp', 'debut', 'din', 'plat', 'cart', 'menu', 'dégust', 'impos', 'celà'], ['victim', 'succes', 'sall', 'petit', 'plac', 'entass', 'devient', 'quas', 'impossibl', 'prendr', 'emport', 'attendr', 'minut', 'mang', 'plac', 'impossibl', 'ven'], ['faux', 'restaur', 'agréabl', 'soir', 'grand', 'choix', 'plat', 'entré', 'dessert', 'conseil', 'dessert', 'sympath', 'nombr', 'dessert', 'présent', 'présent'], ['mouch', 'kir', 'excus', 'moul', 'froid', 'insipid', 'frit', 'sech', 'servic', 'lament', 'évit'], ['sall', 'agréabl', 'accueil', 'sympath', 'chef', 'vient', 'prendr', 'command', 'entré', 'press', 'chair', 'tourteau', 'gravelax', 'bon', 'plat', 'poitrin', 'porc', 'demi-sel', 'célebr', 'parmenti', 'cuisin', 'dessert', 'citron', 'état', 'original'], ['’est', 'surpris', '’intim', 'convict', 'égal', 'join', 'avis', 'excellent', 'tant', 'jeann', 'invit', 'découvr', 'menu', 'dégust', 'géner', 'assiet', '’excellent', 'saveur', '’un', 'part', '’autr', 'part', 'chef'], ['’entr', 'restaur', 'sonor', 'italien', 'apportent', 'soleil', 'temp', '’hiv', 'cadr', 'simpl', 'mal', 'cuisin', 'réalis', 'burrat', 'excellent', 'bon', 'pizz', 'savour', 'pet', 'bémol', 'rapid'], ['restaur', 'excellent', 'parf', 'accueil', 'servic', 'décor', 'sall', 'sobr', 'musiqu', 'discret', 'assiet', 'divin', 'pris', 'formul', 'plat', 'rich', 'saveur', 'vin', 'blanc'], ['découvert', 'traver', 'menu', 'dégust', 'plat', 'accord', 'met', 'vin', 'merveil', 'cuisin', 'chef', 'produit', 'raffin', 'habil', 'associ', 'résultat', 'succulent', 'mention', 'spécial', 'apérit', 'entré', 'choix'], ['meilleur', 'rep', 'vis', 'paris', 'oubli', 'jam', 'dîn', 'faubourg', 'plat', 'merveil', 'prépar', 'servic', 'fois', 'class', 'convivial', 'cadr', 'oui', 'fois', 'accept'], ['nom', 'don', 'cag', 'foll', 'nourritur', 'niveau', 'servic', 'établ', 'chaotiqu', 'mis', 'part', 'bel', 'décor', 'modern', 'bon', 'distribu', 'tabl', 'bel', 'espac'], ['accueil', 'sup', 'lasagn', 'sup', 'bon', 'pet', 'restaur', 'sympath', 'bon', 'ambianc', 'excellent', 'moment'], ['bon', 'restaur', 'indean', 'pakistan', '´servic', 'class', 'plat', 'bon', 'grand', 'restaur', 'paris', 'recommand'], ['pass', 'moment', 'agréabl', 'accueil', 'chaleur', 'farandol', 'saveur', '’équip'], ['bon', 'menu', 'dégust', 'découvr', 'produit', 'saveur', 'venus', 'brésil', 'plat', 'haricot', 'noir', 'amazon', 'sent', 'chocolat', 'uniqu', 'compos', 'pur', 'haricot', 'accord'], ['mignon', 'décor', 'petit', 'bécassin', 'pot', 'caramel', 'beurr', 'sal', 'étager', 'vaissel', 'pet', 'dinet', 'coupl', 'accueil', 'cuisin', 'sert'], ['servic', 'rapid', 'crêp', 'bon', 'pât', 'crêp', 'sal', 'sucr', 'délici', 'restaur', 'pet', 'sent', 'ais', 'déco', 'vintag', 'réel', 'reviendron'], ['restaur', 'excellent', 'bon', 'rapport', 'qualité-prix', 'accueil', 'extraordinair', '😀', 'recommand', 'viv'], ['incroi', 'vrai', 'baguet', 'dis-j', 'flût', '’', 'reviendron', 'poussent', 'consomm', 'propos', 'galet', 'rois', 'lund', 'décembr', 'maso', 'sommesnous'], ['japon', 'chic', 'beau', 'quarti', 'allé', 'déjeun', 'don', 'bon', 'fin', 'apérit', 'sak', 'ros', 'pétill', 'sush', 'excellent', 'servic', 'discret', 'aim', 'fair'], ['accueil', 'chaleur', 'personnel', 'jeun', 'professionnel', 'mis', 'bouch', 'laiss', 'augur', 'suit', 'plat', 'excellent', 'papill', 'rav', 'dégust', 'saveur', 'original', 'langoustin', 'royal', 'adject', 'usurp', 'bar']]\n"
     ]
    }
   ],
   "source": [
    "from sklearn.pipeline import Pipeline\n",
    "txt_preprocessing = [\n",
    "              ('preprocessor', pipelinize(nlp_pipeline)),\n",
    "              ('tokenizer', pipelinize(w_tokenizer)),\n",
    "              ('stopwordremoval', pipelinize(remove_stopwords)),\n",
    "              ('stopwordremov', pipelinize(remove_sw)),\n",
    "              ('stemmer', pipelinize(stemmer_snowball))]\n",
    "\n",
    "prepro_pipeline = Pipeline(txt_preprocessing)\n",
    "\n",
    "#corpus_clean = corpus.apply(nlp_pipeline)\n",
    "prepro_pipeline.transform(corpus)\n",
    "print(prepro_pipeline.transform(corpus))"
   ]
  },
  {
   "cell_type": "code",
   "execution_count": 143,
   "metadata": {
    "ExecuteTime": {
     "end_time": "2021-02-03T13:31:21.250146Z",
     "start_time": "2021-02-03T13:31:21.236419Z"
    }
   },
   "outputs": [
    {
     "name": "stdout",
     "output_type": "stream",
     "text": [
      "que dire nicolas sale est un chef  exception que dire rien ou tout tout est incroyable subtil délicat envoûtant délicieux tout est fin extrêmement bien dosé  est une table  exception  le turbot roti   ancienne en photo et la volaille-écrevisse un met plus\n",
      "*****\n",
      "['que', 'dire', 'nicolas', 'sale', 'est', 'un', 'chef', 'exception', 'que', 'dire', 'rien', 'ou', 'tout', 'tout', 'est', 'incroyable', 'subtil', 'délicat', 'envoûtant', 'délicieux', 'tout', 'est', 'fin', 'extrêmement', 'bien', 'dosé', 'est', 'une', 'table', 'exception', 'le', 'turbot', 'roti', 'ancienne', 'en', 'photo', 'et', 'la', 'volaille-écrevisse', 'un', 'met', 'plus']\n",
      "*****\n",
      "['nicolas', 'sale', 'chef', 'exception', 'incroyable', 'subtil', 'délicat', 'envoûtant', 'délicieux', 'fin', 'extrêmement', 'dosé', 'table', 'exception', 'turbot', 'roti', 'ancienne', 'photo', 'volaille-écrevisse', 'met']\n",
      "*****\n",
      "['nicolas', 'sale', 'chef', 'exception', 'incroyable', 'subtil', 'délicat', 'envoûtant', 'délicieux', 'fin', 'extrêmement', 'dosé', 'table', 'exception', 'turbot', 'roti', 'ancienne', 'photo', 'volaille-écrevisse', 'met']\n",
      "*****\n",
      "['nicol', 'sal', 'chef', 'except', 'incroi', 'subtil', 'délicat', 'envoût', 'délici', 'fin', 'extrêm', 'dos', 'tabl', 'except', 'turbot', 'rot', 'ancien', 'photo', 'volaille-écrev', 'met']\n",
      "*****\n",
      "['nicolas', 'sale', 'chef', 'exception', 'incroyable', 'subtil', 'délicat', 'envoûtant', 'délicieux', 'fin', 'extrêmement', 'dosé', 'table', 'exception', 'turbot', 'roti', 'ancienne', 'photo', 'volaille-écrevisse', 'met']\n"
     ]
    },
    {
     "data": {
      "text/plain": [
       "<function __main__.lemmatizer(text_list)>"
      ]
     },
     "execution_count": 143,
     "metadata": {},
     "output_type": "execute_result"
    }
   ],
   "source": [
    "print(nlp_pipeline(corpus[1]))\n",
    "print(\"*****\")\n",
    "print(w_tokenizer(nlp_pipeline(corpus[1])))\n",
    "print(\"*****\")\n",
    "print(remove_stopwords(w_tokenizer(nlp_pipeline(corpus[1]))))\n",
    "print(\"*****\")\n",
    "print(remove_sw(remove_stopwords(w_tokenizer(nlp_pipeline(corpus[1])))))\n",
    "print(\"*****\")\n",
    "print(stemmer_snowball(remove_sw(remove_stopwords(w_tokenizer(nlp_pipeline(corpus[1]))))))\n",
    "print(\"*****\")\n",
    "print(lemmatizer(remove_sw(remove_stopwords(w_tokenizer(nlp_pipeline(corpus[1]))))))\n",
    "lemmatizer"
   ]
  },
  {
   "cell_type": "markdown",
   "metadata": {},
   "source": [
    "## Model"
   ]
  },
  {
   "cell_type": "code",
   "execution_count": null,
   "metadata": {},
   "outputs": [],
   "source": [
    "# Split train/test\n",
    "# Converting Text to Numeric Form: TF-IDF\n",
    "# Training the Algorithm\n",
    "# Making Predictions and Evaluating the Model\n",
    "# Hyperparametre tuning in pipeline with gridsearch"
   ]
  },
  {
   "cell_type": "markdown",
   "metadata": {},
   "source": [
    "Model:\n",
    "    - Random Forest Classifier\n",
    "    - Naive Bayes\n",
    "    - Logistic Regression\n",
    "    - SVMs\n",
    "    + hyperparamètre "
   ]
  },
  {
   "cell_type": "code",
   "execution_count": 31,
   "metadata": {
    "ExecuteTime": {
     "end_time": "2021-02-02T15:21:36.093204Z",
     "start_time": "2021-02-02T15:21:35.588390Z"
    }
   },
   "outputs": [],
   "source": [
    "import numpy as np \n",
    "import pandas as pd \n",
    "import re\n",
    "import nltk \n",
    "\n",
    "from sklearn.pipeline import Pipeline\n",
    "from sklearn.feature_extraction.text import CountVectorizer\n",
    "from sklearn.feature_extraction.text import TfidfTransformer\n",
    "from sklearn.naive_bayes import MultinomialNB\n",
    "from sklearn.model_selection import train_test_split, GridSearchCV, cross_val_score\n",
    "from sklearn.metrics import accuracy_score, f1_score, precision_score, roc_curve"
   ]
  },
  {
   "cell_type": "code",
   "execution_count": 18,
   "metadata": {
    "ExecuteTime": {
     "end_time": "2021-02-02T15:05:46.948052Z",
     "start_time": "2021-02-02T15:05:46.945971Z"
    }
   },
   "outputs": [],
   "source": [
    "X = df['comment']\n",
    "y = df[\"sentiment\"].apply(lambda x: 1 if x==\"Positive\" else 0).values"
   ]
  },
  {
   "cell_type": "markdown",
   "metadata": {
    "ExecuteTime": {
     "end_time": "2021-02-02T14:44:42.149252Z",
     "start_time": "2021-02-02T14:44:42.147563Z"
    }
   },
   "source": [
    "## Modified prepro (tfidf) with other model"
   ]
  },
  {
   "cell_type": "code",
   "execution_count": 190,
   "metadata": {
    "ExecuteTime": {
     "end_time": "2021-02-03T15:01:57.667708Z",
     "start_time": "2021-02-03T15:01:57.648809Z"
    }
   },
   "outputs": [],
   "source": [
    "from sklearn.model_selection import train_test_split\n",
    "from sklearn.feature_extraction.text import CountVectorizer, TfidfVectorizer\n",
    "from sklearn.linear_model import LogisticRegression\n",
    "from sklearn.ensemble import RandomForestClassifier\n",
    "from sklearn.naive_bayes import MultinomialNB\n",
    "from sklearn.svm import SVC\n",
    "from sklearn.pipeline import Pipeline\n",
    "from sklearn.metrics import classification_report, confusion_matrix, accuracy_score\n",
    "from sklearn.model_selection import GridSearchCV\n",
    "from sklearn import metrics\n",
    "\n",
    "from nltk.corpus import stopwords\n",
    "from sklearn.feature_extraction.text import TfidfVectorizer"
   ]
  },
  {
   "cell_type": "code",
   "execution_count": 194,
   "metadata": {
    "ExecuteTime": {
     "end_time": "2021-02-03T15:03:16.492587Z",
     "start_time": "2021-02-03T15:03:15.551653Z"
    }
   },
   "outputs": [
    {
     "name": "stdout",
     "output_type": "stream",
     "text": [
      "[[ 76  40]\n",
      " [ 13 195]]\n",
      "              precision    recall  f1-score   support\n",
      "\n",
      "           0       0.85      0.66      0.74       116\n",
      "           1       0.83      0.94      0.88       208\n",
      "\n",
      "    accuracy                           0.84       324\n",
      "   macro avg       0.84      0.80      0.81       324\n",
      "weighted avg       0.84      0.84      0.83       324\n",
      "\n",
      "accuracy_score : 0.8364197530864198\n",
      "f1-score : 0.8803611738148983\n",
      "roc_curve : (array([0.        , 0.34482759, 1.        ]), array([0.    , 0.9375, 1.    ]), array([2, 1, 0]))\n",
      "AUC : 0.7963362068965517\n"
     ]
    }
   ],
   "source": [
    "X = df['comment']\n",
    "y = df[\"sentiment\"].apply(lambda x: 1 if x==\"Positive\" else 0).values\n",
    "\n",
    "corpus_clean = X.apply(nlp_pipeline)\n",
    "vectorizer = TfidfVectorizer (max_features=2500, min_df=7, max_df=0.8, stop_words=stopwords.words('french'))\n",
    "processed_features = vectorizer.fit_transform(corpus_clean).toarray()\n",
    "\n",
    "X_train, X_test, y_train, y_test = train_test_split(processed_features, y, test_size=0.2, random_state=0)\n",
    "text_classifier = RandomForestClassifier(n_estimators=200, random_state=0)\n",
    "text_classifier.fit(X_train, y_train)\n",
    "\n",
    "predictions = text_classifier.predict(X_test)\n",
    "\n",
    "print(confusion_matrix(y_test,predictions))\n",
    "print(classification_report(y_test,predictions))\n",
    "print(\"accuracy_score :\",accuracy_score(y_test, predictions))\n",
    "print(\"f1-score :\", f1_score(y_test, predictions))\n",
    "print(\"roc_curve :\", roc_curve(y_test, predictions))\n",
    "\n",
    "fpr, tpr, thresholds = metrics.roc_curve(y_test, predictions, pos_label=1)\n",
    "print(\"AUC :\",metrics.auc(fpr, tpr))"
   ]
  },
  {
   "cell_type": "code",
   "execution_count": 193,
   "metadata": {
    "ExecuteTime": {
     "end_time": "2021-02-03T15:03:10.693362Z",
     "start_time": "2021-02-03T15:03:10.530421Z"
    }
   },
   "outputs": [
    {
     "name": "stdout",
     "output_type": "stream",
     "text": [
      "[[ 87  29]\n",
      " [ 11 197]]\n",
      "              precision    recall  f1-score   support\n",
      "\n",
      "           0       0.89      0.75      0.81       116\n",
      "           1       0.87      0.95      0.91       208\n",
      "\n",
      "    accuracy                           0.88       324\n",
      "   macro avg       0.88      0.85      0.86       324\n",
      "weighted avg       0.88      0.88      0.87       324\n",
      "\n",
      "accuracy_score : 0.8765432098765432\n",
      "f1-score : 0.9078341013824884\n",
      "roc_curve : (array([0.  , 0.25, 1.  ]), array([0.        , 0.94711538, 1.        ]), array([2, 1, 0]))\n",
      "AUC : 0.8485576923076923\n"
     ]
    }
   ],
   "source": [
    "X = df['comment']\n",
    "y = df[\"sentiment\"].apply(lambda x: 1 if x==\"Positive\" else 0).values\n",
    "\n",
    "corpus_clean = X.apply(nlp_pipeline)\n",
    "vectorizer = TfidfVectorizer (max_features=2500, min_df=7, max_df=0.8, stop_words=stopwords.words('french'))\n",
    "processed_features = vectorizer.fit_transform(corpus_clean).toarray()\n",
    "\n",
    "X_train, X_test, y_train, y_test = train_test_split(processed_features, y, test_size=0.2, random_state=0)\n",
    "text_classifier = LogisticRegression()\n",
    "text_classifier.fit(X_train, y_train)\n",
    "\n",
    "predictions = text_classifier.predict(X_test)\n",
    "\n",
    "print(confusion_matrix(y_test,predictions))\n",
    "print(classification_report(y_test,predictions))\n",
    "print(\"accuracy_score :\",accuracy_score(y_test, predictions))\n",
    "print(\"f1-score :\", f1_score(y_test, predictions))\n",
    "print(\"roc_curve :\", roc_curve(y_test, predictions))\n",
    "\n",
    "fpr, tpr, thresholds = metrics.roc_curve(y_test, predictions, pos_label=1)\n",
    "print(\"AUC :\",metrics.auc(fpr, tpr))"
   ]
  },
  {
   "cell_type": "code",
   "execution_count": 192,
   "metadata": {
    "ExecuteTime": {
     "end_time": "2021-02-03T15:03:00.453671Z",
     "start_time": "2021-02-03T15:03:00.297483Z"
    }
   },
   "outputs": [
    {
     "name": "stdout",
     "output_type": "stream",
     "text": [
      "[[ 88  28]\n",
      " [ 15 193]]\n",
      "              precision    recall  f1-score   support\n",
      "\n",
      "           0       0.85      0.76      0.80       116\n",
      "           1       0.87      0.93      0.90       208\n",
      "\n",
      "    accuracy                           0.87       324\n",
      "   macro avg       0.86      0.84      0.85       324\n",
      "weighted avg       0.87      0.87      0.87       324\n",
      "\n",
      "accuracy_score : 0.8672839506172839\n",
      "f1-score : 0.8997668997668997\n",
      "roc_curve : (array([0.        , 0.24137931, 1.        ]), array([0.        , 0.92788462, 1.        ]), array([2, 1, 0]))\n",
      "AUC : 0.8432526525198939\n"
     ]
    },
    {
     "name": "stderr",
     "output_type": "stream",
     "text": [
      "/Users/ltaing/opt/anaconda3/lib/python3.7/site-packages/sklearn/naive_bayes.py:509: UserWarning: alpha too small will result in numeric errors, setting alpha = 1.0e-10\n",
      "  'setting alpha = %.1e' % _ALPHA_MIN)\n"
     ]
    }
   ],
   "source": [
    "X = df['comment']\n",
    "y = df[\"sentiment\"].apply(lambda x: 1 if x==\"Positive\" else 0).values\n",
    "\n",
    "corpus_clean = X.apply(nlp_pipeline)\n",
    "vectorizer = TfidfVectorizer (max_features=2500, min_df=7, max_df=0.8, stop_words=stopwords.words('french'))\n",
    "processed_features = vectorizer.fit_transform(corpus_clean).toarray()\n",
    "\n",
    "X_train, X_test, y_train, y_test = train_test_split(processed_features, y, test_size=0.2, random_state=0)\n",
    "text_classifier = MultinomialNB(alpha=0.0, class_prior=[0.4, 0.6])\n",
    "text_classifier.fit(X_train, y_train)\n",
    "\n",
    "predictions = text_classifier.predict(X_test)\n",
    "\n",
    "print(confusion_matrix(y_test,predictions))\n",
    "print(classification_report(y_test,predictions))\n",
    "print(\"accuracy_score :\",accuracy_score(y_test, predictions))\n",
    "print(\"f1-score :\", f1_score(y_test, predictions))\n",
    "print(\"roc_curve :\", roc_curve(y_test, predictions))\n",
    "\n",
    "\n",
    "fpr, tpr, thresholds = metrics.roc_curve(y_test, predictions, pos_label=1)\n",
    "print(\"AUC :\",metrics.auc(fpr, tpr))"
   ]
  },
  {
   "cell_type": "code",
   "execution_count": null,
   "metadata": {},
   "outputs": [],
   "source": []
  },
  {
   "cell_type": "markdown",
   "metadata": {
    "ExecuteTime": {
     "end_time": "2021-02-02T14:43:14.196599Z",
     "start_time": "2021-02-02T14:43:14.191236Z"
    }
   },
   "source": [
    "## Modified prepro (tfidf) with SVC model"
   ]
  },
  {
   "cell_type": "code",
   "execution_count": 195,
   "metadata": {
    "ExecuteTime": {
     "end_time": "2021-02-03T15:03:51.039629Z",
     "start_time": "2021-02-03T15:03:50.616813Z"
    }
   },
   "outputs": [
    {
     "name": "stdout",
     "output_type": "stream",
     "text": [
      "[[ 93  23]\n",
      " [ 20 188]]\n",
      "              precision    recall  f1-score   support\n",
      "\n",
      "           0       0.82      0.80      0.81       116\n",
      "           1       0.89      0.90      0.90       208\n",
      "\n",
      "    accuracy                           0.87       324\n",
      "   macro avg       0.86      0.85      0.85       324\n",
      "weighted avg       0.87      0.87      0.87       324\n",
      "\n",
      "accuracy_score : 0.8672839506172839\n",
      "f1-score : 0.8973747016706445\n",
      "roc_curve : (array([0.        , 0.19827586, 1.        ]), array([0.        , 0.90384615, 1.        ]), array([2, 1, 0]))\n",
      "AUC : 0.8527851458885942\n"
     ]
    }
   ],
   "source": [
    "X = df['comment']\n",
    "y = df[\"sentiment\"].apply(lambda x: 1 if x==\"Positive\" else 0).values\n",
    "\n",
    "corpus_clean = X.apply(nlp_pipeline)\n",
    "vectorizer = TfidfVectorizer (max_features=2500, min_df=7, max_df=0.8, stop_words=stopwords.words('french'))\n",
    "processed_features = vectorizer.fit_transform(corpus_clean).toarray()\n",
    "\n",
    "X_train, X_test, y_train, y_test = train_test_split(processed_features, y, test_size=0.2, random_state=0)\n",
    "text_classifier = SVC(C=1000, gamma=0.001)\n",
    "text_classifier.fit(X_train, y_train)\n",
    "\n",
    "predictions = text_classifier.predict(X_test)\n",
    "\n",
    "print(confusion_matrix(y_test,predictions))\n",
    "print(classification_report(y_test,predictions))\n",
    "print(\"accuracy_score :\",accuracy_score(y_test, predictions))\n",
    "print(\"f1-score :\", f1_score(y_test, predictions))\n",
    "print(\"roc_curve :\", roc_curve(y_test, predictions))\n",
    "\n",
    "fpr, tpr, thresholds = metrics.roc_curve(y_test, predictions, pos_label=1)\n",
    "print(\"AUC :\",metrics.auc(fpr, tpr))"
   ]
  },
  {
   "cell_type": "code",
   "execution_count": null,
   "metadata": {
    "ExecuteTime": {
     "end_time": "2021-02-03T14:27:59.954362Z",
     "start_time": "2021-02-03T14:27:55.674631Z"
    }
   },
   "outputs": [],
   "source": []
  },
  {
   "cell_type": "markdown",
   "metadata": {
    "ExecuteTime": {
     "end_time": "2021-02-02T14:43:41.670782Z",
     "start_time": "2021-02-02T14:43:41.668137Z"
    }
   },
   "source": [
    "## Modified Model Parameter SVC (C, gamma)"
   ]
  },
  {
   "cell_type": "code",
   "execution_count": 203,
   "metadata": {
    "ExecuteTime": {
     "end_time": "2021-02-03T15:42:20.547584Z",
     "start_time": "2021-02-03T15:30:35.619189Z"
    }
   },
   "outputs": [
    {
     "name": "stdout",
     "output_type": "stream",
     "text": [
      "[[ 94  22]\n",
      " [ 20 188]]\n",
      "              precision    recall  f1-score   support\n",
      "\n",
      "           0       0.82      0.81      0.82       116\n",
      "           1       0.90      0.90      0.90       208\n",
      "\n",
      "    accuracy                           0.87       324\n",
      "   macro avg       0.86      0.86      0.86       324\n",
      "weighted avg       0.87      0.87      0.87       324\n",
      "\n",
      "accuracy_score : 0.8703703703703703\n",
      "f1-score : 0.8995215311004785\n",
      "AUC : 0.8570954907161802\n",
      "{'C': 100, 'gamma': 0.1, 'kernel': 'rbf'}\n"
     ]
    }
   ],
   "source": [
    "X = df['comment']\n",
    "y = df[\"sentiment\"].apply(lambda x: 1 if x==\"Positive\" else 0).values\n",
    "\n",
    "corpus_clean = X.apply(nlp_pipeline)\n",
    "vectorizer = TfidfVectorizer()\n",
    "processed_features = vectorizer.fit_transform(corpus_clean).toarray()\n",
    "\n",
    "parameters = {'C': [1, 10, 100,1000], 'gamma': [1,0.1,0.01,0.001],'kernel': ['rbf', 'poly', 'sigmoid']}\n",
    "svc_clf = SVC()\n",
    "\n",
    "grid_clf = GridSearchCV(svc_clf, param_grid = parameters,scoring = 'roc_auc')\n",
    "X_train, X_test, y_train, y_test = train_test_split(processed_features, y, test_size=0.2, random_state=0)\n",
    "\n",
    "grid_clf.fit(X_train, y_train)\n",
    "predictions = grid_clf.predict(X_test)\n",
    "\n",
    "print(confusion_matrix(y_test,predictions))\n",
    "print(classification_report(y_test,predictions))\n",
    "print(\"accuracy_score :\",accuracy_score(y_test, predictions))\n",
    "print(\"f1-score :\", f1_score(y_test, predictions))\n",
    "\n",
    "fpr, tpr, thresholds = metrics.roc_curve(y_test, predictions, pos_label=1)\n",
    "print(\"AUC :\",metrics.auc(fpr, tpr))\n",
    "\n",
    "print(grid_clf.best_params_)"
   ]
  },
  {
   "cell_type": "code",
   "execution_count": 200,
   "metadata": {
    "ExecuteTime": {
     "end_time": "2021-02-03T15:19:08.030120Z",
     "start_time": "2021-02-03T15:18:17.983718Z"
    },
    "scrolled": true
   },
   "outputs": [
    {
     "name": "stdout",
     "output_type": "stream",
     "text": [
      "[[ 91  25]\n",
      " [ 15 193]]\n",
      "              precision    recall  f1-score   support\n",
      "\n",
      "           0       0.86      0.78      0.82       116\n",
      "           1       0.89      0.93      0.91       208\n",
      "\n",
      "    accuracy                           0.88       324\n",
      "   macro avg       0.87      0.86      0.86       324\n",
      "weighted avg       0.88      0.88      0.88       324\n",
      "\n",
      "accuracy_score : 0.8765432098765432\n",
      "f1-score : 0.9061032863849766\n",
      "AUC : 0.8561836870026526\n"
     ]
    }
   ],
   "source": [
    "X = df['comment']\n",
    "y = df[\"sentiment\"].apply(lambda x: 1 if x==\"Positive\" else 0).values\n",
    "\n",
    "corpus_clean = X.apply(nlp_pipeline)\n",
    "vectorizer = TfidfVectorizer (max_features=2500, min_df=7, max_df=0.8, stop_words=stopwords.words('french'))\n",
    "processed_features = vectorizer.fit_transform(corpus_clean).toarray()\n",
    "\n",
    "parameters = {'C': [1, 10, 100,1000], 'gamma': [1,0.1,0.01,0.001],'kernel': ['rbf', 'poly', 'sigmoid']}\n",
    "svc_clf = SVC()\n",
    "\n",
    "grid_clf = GridSearchCV(svc_clf, param_grid = parameters,scoring = 'roc_auc')\n",
    "X_train, X_test, y_train, y_test = train_test_split(processed_features, y, test_size=0.2, random_state=0)\n",
    "\n",
    "grid_clf.fit(X_train, y_train)\n",
    "predictions = grid_clf.predict(X_test)\n",
    "\n",
    "print(confusion_matrix(y_test,predictions))\n",
    "print(classification_report(y_test,predictions))\n",
    "print(\"accuracy_score :\",accuracy_score(y_test, predictions))\n",
    "print(\"f1-score :\", f1_score(y_test, predictions))\n",
    "\n",
    "fpr, tpr, thresholds = metrics.roc_curve(y_test, predictions, pos_label=1)\n",
    "print(\"AUC :\",metrics.auc(fpr, tpr))\n",
    "\n",
    "print(grid_clf.best_params_)"
   ]
  },
  {
   "cell_type": "code",
   "execution_count": 201,
   "metadata": {
    "ExecuteTime": {
     "end_time": "2021-02-03T15:22:55.378618Z",
     "start_time": "2021-02-03T15:22:55.362723Z"
    }
   },
   "outputs": [
    {
     "name": "stdout",
     "output_type": "stream",
     "text": [
      "{'C': 10, 'gamma': 1, 'kernel': 'rbf'}\n"
     ]
    }
   ],
   "source": [
    "print(grid_clf.best_params_)"
   ]
  },
  {
   "cell_type": "code",
   "execution_count": 198,
   "metadata": {
    "ExecuteTime": {
     "end_time": "2021-02-03T15:17:19.302610Z",
     "start_time": "2021-02-03T15:17:19.281920Z"
    }
   },
   "outputs": [
    {
     "data": {
      "text/plain": [
       "dict_keys(['memory', 'steps', 'verbose', 'tfidf', 'clf', 'tfidf__analyzer', 'tfidf__binary', 'tfidf__decode_error', 'tfidf__dtype', 'tfidf__encoding', 'tfidf__input', 'tfidf__lowercase', 'tfidf__max_df', 'tfidf__max_features', 'tfidf__min_df', 'tfidf__ngram_range', 'tfidf__norm', 'tfidf__preprocessor', 'tfidf__smooth_idf', 'tfidf__stop_words', 'tfidf__strip_accents', 'tfidf__sublinear_tf', 'tfidf__token_pattern', 'tfidf__tokenizer', 'tfidf__use_idf', 'tfidf__vocabulary', 'clf__C', 'clf__break_ties', 'clf__cache_size', 'clf__class_weight', 'clf__coef0', 'clf__decision_function_shape', 'clf__degree', 'clf__gamma', 'clf__kernel', 'clf__max_iter', 'clf__probability', 'clf__random_state', 'clf__shrinking', 'clf__tol', 'clf__verbose'])"
      ]
     },
     "execution_count": 198,
     "metadata": {},
     "output_type": "execute_result"
    }
   ],
   "source": [
    "pipeline.get_params().keys()"
   ]
  },
  {
   "cell_type": "code",
   "execution_count": null,
   "metadata": {},
   "outputs": [],
   "source": [
    "#Grid Search\n",
    "from sklearn.model_selection import GridSearchCV\n",
    "clf = LogisticRegression()\n",
    "grid_values = {'penalty': ['l1', 'l2'],'C':[0.001,.009,0.01,.09,1,5,10,25]}\n",
    "grid_clf_acc = GridSearchCV(clf, param_grid = grid_values,scoring = 'recall')\n",
    "grid_clf_acc.fit(X_train, y_train)\n",
    "\n",
    "#Predict values based on new parameters\n",
    "y_pred_acc = grid_clf_acc.predict(X_test)\n",
    "\n",
    "# New Model Evaluation metrics \n",
    "print('Accuracy Score : ' + str(accuracy_score(y_test,y_pred_acc)))\n",
    "print('Precision Score : ' + str(precision_score(y_test,y_pred_acc)))\n",
    "print('Recall Score : ' + str(recall_score(y_test,y_pred_acc)))\n",
    "print('F1 Score : ' + str(f1_score(y_test,y_pred_acc)))\n",
    "\n",
    "#Logistic Regression (Grid Search) Confusion matrix\n",
    "confusion_matrix(y_test,y_pred_acc)"
   ]
  },
  {
   "cell_type": "markdown",
   "metadata": {
    "ExecuteTime": {
     "end_time": "2021-02-03T14:35:30.187541Z",
     "start_time": "2021-02-03T14:35:30.180696Z"
    }
   },
   "source": [
    "## Pipeline Preprocessing + Model"
   ]
  },
  {
   "cell_type": "code",
   "execution_count": null,
   "metadata": {},
   "outputs": [],
   "source": [
    "txt_preprocessing = [\n",
    "              ('preprocessor', pipelinize(nlp_pipeline)),\n",
    "              ('tokenizer', pipelinize(w_tokenizer)),\n",
    "              ('stopwordremoval', pipelinize(remove_stopwords)),\n",
    "              ('stopwordremov', pipelinize(remove_sw)),\n",
    "              ('stemmer', pipelinize(stemmer_snowball))]\n",
    "\n",
    "prepro_pipeline = Pipeline(txt_preprocessing)\n",
    "\n",
    "#corpus_clean = corpus.apply(nlp_pipeline)\n",
    "prepro_pipeline.transform(corpus)\n",
    "print(prepro_pipeline.transform(corpus))"
   ]
  },
  {
   "cell_type": "code",
   "execution_count": 206,
   "metadata": {
    "ExecuteTime": {
     "end_time": "2021-02-03T16:23:53.294638Z",
     "start_time": "2021-02-03T16:12:16.815677Z"
    }
   },
   "outputs": [
    {
     "name": "stdout",
     "output_type": "stream",
     "text": [
      "[[ 94  22]\n",
      " [ 20 188]]\n",
      "              precision    recall  f1-score   support\n",
      "\n",
      "           0       0.82      0.81      0.82       116\n",
      "           1       0.90      0.90      0.90       208\n",
      "\n",
      "    accuracy                           0.87       324\n",
      "   macro avg       0.86      0.86      0.86       324\n",
      "weighted avg       0.87      0.87      0.87       324\n",
      "\n",
      "accuracy_score : 0.8703703703703703\n",
      "f1-score : 0.8995215311004785\n",
      "AUC : 0.8570954907161802\n",
      "{'C': 100, 'gamma': 0.1, 'kernel': 'rbf'}\n",
      "0.9482702005857254\n"
     ]
    }
   ],
   "source": [
    "from sklearn.pipeline import FeatureUnion, Pipeline\n",
    "\n",
    "X = df['comment']\n",
    "y = df[\"sentiment\"].apply(lambda x: 1 if x==\"Positive\" else 0).values\n",
    "\n",
    "corpus_clean = X.apply(nlp_pipeline)\n",
    "vectorizer = TfidfVectorizer()\n",
    "processed_features = vectorizer.fit_transform(corpus_clean).toarray()\n",
    "\n",
    "classifier = SVC()\n",
    "\n",
    "sentiment_pipeline = Pipeline([\n",
    "        ('features', FeatureUnion([\n",
    "                     ('preprocessor', pipelinize(nlp_pipeline)),\n",
    "              ('tokenizer', pipelinize(w_tokenizer)),\n",
    "              ('stopwordremoval', pipelinize(remove_stopwords)),\n",
    "              ('stopwordremov', pipelinize(remove_sw)),\n",
    "              ('stemmer', pipelinize(stemmer_snowball))\n",
    "        ])),\n",
    "        ('classifier', classifier)\n",
    "    ])\n",
    "\n",
    "parameters = {'C': [1, 10, 100,1000], 'gamma': [1,0.1,0.01,0.001],'kernel': ['rbf', 'poly', 'sigmoid']}\n",
    "grid_clf = GridSearchCV(svc_clf, param_grid = parameters,scoring = 'roc_auc', cv=5)\n",
    "\n",
    "X_train, X_test, y_train, y_test = train_test_split(processed_features, y, test_size=0.2, random_state=0)\n",
    "\n",
    "grid_clf.fit(X_train, y_train)\n",
    "predictions = grid_clf.predict(X_test)\n",
    "\n",
    "print(confusion_matrix(y_test,predictions))\n",
    "print(classification_report(y_test,predictions))\n",
    "print(\"accuracy_score :\",accuracy_score(y_test, predictions))\n",
    "print(\"f1-score :\", f1_score(y_test, predictions))\n",
    "fpr, tpr, thresholds = metrics.roc_curve(y_test, predictions, pos_label=1)\n",
    "print(\"AUC :\",metrics.auc(fpr, tpr))\n",
    "\n",
    "print(grid_clf.best_params_)\n",
    "print(grid_clf.best_score_)"
   ]
  },
  {
   "cell_type": "code",
   "execution_count": null,
   "metadata": {},
   "outputs": [],
   "source": []
  },
  {
   "cell_type": "code",
   "execution_count": null,
   "metadata": {},
   "outputs": [],
   "source": [
    "%%time\n",
    "from sklearn.model_selection import train_test_split\n",
    "from sklearn.feature_extraction.text import CountVectorizer\n",
    "from sklearn.linear_model import LogisticRegression\n",
    "from sklearn.pipeline import Pipeline\n",
    "from sklearn_helpers import train_test_and_evaluate\n",
    "\n",
    "\n",
    "X_train, X_test, y_train, y_test = train_test_split(X, y, random_state=42)\n",
    "\n",
    "count_vect = CountVectorizer(tokenizer=tokenizer.tokenize) \n",
    "classifier = LogisticRegression()\n",
    "\n",
    "sentiment_pipeline = Pipeline([\n",
    "        ('tokenizer', pipelinize(w_tokenizer)),\n",
    "        ('stemmer', pipelinize(stemmer_snowball)),\n",
    "        ('stopwordremoval', pipelinize(remove_stopwords)),\n",
    "        ('vectorizer', count_vect),\n",
    "        ('classifier', classifier)\n",
    "    ])\n",
    "\n",
    "sentiment_pipeline, confusion_matrix = train_test_and_evaluate(sentiment_pipeline, X_train, y_train, X_test, y_test)"
   ]
  },
  {
   "cell_type": "code",
   "execution_count": null,
   "metadata": {},
   "outputs": [],
   "source": [
    "#from sklearn.model_selection import GridSearchCV\n",
    "#parameters = {'vect__ngram_range': [(1, 1), (1, 2)],\n",
    "#              'tfidf__use_idf': (True, False),\n",
    "#              'clf__alpha': (1e-2, 1e-3)}"
   ]
  },
  {
   "cell_type": "markdown",
   "metadata": {},
   "source": [
    "## Tableau des résultats"
   ]
  },
  {
   "cell_type": "code",
   "execution_count": null,
   "metadata": {},
   "outputs": [],
   "source": [
    "def create_dict(dic_name, model, result_auc, result_precision, result_recall, result_f1, best_param):\n",
    "    dic_name = {\n",
    "            'model':model,\n",
    "            'result_auc': result_auc,\n",
    "            'result_precision': result_precision,\n",
    "            'result_recall': result_recall,\n",
    "            'result_f1': result_f1,\n",
    "            'best_param': best_param\n",
    "    }"
   ]
  },
  {
   "cell_type": "markdown",
   "metadata": {
    "ExecuteTime": {
     "end_time": "2021-02-02T14:59:24.601879Z",
     "start_time": "2021-02-02T14:59:24.600122Z"
    }
   },
   "source": [
    "## Changement du dataset d'entrainement si evaluation non performante"
   ]
  },
  {
   "cell_type": "code",
   "execution_count": null,
   "metadata": {},
   "outputs": [],
   "source": []
  }
 ],
 "metadata": {
  "hide_input": false,
  "kernelspec": {
   "display_name": "Python 3",
   "language": "python",
   "name": "python3"
  },
  "language_info": {
   "codemirror_mode": {
    "name": "ipython",
    "version": 3
   },
   "file_extension": ".py",
   "mimetype": "text/x-python",
   "name": "python",
   "nbconvert_exporter": "python",
   "pygments_lexer": "ipython3",
   "version": "3.7.6"
  },
  "toc": {
   "base_numbering": 1,
   "nav_menu": {},
   "number_sections": true,
   "sideBar": true,
   "skip_h1_title": false,
   "title_cell": "Table of Contents",
   "title_sidebar": "Contents",
   "toc_cell": false,
   "toc_position": {},
   "toc_section_display": true,
   "toc_window_display": false
  },
  "varInspector": {
   "cols": {
    "lenName": 16,
    "lenType": 16,
    "lenVar": 40
   },
   "kernels_config": {
    "python": {
     "delete_cmd_postfix": "",
     "delete_cmd_prefix": "del ",
     "library": "var_list.py",
     "varRefreshCmd": "print(var_dic_list())"
    },
    "r": {
     "delete_cmd_postfix": ") ",
     "delete_cmd_prefix": "rm(",
     "library": "var_list.r",
     "varRefreshCmd": "cat(var_dic_list()) "
    }
   },
   "types_to_exclude": [
    "module",
    "function",
    "builtin_function_or_method",
    "instance",
    "_Feature"
   ],
   "window_display": false
  }
 },
 "nbformat": 4,
 "nbformat_minor": 4
}
