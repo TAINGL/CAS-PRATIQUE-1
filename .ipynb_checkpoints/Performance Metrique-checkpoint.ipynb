{
 "cells": [
  {
   "cell_type": "markdown",
   "metadata": {},
   "source": [
    "## Pipeline Joblib"
   ]
  },
  {
   "cell_type": "code",
   "execution_count": 1,
   "metadata": {
    "ExecuteTime": {
     "end_time": "2021-02-02T14:39:45.549176Z",
     "start_time": "2021-02-02T14:39:45.097173Z"
    }
   },
   "outputs": [
    {
     "name": "stdout",
     "output_type": "stream",
     "text": [
      "Pipeline(steps=[('tfidf', TfidfVectorizer()),\n",
      "                ('clf', SVC(C=1000, gamma=0.001))])\n"
     ]
    },
    {
     "name": "stderr",
     "output_type": "stream",
     "text": [
      "/Users/ltaing/opt/anaconda3/lib/python3.7/site-packages/sklearn/base.py:334: UserWarning: Trying to unpickle estimator TfidfTransformer from version 0.23.2 when using version 0.23.1. This might lead to breaking code or invalid results. Use at your own risk.\n",
      "  UserWarning)\n",
      "/Users/ltaing/opt/anaconda3/lib/python3.7/site-packages/sklearn/base.py:334: UserWarning: Trying to unpickle estimator TfidfVectorizer from version 0.23.2 when using version 0.23.1. This might lead to breaking code or invalid results. Use at your own risk.\n",
      "  UserWarning)\n",
      "/Users/ltaing/opt/anaconda3/lib/python3.7/site-packages/sklearn/base.py:334: UserWarning: Trying to unpickle estimator SVC from version 0.23.2 when using version 0.23.1. This might lead to breaking code or invalid results. Use at your own risk.\n",
      "  UserWarning)\n",
      "/Users/ltaing/opt/anaconda3/lib/python3.7/site-packages/sklearn/base.py:334: UserWarning: Trying to unpickle estimator Pipeline from version 0.23.2 when using version 0.23.1. This might lead to breaking code or invalid results. Use at your own risk.\n",
      "  UserWarning)\n"
     ]
    }
   ],
   "source": [
    "from joblib import dump, load\n",
    "import joblib\n",
    "\n",
    "print(joblib.load('./sentiment_pipe.joblib'))"
   ]
  },
  {
   "cell_type": "markdown",
   "metadata": {},
   "source": [
    "## Performance Model"
   ]
  },
  {
   "cell_type": "code",
   "execution_count": 2,
   "metadata": {
    "ExecuteTime": {
     "end_time": "2021-02-02T14:40:57.567994Z",
     "start_time": "2021-02-02T14:40:57.195599Z"
    }
   },
   "outputs": [
    {
     "name": "stderr",
     "output_type": "stream",
     "text": [
      "/Users/ltaing/opt/anaconda3/lib/python3.7/site-packages/sklearn/base.py:334: UserWarning: Trying to unpickle estimator TfidfTransformer from version 0.23.2 when using version 0.23.1. This might lead to breaking code or invalid results. Use at your own risk.\n",
      "  UserWarning)\n",
      "/Users/ltaing/opt/anaconda3/lib/python3.7/site-packages/sklearn/base.py:334: UserWarning: Trying to unpickle estimator TfidfVectorizer from version 0.23.2 when using version 0.23.1. This might lead to breaking code or invalid results. Use at your own risk.\n",
      "  UserWarning)\n",
      "/Users/ltaing/opt/anaconda3/lib/python3.7/site-packages/sklearn/base.py:334: UserWarning: Trying to unpickle estimator SVC from version 0.23.2 when using version 0.23.1. This might lead to breaking code or invalid results. Use at your own risk.\n",
      "  UserWarning)\n",
      "/Users/ltaing/opt/anaconda3/lib/python3.7/site-packages/sklearn/base.py:334: UserWarning: Trying to unpickle estimator Pipeline from version 0.23.2 when using version 0.23.1. This might lead to breaking code or invalid results. Use at your own risk.\n",
      "  UserWarning)\n"
     ]
    },
    {
     "name": "stdout",
     "output_type": "stream",
     "text": [
      "accuracy : 0.6957328385899815\n",
      "precision : 0.6867469879518072\n",
      "f1-score : 0.7975308641975308\n",
      "roc_curve : (array([0.        , 0.73913043, 1.        ]), array([0.        , 0.95093229, 1.        ]), array([2, 1, 0]))\n"
     ]
    }
   ],
   "source": [
    "from joblib import dump, load\n",
    "from sklearn.metrics import accuracy_score, f1_score, precision_score, roc_curve\n",
    "import pandas as pd\n",
    " \n",
    "df = pd.read_csv(\"comments_train.csv\")\n",
    "base_model = load('sentiment_pipe.joblib')\n",
    "\n",
    "y_test = df[\"sentiment\"].apply(lambda x: 1 if x==\"Positive\" else 0).values\n",
    "y_pred = base_model.predict(df[\"comment\"].values)\n",
    " \n",
    "print(\"accuracy :\", accuracy_score(y_test, y_pred))\n",
    "print(\"precision :\", precision_score(y_test, y_pred))\n",
    "print(\"f1-score :\", f1_score(y_test, y_pred))\n",
    "print(\"roc_curve :\", roc_curve(y_test, y_pred))"
   ]
  },
  {
   "cell_type": "code",
   "execution_count": 8,
   "metadata": {
    "ExecuteTime": {
     "end_time": "2021-02-02T14:57:48.214750Z",
     "start_time": "2021-02-02T14:57:48.178806Z"
    }
   },
   "outputs": [
    {
     "name": "stdout",
     "output_type": "stream",
     "text": [
      "                                                comment sentiment\n",
      "0     J'ai réservé ma table quelques mois à l'avance...  Positive\n",
      "1     Que dire... Nicolas sale est un chef d excepti...  Positive\n",
      "2     Dans une rue tranquille non loin du Panthéon u...  Positive\n",
      "3     Rien à redire le restaurant est irréprochablem...  Positive\n",
      "4     Comme avec les autres commentaires nos repas é...  Positive\n",
      "...                                                 ...       ...\n",
      "1612  Le service a été rapide et les crêpes très bon...  Positive\n",
      "1613  Restaurant excellent bon rapport qualité-prix ...  Positive\n",
      "1614  Incroyable mais vrai 190€ la baguette ! Que di...  Negative\n",
      "1615  Un japonais assez chic des beaux quartiers. No...  Positive\n",
      "1616  Accueil très chaleureux avec un personnel jeun...  Positive\n",
      "\n",
      "[1617 rows x 2 columns]\n"
     ]
    }
   ],
   "source": [
    "data = '/Users/ltaing/Downloads/Titre Pro/CP_1/API-REST-FLASK-V2/comments_train.csv'\n",
    "df = pd.read_csv(data)\n",
    "print(df)"
   ]
  },
  {
   "cell_type": "code",
   "execution_count": 31,
   "metadata": {
    "ExecuteTime": {
     "end_time": "2021-02-02T15:21:36.093204Z",
     "start_time": "2021-02-02T15:21:35.588390Z"
    }
   },
   "outputs": [],
   "source": [
    "import numpy as np \n",
    "import pandas as pd \n",
    "import re\n",
    "import nltk \n",
    "\n",
    "from sklearn.pipeline import Pipeline\n",
    "from sklearn.feature_extraction.text import CountVectorizer\n",
    "from sklearn.feature_extraction.text import TfidfTransformer\n",
    "from sklearn.naive_bayes import MultinomialNB\n",
    "from sklearn.model_selection import train_test_split, GridSearchCV, cross_val_score\n",
    "from sklearn.metrics import accuracy_score, f1_score, precision_score, roc_curve"
   ]
  },
  {
   "cell_type": "code",
   "execution_count": 18,
   "metadata": {
    "ExecuteTime": {
     "end_time": "2021-02-02T15:05:46.948052Z",
     "start_time": "2021-02-02T15:05:46.945971Z"
    }
   },
   "outputs": [],
   "source": [
    "X = df.comment\n",
    "y = df.sentiment"
   ]
  },
  {
   "cell_type": "code",
   "execution_count": 32,
   "metadata": {
    "ExecuteTime": {
     "end_time": "2021-02-02T15:22:24.879533Z",
     "start_time": "2021-02-02T15:22:24.365882Z"
    }
   },
   "outputs": [
    {
     "data": {
      "text/plain": [
       "<AxesSubplot:ylabel='sentiment'>"
      ]
     },
     "execution_count": 32,
     "metadata": {},
     "output_type": "execute_result"
    },
    {
     "data": {
      "image/png": "[encoded data removed]",
      "text/plain": [
       "<Figure size 432x288 with 1 Axes>"
      ]
     },
     "metadata": {},
     "output_type": "display_data"
    }
   ],
   "source": [
    "df.sentiment.value_counts().plot(kind='pie', autopct='%1.0f%%')"
   ]
  },
  {
   "cell_type": "markdown",
   "metadata": {
    "ExecuteTime": {
     "end_time": "2021-02-02T14:44:32.869568Z",
     "start_time": "2021-02-02T14:44:32.867761Z"
    }
   },
   "source": [
    "## Modified prepro (tfidf) with same model"
   ]
  },
  {
   "cell_type": "code",
   "execution_count": null,
   "metadata": {},
   "outputs": [],
   "source": [
    "# stopword\n",
    "# lemmetisation, stemmatisation\n",
    "# Bag-of-words model\n",
    "# CountVectorizer\n",
    "\n"
   ]
  },
  {
   "cell_type": "markdown",
   "metadata": {
    "ExecuteTime": {
     "end_time": "2021-02-02T14:44:42.149252Z",
     "start_time": "2021-02-02T14:44:42.147563Z"
    }
   },
   "source": [
    "## Modified prepro (tfidf) with other model"
   ]
  },
  {
   "cell_type": "code",
   "execution_count": null,
   "metadata": {},
   "outputs": [],
   "source": []
  },
  {
   "cell_type": "markdown",
   "metadata": {
    "ExecuteTime": {
     "end_time": "2021-02-02T14:43:14.196599Z",
     "start_time": "2021-02-02T14:43:14.191236Z"
    }
   },
   "source": [
    "## Modified Model SCV"
   ]
  },
  {
   "cell_type": "code",
   "execution_count": null,
   "metadata": {
    "ExecuteTime": {
     "end_time": "2021-02-02T15:18:21.837091Z",
     "start_time": "2021-02-02T15:18:21.316870Z"
    }
   },
   "outputs": [],
   "source": []
  },
  {
   "cell_type": "code",
   "execution_count": null,
   "metadata": {
    "ExecuteTime": {
     "end_time": "2021-02-02T15:15:50.341202Z",
     "start_time": "2021-02-02T15:15:50.265162Z"
    }
   },
   "outputs": [],
   "source": []
  },
  {
   "cell_type": "markdown",
   "metadata": {
    "ExecuteTime": {
     "end_time": "2021-02-02T14:43:41.670782Z",
     "start_time": "2021-02-02T14:43:41.668137Z"
    }
   },
   "source": [
    "## Modified Model Parameter SCV (C, gamma)"
   ]
  },
  {
   "cell_type": "code",
   "execution_count": null,
   "metadata": {},
   "outputs": [],
   "source": [
    "from sklearn.model_selection import GridSearchCV\n",
    ">>> parameters = {'vect__ngram_range': [(1, 1), (1, 2)],\n",
    "...               'tfidf__use_idf': (True, False),\n",
    "...               'clf__alpha': (1e-2, 1e-3),\n",
    "... }"
   ]
  },
  {
   "cell_type": "markdown",
   "metadata": {
    "ExecuteTime": {
     "end_time": "2021-02-02T14:59:24.601879Z",
     "start_time": "2021-02-02T14:59:24.600122Z"
    }
   },
   "source": [
    "## Changement du dataset d'entrainement si evaluation non performante"
   ]
  },
  {
   "cell_type": "code",
   "execution_count": null,
   "metadata": {},
   "outputs": [],
   "source": []
  }
 ],
 "metadata": {
  "hide_input": false,
  "kernelspec": {
   "display_name": "Python 3",
   "language": "python",
   "name": "python3"
  },
  "language_info": {
   "codemirror_mode": {
    "name": "ipython",
    "version": 3
   },
   "file_extension": ".py",
   "mimetype": "text/x-python",
   "name": "python",
   "nbconvert_exporter": "python",
   "pygments_lexer": "ipython3",
   "version": "3.7.6"
  },
  "toc": {
   "base_numbering": 1,
   "nav_menu": {},
   "number_sections": true,
   "sideBar": true,
   "skip_h1_title": false,
   "title_cell": "Table of Contents",
   "title_sidebar": "Contents",
   "toc_cell": false,
   "toc_position": {},
   "toc_section_display": true,
   "toc_window_display": false
  },
  "varInspector": {
   "cols": {
    "lenName": 16,
    "lenType": 16,
    "lenVar": 40
   },
   "kernels_config": {
    "python": {
     "delete_cmd_postfix": "",
     "delete_cmd_prefix": "del ",
     "library": "var_list.py",
     "varRefreshCmd": "print(var_dic_list())"
    },
    "r": {
     "delete_cmd_postfix": ") ",
     "delete_cmd_prefix": "rm(",
     "library": "var_list.r",
     "varRefreshCmd": "cat(var_dic_list()) "
    }
   },
   "types_to_exclude": [
    "module",
    "function",
    "builtin_function_or_method",
    "instance",
    "_Feature"
   ],
   "window_display": false
  }
 },
 "nbformat": 4,
 "nbformat_minor": 4
}
